{
 "cells": [
  {
   "cell_type": "code",
   "execution_count": 1,
   "metadata": {},
   "outputs": [],
   "source": [
    "import abc\n",
    "class ChatIO(abc.ABC):\n",
    "    @abc.abstractmethod\n",
    "    def prompt_for_input(self, role: str) -> str:\n",
    "        \"\"\"Prompt for input from a role.\"\"\"\n",
    "\n",
    "    @abc.abstractmethod\n",
    "    def prompt_for_output(self, role: str):\n",
    "        \"\"\"Prompt for output from a role.\"\"\"\n",
    "\n",
    "    @abc.abstractmethod\n",
    "    def stream_output(self, output_stream):\n",
    "        \"\"\"Stream output.\"\"\"\n",
    "\n",
    "class SimpleChatIO(ChatIO):\n",
    "    def prompt_for_input(self, role) -> str:\n",
    "        return input(f\"{role}: \")\n",
    "\n",
    "    def prompt_for_output(self, role: str):\n",
    "        print(f\"{role}: \", end=\"\", flush=True)\n",
    "\n",
    "    def stream_output(self, output_stream):\n",
    "        pre = 0\n",
    "        for outputs in output_stream:\n",
    "            output_text = outputs[\"text\"]\n",
    "            output_text = output_text.strip().split(\" \")\n",
    "            now = len(output_text) - 1\n",
    "            if now > pre:\n",
    "                print(\" \".join(output_text[pre:now]), end=\" \", flush=True)\n",
    "                pre = now\n",
    "        print(\" \".join(output_text[pre:]), flush=True)\n",
    "        return \" \".join(output_text)"
   ]
  },
  {
   "cell_type": "code",
   "execution_count": 2,
   "metadata": {},
   "outputs": [
    {
     "data": {
      "application/vnd.jupyter.widget-view+json": {
       "model_id": "4779a11456d34f3e8f4c945abdcfe8bb",
       "version_major": 2,
       "version_minor": 0
      },
      "text/plain": [
       "Fetching 11 files:   0%|          | 0/11 [00:00<?, ?it/s]"
      ]
     },
     "metadata": {},
     "output_type": "display_data"
    },
    {
     "name": "stderr",
     "output_type": "stream",
     "text": [
      "100%|██████████| 3/3 [01:02<00:00, 20.84s/it]\n"
     ]
    }
   ],
   "source": [
    "from fastchat.model.model_adapter import load_model, get_conversation_template\n",
    "from fastchat.serve.inference import prepare_logits_processor,generate_stream\n",
    "import time\n",
    "model_path=\"lmsys/vicuna-13b-v1.3\"\n",
    "device= \"cuda\"\n",
    "num_gpus= 1\n",
    "max_gpu_memory=None\n",
    "load_8bit=True #Esto hace que permite que el modelo se cargue en la memoria de la GPU\n",
    "cpu_offloading=False\n",
    "gptq_config= None\n",
    "revision = \"main\"\n",
    "debug = False\n",
    "conv_template= None\n",
    "temperature= 0.3\n",
    "repetition_penalty= 0.5\n",
    "max_new_tokens= 200\n",
    "chatio= SimpleChatIO()\n",
    "\n",
    "model, tokenizer = load_model(\n",
    "        model_path,\n",
    "        device,\n",
    "        num_gpus,\n",
    "        max_gpu_memory,\n",
    "        load_8bit,\n",
    "        cpu_offloading,\n",
    "        gptq_config,\n",
    "        revision,\n",
    "        debug,\n",
    "    )\n",
    "\n",
    "Conv_template=get_conversation_template(model_path)\n",
    "#Conv_template.system=\"\"\"You are a Pokemon trainer inside of a video game. The questioner will give you information on the game and you must answer with one of the possible commands. You must always answer with a command\n",
    "#                        and only a single command. The possible commands are:\n",
    "#                        Up Down Left Right A Start\n",
    "#                        \"\"\"\n",
    "\n",
    "Conv_template.system=\"A chat between a curious user and an artificial intelligence acting as a pokemon trainer. The pokemon trainer gives mostly answers with single word answers.\"\n",
    "\n",
    "Conv_template.roles=[\"User\",\"Pokemon Trainer\"]\n",
    "\n",
    "conv=Conv_template.copy()\n",
    "\n",
    "\n",
    "\n",
    "def Continue_conv(conv,prompt):\n",
    "    inp=f\"{Conv_template.roles[0]}: {prompt}\"\n",
    "    conv.append_message(conv.roles[0], inp)\n",
    "    conv.append_message(conv.roles[1], None)\n",
    "\n",
    "\n",
    "    generate_stream_func = generate_stream\n",
    "    prompt = conv.get_prompt()\n",
    "\n",
    "    gen_params = {\n",
    "            \"model\": model_path,\n",
    "            \"prompt\": prompt,\n",
    "            \"temperature\": temperature,\n",
    "            \"repetition_penalty\": repetition_penalty,\n",
    "            \"max_new_tokens\": max_new_tokens,\n",
    "            \"stop\": conv.stop_str,\n",
    "            \"stop_token_ids\": conv.stop_token_ids,\n",
    "            \"echo\": False,\n",
    "        }\n",
    "\n",
    "    chatio.prompt_for_output(conv.roles[1])\n",
    "    output_stream = generate_stream_func(model, tokenizer, gen_params, device)\n",
    "    outputs = chatio.stream_output(output_stream)\n",
    "    conv.update_last_message(outputs.strip())\n",
    "\n",
    "    return outputs"
   ]
  },
  {
   "cell_type": "code",
   "execution_count": 3,
   "metadata": {},
   "outputs": [],
   "source": [
    "def Reset_conv():\n",
    "    conv.messages=[]"
   ]
  },
  {
   "cell_type": "code",
   "execution_count": 7,
   "metadata": {},
   "outputs": [
    {
     "name": "stdout",
     "output_type": "stream",
     "text": [
      "Pokemon Trainer: Scratch.\n"
     ]
    },
    {
     "data": {
      "text/plain": [
       "'Scratch.'"
      ]
     },
     "execution_count": 7,
     "metadata": {},
     "output_type": "execute_result"
    }
   ],
   "source": [
    "Reset_conv()\n",
    "Continue_conv(conv,\"\"\"You are a pokemon trainer that can only shout out moves. You are in a battle and your current pokemon is a Charmander with 20/20 HP. \n",
    "                        The opponent is a Caterpie with green health. Your charmander has as moves: scratch and growl. \n",
    "                        Choose the move you consider the fastest way to KO your opponent in this situation. Answer only and only with the move you want to use.\n",
    "                        \"\"\")\n"
   ]
  }
 ],
 "metadata": {
  "kernelspec": {
   "display_name": "base",
   "language": "python",
   "name": "python3"
  },
  "language_info": {
   "codemirror_mode": {
    "name": "ipython",
    "version": 3
   },
   "file_extension": ".py",
   "mimetype": "text/x-python",
   "name": "python",
   "nbconvert_exporter": "python",
   "pygments_lexer": "ipython3",
   "version": "3.10.9"
  },
  "orig_nbformat": 4
 },
 "nbformat": 4,
 "nbformat_minor": 2
}
