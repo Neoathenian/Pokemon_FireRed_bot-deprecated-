{
 "cells": [
  {
   "cell_type": "code",
   "execution_count": 1,
   "metadata": {},
   "outputs": [],
   "source": [
    "import os\n",
    "import pyautogui\n",
    "from PIL import Image\n",
    "import pandas as pd\n",
    "import numpy as np\n",
    "import cv2\n",
    "import re\n",
    "from time import sleep\n",
    "import time\n",
    "from PIL import Image, ImageFilter\n",
    "import Levenshtein\n",
    "import matplotlib.pyplot as plt \n",
    "import string\n",
    "import logging\n",
    "import json\n",
    "\n",
    "\n",
    "from Python_code.Image_to_text import Image_to_text\n",
    "from Python_code.Pokemon_Trainer_AI import Pokemon_Trainer_AI\n",
    "from Python_code.Fight_code import *\n",
    "from Python_code.images_are_similar import *\n",
    "from Python_code.Posicion_actual import *\n",
    "from Python_code.Python_to_game import *"
   ]
  },
  {
   "cell_type": "code",
   "execution_count": 2,
   "metadata": {},
   "outputs": [],
   "source": [
    "logger = logging.getLogger('simple_example')\n",
    "logger.setLevel(logging.DEBUG)\n",
    "console = logging.StreamHandler()\n",
    "console.setLevel(level=logging.DEBUG)\n",
    "#logger.debug('simple message')"
   ]
  },
  {
   "cell_type": "code",
   "execution_count": 3,
   "metadata": {},
   "outputs": [
    {
     "data": {
      "application/vnd.jupyter.widget-view+json": {
       "model_id": "f7429064abc44771ade67608be207830",
       "version_major": 2,
       "version_minor": 0
      },
      "text/plain": [
       "Fetching 11 files:   0%|          | 0/11 [00:00<?, ?it/s]"
      ]
     },
     "metadata": {},
     "output_type": "display_data"
    },
    {
     "name": "stderr",
     "output_type": "stream",
     "text": [
      "100%|██████████| 3/3 [01:05<00:00, 21.99s/it]\n"
     ]
    }
   ],
   "source": [
    "AI=Pokemon_Trainer_AI()"
   ]
  },
  {
   "cell_type": "code",
   "execution_count": 395,
   "metadata": {},
   "outputs": [],
   "source": [
    "def load_image_means():\n",
    "    if os.path.isfile(\"Image_means.txt\"):\n",
    "        return pd.read_csv(\"Image_means.txt\")\n",
    "    else:\n",
    "        return recalculate_image_means()\n",
    "\n",
    "def save_image_means(image_means):\n",
    "    image_means.to_csv(\"Image_means.txt\",index=False)\n",
    "\n",
    "def calculate_image_means(image):\n",
    "    return np.mean(np.array(image),axis=(0,1))\n",
    "\n",
    "def recalculate_image_means():\n",
    "    screenshot_dir = \"Different_objects\"\n",
    "    means=[]\n",
    "    for filename in os.listdir(screenshot_dir):\n",
    "        existing_image=Image.open(os.path.join(screenshot_dir, filename))\n",
    "        means.append(calculate_image_means(existing_image))\n",
    "    \n",
    "    return pd.DataFrame({\"R\":[means[i][0] for i in range(len(means))],\"G\":[means[i][1] for i in range(len(means))],\"B\":[means[i][2] for i in range(len(means))]})\n",
    "\n",
    "def Possible_images(image,image_means):\n",
    "    media=calculate_image_means(image)\n",
    "    diffR=image_means.loc[:,\"R\"]-media[0]\n",
    "    diffG=image_means.loc[:,\"G\"]-media[1]\n",
    "    diffB=image_means.loc[:,\"B\"]-media[2]\n",
    "    return list(image_means[(diffR**2+diffG**2+diffB**2)/3<4].index)\n"
   ]
  },
  {
   "cell_type": "code",
   "execution_count": 4,
   "metadata": {},
   "outputs": [],
   "source": [
    "def crop_into_pixels(image):\n",
    "    # Calculate the size of each rectangle\n",
    "    width, height = image.size\n",
    "\n",
    "    rect_widths = [round(width / 15)] * 15#Horizontally there´s 15 pixels\n",
    "\n",
    "    rows = [0.5] + [1] * 9 + [0.5] #The screen is has two half rows, it goes:  half, 4,player,4, half\n",
    "    rect_heights = [round(height*r/sum(rows)) for r in rows]\n",
    "\n",
    "    # Cut the image into rectangles\n",
    "    rectangles = []\n",
    "    #We´re gonna skip the bottom and top row as they´re half pixels\n",
    "    for i in range(1,len(rect_heights) - 1):\n",
    "        upper = sum(rect_heights[:i])\n",
    "        lower = upper + rect_heights[i]\n",
    "        \n",
    "        row=[]\n",
    "        for j in range(len(rect_widths)-1):\n",
    "            left = sum(rect_widths[:j])\n",
    "            right = left + rect_widths[j+1]      \n",
    "            \n",
    "            #First we´ll obtain the rectangle relating to the big pixel that (where a player interacts)\n",
    "            rect = image.crop((left, upper, right, lower))\n",
    "            #As the player is bigger than a pixel, we need to crop all the imagesby 30 from below\n",
    "            #This way the player´s top part of the hat´ll never appear\n",
    "            #width, height = rect.size\n",
    "            #rect=rect.crop((0, 0, width, height - 30))\n",
    "            \n",
    "            row.append(rect)\n",
    "        rectangles.append(row)\n",
    "    return rectangles"
   ]
  },
  {
   "cell_type": "code",
   "execution_count": 5,
   "metadata": {},
   "outputs": [],
   "source": [
    "def screenshot():\n",
    "    return pyautogui.screenshot(region=(960,241,960,640))#pyautogui.screenshot(region=(968,250,952,628))"
   ]
  },
  {
   "cell_type": "code",
   "execution_count": 402,
   "metadata": {},
   "outputs": [
    {
     "data": {
      "text/plain": [
       "True"
      ]
     },
     "execution_count": 402,
     "metadata": {},
     "output_type": "execute_result"
    }
   ],
   "source": [
    "images_are_similar(Image.open(\"Different_objects/969.png\"),Image.open(\"Different_objects/1184.png\"),threshold=0.05)"
   ]
  },
  {
   "cell_type": "code",
   "execution_count": 408,
   "metadata": {},
   "outputs": [
    {
     "data": {
      "text/plain": [
       "[110, 156, 910, 1067, 1249, 1250, 1251, 1252]"
      ]
     },
     "execution_count": 408,
     "metadata": {},
     "output_type": "execute_result"
    }
   ],
   "source": [
    "Possible_images(Image.open(\"Different_objects/1252.png\"),load_image_means())"
   ]
  },
  {
   "cell_type": "code",
   "execution_count": 406,
   "metadata": {},
   "outputs": [
    {
     "data": {
      "image/png": "[encoded data removed]",
      "text/plain": [
       "<PIL.Image.Image image mode=RGB size=960x640>"
      ]
     },
     "execution_count": 406,
     "metadata": {},
     "output_type": "execute_result"
    }
   ],
   "source": [
    "Go_to_game()\n",
    "screenshot()"
   ]
  },
  {
   "cell_type": "code",
   "execution_count": 407,
   "metadata": {},
   "outputs": [
    {
     "name": "stdout",
     "output_type": "stream",
     "text": [
      "0.0075452327728271484 False\n",
      "0.006317853927612305 False\n",
      "0.012390375137329102 False\n",
      "0.002499818801879883 False\n",
      "0.0031557083129882812 False\n",
      "0.006297588348388672 False\n",
      "0.00851297378540039 False\n",
      "0.0068683624267578125 False\n",
      "0.002493619918823242 True\n",
      "0.002032041549682617 True\n",
      "0.00658869743347168 True\n",
      "0.008043050765991211 False\n",
      "0.0030417442321777344 False\n",
      "0.006793022155761719 True\n",
      "0.005014181137084961 False\n",
      "0.0071370601654052734 False\n",
      "0.004055976867675781 False\n",
      "0.0076503753662109375 False\n",
      "0.0045545101165771484 False\n",
      "0.008987903594970703 False\n",
      "0.0070705413818359375 True\n",
      "0.0021486282348632812 False\n",
      "0.004006385803222656 False\n",
      "0.001974344253540039 False\n",
      "0.0025310516357421875 False\n",
      "0.0030133724212646484 False\n",
      "0.0020601749420166016 False\n",
      "0.0020105838775634766 False\n",
      "0.001989126205444336 False\n"
     ]
    },
    {
     "data": {
      "text/plain": [
       "array([[1158, 1159, 1159, 1159, 1159, 1160, 1161, 1161, 1161, 1161, 1161,\n",
       "        1161, 1161, 1161],\n",
       "       [1163, 1159, 1159, 1159, 1159, 1164, 1165, 1165, 1166, 1165, 1165,\n",
       "        1165, 1161, 1161],\n",
       "       [1159, 1159, 1159, 1159, 1159, 1159, 1159, 1159, 1248, 1159, 1159,\n",
       "        1159, 1160, 1161],\n",
       "       [1159, 1159, 1159, 1159, 1159, 1159, 1249,   -2, 1249, 1250, 1159,\n",
       "        1159, 1160, 1161],\n",
       "       [1170, 1169, 1170, 1159, 1159, 1159, 1251,   -1, 1205, 1250, 1159,\n",
       "        1159, 1160, 1161],\n",
       "       [1173, 1172, 1173, 1159, 1169, 1170, 1159, 1249, 1205, 1205, 1250,\n",
       "        1159, 1160, 1161],\n",
       "       [1176, 1175, 1176, 1177, 1172, 1173, 1159, 1251, 1251, 1251, 1252,\n",
       "        1159, 1160, 1161],\n",
       "       [1180, 1181, 1182, 1159, 1175, 1176, 1159, 1159, 1159, 1159, 1159,\n",
       "        1159, 1160, 1161],\n",
       "       [1184, 1157, 1158, 1185, 1186, 1186, 1186, 1186, 1187, 1159, 1159,\n",
       "        1159, 1160, 1161]])"
      ]
     },
     "execution_count": 407,
     "metadata": {},
     "output_type": "execute_result"
    }
   ],
   "source": [
    "Go_to_game()\n",
    "find_and_save_unique_images(crop_into_pixels(screenshot()))"
   ]
  },
  {
   "cell_type": "code",
   "execution_count": 410,
   "metadata": {},
   "outputs": [],
   "source": [
    "def find_and_save_unique_images(images,omit_player=True,pos_especial=-2):\n",
    "    image_means=load_image_means()\n",
    "\n",
    "    # Get list of unique images from a list of lists of images\n",
    "    screenshot_dir = \"Different_objects\"\n",
    "    if not os.path.exists(screenshot_dir):\n",
    "        os.makedirs(screenshot_dir)\n",
    "\n",
    "    unique_images = []\n",
    "    #This is the numbers associated to each image in the map, first we´ll fill it with the index corresponding\n",
    "    #To the unique images, then we´ll fill it with the name of the corresponding png unique images\n",
    "    map_indices = np.zeros((len(images),len(images[0])))\n",
    "    map_as_numbers = np.zeros((len(images),len(images[0])))\n",
    "\n",
    "    for i, image_list in enumerate(images):\n",
    "        for j, image in enumerate(image_list):\n",
    "            if not (i in [3,4] and j==7):\n",
    "                #if all([not images_are_similar(image, unique_image,threshold=0.10) for unique_image in unique_images]):\n",
    "                #    unique_images.append(image)\n",
    "                \n",
    "                comparisons=[images_are_similar(image, unique_image,threshold=0.05) for unique_image in unique_images]\n",
    "                \n",
    "                if any(comparisons):\n",
    "                    #Si ya existe la imagen le asignamos el número que le corresponde\n",
    "                    index=np.argmax(comparisons)\n",
    "                    map_indices[i,j]=index\n",
    "                else:  \n",
    "                    #Aquí el orden importa\n",
    "                    map_indices[i,j]=len(unique_images)\n",
    "                    unique_images.append(image)\n",
    "            elif i==3:\n",
    "                #es la casilla encima del jugador\n",
    "                map_indices[i,j]=-1#No le asignamos un índice útil\n",
    "                map_as_numbers[i,j]=pos_especial#Aquí tendremos dos casos\n",
    "\n",
    "            else:\n",
    "                #i==4 es el jugador\n",
    "                map_indices[i,j]=-1#No le asignamos un índice útil\n",
    "                map_as_numbers[i,j]=-1#Le asignamos imagen vacía (no existe el -1)\n",
    "\n",
    "    start_number = len(os.listdir(screenshot_dir))\n",
    "    n_new_images=0\n",
    "    for i,image in enumerate(unique_images):\n",
    "        new_image=True\n",
    "        lista_posibles_imgs=Possible_images(image,image_means)\n",
    "        for j in lista_posibles_imgs:\n",
    "            filename=f\"{j}.png\"\n",
    "            existing_image=Image.open(os.path.join(screenshot_dir, filename))\n",
    "            if images_are_similar(image, existing_image,threshold=0.05):\n",
    "                number_png=int(filename.split(\".\")[0])\n",
    "                map_as_numbers[map_indices==i]=number_png\n",
    "                new_image=False\n",
    "                continue\n",
    "        if new_image:\n",
    "            filename = f\"{start_number+n_new_images}.png\"\n",
    "            image.save(os.path.join(screenshot_dir, filename))\n",
    "            Info_object(start_number+n_new_images).save()\n",
    "            map_as_numbers[map_indices==i]=start_number+n_new_images\n",
    "            image_means=pd.concat([image_means,pd.DataFrame([calculate_image_means(image)],columns=[\"R\",\"G\",\"B\"])],ignore_index=True)\n",
    "\n",
    "            n_new_images+=1\n",
    "        \n",
    "    save_image_means(image_means)\n",
    "            \n",
    "            \n",
    "\n",
    "    return map_as_numbers.astype(int)"
   ]
  },
  {
   "cell_type": "code",
   "execution_count": 295,
   "metadata": {},
   "outputs": [],
   "source": [
    "pd.Series([20,1,2,3]).to_csv(\"test.txt\",index=False,header=False)"
   ]
  },
  {
   "cell_type": "code",
   "execution_count": 300,
   "metadata": {},
   "outputs": [
    {
     "data": {
      "text/plain": [
       "3"
      ]
     },
     "execution_count": 300,
     "metadata": {},
     "output_type": "execute_result"
    }
   ],
   "source": []
  },
  {
   "cell_type": "code",
   "execution_count": 274,
   "metadata": {},
   "outputs": [],
   "source": [
    "a=Image.open(os.path.join(\"Different_objects\", \"1.png\"))"
   ]
  },
  {
   "cell_type": "code",
   "execution_count": 290,
   "metadata": {},
   "outputs": [
    {
     "data": {
      "text/plain": [
       "array([ 80.20703125, 107.6484375 ,  78.9375    ])"
      ]
     },
     "execution_count": 290,
     "metadata": {},
     "output_type": "execute_result"
    }
   ],
   "source": [
    "np.mean(np.array(a),axis=(0,1))"
   ]
  },
  {
   "cell_type": "code",
   "execution_count": 286,
   "metadata": {},
   "outputs": [
    {
     "data": {
      "text/plain": [
       "array([[ 65,  65,  65, ..., 102, 102, 102],\n",
       "       [ 65,  65,  65, ..., 102, 102, 102],\n",
       "       [ 65,  65,  65, ..., 102, 102, 102],\n",
       "       ...,\n",
       "       [ 73,  73,  73, ..., 149, 149, 149],\n",
       "       [ 73,  73,  73, ..., 149, 149, 149],\n",
       "       [ 73,  73,  73, ..., 149, 149, 149]], dtype=uint8)"
      ]
     },
     "execution_count": 286,
     "metadata": {},
     "output_type": "execute_result"
    }
   ],
   "source": [
    "np.array(a)[:,:,0]"
   ]
  },
  {
   "cell_type": "code",
   "execution_count": 7,
   "metadata": {},
   "outputs": [],
   "source": [
    "def show_numbers_to_image(map_as_numbers):\n",
    "    \"\"\"Esta función es una comprobación, sirve para ver el mapa obtenido en forma de números\"\"\"\n",
    "    # Get the unique numbers in the array\n",
    "    numbers = np.unique(map_as_numbers)\n",
    "    # Load the images corresponding to each number\n",
    "    images = {number: Image.open(f'Different_objects/{int(number)}.png') if number not in [-1,-2] else Image.new('RGB', (64, 64), color = 'black') for number in numbers}\n",
    "\n",
    "    # Create an empty list to hold the rows of images\n",
    "    rows = []\n",
    "    # For each row in the array\n",
    "    for row in map_as_numbers:\n",
    "        # Create an empty list to hold the images in this row\n",
    "        images_row = []\n",
    "        # For each number in the row\n",
    "        for number in row:\n",
    "            # Append the corresponding image to the row\n",
    "            images_row.append(images[number])\n",
    "        # Stitch the images in the row together and append the result to the rows list\n",
    "        rows.append(Image.fromarray(np.hstack([np.array(img) for img in images_row])))\n",
    "\n",
    "    # Stitch the rows together to create the final image\n",
    "    return Image.fromarray(np.vstack([np.array(row) for row in rows]))"
   ]
  },
  {
   "cell_type": "code",
   "execution_count": 8,
   "metadata": {},
   "outputs": [],
   "source": [
    "def Objetos_son_iguales(item1, item2):\n",
    "    return (item2 in Info_object(item1).objetos_iguales) or item1==item2"
   ]
  },
  {
   "cell_type": "code",
   "execution_count": 9,
   "metadata": {},
   "outputs": [],
   "source": [
    "class Pokemon_class():\n",
    "    def __init__(self, name, level=0,max_hp=0, moves=[], status=\"\", has_fainted=False,hp=0):\n",
    "        self.name=name.lower()\n",
    "        self.level=level\n",
    "        self.max_hp=max_hp\n",
    "        self.hp=hp\n",
    "        self.moves=moves\n",
    "        self.status=status\n",
    "        \n",
    "        self.has_fainted=False\n",
    "\n",
    "    def moves_explanation(self):\n",
    "        move_explanation=\"\"\n",
    "        for move in self.moves:\n",
    "            Power=moves_df[moves_df[\"Name\"]==move][\"Power\"].iat[0]\n",
    "            Type=moves_df[moves_df[\"Name\"]==move][\"Type\"].iat[0]\n",
    "            move_explanation+=f\"\"\"{move} is a {Type} move that deals {Power} damage. \\n\"\"\"\n",
    "        return move_explanation\n",
    "    \n",
    "class Trainer_info_class():\n",
    "    def __init__(self, name=\"\", money=0, badges=[], Pokemons=[]):\n",
    "        self.name=name\n",
    "        self.money=money\n",
    "        self.badges=badges\n",
    "        self.Pokemons=Pokemons\n",
    "\n",
    "    def get_pokemon(self,name):\n",
    "        name=name.strip().lower()\n",
    "\n",
    "        dists=[Levenshtein.distance(name, x.name.lower()) for x in self.Pokemons]\n",
    "        return self.Pokemons[np.argmin(dists)]"
   ]
  },
  {
   "cell_type": "code",
   "execution_count": 505,
   "metadata": {},
   "outputs": [],
   "source": [
    "class Vision_class():\n",
    "    \n",
    "    def __init__(self, mapa=None):\n",
    "        self.mapa=mapa\n",
    "        self.traslacion_trad={\"up\":(-1,0),\"down\":(1,0),\"left\":(0,-1),\"right\":(0,1)}\n",
    "        self.cc_a_traslacion={(-1,0):\"up\",(1,0):\"down\",(0,-1):\"left\",(0,1):\"right\"}\n",
    "        self.direccion_opuesta={\"up\":\"down\",\"down\":\"up\",\"left\":\"right\",\"right\":\"left\"}\n",
    "        self.mirando=None\n",
    "\n",
    "    def update(self,traslacion=None,wait=True):\n",
    "        \"\"\"Updates our knowledge of the map, if traslacion is not None we can update the map faster, it can be: up, down, left or right.\n",
    "        It returns the traslation (in cc), and a bool that will be True if the map has changed\"\"\"\n",
    "        if wait:#This is so that it isn´t used while moving\n",
    "            sleep(0.1)\n",
    "        if not En_campo():\n",
    "            raise Exception(\"No estamos en el mapa, no se puede actualizar el mapa\")\n",
    "        \n",
    "        if self.Hay_texto():\n",
    "            raise Exception(\"Hay texto en la pantalla, no se puede actualizar el mapa\")\n",
    "        \n",
    "        mapa_actual=find_and_save_unique_images(crop_into_pixels(screenshot()))\n",
    "\n",
    "        #Si no tenemos mapa, lo guardamos y salimos\n",
    "        if self.mapa is None:\n",
    "            self.mirando=None\n",
    "            self.mapa=mapa_actual\n",
    "            return None,True\n",
    "        else:\n",
    "            ##Teníamos mapa,comprobamos si es exactamente el mismo (sin traslaciones)\n",
    "            #if self.Es_el_mismo_mapa(mapa_actual):\n",
    "            #    return None,False\n",
    "            \n",
    "            #Miramos si es una traslación en 1 del mapa anterior (ya sea por indicación nuestra o cálculo)\n",
    "            if traslacion is None:\n",
    "                #Si el input the traslación es vacío miramos si se ha trasladado el mapa\n",
    "                traslacion=self.direccion_traslado(mapa_actual)\n",
    "            else:\n",
    "                traslacion=self.traslacion_trad[traslacion]\n",
    "                #Hacemos una comparación no vaya a ser que nos hayamos equivocado (o alome hemos atravesado una puerta)\n",
    "                if not self.Es_el_mismo_mapa(mapa_actual,traslacion[0],traslacion[1]):\n",
    "                    traslacion=None\n",
    "\n",
    "            if traslacion is None:\n",
    "                self.mirando=None\n",
    "                #Si realmente no encontramos una dirección de traslado es que no es el mismo mapa\n",
    "                self.mapa=mapa_actual\n",
    "                return traslacion,True\n",
    "            else:\n",
    "                self.mapa=self.trasladar_mapa(mapa_actual,traslacion)\n",
    "                self.mirando=self.cc_a_traslacion[traslacion]\n",
    "                return traslacion,False\n",
    "          \n",
    "\n",
    "    def Es_el_mismo_mapa(self, mapa,tras_i=0,tras_j=0):\n",
    "        \"\"\"Comparamos el mapa almacenado trasladado en (tras_i,tras_j) con otro mapa \"\"\"\n",
    "        if self.mapa is None:\n",
    "            return False\n",
    "        cambios=0\n",
    "        cuentas=0\n",
    "        pos_cambios=[]\n",
    "        for i in range(len(mapa)):\n",
    "            for j in range(len(mapa[0])):\n",
    "                if (not (i in [3,4] and j==7)) and (not (i+tras_i in [3,4] and (j+tras_j)==7)) and (i+tras_i)>0 and (i+tras_i)<len(mapa) and (j+tras_j)>0 and (j+tras_j)<len(mapa):\n",
    "                    cuentas+=1\n",
    "                    if not Objetos_son_iguales(self.mapa[i+tras_i][j+tras_j],mapa[i][j]):\n",
    "                        cambios+=1\n",
    "                        pos_cambios.append((i,j))\n",
    "        \n",
    "        #Si hay muchos cambios diremos que hemos cambiado de sitio\n",
    "        if cambios>0.2*cuentas:\n",
    "            # print(\"n_cambios\",cambios)\n",
    "            return False\n",
    "\n",
    "        #Suponiendo que es el mismo mapa, ahora trataremos de decir si dos objetos son realmente lo mismo\n",
    "\n",
    "        #1ºcaso: si hay un pixel modificado rodeado por píxeles no cambiados, esto será un cambio de posición (como las flores)\n",
    "        for i,cambio in enumerate(pos_cambios):\n",
    "            Esta_rodeado=True\n",
    "            for otro_cambio in pos_cambios[i+1:]:\n",
    "                if abs(cambio[0]-otro_cambio[0])<=1 and abs(cambio[1]-otro_cambio[1])<=1:\n",
    "                    Esta_rodeado=False\n",
    "            if Esta_rodeado:    \n",
    "                Info_object(self.mapa[cambio[0]+tras_i][cambio[1]+tras_j]).Add_transformation(mapa[cambio[0]][cambio[1]])                \n",
    "        \n",
    "        ####2ºcaso: si hay tres píxeles modificados, debido a que un npc ha bajado o subido. Miraremos el pixel de arriba a ver si se ha mantenido igual, o el de abajo\n",
    "        ###for i,cambio in enumerate(pos_cambios):\n",
    "        ###    Uno_encima=None\n",
    "        ###    for otro_cambio in pos_cambios:\n",
    "        ###        if otro_cambio[0]==cambio[0]-1 and cambio[1]==otro_cambio[1]:\n",
    "        ###            Uno_encima=otro_cambio\n",
    "        ###    if Uno_encima not None:\n",
    "        ###        Dos_encima=None\n",
    "        ###        for otro_cambio in pos_cambios:\n",
    "        ###            if otro_cambio[0]==cambio[0]-2 and cambio[1]==otro_cambio[1]:\n",
    "        ###                Dos_encima=otro_cambio\n",
    "        ###        if Dos_encima not None:\n",
    "        ###            #Si un npc sube para arriba\n",
    "        ###            #Miramos las partes de abajo\n",
    "        ###            if Objetos_son_iguales(self.mapa[cambio[0]+tras_i][cambio[1]+tras_j],mapa[cambio[0]-1][cambio[1]]):\n",
    "        ###                \n",
    "        ###            #Miramos las partes de arriba\n",
    "        ###            if Objetos_son_iguales(self.mapa[cambio[0]+tras_i-2][cambio[1]+tras_j],mapa[cambio[0]-1][cambio[1]]):\n",
    "        ###                \n",
    "\n",
    "        ###            #Si un npc baja para abajo\n",
    "        ###            #Miramos las partes de abajo\n",
    "        ###            if Objetos_son_iguales(self.mapa[cambio[0]+tras_i-1][cambio[1]+tras_j],mapa[cambio[0]][cambio[1]]):\n",
    "        ###                \n",
    "        ###            #Miramos las partes de arriba\n",
    "        ###            if Objetos_son_iguales(self.mapa[cambio[0]+tras_i-2][cambio[1]+tras_j],mapa[cambio[0]-1][cambio[1]]):\n",
    "        ###                \n",
    "        ###    if Esta_rodeado:    \n",
    "        ###        Info_object(self.mapa[cambio[0]+tras_i][cambio[1]+tras_j]).Add_transformation(mapa[cambio[0]][cambio[1]])                \n",
    "        \n",
    "\n",
    "\n",
    "        ##Si el número de cambios es menor o igual que 4 (una persona cambia de background) trataremos de unir imágenes diciendo que realmente son la misma \n",
    "        #if cambios<=4:\n",
    "        #    if cambios==1            \n",
    "\n",
    "        return True\n",
    "\n",
    "    def Ha_cambiado_el_mapa(self):\n",
    "        \"\"\"Comparamos el mapa almacenado con el actual (lo usaremos para la función de orientación)\"\"\"\n",
    "        mapa_actual=find_and_save_unique_images(crop_into_pixels(screenshot()))\n",
    "        return not self.Es_el_mismo_mapa(mapa_actual)\n",
    "\n",
    "    \n",
    "    def direccion_traslado(self,mapa_actual):\n",
    "        \"\"\"El objetivo es ver si el mapa actual es el mismo que el almacenado trasladado en (tras_i,tras_j)\"\"\"\n",
    "        tras_i=0\n",
    "        tras_j=0\n",
    "        if self.Es_el_mismo_mapa(mapa_actual):\n",
    "            pass #No nos hemos movido\n",
    "        elif self.Es_el_mismo_mapa(mapa_actual,tras_i=1):\n",
    "            tras_i=1  #Hemos movido a la abajo\n",
    "        elif self.Es_el_mismo_mapa(mapa_actual,tras_i=-1):\n",
    "            tras_i=-1 #Hemos movido a la arrriba\n",
    "        elif self.Es_el_mismo_mapa(mapa_actual,tras_j=1):\n",
    "            tras_j=1 #Hemos movido derecha\n",
    "        elif self.Es_el_mismo_mapa(mapa_actual,tras_j=-1):\n",
    "             tras_j=-1 #Hemos movido izquierda\n",
    "        else:\n",
    "            print(\"Nada\")\n",
    "            return None #Puede que sea completamente distinto\n",
    "        return tras_i,tras_j\n",
    "    \n",
    "    def trasladar_mapa(self,mapa,traslacion):\n",
    "        tras_i,tras_j=traslacion\n",
    "        if self.mapa[3+tras_i,7+tras_j]!=-1:\n",
    "            mapa[3,7]=self.mapa[3+tras_i,7+tras_j]\n",
    "        if self.mapa[4-tras_i,7-tras_j]!=-2:\n",
    "            mapa[4,7]=self.mapa[4+tras_i,7+tras_j]\n",
    "\n",
    "        return mapa.copy()\n",
    "\n",
    "    def show(self):\n",
    "        return show_numbers_to_image(self.mapa)\n",
    "    \n",
    "    def describe(self):\n",
    "        msg=\"{self.mapa}\\n\"\n",
    "        for num in np.unique(self.mapa):\n",
    "            msg+=f\"{Info_object(num).describe()}\\n\"\n",
    "        return msg\n",
    "\n",
    "\n",
    "    def Go_to(self,x,y):\n",
    "        \"\"\"Vamos a la casilla (x,y). Este algoritmo hay que hacerlo eficiente (porque alome se puede quedar mirando una pared)\"\"\"\n",
    "        if not En_campo():\n",
    "            return\n",
    "        \n",
    "        while self.Hay_texto():\n",
    "            #A veces puede haber texto por señales\n",
    "            Apply_command(\"A\")\n",
    "        #Primero miramos si estamos en la casilla\n",
    "        if y<0:\n",
    "            Apply_command(\"up\")\n",
    "            if not self.Ha_cambiado_el_mapa():\n",
    "                Apply_command(\"up\")\n",
    "            self.update(\"up\")\n",
    "            sleep(0.1)\n",
    "            self.mirando=\"up\"\n",
    "            self.Go_to(x,y+1)\n",
    "        elif y>0:\n",
    "            Apply_command(\"down\")\n",
    "            if not self.Ha_cambiado_el_mapa():\n",
    "                Apply_command(\"down\")\n",
    "            self.update(\"down\")\n",
    "            sleep(0.1)\n",
    "            self.mirando=\"down\"\n",
    "            self.Go_to(x,y-1)\n",
    "        if x>0:\n",
    "            Apply_command(\"right\")\n",
    "            if not self.Ha_cambiado_el_mapa():\n",
    "                print(\"No cambio\")\n",
    "                Apply_command(\"right\")\n",
    "            self.update(\"right\")\n",
    "            sleep(0.1)\n",
    "            self.mirando=\"right\"\n",
    "            self.Go_to(x-1,y)\n",
    "        elif x<0:\n",
    "            Apply_command(\"left\")\n",
    "            if not self.Ha_cambiado_el_mapa():\n",
    "                Apply_command(\"left\")\n",
    "            self.update(\"left\")\n",
    "            sleep(0.1)\n",
    "            self.mirando=\"left\"\n",
    "            self.Go_to(x+1,y)\n",
    "        return\n",
    "\n",
    "\n",
    "    def Hay_texto(self):\n",
    "        \"\"\"Miramos que en la zona de texto haya mas blanco que cualquier otro color\"\"\"\n",
    "        screenshot = pyautogui.screenshot(region=(1020,720,800, 120))\n",
    "        # Convert the image to grayscale for easier pixel analysis\n",
    "        grayscale_image = screenshot.convert('L')\n",
    "        pixels = list(grayscale_image.getdata())\n",
    "        # Por encima de 210 diremos que es blanco\n",
    "        threshold = 210\n",
    "        n_pixeles_blancos = sum(1 for pixel in pixels if pixel > threshold)\n",
    "\n",
    "        return n_pixeles_blancos>0.5*len(pixels)\n",
    "\n",
    "\n",
    "    def _mapa_simplified_as_array(self,put_player=True):\n",
    "        mapa_simplified=np.zeros(self.mapa.shape).astype(str)\n",
    "        \n",
    "        for i in np.unique(self.mapa):\n",
    "            if i not in [-1,-2]:\n",
    "                obj=Info_object(i)\n",
    "                mapa_simplified[self.mapa==i]=obj.tipo_trad[obj.tipo]\n",
    "            elif i==-1:\n",
    "                mapa_simplified[self.mapa==i]=\"P\"\n",
    "            if i==-2:\n",
    "                mapa_simplified[self.mapa==i]=\"T\"\n",
    "        \n",
    "        if put_player:\n",
    "            mapa_simplified[4][7]=\"P\"\n",
    "        \n",
    "        return mapa_simplified\n",
    "        \n",
    "    def mapa_simplified(self):\n",
    "        msg=\"\"\n",
    "\n",
    "        mapa_simplified=self._mapa_simplified_as_array()\n",
    "        for i in range(len(mapa_simplified)):\n",
    "            for j in range(len(mapa_simplified[0])):\n",
    "                if i==4 and j==7:\n",
    "                    msg+=\"P\"                \n",
    "                else:\n",
    "                    msg+=mapa_simplified[i][j]\n",
    "            msg+=\"\\n\"\n",
    "\n",
    "        msg+=\"X are walls\\n\"\n",
    "        msg+=\"P is the player\\n\"\n",
    "        msg+=\"U is something unknown\\n\"\n",
    "        msg+=\"O is background\\n\"\n",
    "        msg+=\"T is a temporarily unknown\\n\"\n",
    "        return msg\n",
    "    \n",
    "    def Orientar_mirada(self,orientacion,restart=False):\n",
    "        \"\"\"Orientacion puede ser up,down,left,right. Esta función es costosa si no sabemos ya la orientación\"\"\"\n",
    "\n",
    "        if restart:\n",
    "            self.mirando=None\n",
    "        if self.mirando==orientacion:\n",
    "            return\n",
    "\n",
    "        if not En_campo():\n",
    "            return        \n",
    "\n",
    "        Apply_command(orientacion);sleep(0.1)\n",
    "        msg=\"\"\n",
    "        while self.Hay_texto():\n",
    "            #A veces puede haber texto por señales\n",
    "            msg+=Read_text();sleep(0.1)\n",
    "            Apply_command(\"A\");sleep(0.1)\n",
    "\n",
    "        if self.Ha_cambiado_el_mapa():\n",
    "            #Si nos hemos movido detectaremos un cambio en el mapa\n",
    "            self.update(orientacion)\n",
    "            Apply_command(self.direccion_opuesta[orientacion])\n",
    "            Apply_command(self.direccion_opuesta[orientacion]);sleep(0.1)\n",
    "            self.update(self.direccion_opuesta[orientacion])\n",
    "            Apply_command(orientacion);sleep(0.1)\n",
    "        \n",
    "        self.mirando=orientacion\n",
    "        return msg\n",
    "\n",
    "    def _casilla_adyacente(self,pos):\n",
    "        \"\"\"Devuelve las coordenadas de la casilla adyacente\"\"\"\n",
    "        if pos==\"up\":\n",
    "            return (3,7)\n",
    "        elif pos==\"down\":\n",
    "            return (5,7)\n",
    "        elif pos==\"left\":\n",
    "            return (4,6)\n",
    "        elif pos==\"right\":\n",
    "            return (4,8)\n",
    "        else:\n",
    "            raise Exception(\"Posicion no valida\")\n",
    "    \n",
    "    def _objeto_casilla_adyacente(self,pos):\n",
    "        cc=self._casilla_adyacente(pos)\n",
    "        return Info_object(self.mapa[cc[0],cc[1]])\n",
    "\n",
    "    def Moverse(self,pos):\n",
    "        \"\"\"Funcion general cuando queremos movernos a una casilla adyacente (si no estamos mirando solo se girará)\"\"\"\n",
    "        Apply_command(pos);sleep(0.1)\n",
    "\n",
    "        msg=\"\"\n",
    "        while self.Hay_texto():\n",
    "            msg+=Read_text();sleep(0.1)\n",
    "            Apply_command(\"A\");sleep(0.1)\n",
    "        x,y=self.update(pos)\n",
    "        return msg,x,y\n",
    "\n",
    "    def Estudiar_casilla(self,pos):\n",
    "        \"\"\"Estudiamos la casilla en la pos adyacente a la que estamos, pos puede ser: up,down,left,right\"\"\"\n",
    "        self.Orientar_mirada(pos)\n",
    "        obj=self._objeto_casilla_adyacente(pos)\n",
    "        if obj.name==\"-2\":\n",
    "            logger.info(\"Objeto no estudiable (gorra jugador la tapa)\")\n",
    "            return\n",
    "\n",
    "        #Veamos si es interactuable (si lo es, guardamos lo que nos diga)\n",
    "        Apply_command(\"A\");sleep(0.1)\n",
    "        msgs=\"\"\n",
    "        interactable=False\n",
    "        while self.Hay_texto():\n",
    "            interactable=True\n",
    "            msgs+=Read_text();sleep(0.1)\n",
    "            #Aquí podemos hacer la acción que queramos, seleccionar una opción, darle a la A, etc\n",
    "            #De momento siempre le daremos a la A\n",
    "            Apply_command(\"A\");sleep(0.1)\n",
    "        \n",
    "        #Veamos si podemos caminar encima de el\n",
    "        msg,traslacion,Nuevo_mapa=self.Moverse(pos)\n",
    "        walkable=False\n",
    "        door=False\n",
    "        if traslacion is not None:\n",
    "            print(\"Hemos caminado\")\n",
    "            walkable=True\n",
    "            if Nuevo_mapa:\n",
    "                print(\"Es una puerta\")\n",
    "                door=True\n",
    "            self.update(pos)\n",
    "            Apply_command(self.direccion_opuesta[pos]);sleep(0.1)\n",
    "            self.update(pos)\n",
    "            Apply_command(self.direccion_opuesta[pos]);sleep(0.1)\n",
    "            sleep(0.1)\n",
    "            self.update(self.direccion_opuesta[pos]);sleep(0.1)\n",
    "            Apply_command(pos)\n",
    "        \n",
    "        print(f\"walkable:{walkable}, interactable:{interactable}, door:{door}\")\n",
    "        #Actualizamos el objeto      \n",
    "        obj.Actualizacion_completa(walkable = walkable,interactable = interactable,door = door,text_info=msgs)        \n",
    "\n",
    "    def _Estudiar_casilla_adyacente(self,pos):\n",
    "        mapa=self._mapa_simplified_as_array()\n",
    "        tras=self._casilla_adyacente(pos)\n",
    "        if mapa[tras[0],tras[1]]==\"U\":\n",
    "            self.Estudiar_casilla(pos)\n",
    "    \n",
    "    def _Casillas_adyacentes_desconocidas(self):\n",
    "        mapa=self._mapa_simplified_as_array()\n",
    "        dirs=[\"up\",\"down\",\"left\",\"right\"]\n",
    "        tras=[self._casilla_adyacente(x) for x in dirs]\n",
    "\n",
    "        ubicaciones=[]\n",
    "        for x,z in zip(dirs,tras):\n",
    "            if mapa[z[0],z[1]]==\"U\":\n",
    "                ubicaciones.append(x)\n",
    "        return ubicaciones\n",
    "    \n",
    "    def Estudiar_alguna_casilla_adyacente(self):\n",
    "        lista=self._Casillas_adyacentes_desconocidas()\n",
    "        if len(lista)>0:\n",
    "            self.Estudiar_casilla(lista[0])\n",
    "            return True\n",
    "        return False\n",
    "\n",
    "    def Ponerse_adyacente_a_una_casilla_desconocida(self):\n",
    "        mapa=self._mapa_simplified_as_array()\n",
    "        Distances=[abs(x-4)+abs(y-7) for x,y in zip(np.where(mapa==\"U\")[0],np.where(mapa==\"U\")[1])]\n",
    "        if len(Distances)==0:\n",
    "            return False\n",
    "        index=np.argmin(Distances)\n",
    "        self.Go_to(np.where(mapa==\"U\")[1][index]-7,np.where(mapa==\"U\")[0][index]-4+1)\n",
    "        return True\n"
   ]
  },
  {
   "cell_type": "code",
   "execution_count": 421,
   "metadata": {},
   "outputs": [
    {
     "data": {
      "text/plain": [
       "True"
      ]
     },
     "execution_count": 421,
     "metadata": {},
     "output_type": "execute_result"
    }
   ],
   "source": [
    "Go_to_game()"
   ]
  },
  {
   "cell_type": "code",
   "execution_count": 423,
   "metadata": {},
   "outputs": [],
   "source": [
    "vision.update()"
   ]
  },
  {
   "cell_type": "code",
   "execution_count": 425,
   "metadata": {},
   "outputs": [
    {
     "name": "stdout",
     "output_type": "stream",
     "text": [
      "Nada\n"
     ]
    }
   ],
   "source": [
    "vision.direccion_traslado(find_and_save_unique_images(crop_into_pixels(screenshot())))"
   ]
  },
  {
   "cell_type": "code",
   "execution_count": 87,
   "metadata": {},
   "outputs": [],
   "source": [
    "class Info_object():\n",
    "    def __init__(self, name,load=True, tipo=None,walkable=None, interactable=None, door=None, investigated=None,text_info=\"\",objetos_iguales=[],transformable_en=[]):\n",
    "        self.name=int(round(name))\n",
    "        self.tipo_trad={\"background\":\"O\",\"wall\":\"X\",None:\"U\",\"door\":\"D\"}\n",
    "        if load:\n",
    "            self.load()\n",
    "        else:\n",
    "            self.tipo=tipo\n",
    "            self.walkable = walkable\n",
    "            self.interactable = interactable\n",
    "            self.door = door\n",
    "            self.investigated=investigated\n",
    "            self.text_info=text_info\n",
    "            self.objetos_iguales=objetos_iguales\n",
    "            self.transformable_en=transformable_en\n",
    "            #Lisf of things it can be on top of (backgrounds can change, and we will only add to this if we see it move)\n",
    "            #self.always_on_top_of= always_on_top_of\n",
    "\n",
    "    def describe(self):\n",
    "        if self.name==-2:\n",
    "            return f\"{self.name}: Ignora este objeto en esta ronda\"\n",
    "        if self.name==-1:\n",
    "            return f\"{self.name}: Is the player character\"\n",
    "        #if not self.investigated:\n",
    "        #    return f\"\"\"{self.name}:  Is unknown what it is\"\"\"\n",
    "        if self.door:\n",
    "            return f\"\"\"{self.name}:  Is a door\"\"\"\n",
    "        return f\"\"\"{self.name}: You can {\"not\"*(not self.walkable)} walk on it and you can {\"not\"*(not self.interactable)} interact with it\"\"\"\n",
    "    \n",
    "    def save(self):\n",
    "        with open(f\"Info_different_objects/{self.name}.json\",\"w\") as f:\n",
    "            json.dump({\n",
    "                    \"name\":self.name, \n",
    "                    \"tipo\":self.tipo,\n",
    "                    \"walkable\":self.walkable,\n",
    "                    \"interactable\":self.interactable,\n",
    "                    \"door\":self.door,\n",
    "                    \"investigated\":self.investigated,\n",
    "                    \"text_info\":self.text_info,\n",
    "                    \"objetos_iguales\":self.objetos_iguales,\n",
    "                    \"transformable_en\":self.transformable_en\n",
    "                    },f)\n",
    "    \n",
    "    def load(self):\n",
    "        filename=f\"Info_different_objects/{self.name}.json\"\n",
    "        if not os.path.isfile(filename):\n",
    "            logger.debug(f\"Func Info_object: No existe el archivo {filename}\")\n",
    "            self.__dict__=Info_object(self.name,load=False).__dict__.copy()\n",
    "        else:\n",
    "            info=json.load(open(filename,\"r\"))\n",
    "            self.name=info[\"name\"]\n",
    "            self.tipo=info[\"tipo\"]\n",
    "            self.walkable=info[\"walkable\"]\n",
    "            self.interactable=info[\"interactable\"]\n",
    "            self.door=info[\"door\"]\n",
    "            self.investigated=info[\"investigated\"]\n",
    "            self.text_info=info[\"text_info\"]\n",
    "            self.objetos_iguales=info[\"objetos_iguales\"]\n",
    "            self.transformable_en=info[\"transformable_en\"]\n",
    "\n",
    "    def Add_transformation(self,name):\n",
    "        \"\"\"Esta función es mejorable porque no traspasa información de en que objetos se puede transformar cada uno\"\"\"\n",
    "        logger.debug(f\"Func Info_object: Añadiendo transformacion de {self.name} a {name}\")\n",
    "        aux=Info_object(name)\n",
    "        if self.name in aux.transformable_en:\n",
    "            #Modificamos los objetos iguales\n",
    "            lista_objetos_iguales=aux.objetos_iguales+self.objetos_iguales+[self.name,aux.name]\n",
    "            lista_objetos_iguales=list(set(lista_objetos_iguales))\n",
    "            for objeto in lista_objetos_iguales:\n",
    "                aux2=Info_object(objeto)\n",
    "                aux2.objetos_iguales=lista_objetos_iguales.copy()\n",
    "                aux2.transformable_en=[x for x in aux2.transformable_en if x not in lista_objetos_iguales]    \n",
    "                aux2.save()\n",
    "        elif name not in self.transformable_en:\n",
    "            self.transformable_en.append(int(name))\n",
    "            self.save()\n",
    "\n",
    "    def __str__(self):\n",
    "        return f\"\"\"\"name\":{self.name},\n",
    "                    tipo={self.tipo},\n",
    "                    walkable={self.walkable}\n",
    "                    interactable={self.interactable}\n",
    "                    door={self.door}\n",
    "                    investigated={self.investigated}\n",
    "                    text_info={self.text_info}\n",
    "                    objetos_iguales={self.objetos_iguales}\n",
    "                    transformable_en={self.transformable_en}\"\"\"\n",
    "\n",
    "    def Actualizacion_completa(self,walkable=None,interactable=None,door=None,text_info=[]):\n",
    "        self.walkable = walkable\n",
    "        self.interactable = interactable\n",
    "        self.door = door\n",
    "        self.text_info+=text_info\n",
    "        self.investigated=True\n",
    "\n",
    "        if walkable:\n",
    "            self.tipo=\"background\"\n",
    "        elif door:\n",
    "            self.tipo=\"door\"\n",
    "        else:\n",
    "            self.tipo=\"wall\"\n",
    "\n",
    "        print(self)\n",
    "        self.save()\n",
    "        self.Traspasar_info()\n",
    "    \n",
    "    def Traspasar_info(self):\n",
    "        for name in self.objetos_iguales:\n",
    "            aux=Info_object(name)\n",
    "            aux.walkable=self.walkable\n",
    "            aux.interactable=self.interactable\n",
    "            aux.door=self.door\n",
    "            aux.text_info+=self.text_info\n",
    "            aux.investigated=self.investigated\n",
    "            aux.save()\n",
    "            "
   ]
  },
  {
   "cell_type": "code",
   "execution_count": 469,
   "metadata": {},
   "outputs": [
    {
     "name": "stdout",
     "output_type": "stream",
     "text": [
      "UUUUUOUOUOOOOO\n",
      "UUUUUUUOUOUUUU\n",
      "UUUUUOUOUUUUUU\n",
      "OOOOOOOOUUUUUU\n",
      "OOOOOOOPUUUUUU\n",
      "OOOUOOOOUUUUUU\n",
      "OOOUOOUOOOOOOO\n",
      "UXXXOOUOOOOOOO\n",
      "UUUUOOUOOOUUUU\n",
      "X are walls\n",
      "P is the player\n",
      "U is something unknown\n",
      "O is background\n",
      "T is a temporarily unknown\n",
      "\n"
     ]
    }
   ],
   "source": [
    "print(vision.mapa_simplified())"
   ]
  },
  {
   "cell_type": "code",
   "execution_count": 468,
   "metadata": {},
   "outputs": [
    {
     "data": {
      "text/plain": [
       "((0, 1), False)"
      ]
     },
     "execution_count": 468,
     "metadata": {},
     "output_type": "execute_result"
    }
   ],
   "source": [
    "Go_to_game()\n",
    "vision.update()"
   ]
  },
  {
   "cell_type": "code",
   "execution_count": 506,
   "metadata": {},
   "outputs": [
    {
     "data": {
      "text/plain": [
       "(None, True)"
      ]
     },
     "execution_count": 506,
     "metadata": {},
     "output_type": "execute_result"
    }
   ],
   "source": [
    "Go_to_game()\n",
    "vision=Vision_class()\n",
    "vision.update()"
   ]
  },
  {
   "cell_type": "code",
   "execution_count": 438,
   "metadata": {},
   "outputs": [
    {
     "data": {
      "text/plain": [
       "''"
      ]
     },
     "execution_count": 438,
     "metadata": {},
     "output_type": "execute_result"
    }
   ],
   "source": [
    "Go_to_game()\n",
    "vision=Vision_class()\n",
    "vision.update()\n",
    "vision.Orientar_mirada(\"right\")"
   ]
  },
  {
   "cell_type": "code",
   "execution_count": 466,
   "metadata": {},
   "outputs": [
    {
     "name": "stdout",
     "output_type": "stream",
     "text": [
      "Hemos caminado\n",
      "walkable:True, interactable:False, door:False\n",
      "\"name\":83,\n",
      "                    tipo=background,\n",
      "                    walkable=True\n",
      "                    interactable=False\n",
      "                    door=False\n",
      "                    investigated=True\n",
      "                    text_info=\n",
      "                    objetos_iguales=[]\n",
      "                    transformable_en=[]\n",
      "Hemos caminado\n",
      "walkable:True, interactable:False, door:False\n",
      "\"name\":110,\n",
      "                    tipo=background,\n",
      "                    walkable=True\n",
      "                    interactable=False\n",
      "                    door=False\n",
      "                    investigated=True\n",
      "                    text_info=\n",
      "                    objetos_iguales=[]\n",
      "                    transformable_en=[]\n",
      "Hemos caminado\n",
      "walkable:True, interactable:False, door:False\n",
      "\"name\":117,\n",
      "                    tipo=background,\n",
      "                    walkable=True\n",
      "                    interactable=False\n",
      "                    door=False\n",
      "                    investigated=True\n",
      "                    text_info=\n",
      "                    objetos_iguales=[]\n",
      "                    transformable_en=[]\n",
      "walkable:False, interactable:False, door:False\n",
      "\"name\":180,\n",
      "                    tipo=wall,\n",
      "                    walkable=False\n",
      "                    interactable=False\n",
      "                    door=False\n",
      "                    investigated=True\n",
      "                    text_info=\n",
      "                    objetos_iguales=[]\n",
      "                    transformable_en=[]\n",
      "No cambio\n",
      "Hemos caminado\n",
      "walkable:True, interactable:False, door:False\n",
      "\"name\":91,\n",
      "                    tipo=background,\n",
      "                    walkable=True\n",
      "                    interactable=False\n",
      "                    door=False\n",
      "                    investigated=True\n",
      "                    text_info=\n",
      "                    objetos_iguales=[]\n",
      "                    transformable_en=[]\n",
      "Hemos caminado\n",
      "walkable:True, interactable:False, door:False\n",
      "\"name\":95,\n",
      "                    tipo=background,\n",
      "                    walkable=True\n",
      "                    interactable=False\n",
      "                    door=False\n",
      "                    investigated=True\n",
      "                    text_info=\n",
      "                    objetos_iguales=[322, 95]\n",
      "                    transformable_en=[324]\n"
     ]
    },
    {
     "data": {
      "text/html": [
       "<pre style=\"white-space:pre;overflow-x:auto;line-height:normal;font-family:Menlo,'DejaVu Sans Mono',consolas,'Courier New',monospace\"><span style=\"color: #800000; text-decoration-color: #800000\">╭─────────────────────────────── </span><span style=\"color: #800000; text-decoration-color: #800000; font-weight: bold\">Traceback </span><span style=\"color: #bf7f7f; text-decoration-color: #bf7f7f; font-weight: bold\">(most recent call last)</span><span style=\"color: #800000; text-decoration-color: #800000\"> ────────────────────────────────╮</span>\n",
       "<span style=\"color: #800000; text-decoration-color: #800000\">│</span> in <span style=\"color: #00ff00; text-decoration-color: #00ff00\">&lt;module&gt;</span>:<span style=\"color: #0000ff; text-decoration-color: #0000ff\">3</span>                                                                                    <span style=\"color: #800000; text-decoration-color: #800000\">│</span>\n",
       "<span style=\"color: #800000; text-decoration-color: #800000\">│</span>                                                                                                  <span style=\"color: #800000; text-decoration-color: #800000\">│</span>\n",
       "<span style=\"color: #800000; text-decoration-color: #800000\">│</span>   <span style=\"color: #7f7f7f; text-decoration-color: #7f7f7f\">1 </span>Go_to_game()                                                                                 <span style=\"color: #800000; text-decoration-color: #800000\">│</span>\n",
       "<span style=\"color: #800000; text-decoration-color: #800000\">│</span>   <span style=\"color: #7f7f7f; text-decoration-color: #7f7f7f\">2 </span><span style=\"color: #0000ff; text-decoration-color: #0000ff\">while</span> vision.Ponerse_adyacente_a_una_casilla_desconocida():                                  <span style=\"color: #800000; text-decoration-color: #800000\">│</span>\n",
       "<span style=\"color: #800000; text-decoration-color: #800000\">│</span> <span style=\"color: #800000; text-decoration-color: #800000\">❱ </span>3 <span style=\"color: #7f7f7f; text-decoration-color: #7f7f7f\">│   </span>vision.Estudiar_alguna_casilla_adyacente()                                               <span style=\"color: #800000; text-decoration-color: #800000\">│</span>\n",
       "<span style=\"color: #800000; text-decoration-color: #800000\">│</span>   <span style=\"color: #7f7f7f; text-decoration-color: #7f7f7f\">4 </span>                                                                                             <span style=\"color: #800000; text-decoration-color: #800000\">│</span>\n",
       "<span style=\"color: #800000; text-decoration-color: #800000\">│</span>                                                                                                  <span style=\"color: #800000; text-decoration-color: #800000\">│</span>\n",
       "<span style=\"color: #800000; text-decoration-color: #800000\">│</span> in <span style=\"color: #00ff00; text-decoration-color: #00ff00\">Estudiar_alguna_casilla_adyacente</span>:<span style=\"color: #0000ff; text-decoration-color: #0000ff\">371</span>                                                         <span style=\"color: #800000; text-decoration-color: #800000\">│</span>\n",
       "<span style=\"color: #800000; text-decoration-color: #800000\">│</span>                                                                                                  <span style=\"color: #800000; text-decoration-color: #800000\">│</span>\n",
       "<span style=\"color: #800000; text-decoration-color: #800000\">│</span>   <span style=\"color: #7f7f7f; text-decoration-color: #7f7f7f\">368 │   </span><span style=\"color: #0000ff; text-decoration-color: #0000ff\">def</span> <span style=\"color: #00ff00; text-decoration-color: #00ff00\">Estudiar_alguna_casilla_adyacente</span>(<span style=\"color: #00ffff; text-decoration-color: #00ffff\">self</span>):                                           <span style=\"color: #800000; text-decoration-color: #800000\">│</span>\n",
       "<span style=\"color: #800000; text-decoration-color: #800000\">│</span>   <span style=\"color: #7f7f7f; text-decoration-color: #7f7f7f\">369 │   │   </span>lista=<span style=\"color: #00ffff; text-decoration-color: #00ffff\">self</span>._Casillas_adyacentes_desconocidas()                                     <span style=\"color: #800000; text-decoration-color: #800000\">│</span>\n",
       "<span style=\"color: #800000; text-decoration-color: #800000\">│</span>   <span style=\"color: #7f7f7f; text-decoration-color: #7f7f7f\">370 │   │   </span><span style=\"color: #0000ff; text-decoration-color: #0000ff\">if</span> <span style=\"color: #00ffff; text-decoration-color: #00ffff\">len</span>(lista)&gt;<span style=\"color: #0000ff; text-decoration-color: #0000ff\">0</span>:                                                                   <span style=\"color: #800000; text-decoration-color: #800000\">│</span>\n",
       "<span style=\"color: #800000; text-decoration-color: #800000\">│</span> <span style=\"color: #800000; text-decoration-color: #800000\">❱ </span>371 <span style=\"color: #7f7f7f; text-decoration-color: #7f7f7f\">│   │   │   </span><span style=\"color: #00ffff; text-decoration-color: #00ffff\">self</span>.Estudiar_casilla(lista[<span style=\"color: #0000ff; text-decoration-color: #0000ff\">0</span>])                                                <span style=\"color: #800000; text-decoration-color: #800000\">│</span>\n",
       "<span style=\"color: #800000; text-decoration-color: #800000\">│</span>   <span style=\"color: #7f7f7f; text-decoration-color: #7f7f7f\">372 │   │   │   </span><span style=\"color: #0000ff; text-decoration-color: #0000ff\">return</span> <span style=\"color: #0000ff; text-decoration-color: #0000ff\">True</span>                                                                    <span style=\"color: #800000; text-decoration-color: #800000\">│</span>\n",
       "<span style=\"color: #800000; text-decoration-color: #800000\">│</span>   <span style=\"color: #7f7f7f; text-decoration-color: #7f7f7f\">373 │   │   </span><span style=\"color: #0000ff; text-decoration-color: #0000ff\">return</span> <span style=\"color: #0000ff; text-decoration-color: #0000ff\">False</span>                                                                       <span style=\"color: #800000; text-decoration-color: #800000\">│</span>\n",
       "<span style=\"color: #800000; text-decoration-color: #800000\">│</span>   <span style=\"color: #7f7f7f; text-decoration-color: #7f7f7f\">374 </span>                                                                                           <span style=\"color: #800000; text-decoration-color: #800000\">│</span>\n",
       "<span style=\"color: #800000; text-decoration-color: #800000\">│</span>                                                                                                  <span style=\"color: #800000; text-decoration-color: #800000\">│</span>\n",
       "<span style=\"color: #800000; text-decoration-color: #800000\">│</span> in <span style=\"color: #00ff00; text-decoration-color: #00ff00\">Estudiar_casilla</span>:<span style=\"color: #0000ff; text-decoration-color: #0000ff\">330</span>                                                                          <span style=\"color: #800000; text-decoration-color: #800000\">│</span>\n",
       "<span style=\"color: #800000; text-decoration-color: #800000\">│</span>                                                                                                  <span style=\"color: #800000; text-decoration-color: #800000\">│</span>\n",
       "<span style=\"color: #800000; text-decoration-color: #800000\">│</span>   <span style=\"color: #7f7f7f; text-decoration-color: #7f7f7f\">327 │   │   │   </span>Apply_command(<span style=\"color: #808000; text-decoration-color: #808000\">\"A\"</span>);sleep(<span style=\"color: #0000ff; text-decoration-color: #0000ff\">0.1</span>)                                                  <span style=\"color: #800000; text-decoration-color: #800000\">│</span>\n",
       "<span style=\"color: #800000; text-decoration-color: #800000\">│</span>   <span style=\"color: #7f7f7f; text-decoration-color: #7f7f7f\">328 │   │   </span>                                                                                   <span style=\"color: #800000; text-decoration-color: #800000\">│</span>\n",
       "<span style=\"color: #800000; text-decoration-color: #800000\">│</span>   <span style=\"color: #7f7f7f; text-decoration-color: #7f7f7f\">329 │   │   #Veamos si podemos caminar encima de el</span>                                            <span style=\"color: #800000; text-decoration-color: #800000\">│</span>\n",
       "<span style=\"color: #800000; text-decoration-color: #800000\">│</span> <span style=\"color: #800000; text-decoration-color: #800000\">❱ </span>330 <span style=\"color: #7f7f7f; text-decoration-color: #7f7f7f\">│   │   </span>msg,traslacion,Nuevo_mapa=<span style=\"color: #00ffff; text-decoration-color: #00ffff\">self</span>.Moverse(pos)                                        <span style=\"color: #800000; text-decoration-color: #800000\">│</span>\n",
       "<span style=\"color: #800000; text-decoration-color: #800000\">│</span>   <span style=\"color: #7f7f7f; text-decoration-color: #7f7f7f\">331 │   │   </span>walkable=<span style=\"color: #0000ff; text-decoration-color: #0000ff\">False</span>                                                                     <span style=\"color: #800000; text-decoration-color: #800000\">│</span>\n",
       "<span style=\"color: #800000; text-decoration-color: #800000\">│</span>   <span style=\"color: #7f7f7f; text-decoration-color: #7f7f7f\">332 │   │   </span>door=<span style=\"color: #0000ff; text-decoration-color: #0000ff\">False</span>                                                                         <span style=\"color: #800000; text-decoration-color: #800000\">│</span>\n",
       "<span style=\"color: #800000; text-decoration-color: #800000\">│</span>   <span style=\"color: #7f7f7f; text-decoration-color: #7f7f7f\">333 │   │   </span><span style=\"color: #0000ff; text-decoration-color: #0000ff\">if</span> traslacion <span style=\"color: #ff00ff; text-decoration-color: #ff00ff\">is</span> <span style=\"color: #ff00ff; text-decoration-color: #ff00ff\">not</span> <span style=\"color: #0000ff; text-decoration-color: #0000ff\">None</span>:                                                         <span style=\"color: #800000; text-decoration-color: #800000\">│</span>\n",
       "<span style=\"color: #800000; text-decoration-color: #800000\">│</span>                                                                                                  <span style=\"color: #800000; text-decoration-color: #800000\">│</span>\n",
       "<span style=\"color: #800000; text-decoration-color: #800000\">│</span> in <span style=\"color: #00ff00; text-decoration-color: #00ff00\">Moverse</span>:<span style=\"color: #0000ff; text-decoration-color: #0000ff\">307</span>                                                                                   <span style=\"color: #800000; text-decoration-color: #800000\">│</span>\n",
       "<span style=\"color: #800000; text-decoration-color: #800000\">│</span>                                                                                                  <span style=\"color: #800000; text-decoration-color: #800000\">│</span>\n",
       "<span style=\"color: #800000; text-decoration-color: #800000\">│</span>   <span style=\"color: #7f7f7f; text-decoration-color: #7f7f7f\">304 │   │   </span><span style=\"color: #0000ff; text-decoration-color: #0000ff\">while</span> <span style=\"color: #00ffff; text-decoration-color: #00ffff\">self</span>.Hay_texto():                                                            <span style=\"color: #800000; text-decoration-color: #800000\">│</span>\n",
       "<span style=\"color: #800000; text-decoration-color: #800000\">│</span>   <span style=\"color: #7f7f7f; text-decoration-color: #7f7f7f\">305 │   │   │   </span>msg+=Read_text();sleep(<span style=\"color: #0000ff; text-decoration-color: #0000ff\">0.1</span>)                                                    <span style=\"color: #800000; text-decoration-color: #800000\">│</span>\n",
       "<span style=\"color: #800000; text-decoration-color: #800000\">│</span>   <span style=\"color: #7f7f7f; text-decoration-color: #7f7f7f\">306 │   │   │   </span>Apply_command(<span style=\"color: #808000; text-decoration-color: #808000\">\"A\"</span>);sleep(<span style=\"color: #0000ff; text-decoration-color: #0000ff\">0.1</span>)                                                  <span style=\"color: #800000; text-decoration-color: #800000\">│</span>\n",
       "<span style=\"color: #800000; text-decoration-color: #800000\">│</span> <span style=\"color: #800000; text-decoration-color: #800000\">❱ </span>307 <span style=\"color: #7f7f7f; text-decoration-color: #7f7f7f\">│   │   </span>x,y=<span style=\"color: #00ffff; text-decoration-color: #00ffff\">self</span>.update(pos)                                                               <span style=\"color: #800000; text-decoration-color: #800000\">│</span>\n",
       "<span style=\"color: #800000; text-decoration-color: #800000\">│</span>   <span style=\"color: #7f7f7f; text-decoration-color: #7f7f7f\">308 │   │   </span><span style=\"color: #0000ff; text-decoration-color: #0000ff\">return</span> msg,x,y                                                                     <span style=\"color: #800000; text-decoration-color: #800000\">│</span>\n",
       "<span style=\"color: #800000; text-decoration-color: #800000\">│</span>   <span style=\"color: #7f7f7f; text-decoration-color: #7f7f7f\">309 │   </span>                                                                                       <span style=\"color: #800000; text-decoration-color: #800000\">│</span>\n",
       "<span style=\"color: #800000; text-decoration-color: #800000\">│</span>   <span style=\"color: #7f7f7f; text-decoration-color: #7f7f7f\">310 │   </span><span style=\"color: #0000ff; text-decoration-color: #0000ff\">def</span> <span style=\"color: #00ff00; text-decoration-color: #00ff00\">Estudiar_casilla</span>(<span style=\"color: #00ffff; text-decoration-color: #00ffff\">self</span>,pos):                                                        <span style=\"color: #800000; text-decoration-color: #800000\">│</span>\n",
       "<span style=\"color: #800000; text-decoration-color: #800000\">╰──────────────────────────────────────────────────────────────────────────────────────────────────╯</span>\n",
       "<span style=\"color: #ff0000; text-decoration-color: #ff0000; font-weight: bold\">TypeError: </span>cannot unpack non-iterable NoneType object\n",
       "</pre>\n"
      ],
      "text/plain": [
       "\u001b[31m╭─\u001b[0m\u001b[31m──────────────────────────────\u001b[0m\u001b[31m \u001b[0m\u001b[1;31mTraceback \u001b[0m\u001b[1;2;31m(most recent call last)\u001b[0m\u001b[31m \u001b[0m\u001b[31m───────────────────────────────\u001b[0m\u001b[31m─╮\u001b[0m\n",
       "\u001b[31m│\u001b[0m in \u001b[92m<module>\u001b[0m:\u001b[94m3\u001b[0m                                                                                    \u001b[31m│\u001b[0m\n",
       "\u001b[31m│\u001b[0m                                                                                                  \u001b[31m│\u001b[0m\n",
       "\u001b[31m│\u001b[0m   \u001b[2m1 \u001b[0mGo_to_game()                                                                                 \u001b[31m│\u001b[0m\n",
       "\u001b[31m│\u001b[0m   \u001b[2m2 \u001b[0m\u001b[94mwhile\u001b[0m vision.Ponerse_adyacente_a_una_casilla_desconocida():                                  \u001b[31m│\u001b[0m\n",
       "\u001b[31m│\u001b[0m \u001b[31m❱ \u001b[0m3 \u001b[2m│   \u001b[0mvision.Estudiar_alguna_casilla_adyacente()                                               \u001b[31m│\u001b[0m\n",
       "\u001b[31m│\u001b[0m   \u001b[2m4 \u001b[0m                                                                                             \u001b[31m│\u001b[0m\n",
       "\u001b[31m│\u001b[0m                                                                                                  \u001b[31m│\u001b[0m\n",
       "\u001b[31m│\u001b[0m in \u001b[92mEstudiar_alguna_casilla_adyacente\u001b[0m:\u001b[94m371\u001b[0m                                                         \u001b[31m│\u001b[0m\n",
       "\u001b[31m│\u001b[0m                                                                                                  \u001b[31m│\u001b[0m\n",
       "\u001b[31m│\u001b[0m   \u001b[2m368 \u001b[0m\u001b[2m│   \u001b[0m\u001b[94mdef\u001b[0m \u001b[92mEstudiar_alguna_casilla_adyacente\u001b[0m(\u001b[96mself\u001b[0m):                                           \u001b[31m│\u001b[0m\n",
       "\u001b[31m│\u001b[0m   \u001b[2m369 \u001b[0m\u001b[2m│   │   \u001b[0mlista=\u001b[96mself\u001b[0m._Casillas_adyacentes_desconocidas()                                     \u001b[31m│\u001b[0m\n",
       "\u001b[31m│\u001b[0m   \u001b[2m370 \u001b[0m\u001b[2m│   │   \u001b[0m\u001b[94mif\u001b[0m \u001b[96mlen\u001b[0m(lista)>\u001b[94m0\u001b[0m:                                                                   \u001b[31m│\u001b[0m\n",
       "\u001b[31m│\u001b[0m \u001b[31m❱ \u001b[0m371 \u001b[2m│   │   │   \u001b[0m\u001b[96mself\u001b[0m.Estudiar_casilla(lista[\u001b[94m0\u001b[0m])                                                \u001b[31m│\u001b[0m\n",
       "\u001b[31m│\u001b[0m   \u001b[2m372 \u001b[0m\u001b[2m│   │   │   \u001b[0m\u001b[94mreturn\u001b[0m \u001b[94mTrue\u001b[0m                                                                    \u001b[31m│\u001b[0m\n",
       "\u001b[31m│\u001b[0m   \u001b[2m373 \u001b[0m\u001b[2m│   │   \u001b[0m\u001b[94mreturn\u001b[0m \u001b[94mFalse\u001b[0m                                                                       \u001b[31m│\u001b[0m\n",
       "\u001b[31m│\u001b[0m   \u001b[2m374 \u001b[0m                                                                                           \u001b[31m│\u001b[0m\n",
       "\u001b[31m│\u001b[0m                                                                                                  \u001b[31m│\u001b[0m\n",
       "\u001b[31m│\u001b[0m in \u001b[92mEstudiar_casilla\u001b[0m:\u001b[94m330\u001b[0m                                                                          \u001b[31m│\u001b[0m\n",
       "\u001b[31m│\u001b[0m                                                                                                  \u001b[31m│\u001b[0m\n",
       "\u001b[31m│\u001b[0m   \u001b[2m327 \u001b[0m\u001b[2m│   │   │   \u001b[0mApply_command(\u001b[33m\"\u001b[0m\u001b[33mA\u001b[0m\u001b[33m\"\u001b[0m);sleep(\u001b[94m0.1\u001b[0m)                                                  \u001b[31m│\u001b[0m\n",
       "\u001b[31m│\u001b[0m   \u001b[2m328 \u001b[0m\u001b[2m│   │   \u001b[0m                                                                                   \u001b[31m│\u001b[0m\n",
       "\u001b[31m│\u001b[0m   \u001b[2m329 \u001b[0m\u001b[2m│   │   \u001b[0m\u001b[2m#Veamos si podemos caminar encima de el\u001b[0m                                            \u001b[31m│\u001b[0m\n",
       "\u001b[31m│\u001b[0m \u001b[31m❱ \u001b[0m330 \u001b[2m│   │   \u001b[0mmsg,traslacion,Nuevo_mapa=\u001b[96mself\u001b[0m.Moverse(pos)                                        \u001b[31m│\u001b[0m\n",
       "\u001b[31m│\u001b[0m   \u001b[2m331 \u001b[0m\u001b[2m│   │   \u001b[0mwalkable=\u001b[94mFalse\u001b[0m                                                                     \u001b[31m│\u001b[0m\n",
       "\u001b[31m│\u001b[0m   \u001b[2m332 \u001b[0m\u001b[2m│   │   \u001b[0mdoor=\u001b[94mFalse\u001b[0m                                                                         \u001b[31m│\u001b[0m\n",
       "\u001b[31m│\u001b[0m   \u001b[2m333 \u001b[0m\u001b[2m│   │   \u001b[0m\u001b[94mif\u001b[0m traslacion \u001b[95mis\u001b[0m \u001b[95mnot\u001b[0m \u001b[94mNone\u001b[0m:                                                         \u001b[31m│\u001b[0m\n",
       "\u001b[31m│\u001b[0m                                                                                                  \u001b[31m│\u001b[0m\n",
       "\u001b[31m│\u001b[0m in \u001b[92mMoverse\u001b[0m:\u001b[94m307\u001b[0m                                                                                   \u001b[31m│\u001b[0m\n",
       "\u001b[31m│\u001b[0m                                                                                                  \u001b[31m│\u001b[0m\n",
       "\u001b[31m│\u001b[0m   \u001b[2m304 \u001b[0m\u001b[2m│   │   \u001b[0m\u001b[94mwhile\u001b[0m \u001b[96mself\u001b[0m.Hay_texto():                                                            \u001b[31m│\u001b[0m\n",
       "\u001b[31m│\u001b[0m   \u001b[2m305 \u001b[0m\u001b[2m│   │   │   \u001b[0mmsg+=Read_text();sleep(\u001b[94m0.1\u001b[0m)                                                    \u001b[31m│\u001b[0m\n",
       "\u001b[31m│\u001b[0m   \u001b[2m306 \u001b[0m\u001b[2m│   │   │   \u001b[0mApply_command(\u001b[33m\"\u001b[0m\u001b[33mA\u001b[0m\u001b[33m\"\u001b[0m);sleep(\u001b[94m0.1\u001b[0m)                                                  \u001b[31m│\u001b[0m\n",
       "\u001b[31m│\u001b[0m \u001b[31m❱ \u001b[0m307 \u001b[2m│   │   \u001b[0mx,y=\u001b[96mself\u001b[0m.update(pos)                                                               \u001b[31m│\u001b[0m\n",
       "\u001b[31m│\u001b[0m   \u001b[2m308 \u001b[0m\u001b[2m│   │   \u001b[0m\u001b[94mreturn\u001b[0m msg,x,y                                                                     \u001b[31m│\u001b[0m\n",
       "\u001b[31m│\u001b[0m   \u001b[2m309 \u001b[0m\u001b[2m│   \u001b[0m                                                                                       \u001b[31m│\u001b[0m\n",
       "\u001b[31m│\u001b[0m   \u001b[2m310 \u001b[0m\u001b[2m│   \u001b[0m\u001b[94mdef\u001b[0m \u001b[92mEstudiar_casilla\u001b[0m(\u001b[96mself\u001b[0m,pos):                                                        \u001b[31m│\u001b[0m\n",
       "\u001b[31m╰──────────────────────────────────────────────────────────────────────────────────────────────────╯\u001b[0m\n",
       "\u001b[1;91mTypeError: \u001b[0mcannot unpack non-iterable NoneType object\n"
      ]
     },
     "metadata": {},
     "output_type": "display_data"
    }
   ],
   "source": [
    "Go_to_game()\n",
    "while vision.Ponerse_adyacente_a_una_casilla_desconocida():\n",
    "    vision.Estudiar_alguna_casilla_adyacente()"
   ]
  },
  {
   "cell_type": "code",
   "execution_count": 448,
   "metadata": {},
   "outputs": [
    {
     "data": {
      "text/plain": [
       "'¥IRI\\nBn\\nYIRIDIAN CITY\\nThe Eternally Green Pa\\n'"
      ]
     },
     "execution_count": 448,
     "metadata": {},
     "output_type": "execute_result"
    }
   ],
   "source": [
    "Go_to_game()\n",
    "vision.mirando=None\n",
    "vision.Orientar_mirada(\"down\")"
   ]
  },
  {
   "cell_type": "code",
   "execution_count": 255,
   "metadata": {},
   "outputs": [
    {
     "name": "stdout",
     "output_type": "stream",
     "text": [
      "walkable:False, interactable:False, door:False\n",
      "\"name\":790,\n",
      "                    tipo=wall,\n",
      "                    walkable=False\n",
      "                    interactable=False\n",
      "                    door=False\n",
      "                    investigated=True\n",
      "                    text_info=\n",
      "                    objetos_iguales=[]\n",
      "                    transformable_en=[7]\n"
     ]
    },
    {
     "data": {
      "text/plain": [
       "True"
      ]
     },
     "execution_count": 255,
     "metadata": {},
     "output_type": "execute_result"
    }
   ],
   "source": [
    "Go_to_game()\n",
    "vision.Estudiar_alguna_casilla_adyacente()"
   ]
  },
  {
   "cell_type": "code",
   "execution_count": 450,
   "metadata": {},
   "outputs": [
    {
     "data": {
      "text/plain": [
       "True"
      ]
     },
     "execution_count": 450,
     "metadata": {},
     "output_type": "execute_result"
    }
   ],
   "source": [
    "Go_to_game()"
   ]
  },
  {
   "cell_type": "code",
   "execution_count": 491,
   "metadata": {},
   "outputs": [],
   "source": [
    "import numpy as np\n",
    "import heapq\n",
    "\n",
    "# Función de cálculo de distancia\n",
    "def heuristic(a, b):\n",
    "    return np.sqrt((b[0] - a[0]) ** 2 + (b[1] - a[1]) ** 2)\n",
    "\n",
    "# Función de verificación de vecinos\n",
    "def get_neighbors(point, array):\n",
    "    neighbors = []\n",
    "    if point[0] > 0:  # arriba\n",
    "        neighbors.append((point[0] - 1, point[1]))\n",
    "    if point[0] < array.shape[0] - 1:  # abajo\n",
    "        neighbors.append((point[0] + 1, point[1]))\n",
    "    if point[1] > 0:  # izquierda\n",
    "        neighbors.append((point[0], point[1] - 1))\n",
    "    if point[1] < array.shape[1] - 1:  # derecha\n",
    "        neighbors.append((point[0], point[1] + 1))\n",
    "    return neighbors\n",
    "\n",
    "\n",
    "def get_direction(a, b):\n",
    "    if a[0] == b[0]:  # movimiento horizontal\n",
    "        return 'h'\n",
    "    else:  # movimiento vertical\n",
    "        return 'v'\n",
    "\n",
    "def shortest_path(array, start, goal):\n",
    "    frontier = []\n",
    "    heapq.heappush(frontier, (0, start))\n",
    "    came_from = {}\n",
    "    direction = {}\n",
    "    cost_so_far = {}\n",
    "    came_from[start] = None\n",
    "    cost_so_far[start] = 0\n",
    "    direction[start] = None  # la dirección inicial es None\n",
    "\n",
    "    while frontier:\n",
    "        current = heapq.heappop(frontier)[1]\n",
    "\n",
    "        if current == goal:\n",
    "            break\n",
    "\n",
    "        for next in get_neighbors(current, array):\n",
    "            # Se ignoran las X\n",
    "            if array[next] == 'X':\n",
    "                print(\"X\")\n",
    "                continue\n",
    "            # Si es una U, se usa la función Estudiar_Casilla()\n",
    "            if array[next] == 'U':\n",
    "                print(\"U\")\n",
    "                #Estudiar_Casilla(next)\n",
    "            new_cost = cost_so_far[current] + 1\n",
    "            # añadir coste de giro\n",
    "            if direction[current] is not None and direction[current] != get_direction(current, next):\n",
    "                new_cost += 0.5  # el coste de un giro es 0.5\n",
    "            if next not in cost_so_far or new_cost < cost_so_far[next]:\n",
    "                cost_so_far[next] = new_cost\n",
    "                priority = new_cost + heuristic(goal, next)\n",
    "                heapq.heappush(frontier, (priority, next))\n",
    "                came_from[next] = current\n",
    "                direction[next] = get_direction(current, next)\n",
    "\n",
    "    # Reconstruir el camino\n",
    "    current = goal\n",
    "    path = []\n",
    "    while current is not None:\n",
    "        path.append(current)\n",
    "        current = came_from.get(current)\n",
    "    \n",
    "    print(path)\n",
    "    path.reverse()  # invertir para obtener el orden correcto\n",
    "    return path\n"
   ]
  },
  {
   "cell_type": "code",
   "execution_count": 493,
   "metadata": {},
   "outputs": [],
   "source": [
    "import numpy as np\n",
    "import heapq\n",
    "\n",
    "# Función de cálculo de distancia\n",
    "def heuristic(a, b):\n",
    "    return np.sqrt((b[0] - a[0]) ** 2 + (b[1] - a[1]) ** 2)\n",
    "\n",
    "# Función de verificación de vecinos\n",
    "def get_neighbors(point, array):\n",
    "    neighbors = []\n",
    "    if point[0] > 0:  # arriba\n",
    "        neighbors.append((point[0] - 1, point[1]))\n",
    "    if point[0] < array.shape[0] - 1:  # abajo\n",
    "        neighbors.append((point[0] + 1, point[1]))\n",
    "    if point[1] > 0:  # izquierda\n",
    "        neighbors.append((point[0], point[1] - 1))\n",
    "    if point[1] < array.shape[1] - 1:  # derecha\n",
    "        neighbors.append((point[0], point[1] + 1))\n",
    "    return neighbors\n",
    "\n",
    "def get_direction(a, b):\n",
    "    if a[0] < b[0]:  \n",
    "        return 'down'\n",
    "    elif a[0] > b[0]:  \n",
    "        return 'up'\n",
    "    elif a[1] < b[1]:  \n",
    "        return 'right'\n",
    "    elif a[1] > b[1]:  \n",
    "        return 'left'\n",
    "\n",
    "def shortest_path(array, start, goal):\n",
    "    frontier = []\n",
    "    heapq.heappush(frontier, (0, start))\n",
    "    came_from = {}\n",
    "    direction = {}\n",
    "    cost_so_far = {}\n",
    "    came_from[start] = None\n",
    "    cost_so_far[start] = 0\n",
    "    direction[start] = None  # la dirección inicial es None\n",
    "\n",
    "    while frontier:\n",
    "        current = heapq.heappop(frontier)[1]\n",
    "\n",
    "        if current == goal:\n",
    "            break\n",
    "\n",
    "        for next in get_neighbors(current, array):\n",
    "            # Se ignoran las X\n",
    "            if array[next] == 'X':\n",
    "                continue\n",
    "            # Si es una U, se usa la función Estudiar_Casilla()\n",
    "            if array[next] == 'U':\n",
    "                #Estudiar_Casilla(next)\n",
    "                pass\n",
    "            new_cost = cost_so_far[current] + 1\n",
    "            # añadir coste de giro\n",
    "            if direction[current] is not None and direction[current] != get_direction(current, next):\n",
    "                new_cost += 0.5  # el coste de un giro es 0.5\n",
    "            if next not in cost_so_far or new_cost < cost_so_far[next]:\n",
    "                cost_so_far[next] = new_cost\n",
    "                priority = new_cost + heuristic(goal, next)\n",
    "                heapq.heappush(frontier, (priority, next))\n",
    "                came_from[next] = current\n",
    "                direction[next] = get_direction(current, next)\n",
    "\n",
    "    # Reconstruir el camino\n",
    "    current = goal\n",
    "    path = []\n",
    "    directions = []\n",
    "    while current is not None:\n",
    "        path.append(current)\n",
    "        if current != start:  # no necesitamos la dirección para el punto de inicio\n",
    "            directions.append(direction[current])\n",
    "        current = came_from.get(current)\n",
    "    \n",
    "    path.reverse()  # invertir para obtener el orden correcto\n",
    "    directions.reverse()  # invertir para obtener el orden correcto\n",
    "\n",
    "    return path, directions\n"
   ]
  },
  {
   "cell_type": "code",
   "execution_count": 512,
   "metadata": {},
   "outputs": [],
   "source": [
    "cc,dirs=shortest_path(vision._mapa_simplified_as_array(),(4,7),(8,2))"
   ]
  },
  {
   "cell_type": "code",
   "execution_count": 510,
   "metadata": {},
   "outputs": [
    {
     "name": "stdout",
     "output_type": "stream",
     "text": [
      "Nada\n"
     ]
    },
    {
     "data": {
      "text/plain": [
       "(None, True)"
      ]
     },
     "execution_count": 510,
     "metadata": {},
     "output_type": "execute_result"
    }
   ],
   "source": [
    "Go_to_game()\n",
    "vision.update()"
   ]
  },
  {
   "cell_type": "code",
   "execution_count": 518,
   "metadata": {},
   "outputs": [
    {
     "data": {
      "image/png": "[encoded data removed]",
      "text/plain": [
       "<PIL.Image.Image image mode=RGB size=960x640>"
      ]
     },
     "execution_count": 518,
     "metadata": {},
     "output_type": "execute_result"
    }
   ],
   "source": [
    "Go_to_game()\n",
    "screenshot()"
   ]
  },
  {
   "cell_type": "code",
   "execution_count": null,
   "metadata": {},
   "outputs": [],
   "source": []
  },
  {
   "cell_type": "code",
   "execution_count": 513,
   "metadata": {},
   "outputs": [
    {
     "data": {
      "text/plain": [
       "['left', 'left', 'left', 'left', 'left', 'down', 'down', 'down', 'down']"
      ]
     },
     "execution_count": 513,
     "metadata": {},
     "output_type": "execute_result"
    }
   ],
   "source": [
    "dirs"
   ]
  },
  {
   "cell_type": "code",
   "execution_count": 514,
   "metadata": {},
   "outputs": [],
   "source": [
    "vision.mirando=None\n",
    "Go_to_game()\n",
    "for dir in dirs:\n",
    "    vision.Orientar_mirada(dir)\n",
    "    vision.Moverse(dir)"
   ]
  },
  {
   "cell_type": "code",
   "execution_count": 511,
   "metadata": {},
   "outputs": [
    {
     "name": "stdout",
     "output_type": "stream",
     "text": [
      "UUUUUOUOUOOOOO\n",
      "UUUUUUUOUOUUUU\n",
      "UUUUUOUOUUUUUU\n",
      "OOOOOOOTUUUUUU\n",
      "OOOOOOOPUUUUUU\n",
      "OOOOOOOOUUUUUU\n",
      "OOUOOOUOOOOOOO\n",
      "UXUXOOUOOOOOOO\n",
      "UUUUOOUOOOUUUU\n",
      "X are walls\n",
      "P is the player\n",
      "U is something unknown\n",
      "O is background\n",
      "T is a temporarily unknown\n",
      "\n"
     ]
    }
   ],
   "source": [
    "print(vision.mapa_simplified())"
   ]
  },
  {
   "cell_type": "code",
   "execution_count": 489,
   "metadata": {},
   "outputs": [
    {
     "data": {
      "text/plain": [
       "'U'"
      ]
     },
     "execution_count": 489,
     "metadata": {},
     "output_type": "execute_result"
    }
   ],
   "source": [
    "vision._mapa_simplified_as_array()[8][2]"
   ]
  },
  {
   "cell_type": "code",
   "execution_count": 250,
   "metadata": {},
   "outputs": [
    {
     "name": "stdout",
     "output_type": "stream",
     "text": [
      "Nada\n"
     ]
    }
   ],
   "source": [
    "vision.update()"
   ]
  },
  {
   "cell_type": "code",
   "execution_count": 253,
   "metadata": {},
   "outputs": [
    {
     "name": "stdout",
     "output_type": "stream",
     "text": [
      "UUUUUUUUUUUUUO\n",
      "UUUUUUOOOOOOOO\n",
      "UUUUUUUUUUUUUO\n",
      "UUUUUUUTUUUUUO\n",
      "UUUUUUUPUUUUUO\n",
      "UUUUUUUUUUUUUO\n",
      "UUUUUUUUUUUUUO\n",
      "UUUUUUUUUUUUUO\n",
      "UUUUUUUUUUUUUO\n",
      "X are walls\n",
      "P is the player\n",
      "U is something unknown\n",
      "O is background\n",
      "T is a temporarily unknown\n",
      "\n"
     ]
    }
   ],
   "source": [
    "print(vision.mapa_simplified())"
   ]
  },
  {
   "cell_type": "code",
   "execution_count": 135,
   "metadata": {},
   "outputs": [],
   "source": [
    "vision.update()"
   ]
  },
  {
   "cell_type": "code",
   "execution_count": 435,
   "metadata": {},
   "outputs": [
    {
     "data": {
      "text/plain": [
       "''"
      ]
     },
     "execution_count": 435,
     "metadata": {},
     "output_type": "execute_result"
    }
   ],
   "source": [
    "Go_to_game()\n",
    "vision.Orientar_mirada(\"left\")"
   ]
  },
  {
   "cell_type": "code",
   "execution_count": 52,
   "metadata": {},
   "outputs": [],
   "source": [
    "vision.mirando=None"
   ]
  },
  {
   "cell_type": "code",
   "execution_count": 212,
   "metadata": {},
   "outputs": [
    {
     "name": "stdout",
     "output_type": "stream",
     "text": [
      "walkable:False, interactable:False, door:False\n",
      "\"name\":28,\n",
      "                    tipo=wall,\n",
      "                    walkable=False\n",
      "                    interactable=False\n",
      "                    door=False\n",
      "                    investigated=True\n",
      "                    text_info=\n",
      "                    objetos_iguales=[]\n",
      "                    transformable_en=[]\n"
     ]
    }
   ],
   "source": [
    "Go_to_game()\n",
    "vision.Estudiar_casilla(\"up\")"
   ]
  },
  {
   "cell_type": "code",
   "execution_count": 31,
   "metadata": {},
   "outputs": [
    {
     "name": "stdout",
     "output_type": "stream",
     "text": [
      "UUUUUUUUUUUUUU\n",
      "UUUUUUUUUUUUUU\n",
      "UUUUUUUUUUUUUU\n",
      "UUUUUUUUUUUUUU\n",
      "UUUUUUUPUUUUUU\n",
      "UUUUUUUUUUUUUU\n",
      "UUUUUUUUUUUUUU\n",
      "UUUUUUUUUUUUUU\n",
      "UUUUUUUUUUUUUU\n",
      "X are walls\n",
      "P is the player\n",
      "U is something unknown\n",
      "O is background\n",
      "\n"
     ]
    }
   ],
   "source": [
    "print(vision.mapa_simplified())"
   ]
  },
  {
   "cell_type": "code",
   "execution_count": 41,
   "metadata": {},
   "outputs": [],
   "source": [
    "vision.update()"
   ]
  },
  {
   "cell_type": "code",
   "execution_count": 40,
   "metadata": {},
   "outputs": [],
   "source": [
    "Go_to_game()\n",
    "vision=Vision_class()"
   ]
  },
  {
   "cell_type": "code",
   "execution_count": 31,
   "metadata": {},
   "outputs": [],
   "source": [
    "Go_to_game()\n",
    "vision.Orientar_mirada(\"up\")"
   ]
  },
  {
   "cell_type": "code",
   "execution_count": 60,
   "metadata": {},
   "outputs": [
    {
     "data": {
      "text/plain": [
       "True"
      ]
     },
     "execution_count": 60,
     "metadata": {},
     "output_type": "execute_result"
    }
   ],
   "source": [
    "vision.Hay_texto()"
   ]
  },
  {
   "cell_type": "code",
   "execution_count": 415,
   "metadata": {},
   "outputs": [
    {
     "data": {
      "text/plain": [
       "'Heal Your POK&MON!\\nPOKéMON CENTER\\n'"
      ]
     },
     "execution_count": 415,
     "metadata": {},
     "output_type": "execute_result"
    }
   ],
   "source": [
    "Read_text()"
   ]
  },
  {
   "cell_type": "code",
   "execution_count": 55,
   "metadata": {},
   "outputs": [],
   "source": [
    "\n"
   ]
  },
  {
   "cell_type": "code",
   "execution_count": 56,
   "metadata": {},
   "outputs": [
    {
     "data": {
      "text/plain": [
       "False"
      ]
     },
     "execution_count": 56,
     "metadata": {},
     "output_type": "execute_result"
    }
   ],
   "source": [
    "Hay_texto()"
   ]
  },
  {
   "cell_type": "code",
   "execution_count": 11,
   "metadata": {},
   "outputs": [],
   "source": [
    "def En_Buffer_texto():\n",
    "    #Mira si está la flechita roja en la zona de texto de abajo\n",
    "    return pyautogui.locateOnScreen('Images_direccion/flecha_buffer_2.png',confidence=0.9,region=(990, 695,900, 180)) is not None\n"
   ]
  },
  {
   "cell_type": "code",
   "execution_count": 28,
   "metadata": {},
   "outputs": [
    {
     "data": {
      "text/plain": [
       "array([[ 1,  2,  3,  4,  5,  6,  7,  8,  7,  8,  7,  8,  7,  8],\n",
       "       [ 7,  8,  3,  4,  5,  6,  1,  2,  1,  2,  1,  2,  1,  2],\n",
       "       [ 1,  2,  3,  4,  5,  6,  7,  8,  7,  8,  7,  8,  7,  8],\n",
       "       [ 7,  8,  3,  4,  5,  6,  9, -2,  9, 10,  9, 10,  9, 10],\n",
       "       [ 1,  2,  3,  4,  5,  5, 11, -1, 11, 11, 11, 11, 11, 12],\n",
       "       [ 7,  8,  3,  4,  5,  5,  5,  5,  5,  5,  5,  5,  5,  6],\n",
       "       [ 1,  2,  3, 13, 14, 14, 14, 14, 14, 14, 14,  5,  5,  6],\n",
       "       [ 7,  8, 15, 16, 16, 16, 16, 16, 17,  3,  3, 18, 19, 20],\n",
       "       [ 1,  2, 21, 22, 23, 11, 11, 11, 11, 11, 11,  5,  5,  6]])"
      ]
     },
     "execution_count": 28,
     "metadata": {},
     "output_type": "execute_result"
    }
   ],
   "source": [
    "vision.mapa"
   ]
  },
  {
   "cell_type": "code",
   "execution_count": 35,
   "metadata": {},
   "outputs": [],
   "source": [
    "Go_to_game()\n",
    "vision=Vision_class()\n",
    "vision.update()\n",
    "#vision.describe()"
   ]
  },
  {
   "cell_type": "code",
   "execution_count": 17,
   "metadata": {},
   "outputs": [],
   "source": [
    "vision.update()"
   ]
  },
  {
   "cell_type": "code",
   "execution_count": 52,
   "metadata": {},
   "outputs": [
    {
     "name": "stdout",
     "output_type": "stream",
     "text": [
      "Pokemon Trainer: unknown\n",
      "O is background\n",
      "\n",
      "Tienes dos opciones:\n",
      "1. Moverte a otra celda del mapa actual.\n",
      "2. Interactuar con algún objeto en una celda adyacente a ti (el jugador).\n",
      "Elige una de estas opciones eligiendo el número correspondiente a la opción, y solo el número. Pokemon Trainer: unknown\n",
      "O is background\n",
      "\n",
      "Tienes dos opciones:\n",
      "1. Moverte a otra celda del mapa actual.\n",
      "2. Interactuar con algún objeto en una celda adyacente a ti (el jugador).\n",
      "Elige una de estas opciones eligiendo el número correspondiente a la opción, y solo el número. Pokemon Trainer: 2 User: User: Tu situacion actual es: Eres un entrenador pokemon cuyo objetivo es vencer a los líderes de los gimnasios y explorar todo lo posible el mapa.\n",
      "Actualmente ves: \n",
      "UUUUUUUUUUXXOO\n",
      "OOOOOOOOOOXXOO\n",
      "OOOOOOOOOOXXOU\n",
      "XXXXXXXUOOXXOO\n",
      "OOOOOOOPOOXXOO\n",
      "OOOOOOOOOOXXXX\n",
      "OOOOOOOOOOXXOO\n",
      "OOOOOOOOOOXXOO\n",
      "OOOOOOOOOOXXOO\n",
      "X are walls\n",
      "P is the player\n",
      "U is something unknown\n",
      "O is background\n",
      "\n",
      "Tienes dos opciones:\n",
      "1. Moverte a otra celda del mapa actual.\n",
      "2. Interactuar con algún objeto en una celda adyacente a ti (el jugador).\n",
      "Elige una de estas opciones eligiendo el número correspondiente a la opción, y solo el número. Pokemon Trainer: unknown\n",
      "O is background\n",
      "\n",
      "Tienes dos opciones:\n",
      "1. Moverte a otra celda del mapa actual.\n",
      "2. Interactuar con algún objeto en una celda adyacente a ti (el jugador).\n",
      "Elige una de estas opciones eligiendo el número correspondiente a la opción, y solo el número. Pokemon Trainer: unknown\n",
      "O is background\n",
      "\n",
      "Tienes dos opciones:\n",
      "1. Moverte a otra celda del mapa actual.\n",
      "2. Interactuar con algún objeto en una celda adyacente a ti (el jugador).\n",
      "Elige una de estas opciones eligiendo el número correspondiente a la opción, y solo el número. Pokemon Trainer: 2 User: User: Tu situacion actual es: Eres un entrenador pokemon cuyo objetivo es vencer a los líderes de los gimnasios y explorar todo lo posible el mapa.\n",
      "Actualmente ves: \n",
      "UUUUUUUUUUXXOO\n",
      "OOOOOOOOOOXXOO\n",
      "OOOOOOOOOOXXOU\n",
      "XXXXXXXUOOXXOO\n",
      "OOOOOOOPOOXXOO\n",
      "OOOOOOOOOOXXXX\n",
      "OOOOOOOOOOXXOO\n",
      "OOOOOOOOOOXXOO\n",
      "OOOOOOOOOOXXOO\n",
      "X are walls\n",
      "P is the player\n",
      "U is something unknown\n",
      "O is background\n",
      "\n",
      "Tienes dos opciones:\n",
      "1. Moverte a otra celda del mapa actual.\n",
      "2. Interactuar con algún objeto en una celda adyacente a ti (el jugador).\n",
      "Elige una de estas opciones eligiendo el número correspondiente a la opción, y solo el número. Pokemon Trainer: 2 User: User: Tu situacion actual es: Eres un entrenador pokemon cuyo objetivo es vencer a los líderes de los gimnasios y explorar todo lo posible el mapa.\n",
      "Actualmente ves: \n",
      "UUUUUUUUUUXXOO\n",
      "OOOOOOOOOOXXOO\n",
      "OOOOOOOOOOXXOU\n",
      "XXXXXXXUOOXXOO\n",
      "OOOOOOOPOOXXOO\n",
      "OOOOOOOOOOXXXX\n",
      "OOOOOOOOOOXXOO\n",
      "OOOOOOOOOOXXOO\n",
      "OOOOOOOOOOXXOO\n",
      "X are walls\n",
      "P is the player\n",
      "U is something unknown\n",
      "O is background\n",
      "\n",
      "Tienes dos opciones:\n",
      "1. Moverte a otra celda del mapa actual.\n",
      "2. Interactuar con algún objeto en una celda adyacente a ti (el jugador).\n",
      "Elige una de estas opciones eligiendo el número correspondiente a la opción, y solo el número. Pokemon Trainer: 2\n"
     ]
    },
    {
     "data": {
      "text/plain": [
       "'unknown\\nO is background\\n\\nTienes dos opciones:\\n1. Moverte a otra celda del mapa actual.\\n2. Interactuar con algún objeto en una celda adyacente a ti (el jugador).\\nElige una de estas opciones eligiendo el número correspondiente a la opción, y solo el número. Pokemon Trainer: unknown\\nO is background\\n\\nTienes dos opciones:\\n1. Moverte a otra celda del mapa actual.\\n2. Interactuar con algún objeto en una celda adyacente a ti (el jugador).\\nElige una de estas opciones eligiendo el número correspondiente a la opción, y solo el número. Pokemon Trainer: 2 User: User: Tu situacion actual es: Eres un entrenador pokemon cuyo objetivo es vencer a los líderes de los gimnasios y explorar todo lo posible el mapa.\\nActualmente ves: \\nUUUUUUUUUUXXOO\\nOOOOOOOOOOXXOO\\nOOOOOOOOOOXXOU\\nXXXXXXXUOOXXOO\\nOOOOOOOPOOXXOO\\nOOOOOOOOOOXXXX\\nOOOOOOOOOOXXOO\\nOOOOOOOOOOXXOO\\nOOOOOOOOOOXXOO\\nX are walls\\nP is the player\\nU is something unknown\\nO is background\\n\\nTienes dos opciones:\\n1. Moverte a otra celda del mapa actual.\\n2. Interactuar con algún objeto en una celda adyacente a ti (el jugador).\\nElige una de estas opciones eligiendo el número correspondiente a la opción, y solo el número. Pokemon Trainer: unknown\\nO is background\\n\\nTienes dos opciones:\\n1. Moverte a otra celda del mapa actual.\\n2. Interactuar con algún objeto en una celda adyacente a ti (el jugador).\\nElige una de estas opciones eligiendo el número correspondiente a la opción, y solo el número. Pokemon Trainer: unknown\\nO is background\\n\\nTienes dos opciones:\\n1. Moverte a otra celda del mapa actual.\\n2. Interactuar con algún objeto en una celda adyacente a ti (el jugador).\\nElige una de estas opciones eligiendo el número correspondiente a la opción, y solo el número. Pokemon Trainer: 2 User: User: Tu situacion actual es: Eres un entrenador pokemon cuyo objetivo es vencer a los líderes de los gimnasios y explorar todo lo posible el mapa.\\nActualmente ves: \\nUUUUUUUUUUXXOO\\nOOOOOOOOOOXXOO\\nOOOOOOOOOOXXOU\\nXXXXXXXUOOXXOO\\nOOOOOOOPOOXXOO\\nOOOOOOOOOOXXXX\\nOOOOOOOOOOXXOO\\nOOOOOOOOOOXXOO\\nOOOOOOOOOOXXOO\\nX are walls\\nP is the player\\nU is something unknown\\nO is background\\n\\nTienes dos opciones:\\n1. Moverte a otra celda del mapa actual.\\n2. Interactuar con algún objeto en una celda adyacente a ti (el jugador).\\nElige una de estas opciones eligiendo el número correspondiente a la opción, y solo el número. Pokemon Trainer: 2 User: User: Tu situacion actual es: Eres un entrenador pokemon cuyo objetivo es vencer a los líderes de los gimnasios y explorar todo lo posible el mapa.\\nActualmente ves: \\nUUUUUUUUUUXXOO\\nOOOOOOOOOOXXOO\\nOOOOOOOOOOXXOU\\nXXXXXXXUOOXXOO\\nOOOOOOOPOOXXOO\\nOOOOOOOOOOXXXX\\nOOOOOOOOOOXXOO\\nOOOOOOOOOOXXOO\\nOOOOOOOOOOXXOO\\nX are walls\\nP is the player\\nU is something unknown\\nO is background\\n\\nTienes dos opciones:\\n1. Moverte a otra celda del mapa actual.\\n2. Interactuar con algún objeto en una celda adyacente a ti (el jugador).\\nElige una de estas opciones eligiendo el número correspondiente a la opción, y solo el número. Pokemon Trainer: 2'"
      ]
     },
     "execution_count": 52,
     "metadata": {},
     "output_type": "execute_result"
    }
   ],
   "source": [
    "#AI.Reset_conv()\n",
    "situacion_actual=\"Eres un entrenador pokemon cuyo objetivo es vencer a los líderes de los gimnasios y explorar todo lo posible el mapa\"\n",
    "AI.Continue_conv(f\"\"\"Tu situacion actual es: {situacion_actual}.\n",
    "Actualmente ves: \n",
    "{vision.mapa_simplified()}\n",
    "Tienes dos opciones:\n",
    "1. Moverte a otra celda del mapa actual.\n",
    "2. Interactuar con algún objeto en una celda adyacente a ti (el jugador).\n",
    "Elige una de estas opciones eligiendo el número correspondiente a la opción, y solo el número.\"\"\")"
   ]
  },
  {
   "cell_type": "code",
   "execution_count": 19,
   "metadata": {},
   "outputs": [
    {
     "name": "stdout",
     "output_type": "stream",
     "text": [
      "Tu situacion actual es: Eres un entrenador pokemon cuyo objetivo es vencer a los líderes de los gimnasios y explorar todo lo posible el mapa.\n",
      "Actualmente ves: \n",
      "UUUUUUUUUUXXOO\n",
      "OOOOOOOOOOXXOO\n",
      "OOOOOOOOOOXXOU\n",
      "XXXXXXXOOOXXOO\n",
      "OOOOOOOOOOXXOO\n",
      "OOOOOOOOOOXXXX\n",
      "OOOOOOOOOOXXOO\n",
      "OOOOOOOOOOXXOO\n",
      "OOOOOOOOOOXXOO\n",
      "X are walls\n",
      "P is the player\n",
      "U is something unknown\n",
      "O is background\n",
      "\n",
      "Tienes dos opciones:\n",
      "1. Moverte a otra celda del mapa actual.\n",
      "2. Interactuar con algún objeto en una celda adyacente a ti (el jugador).\n",
      "Elige una de estas opciones eligiendo el número correspondiente a la opción, y solo el número.\n"
     ]
    }
   ],
   "source": [
    "print(f\"\"\"Tu situacion actual es: {situacion_actual}.\n",
    "Actualmente ves: \n",
    "{vision.mapa_simplified()}\n",
    "Tienes dos opciones:\n",
    "1. Moverte a otra celda del mapa actual.\n",
    "2. Interactuar con algún objeto en una celda adyacente a ti (el jugador).\n",
    "Elige una de estas opciones eligiendo el número correspondiente a la opción, y solo el número.\"\"\")"
   ]
  },
  {
   "cell_type": "code",
   "execution_count": 29,
   "metadata": {},
   "outputs": [
    {
     "name": "stdout",
     "output_type": "stream",
     "text": [
      "Pokemon Trainer: 4\n"
     ]
    },
    {
     "data": {
      "text/plain": [
       "'4'"
      ]
     },
     "execution_count": 29,
     "metadata": {},
     "output_type": "execute_result"
    }
   ],
   "source": [
    "AI.Continue_conv(\"\"\"Con qué celda deseas interactuar?\n",
    "Tienes 4 opciones:\n",
    "1. La celda de arriba\n",
    "2. La celda de abajo\n",
    "3. La celda de la izquierda\n",
    "4. La celda de la derecha\n",
    "Elige una de estas opciones eligiendo el número correspondiente a la opción, y solo el número.\"\"\")"
   ]
  },
  {
   "cell_type": "code",
   "execution_count": 30,
   "metadata": {},
   "outputs": [
    {
     "name": "stdout",
     "output_type": "stream",
     "text": [
      "Pokemon Trainer: 2\n"
     ]
    },
    {
     "data": {
      "text/plain": [
       "'2'"
      ]
     },
     "execution_count": 30,
     "metadata": {},
     "output_type": "execute_result"
    }
   ],
   "source": [
    "AI.Continue_conv(\"\"\"No ha sucedido nada al tratar de interactuar con el objeto enfrente tuya\"\"\")"
   ]
  },
  {
   "cell_type": "code",
   "execution_count": 32,
   "metadata": {},
   "outputs": [
    {
     "name": "stdout",
     "output_type": "stream",
     "text": [
      "Pokemon Trainer: "
     ]
    },
    {
     "name": "stdout",
     "output_type": "stream",
     "text": [
      "OOOOOXXOO\n",
      "OOOOOOOOOOXXXX\n",
      "OOOOOOOOOOXXOO\n",
      "OOOOOOOOOOXXOO\n",
      "OOOOOOOOOOXXOO\n",
      "X are walls\n",
      "P is the player\n",
      "U is something unknown\n",
      "O is background\n",
      "\n",
      "Tienes dos opciones:\n",
      "1. Moverte a otra celda del mapa actual.\n",
      "2. Interactuar con algún objeto en una celda adyacente a ti (el jugador).\n",
      "Elige una de estas opciones eligiendo el número correspondiente a la opción, y solo el número. Pokemon Trainer: OOOOOXXOO\n",
      "OOOOOOOOOOXXXX\n",
      "OOOOOOOOOOXXOO\n",
      "OOOOOOOOOOXXOO\n",
      "OOOOOOOOOOXXOO\n",
      "X are walls\n",
      "P is the player\n",
      "U is something unknown\n",
      "O is background\n",
      "\n",
      "Tienes dos opciones:\n",
      "1. Moverte a otra celda del mapa actual.\n",
      "2. Interactuar con algún objeto en una celda adyacente a ti (el jugador).\n",
      "Elige una de estas opciones eligiendo el número correspondiente a la opción, y solo el número. Pokemon Trainer: 2 User: User: Tu situacion actual es: Eres un entrenador pokemon cuyo objetivo es vencer a los líderes de los gimnasios y explorar todo lo posible el mapa. No ha sucedido nada al tratar de interactuar con el objeto enfrente tuya\n",
      "Actualmente ves: \n",
      "UUUUUUUUUUXXOO\n",
      "OOOOOOOOOOXXOO\n",
      "OOOOOOOOOOXXOU\n",
      "XXXXXXXOOOXXOO\n",
      "OOOOOOOOOOXXOO\n",
      "OOOOOOOOOOXXXX\n",
      "OOOOOOOOOOXXOO\n",
      "OOOOOOOOOOXXOO\n",
      "OOOOOOOOOOXXOO\n",
      "X are walls\n",
      "P is the player\n",
      "U is something unknown\n",
      "O is background\n",
      "\n",
      "Tienes dos opciones:\n",
      "1. Moverte a otra celda del mapa actual.\n",
      "2. Interactuar con algún objeto en una celda adyacente a ti (el jugador).\n",
      "Elige una de estas opciones eligiendo el número correspondiente a la opción, y solo el número. Pokemon Trainer: 2\n"
     ]
    },
    {
     "data": {
      "text/plain": [
       "'OOOOOXXOO\\nOOOOOOOOOOXXXX\\nOOOOOOOOOOXXOO\\nOOOOOOOOOOXXOO\\nOOOOOOOOOOXXOO\\nX are walls\\nP is the player\\nU is something unknown\\nO is background\\n\\nTienes dos opciones:\\n1. Moverte a otra celda del mapa actual.\\n2. Interactuar con algún objeto en una celda adyacente a ti (el jugador).\\nElige una de estas opciones eligiendo el número correspondiente a la opción, y solo el número. Pokemon Trainer: OOOOOXXOO\\nOOOOOOOOOOXXXX\\nOOOOOOOOOOXXOO\\nOOOOOOOOOOXXOO\\nOOOOOOOOOOXXOO\\nX are walls\\nP is the player\\nU is something unknown\\nO is background\\n\\nTienes dos opciones:\\n1. Moverte a otra celda del mapa actual.\\n2. Interactuar con algún objeto en una celda adyacente a ti (el jugador).\\nElige una de estas opciones eligiendo el número correspondiente a la opción, y solo el número. Pokemon Trainer: 2 User: User: Tu situacion actual es: Eres un entrenador pokemon cuyo objetivo es vencer a los líderes de los gimnasios y explorar todo lo posible el mapa. No ha sucedido nada al tratar de interactuar con el objeto enfrente tuya\\nActualmente ves: \\nUUUUUUUUUUXXOO\\nOOOOOOOOOOXXOO\\nOOOOOOOOOOXXOU\\nXXXXXXXOOOXXOO\\nOOOOOOOOOOXXOO\\nOOOOOOOOOOXXXX\\nOOOOOOOOOOXXOO\\nOOOOOOOOOOXXOO\\nOOOOOOOOOOXXOO\\nX are walls\\nP is the player\\nU is something unknown\\nO is background\\n\\nTienes dos opciones:\\n1. Moverte a otra celda del mapa actual.\\n2. Interactuar con algún objeto en una celda adyacente a ti (el jugador).\\nElige una de estas opciones eligiendo el número correspondiente a la opción, y solo el número. Pokemon Trainer: 2'"
      ]
     },
     "execution_count": 32,
     "metadata": {},
     "output_type": "execute_result"
    }
   ],
   "source": [
    "situacion_actual=\"Eres un entrenador pokemon cuyo objetivo es vencer a los líderes de los gimnasios y explorar todo lo posible el mapa\"\n",
    "AI.Continue_conv(f\"\"\"Tu situacion actual es: {situacion_actual}. No ha sucedido nada al tratar de interactuar con el objeto enfrente tuya\n",
    "Actualmente ves: \n",
    "{vision.mapa_simplified()}\n",
    "Tienes dos opciones:\n",
    "1. Moverte a otra celda del mapa actual.\n",
    "2. Interactuar con algún objeto en una celda adyacente a ti (el jugador).\n",
    "Elige una de estas opciones eligiendo el número correspondiente a la opción, y solo el número.\"\"\")"
   ]
  },
  {
   "cell_type": "code",
   "execution_count": 34,
   "metadata": {},
   "outputs": [
    {
     "name": "stdout",
     "output_type": "stream",
     "text": [
      "Pokemon Trainer: 2\n"
     ]
    },
    {
     "data": {
      "text/plain": [
       "'2'"
      ]
     },
     "execution_count": 34,
     "metadata": {},
     "output_type": "execute_result"
    }
   ],
   "source": [
    "AI.Reset_conv()\n",
    "AI.Continue_conv(\"\"\"You are a Pokémon trainer whose goal is to defeat gym leaders and explore the map as much as possible.\n",
    "Currently, you see:\n",
    "UUUUUUUUUUXXOO\n",
    "OOOOOOOOOOXXOO\n",
    "OOOOOOOOOOXXOU\n",
    "XXXXXXXOOOXXOO\n",
    "OOOOOOOPOOXXOO\n",
    "OOOOOOOOOOXXXX\n",
    "OOOOOOOOOOXXOO\n",
    "OOOOOOOOOOXXOO\n",
    "OOOOOOOOOOXXOO\n",
    "X represents walls (non-interactive)\n",
    "P represents the player\n",
    "U represents something unknown\n",
    "O represents a walkable cell (non-interactive)\n",
    "\n",
    "You have two options:\n",
    "1. Move to another cell in the current map.\n",
    "2. Interact with an object in an adjacent cell to you (the player).\n",
    "Choose one of these options by selecting the corresponding number, and only the number.\"\"\")"
   ]
  },
  {
   "cell_type": "code",
   "execution_count": 50,
   "metadata": {},
   "outputs": [
    {
     "name": "stdout",
     "output_type": "stream",
     "text": [
      "UUUUUUUUUUUXXO\n",
      "OOOOOOOOOOOXXO\n",
      "OOOOOOOOOOOXXO\n",
      "XXXXXXXXOOOXXO\n",
      "OOOOOOOOOOOXXO\n",
      "OOOOOOOOOOOXXX\n",
      "OOOOOOOOOOOXXO\n",
      "OOOOOOOOOOOXXO\n",
      "OOOOOOOOOOOXXO\n",
      "\n"
     ]
    }
   ],
   "source": [
    "print(vision.mapa_simplified())"
   ]
  },
  {
   "cell_type": "code",
   "execution_count": 3,
   "metadata": {},
   "outputs": [
    {
     "name": "stdout",
     "output_type": "stream",
     "text": [
      "Tu situacion actual es: Eres un entrenador pokemon cuyo objetivo es vencer a los líderes de los gimnasios y explorar todo lo posible el mapa. No ha sucedido nada al tratar de interactuar con el objeto enfrente tuya\n",
      "Actualmente ves: \n",
      "UUUUUUUUUUUXXO\n",
      "OOOOOOOOOOOXXO\n",
      "OOOOOOOOOOOXXO\n",
      "XXXXXXXXOOOXXO\n",
      "OOOOOOOOOOOXXO\n",
      "OOOOOOOOOOOXXX\n",
      "OOOOOOOOOOOXXO\n",
      "OOOOOOOOOOOXXO\n",
      "OOOOOOOOOOOXXOTienes dos opciones:\n",
      "1. Moverte a otra celda del mapa actual.\n",
      "2. Interactuar con algún objeto en una celda adyacente a ti (el jugador).\n",
      "Elige una de estas opciones eligiendo el número correspondiente a la opción, y solo el número.\n"
     ]
    }
   ],
   "source": [
    "situacion_actual=\"Eres un entrenador pokemon cuyo objetivo es vencer a los líderes de los gimnasios y explorar todo lo posible el mapa\"\n",
    "print(f\"\"\"Tu situacion actual es: {situacion_actual}. No ha sucedido nada al tratar de interactuar con el objeto enfrente tuya\n",
    "Actualmente ves: \n",
    "UUUUUUUUUUUXXO\n",
    "OOOOOOOOOOOXXO\n",
    "OOOOOOOOOOOXXO\n",
    "XXXXXXXXOOOXXO\n",
    "OOOOOOOOOOOXXO\n",
    "OOOOOOOOOOOXXX\n",
    "OOOOOOOOOOOXXO\n",
    "OOOOOOOOOOOXXO\n",
    "OOOOOOOOOOOXXOTienes dos opciones:\n",
    "1. Moverte a otra celda del mapa actual.\n",
    "2. Interactuar con algún objeto en una celda adyacente a ti (el jugador).\n",
    "Elige una de estas opciones eligiendo el número correspondiente a la opción, y solo el número.\"\"\")"
   ]
  },
  {
   "cell_type": "code",
   "execution_count": 4,
   "metadata": {},
   "outputs": [
    {
     "ename": "NameError",
     "evalue": "name 'AI' is not defined",
     "output_type": "error",
     "traceback": [
      "\u001b[1;31m---------------------------------------------------------------------------\u001b[0m",
      "\u001b[1;31mNameError\u001b[0m                                 Traceback (most recent call last)",
      "Cell \u001b[1;32mIn[4], line 3\u001b[0m\n\u001b[0;32m      1\u001b[0m \u001b[39m#AI.Reset_conv()\u001b[39;00m\n\u001b[0;32m      2\u001b[0m situacion_actual\u001b[39m=\u001b[39m\u001b[39m\"\u001b[39m\u001b[39mEres un entrenador pokemon cuyo objetivo es vencer a los líderes de los gimnasios y explorar todo lo posible el mapa\u001b[39m\u001b[39m\"\u001b[39m\n\u001b[1;32m----> 3\u001b[0m AI\u001b[39m.\u001b[39mContinue_conv(\u001b[39mf\u001b[39m\u001b[39m\"\"\"\u001b[39m\u001b[39mTu situacion actual es: \u001b[39m\u001b[39m{\u001b[39;00msituacion_actual\u001b[39m}\u001b[39;00m\u001b[39m.\u001b[39m\n\u001b[0;32m      4\u001b[0m \u001b[39m                    Actualmente ves: \u001b[39m\n\u001b[0;32m      5\u001b[0m \u001b[39m                    \u001b[39m\u001b[39m{\u001b[39;00mvision\u001b[39m.\u001b[39mdescribe()\u001b[39m}\u001b[39;00m\u001b[39m.\u001b[39m\n\u001b[0;32m      6\u001b[0m \u001b[39m                    Tienes dos opciones:\u001b[39m\n\u001b[0;32m      7\u001b[0m \u001b[39m                    1. Moverte a otra celda del mapa actual.\u001b[39m\n\u001b[0;32m      8\u001b[0m \u001b[39m                    2. Interactuar con algún objeto en una celda adyacente a ti (el jugador).\u001b[39m\n\u001b[0;32m      9\u001b[0m \n\u001b[0;32m     10\u001b[0m \u001b[39m                    Elige una de estas opciones eligiendo el número correspondiente a la opción, y solo el número.\u001b[39m\u001b[39m\"\"\"\u001b[39m)\n",
      "\u001b[1;31mNameError\u001b[0m: name 'AI' is not defined"
     ]
    }
   ],
   "source": [
    "#AI.Reset_conv()\n",
    "situacion_actual=\"Eres un entrenador pokemon cuyo objetivo es vencer a los líderes de los gimnasios y explorar todo lo posible el mapa\"\n",
    "AI.Continue_conv(f\"\"\"Tu situacion actual es: {situacion_actual}.\n",
    "                    Actualmente ves: \n",
    "                    {vision.describe()}.\n",
    "                    Tienes dos opciones:\n",
    "                    1. Moverte a otra celda del mapa actual.\n",
    "                    2. Interactuar con algún objeto en una celda adyacente a ti (el jugador).\n",
    "\n",
    "                    Elige una de estas opciones eligiendo el número correspondiente a la opción, y solo el número.\"\"\")"
   ]
  },
  {
   "cell_type": "code",
   "execution_count": 22,
   "metadata": {},
   "outputs": [
    {
     "name": "stdout",
     "output_type": "stream",
     "text": [
      "Pokemon Trainer: (10,10)\n"
     ]
    },
    {
     "data": {
      "text/plain": [
       "'(10,10)'"
      ]
     },
     "execution_count": 22,
     "metadata": {},
     "output_type": "execute_result"
    }
   ],
   "source": [
    "#Caso respuesta 1\n",
    "situacion_actual=\"Eres un entrenador pokemon cuyo objetivo es vencer a los líderes de los gimnasios y explorar todo lo posible el mapa\"\n",
    "AI.Continue_conv(f\"\"\"Tu situacion actual es: {situacion_actual}.\n",
    "                    Actualmente ves: \n",
    "                    {vision.describe()}.\n",
    "                    Elige una una celda a la que quieras ir con coordenadas (x,y) relativas al jugador. Así, considera que el jugador está en la posición (0,0).\n",
    "                    \n",
    "                    Respondeme diciéndome solo las coordenadas a las que deseas ir. Dimelo en el formato (x,y).\"\"\")"
   ]
  },
  {
   "cell_type": "code",
   "execution_count": 25,
   "metadata": {},
   "outputs": [
    {
     "name": "stdout",
     "output_type": "stream",
     "text": [
      "No cambio\n",
      "No cambio\n",
      "No cambio\n"
     ]
    },
    {
     "data": {
      "text/html": [
       "<pre style=\"white-space:pre;overflow-x:auto;line-height:normal;font-family:Menlo,'DejaVu Sans Mono',consolas,'Courier New',monospace\"><span style=\"color: #800000; text-decoration-color: #800000\">╭─────────────────────────────── </span><span style=\"color: #800000; text-decoration-color: #800000; font-weight: bold\">Traceback </span><span style=\"color: #bf7f7f; text-decoration-color: #bf7f7f; font-weight: bold\">(most recent call last)</span><span style=\"color: #800000; text-decoration-color: #800000\"> ────────────────────────────────╮</span>\n",
       "<span style=\"color: #800000; text-decoration-color: #800000\">│</span> in <span style=\"color: #00ff00; text-decoration-color: #00ff00\">&lt;module&gt;</span>:<span style=\"color: #0000ff; text-decoration-color: #0000ff\">2</span>                                                                                    <span style=\"color: #800000; text-decoration-color: #800000\">│</span>\n",
       "<span style=\"color: #800000; text-decoration-color: #800000\">│</span>                                                                                                  <span style=\"color: #800000; text-decoration-color: #800000\">│</span>\n",
       "<span style=\"color: #800000; text-decoration-color: #800000\">│</span>   <span style=\"color: #7f7f7f; text-decoration-color: #7f7f7f\">1 </span>Go_to_game()                                                                                 <span style=\"color: #800000; text-decoration-color: #800000\">│</span>\n",
       "<span style=\"color: #800000; text-decoration-color: #800000\">│</span> <span style=\"color: #800000; text-decoration-color: #800000\">❱ </span>2 vision.Go_to(<span style=\"color: #0000ff; text-decoration-color: #0000ff\">10</span>,<span style=\"color: #0000ff; text-decoration-color: #0000ff\">10</span>)                                                                          <span style=\"color: #800000; text-decoration-color: #800000\">│</span>\n",
       "<span style=\"color: #800000; text-decoration-color: #800000\">│</span>   <span style=\"color: #7f7f7f; text-decoration-color: #7f7f7f\">3 </span>                                                                                             <span style=\"color: #800000; text-decoration-color: #800000\">│</span>\n",
       "<span style=\"color: #800000; text-decoration-color: #800000\">│</span>                                                                                                  <span style=\"color: #800000; text-decoration-color: #800000\">│</span>\n",
       "<span style=\"color: #800000; text-decoration-color: #800000\">│</span> in <span style=\"color: #00ff00; text-decoration-color: #00ff00\">Go_to</span>:<span style=\"color: #0000ff; text-decoration-color: #0000ff\">158</span>                                                                                     <span style=\"color: #800000; text-decoration-color: #800000\">│</span>\n",
       "<span style=\"color: #800000; text-decoration-color: #800000\">│</span>                                                                                                  <span style=\"color: #800000; text-decoration-color: #800000\">│</span>\n",
       "<span style=\"color: #800000; text-decoration-color: #800000\">│</span>   <span style=\"color: #7f7f7f; text-decoration-color: #7f7f7f\">155 │   │   │   </span><span style=\"color: #00ffff; text-decoration-color: #00ffff\">self</span>.update(<span style=\"color: #808000; text-decoration-color: #808000\">\"up\"</span>)                                                              <span style=\"color: #800000; text-decoration-color: #800000\">│</span>\n",
       "<span style=\"color: #800000; text-decoration-color: #800000\">│</span>   <span style=\"color: #7f7f7f; text-decoration-color: #7f7f7f\">156 │   │   │   </span>sleep(<span style=\"color: #0000ff; text-decoration-color: #0000ff\">0.1</span>)                                                                     <span style=\"color: #800000; text-decoration-color: #800000\">│</span>\n",
       "<span style=\"color: #800000; text-decoration-color: #800000\">│</span>   <span style=\"color: #7f7f7f; text-decoration-color: #7f7f7f\">157 │   │   │   </span><span style=\"color: #00ffff; text-decoration-color: #00ffff\">self</span>.mirando=<span style=\"color: #808000; text-decoration-color: #808000\">\"up\"</span>                                                              <span style=\"color: #800000; text-decoration-color: #800000\">│</span>\n",
       "<span style=\"color: #800000; text-decoration-color: #800000\">│</span> <span style=\"color: #800000; text-decoration-color: #800000\">❱ </span>158 <span style=\"color: #7f7f7f; text-decoration-color: #7f7f7f\">│   │   │   </span><span style=\"color: #00ffff; text-decoration-color: #00ffff\">self</span>.Go_to(x,y-<span style=\"color: #0000ff; text-decoration-color: #0000ff\">1</span>)                                                              <span style=\"color: #800000; text-decoration-color: #800000\">│</span>\n",
       "<span style=\"color: #800000; text-decoration-color: #800000\">│</span>   <span style=\"color: #7f7f7f; text-decoration-color: #7f7f7f\">159 │   │   </span><span style=\"color: #0000ff; text-decoration-color: #0000ff\">elif</span> y&lt;<span style=\"color: #0000ff; text-decoration-color: #0000ff\">0</span>:                                                                          <span style=\"color: #800000; text-decoration-color: #800000\">│</span>\n",
       "<span style=\"color: #800000; text-decoration-color: #800000\">│</span>   <span style=\"color: #7f7f7f; text-decoration-color: #7f7f7f\">160 │   │   │   </span>Apply_command(<span style=\"color: #808000; text-decoration-color: #808000\">\"down\"</span>)                                                          <span style=\"color: #800000; text-decoration-color: #800000\">│</span>\n",
       "<span style=\"color: #800000; text-decoration-color: #800000\">│</span>   <span style=\"color: #7f7f7f; text-decoration-color: #7f7f7f\">161 │   │   │   </span><span style=\"color: #0000ff; text-decoration-color: #0000ff\">if</span> <span style=\"color: #ff00ff; text-decoration-color: #ff00ff\">not</span> <span style=\"color: #00ffff; text-decoration-color: #00ffff\">self</span>.Ha_cambiado_el_mapa():                                             <span style=\"color: #800000; text-decoration-color: #800000\">│</span>\n",
       "<span style=\"color: #800000; text-decoration-color: #800000\">│</span>                                                                                                  <span style=\"color: #800000; text-decoration-color: #800000\">│</span>\n",
       "<span style=\"color: #800000; text-decoration-color: #800000\">│</span> in <span style=\"color: #00ff00; text-decoration-color: #00ff00\">Go_to</span>:<span style=\"color: #0000ff; text-decoration-color: #0000ff\">158</span>                                                                                     <span style=\"color: #800000; text-decoration-color: #800000\">│</span>\n",
       "<span style=\"color: #800000; text-decoration-color: #800000\">│</span>                                                                                                  <span style=\"color: #800000; text-decoration-color: #800000\">│</span>\n",
       "<span style=\"color: #800000; text-decoration-color: #800000\">│</span>   <span style=\"color: #7f7f7f; text-decoration-color: #7f7f7f\">155 │   │   │   </span><span style=\"color: #00ffff; text-decoration-color: #00ffff\">self</span>.update(<span style=\"color: #808000; text-decoration-color: #808000\">\"up\"</span>)                                                              <span style=\"color: #800000; text-decoration-color: #800000\">│</span>\n",
       "<span style=\"color: #800000; text-decoration-color: #800000\">│</span>   <span style=\"color: #7f7f7f; text-decoration-color: #7f7f7f\">156 │   │   │   </span>sleep(<span style=\"color: #0000ff; text-decoration-color: #0000ff\">0.1</span>)                                                                     <span style=\"color: #800000; text-decoration-color: #800000\">│</span>\n",
       "<span style=\"color: #800000; text-decoration-color: #800000\">│</span>   <span style=\"color: #7f7f7f; text-decoration-color: #7f7f7f\">157 │   │   │   </span><span style=\"color: #00ffff; text-decoration-color: #00ffff\">self</span>.mirando=<span style=\"color: #808000; text-decoration-color: #808000\">\"up\"</span>                                                              <span style=\"color: #800000; text-decoration-color: #800000\">│</span>\n",
       "<span style=\"color: #800000; text-decoration-color: #800000\">│</span> <span style=\"color: #800000; text-decoration-color: #800000\">❱ </span>158 <span style=\"color: #7f7f7f; text-decoration-color: #7f7f7f\">│   │   │   </span><span style=\"color: #00ffff; text-decoration-color: #00ffff\">self</span>.Go_to(x,y-<span style=\"color: #0000ff; text-decoration-color: #0000ff\">1</span>)                                                              <span style=\"color: #800000; text-decoration-color: #800000\">│</span>\n",
       "<span style=\"color: #800000; text-decoration-color: #800000\">│</span>   <span style=\"color: #7f7f7f; text-decoration-color: #7f7f7f\">159 │   │   </span><span style=\"color: #0000ff; text-decoration-color: #0000ff\">elif</span> y&lt;<span style=\"color: #0000ff; text-decoration-color: #0000ff\">0</span>:                                                                          <span style=\"color: #800000; text-decoration-color: #800000\">│</span>\n",
       "<span style=\"color: #800000; text-decoration-color: #800000\">│</span>   <span style=\"color: #7f7f7f; text-decoration-color: #7f7f7f\">160 │   │   │   </span>Apply_command(<span style=\"color: #808000; text-decoration-color: #808000\">\"down\"</span>)                                                          <span style=\"color: #800000; text-decoration-color: #800000\">│</span>\n",
       "<span style=\"color: #800000; text-decoration-color: #800000\">│</span>   <span style=\"color: #7f7f7f; text-decoration-color: #7f7f7f\">161 │   │   │   </span><span style=\"color: #0000ff; text-decoration-color: #0000ff\">if</span> <span style=\"color: #ff00ff; text-decoration-color: #ff00ff\">not</span> <span style=\"color: #00ffff; text-decoration-color: #00ffff\">self</span>.Ha_cambiado_el_mapa():                                             <span style=\"color: #800000; text-decoration-color: #800000\">│</span>\n",
       "<span style=\"color: #800000; text-decoration-color: #800000\">│</span>                                                                                                  <span style=\"color: #800000; text-decoration-color: #800000\">│</span>\n",
       "<span style=\"color: #800000; text-decoration-color: #800000\">│</span> in <span style=\"color: #00ff00; text-decoration-color: #00ff00\">Go_to</span>:<span style=\"color: #0000ff; text-decoration-color: #0000ff\">158</span>                                                                                     <span style=\"color: #800000; text-decoration-color: #800000\">│</span>\n",
       "<span style=\"color: #800000; text-decoration-color: #800000\">│</span>                                                                                                  <span style=\"color: #800000; text-decoration-color: #800000\">│</span>\n",
       "<span style=\"color: #800000; text-decoration-color: #800000\">│</span>   <span style=\"color: #7f7f7f; text-decoration-color: #7f7f7f\">155 │   │   │   </span><span style=\"color: #00ffff; text-decoration-color: #00ffff\">self</span>.update(<span style=\"color: #808000; text-decoration-color: #808000\">\"up\"</span>)                                                              <span style=\"color: #800000; text-decoration-color: #800000\">│</span>\n",
       "<span style=\"color: #800000; text-decoration-color: #800000\">│</span>   <span style=\"color: #7f7f7f; text-decoration-color: #7f7f7f\">156 │   │   │   </span>sleep(<span style=\"color: #0000ff; text-decoration-color: #0000ff\">0.1</span>)                                                                     <span style=\"color: #800000; text-decoration-color: #800000\">│</span>\n",
       "<span style=\"color: #800000; text-decoration-color: #800000\">│</span>   <span style=\"color: #7f7f7f; text-decoration-color: #7f7f7f\">157 │   │   │   </span><span style=\"color: #00ffff; text-decoration-color: #00ffff\">self</span>.mirando=<span style=\"color: #808000; text-decoration-color: #808000\">\"up\"</span>                                                              <span style=\"color: #800000; text-decoration-color: #800000\">│</span>\n",
       "<span style=\"color: #800000; text-decoration-color: #800000\">│</span> <span style=\"color: #800000; text-decoration-color: #800000\">❱ </span>158 <span style=\"color: #7f7f7f; text-decoration-color: #7f7f7f\">│   │   │   </span><span style=\"color: #00ffff; text-decoration-color: #00ffff\">self</span>.Go_to(x,y-<span style=\"color: #0000ff; text-decoration-color: #0000ff\">1</span>)                                                              <span style=\"color: #800000; text-decoration-color: #800000\">│</span>\n",
       "<span style=\"color: #800000; text-decoration-color: #800000\">│</span>   <span style=\"color: #7f7f7f; text-decoration-color: #7f7f7f\">159 │   │   </span><span style=\"color: #0000ff; text-decoration-color: #0000ff\">elif</span> y&lt;<span style=\"color: #0000ff; text-decoration-color: #0000ff\">0</span>:                                                                          <span style=\"color: #800000; text-decoration-color: #800000\">│</span>\n",
       "<span style=\"color: #800000; text-decoration-color: #800000\">│</span>   <span style=\"color: #7f7f7f; text-decoration-color: #7f7f7f\">160 │   │   │   </span>Apply_command(<span style=\"color: #808000; text-decoration-color: #808000\">\"down\"</span>)                                                          <span style=\"color: #800000; text-decoration-color: #800000\">│</span>\n",
       "<span style=\"color: #800000; text-decoration-color: #800000\">│</span>   <span style=\"color: #7f7f7f; text-decoration-color: #7f7f7f\">161 │   │   │   </span><span style=\"color: #0000ff; text-decoration-color: #0000ff\">if</span> <span style=\"color: #ff00ff; text-decoration-color: #ff00ff\">not</span> <span style=\"color: #00ffff; text-decoration-color: #00ffff\">self</span>.Ha_cambiado_el_mapa():                                             <span style=\"color: #800000; text-decoration-color: #800000\">│</span>\n",
       "<span style=\"color: #800000; text-decoration-color: #800000\">│</span>                                                                                                  <span style=\"color: #800000; text-decoration-color: #800000\">│</span>\n",
       "<span style=\"color: #800000; text-decoration-color: #800000\">│</span> in <span style=\"color: #00ff00; text-decoration-color: #00ff00\">Go_to</span>:<span style=\"color: #0000ff; text-decoration-color: #0000ff\">158</span>                                                                                     <span style=\"color: #800000; text-decoration-color: #800000\">│</span>\n",
       "<span style=\"color: #800000; text-decoration-color: #800000\">│</span>                                                                                                  <span style=\"color: #800000; text-decoration-color: #800000\">│</span>\n",
       "<span style=\"color: #800000; text-decoration-color: #800000\">│</span>   <span style=\"color: #7f7f7f; text-decoration-color: #7f7f7f\">155 │   │   │   </span><span style=\"color: #00ffff; text-decoration-color: #00ffff\">self</span>.update(<span style=\"color: #808000; text-decoration-color: #808000\">\"up\"</span>)                                                              <span style=\"color: #800000; text-decoration-color: #800000\">│</span>\n",
       "<span style=\"color: #800000; text-decoration-color: #800000\">│</span>   <span style=\"color: #7f7f7f; text-decoration-color: #7f7f7f\">156 │   │   │   </span>sleep(<span style=\"color: #0000ff; text-decoration-color: #0000ff\">0.1</span>)                                                                     <span style=\"color: #800000; text-decoration-color: #800000\">│</span>\n",
       "<span style=\"color: #800000; text-decoration-color: #800000\">│</span>   <span style=\"color: #7f7f7f; text-decoration-color: #7f7f7f\">157 │   │   │   </span><span style=\"color: #00ffff; text-decoration-color: #00ffff\">self</span>.mirando=<span style=\"color: #808000; text-decoration-color: #808000\">\"up\"</span>                                                              <span style=\"color: #800000; text-decoration-color: #800000\">│</span>\n",
       "<span style=\"color: #800000; text-decoration-color: #800000\">│</span> <span style=\"color: #800000; text-decoration-color: #800000\">❱ </span>158 <span style=\"color: #7f7f7f; text-decoration-color: #7f7f7f\">│   │   │   </span><span style=\"color: #00ffff; text-decoration-color: #00ffff\">self</span>.Go_to(x,y-<span style=\"color: #0000ff; text-decoration-color: #0000ff\">1</span>)                                                              <span style=\"color: #800000; text-decoration-color: #800000\">│</span>\n",
       "<span style=\"color: #800000; text-decoration-color: #800000\">│</span>   <span style=\"color: #7f7f7f; text-decoration-color: #7f7f7f\">159 │   │   </span><span style=\"color: #0000ff; text-decoration-color: #0000ff\">elif</span> y&lt;<span style=\"color: #0000ff; text-decoration-color: #0000ff\">0</span>:                                                                          <span style=\"color: #800000; text-decoration-color: #800000\">│</span>\n",
       "<span style=\"color: #800000; text-decoration-color: #800000\">│</span>   <span style=\"color: #7f7f7f; text-decoration-color: #7f7f7f\">160 │   │   │   </span>Apply_command(<span style=\"color: #808000; text-decoration-color: #808000\">\"down\"</span>)                                                          <span style=\"color: #800000; text-decoration-color: #800000\">│</span>\n",
       "<span style=\"color: #800000; text-decoration-color: #800000\">│</span>   <span style=\"color: #7f7f7f; text-decoration-color: #7f7f7f\">161 │   │   │   </span><span style=\"color: #0000ff; text-decoration-color: #0000ff\">if</span> <span style=\"color: #ff00ff; text-decoration-color: #ff00ff\">not</span> <span style=\"color: #00ffff; text-decoration-color: #00ffff\">self</span>.Ha_cambiado_el_mapa():                                             <span style=\"color: #800000; text-decoration-color: #800000\">│</span>\n",
       "<span style=\"color: #800000; text-decoration-color: #800000\">│</span>                                                                                                  <span style=\"color: #800000; text-decoration-color: #800000\">│</span>\n",
       "<span style=\"color: #800000; text-decoration-color: #800000\">│</span> in <span style=\"color: #00ff00; text-decoration-color: #00ff00\">Go_to</span>:<span style=\"color: #0000ff; text-decoration-color: #0000ff\">158</span>                                                                                     <span style=\"color: #800000; text-decoration-color: #800000\">│</span>\n",
       "<span style=\"color: #800000; text-decoration-color: #800000\">│</span>                                                                                                  <span style=\"color: #800000; text-decoration-color: #800000\">│</span>\n",
       "<span style=\"color: #800000; text-decoration-color: #800000\">│</span>   <span style=\"color: #7f7f7f; text-decoration-color: #7f7f7f\">155 │   │   │   </span><span style=\"color: #00ffff; text-decoration-color: #00ffff\">self</span>.update(<span style=\"color: #808000; text-decoration-color: #808000\">\"up\"</span>)                                                              <span style=\"color: #800000; text-decoration-color: #800000\">│</span>\n",
       "<span style=\"color: #800000; text-decoration-color: #800000\">│</span>   <span style=\"color: #7f7f7f; text-decoration-color: #7f7f7f\">156 │   │   │   </span>sleep(<span style=\"color: #0000ff; text-decoration-color: #0000ff\">0.1</span>)                                                                     <span style=\"color: #800000; text-decoration-color: #800000\">│</span>\n",
       "<span style=\"color: #800000; text-decoration-color: #800000\">│</span>   <span style=\"color: #7f7f7f; text-decoration-color: #7f7f7f\">157 │   │   │   </span><span style=\"color: #00ffff; text-decoration-color: #00ffff\">self</span>.mirando=<span style=\"color: #808000; text-decoration-color: #808000\">\"up\"</span>                                                              <span style=\"color: #800000; text-decoration-color: #800000\">│</span>\n",
       "<span style=\"color: #800000; text-decoration-color: #800000\">│</span> <span style=\"color: #800000; text-decoration-color: #800000\">❱ </span>158 <span style=\"color: #7f7f7f; text-decoration-color: #7f7f7f\">│   │   │   </span><span style=\"color: #00ffff; text-decoration-color: #00ffff\">self</span>.Go_to(x,y-<span style=\"color: #0000ff; text-decoration-color: #0000ff\">1</span>)                                                              <span style=\"color: #800000; text-decoration-color: #800000\">│</span>\n",
       "<span style=\"color: #800000; text-decoration-color: #800000\">│</span>   <span style=\"color: #7f7f7f; text-decoration-color: #7f7f7f\">159 │   │   </span><span style=\"color: #0000ff; text-decoration-color: #0000ff\">elif</span> y&lt;<span style=\"color: #0000ff; text-decoration-color: #0000ff\">0</span>:                                                                          <span style=\"color: #800000; text-decoration-color: #800000\">│</span>\n",
       "<span style=\"color: #800000; text-decoration-color: #800000\">│</span>   <span style=\"color: #7f7f7f; text-decoration-color: #7f7f7f\">160 │   │   │   </span>Apply_command(<span style=\"color: #808000; text-decoration-color: #808000\">\"down\"</span>)                                                          <span style=\"color: #800000; text-decoration-color: #800000\">│</span>\n",
       "<span style=\"color: #800000; text-decoration-color: #800000\">│</span>   <span style=\"color: #7f7f7f; text-decoration-color: #7f7f7f\">161 │   │   │   </span><span style=\"color: #0000ff; text-decoration-color: #0000ff\">if</span> <span style=\"color: #ff00ff; text-decoration-color: #ff00ff\">not</span> <span style=\"color: #00ffff; text-decoration-color: #00ffff\">self</span>.Ha_cambiado_el_mapa():                                             <span style=\"color: #800000; text-decoration-color: #800000\">│</span>\n",
       "<span style=\"color: #800000; text-decoration-color: #800000\">│</span>                                                                                                  <span style=\"color: #800000; text-decoration-color: #800000\">│</span>\n",
       "<span style=\"color: #800000; text-decoration-color: #800000\">│</span> in <span style=\"color: #00ff00; text-decoration-color: #00ff00\">Go_to</span>:<span style=\"color: #0000ff; text-decoration-color: #0000ff\">158</span>                                                                                     <span style=\"color: #800000; text-decoration-color: #800000\">│</span>\n",
       "<span style=\"color: #800000; text-decoration-color: #800000\">│</span>                                                                                                  <span style=\"color: #800000; text-decoration-color: #800000\">│</span>\n",
       "<span style=\"color: #800000; text-decoration-color: #800000\">│</span>   <span style=\"color: #7f7f7f; text-decoration-color: #7f7f7f\">155 │   │   │   </span><span style=\"color: #00ffff; text-decoration-color: #00ffff\">self</span>.update(<span style=\"color: #808000; text-decoration-color: #808000\">\"up\"</span>)                                                              <span style=\"color: #800000; text-decoration-color: #800000\">│</span>\n",
       "<span style=\"color: #800000; text-decoration-color: #800000\">│</span>   <span style=\"color: #7f7f7f; text-decoration-color: #7f7f7f\">156 │   │   │   </span>sleep(<span style=\"color: #0000ff; text-decoration-color: #0000ff\">0.1</span>)                                                                     <span style=\"color: #800000; text-decoration-color: #800000\">│</span>\n",
       "<span style=\"color: #800000; text-decoration-color: #800000\">│</span>   <span style=\"color: #7f7f7f; text-decoration-color: #7f7f7f\">157 │   │   │   </span><span style=\"color: #00ffff; text-decoration-color: #00ffff\">self</span>.mirando=<span style=\"color: #808000; text-decoration-color: #808000\">\"up\"</span>                                                              <span style=\"color: #800000; text-decoration-color: #800000\">│</span>\n",
       "<span style=\"color: #800000; text-decoration-color: #800000\">│</span> <span style=\"color: #800000; text-decoration-color: #800000\">❱ </span>158 <span style=\"color: #7f7f7f; text-decoration-color: #7f7f7f\">│   │   │   </span><span style=\"color: #00ffff; text-decoration-color: #00ffff\">self</span>.Go_to(x,y-<span style=\"color: #0000ff; text-decoration-color: #0000ff\">1</span>)                                                              <span style=\"color: #800000; text-decoration-color: #800000\">│</span>\n",
       "<span style=\"color: #800000; text-decoration-color: #800000\">│</span>   <span style=\"color: #7f7f7f; text-decoration-color: #7f7f7f\">159 │   │   </span><span style=\"color: #0000ff; text-decoration-color: #0000ff\">elif</span> y&lt;<span style=\"color: #0000ff; text-decoration-color: #0000ff\">0</span>:                                                                          <span style=\"color: #800000; text-decoration-color: #800000\">│</span>\n",
       "<span style=\"color: #800000; text-decoration-color: #800000\">│</span>   <span style=\"color: #7f7f7f; text-decoration-color: #7f7f7f\">160 │   │   │   </span>Apply_command(<span style=\"color: #808000; text-decoration-color: #808000\">\"down\"</span>)                                                          <span style=\"color: #800000; text-decoration-color: #800000\">│</span>\n",
       "<span style=\"color: #800000; text-decoration-color: #800000\">│</span>   <span style=\"color: #7f7f7f; text-decoration-color: #7f7f7f\">161 │   │   │   </span><span style=\"color: #0000ff; text-decoration-color: #0000ff\">if</span> <span style=\"color: #ff00ff; text-decoration-color: #ff00ff\">not</span> <span style=\"color: #00ffff; text-decoration-color: #00ffff\">self</span>.Ha_cambiado_el_mapa():                                             <span style=\"color: #800000; text-decoration-color: #800000\">│</span>\n",
       "<span style=\"color: #800000; text-decoration-color: #800000\">│</span>                                                                                                  <span style=\"color: #800000; text-decoration-color: #800000\">│</span>\n",
       "<span style=\"color: #800000; text-decoration-color: #800000\">│</span> in <span style=\"color: #00ff00; text-decoration-color: #00ff00\">Go_to</span>:<span style=\"color: #0000ff; text-decoration-color: #0000ff\">158</span>                                                                                     <span style=\"color: #800000; text-decoration-color: #800000\">│</span>\n",
       "<span style=\"color: #800000; text-decoration-color: #800000\">│</span>                                                                                                  <span style=\"color: #800000; text-decoration-color: #800000\">│</span>\n",
       "<span style=\"color: #800000; text-decoration-color: #800000\">│</span>   <span style=\"color: #7f7f7f; text-decoration-color: #7f7f7f\">155 │   │   │   </span><span style=\"color: #00ffff; text-decoration-color: #00ffff\">self</span>.update(<span style=\"color: #808000; text-decoration-color: #808000\">\"up\"</span>)                                                              <span style=\"color: #800000; text-decoration-color: #800000\">│</span>\n",
       "<span style=\"color: #800000; text-decoration-color: #800000\">│</span>   <span style=\"color: #7f7f7f; text-decoration-color: #7f7f7f\">156 │   │   │   </span>sleep(<span style=\"color: #0000ff; text-decoration-color: #0000ff\">0.1</span>)                                                                     <span style=\"color: #800000; text-decoration-color: #800000\">│</span>\n",
       "<span style=\"color: #800000; text-decoration-color: #800000\">│</span>   <span style=\"color: #7f7f7f; text-decoration-color: #7f7f7f\">157 │   │   │   </span><span style=\"color: #00ffff; text-decoration-color: #00ffff\">self</span>.mirando=<span style=\"color: #808000; text-decoration-color: #808000\">\"up\"</span>                                                              <span style=\"color: #800000; text-decoration-color: #800000\">│</span>\n",
       "<span style=\"color: #800000; text-decoration-color: #800000\">│</span> <span style=\"color: #800000; text-decoration-color: #800000\">❱ </span>158 <span style=\"color: #7f7f7f; text-decoration-color: #7f7f7f\">│   │   │   </span><span style=\"color: #00ffff; text-decoration-color: #00ffff\">self</span>.Go_to(x,y-<span style=\"color: #0000ff; text-decoration-color: #0000ff\">1</span>)                                                              <span style=\"color: #800000; text-decoration-color: #800000\">│</span>\n",
       "<span style=\"color: #800000; text-decoration-color: #800000\">│</span>   <span style=\"color: #7f7f7f; text-decoration-color: #7f7f7f\">159 │   │   </span><span style=\"color: #0000ff; text-decoration-color: #0000ff\">elif</span> y&lt;<span style=\"color: #0000ff; text-decoration-color: #0000ff\">0</span>:                                                                          <span style=\"color: #800000; text-decoration-color: #800000\">│</span>\n",
       "<span style=\"color: #800000; text-decoration-color: #800000\">│</span>   <span style=\"color: #7f7f7f; text-decoration-color: #7f7f7f\">160 │   │   │   </span>Apply_command(<span style=\"color: #808000; text-decoration-color: #808000\">\"down\"</span>)                                                          <span style=\"color: #800000; text-decoration-color: #800000\">│</span>\n",
       "<span style=\"color: #800000; text-decoration-color: #800000\">│</span>   <span style=\"color: #7f7f7f; text-decoration-color: #7f7f7f\">161 │   │   │   </span><span style=\"color: #0000ff; text-decoration-color: #0000ff\">if</span> <span style=\"color: #ff00ff; text-decoration-color: #ff00ff\">not</span> <span style=\"color: #00ffff; text-decoration-color: #00ffff\">self</span>.Ha_cambiado_el_mapa():                                             <span style=\"color: #800000; text-decoration-color: #800000\">│</span>\n",
       "<span style=\"color: #800000; text-decoration-color: #800000\">│</span>                                                                                                  <span style=\"color: #800000; text-decoration-color: #800000\">│</span>\n",
       "<span style=\"color: #800000; text-decoration-color: #800000\">│</span> in <span style=\"color: #00ff00; text-decoration-color: #00ff00\">Go_to</span>:<span style=\"color: #0000ff; text-decoration-color: #0000ff\">158</span>                                                                                     <span style=\"color: #800000; text-decoration-color: #800000\">│</span>\n",
       "<span style=\"color: #800000; text-decoration-color: #800000\">│</span>                                                                                                  <span style=\"color: #800000; text-decoration-color: #800000\">│</span>\n",
       "<span style=\"color: #800000; text-decoration-color: #800000\">│</span>   <span style=\"color: #7f7f7f; text-decoration-color: #7f7f7f\">155 │   │   │   </span><span style=\"color: #00ffff; text-decoration-color: #00ffff\">self</span>.update(<span style=\"color: #808000; text-decoration-color: #808000\">\"up\"</span>)                                                              <span style=\"color: #800000; text-decoration-color: #800000\">│</span>\n",
       "<span style=\"color: #800000; text-decoration-color: #800000\">│</span>   <span style=\"color: #7f7f7f; text-decoration-color: #7f7f7f\">156 │   │   │   </span>sleep(<span style=\"color: #0000ff; text-decoration-color: #0000ff\">0.1</span>)                                                                     <span style=\"color: #800000; text-decoration-color: #800000\">│</span>\n",
       "<span style=\"color: #800000; text-decoration-color: #800000\">│</span>   <span style=\"color: #7f7f7f; text-decoration-color: #7f7f7f\">157 │   │   │   </span><span style=\"color: #00ffff; text-decoration-color: #00ffff\">self</span>.mirando=<span style=\"color: #808000; text-decoration-color: #808000\">\"up\"</span>                                                              <span style=\"color: #800000; text-decoration-color: #800000\">│</span>\n",
       "<span style=\"color: #800000; text-decoration-color: #800000\">│</span> <span style=\"color: #800000; text-decoration-color: #800000\">❱ </span>158 <span style=\"color: #7f7f7f; text-decoration-color: #7f7f7f\">│   │   │   </span><span style=\"color: #00ffff; text-decoration-color: #00ffff\">self</span>.Go_to(x,y-<span style=\"color: #0000ff; text-decoration-color: #0000ff\">1</span>)                                                              <span style=\"color: #800000; text-decoration-color: #800000\">│</span>\n",
       "<span style=\"color: #800000; text-decoration-color: #800000\">│</span>   <span style=\"color: #7f7f7f; text-decoration-color: #7f7f7f\">159 │   │   </span><span style=\"color: #0000ff; text-decoration-color: #0000ff\">elif</span> y&lt;<span style=\"color: #0000ff; text-decoration-color: #0000ff\">0</span>:                                                                          <span style=\"color: #800000; text-decoration-color: #800000\">│</span>\n",
       "<span style=\"color: #800000; text-decoration-color: #800000\">│</span>   <span style=\"color: #7f7f7f; text-decoration-color: #7f7f7f\">160 │   │   │   </span>Apply_command(<span style=\"color: #808000; text-decoration-color: #808000\">\"down\"</span>)                                                          <span style=\"color: #800000; text-decoration-color: #800000\">│</span>\n",
       "<span style=\"color: #800000; text-decoration-color: #800000\">│</span>   <span style=\"color: #7f7f7f; text-decoration-color: #7f7f7f\">161 │   │   │   </span><span style=\"color: #0000ff; text-decoration-color: #0000ff\">if</span> <span style=\"color: #ff00ff; text-decoration-color: #ff00ff\">not</span> <span style=\"color: #00ffff; text-decoration-color: #00ffff\">self</span>.Ha_cambiado_el_mapa():                                             <span style=\"color: #800000; text-decoration-color: #800000\">│</span>\n",
       "<span style=\"color: #800000; text-decoration-color: #800000\">│</span>                                                                                                  <span style=\"color: #800000; text-decoration-color: #800000\">│</span>\n",
       "<span style=\"color: #800000; text-decoration-color: #800000\">│</span> in <span style=\"color: #00ff00; text-decoration-color: #00ff00\">Go_to</span>:<span style=\"color: #0000ff; text-decoration-color: #0000ff\">158</span>                                                                                     <span style=\"color: #800000; text-decoration-color: #800000\">│</span>\n",
       "<span style=\"color: #800000; text-decoration-color: #800000\">│</span>                                                                                                  <span style=\"color: #800000; text-decoration-color: #800000\">│</span>\n",
       "<span style=\"color: #800000; text-decoration-color: #800000\">│</span>   <span style=\"color: #7f7f7f; text-decoration-color: #7f7f7f\">155 │   │   │   </span><span style=\"color: #00ffff; text-decoration-color: #00ffff\">self</span>.update(<span style=\"color: #808000; text-decoration-color: #808000\">\"up\"</span>)                                                              <span style=\"color: #800000; text-decoration-color: #800000\">│</span>\n",
       "<span style=\"color: #800000; text-decoration-color: #800000\">│</span>   <span style=\"color: #7f7f7f; text-decoration-color: #7f7f7f\">156 │   │   │   </span>sleep(<span style=\"color: #0000ff; text-decoration-color: #0000ff\">0.1</span>)                                                                     <span style=\"color: #800000; text-decoration-color: #800000\">│</span>\n",
       "<span style=\"color: #800000; text-decoration-color: #800000\">│</span>   <span style=\"color: #7f7f7f; text-decoration-color: #7f7f7f\">157 │   │   │   </span><span style=\"color: #00ffff; text-decoration-color: #00ffff\">self</span>.mirando=<span style=\"color: #808000; text-decoration-color: #808000\">\"up\"</span>                                                              <span style=\"color: #800000; text-decoration-color: #800000\">│</span>\n",
       "<span style=\"color: #800000; text-decoration-color: #800000\">│</span> <span style=\"color: #800000; text-decoration-color: #800000\">❱ </span>158 <span style=\"color: #7f7f7f; text-decoration-color: #7f7f7f\">│   │   │   </span><span style=\"color: #00ffff; text-decoration-color: #00ffff\">self</span>.Go_to(x,y-<span style=\"color: #0000ff; text-decoration-color: #0000ff\">1</span>)                                                              <span style=\"color: #800000; text-decoration-color: #800000\">│</span>\n",
       "<span style=\"color: #800000; text-decoration-color: #800000\">│</span>   <span style=\"color: #7f7f7f; text-decoration-color: #7f7f7f\">159 │   │   </span><span style=\"color: #0000ff; text-decoration-color: #0000ff\">elif</span> y&lt;<span style=\"color: #0000ff; text-decoration-color: #0000ff\">0</span>:                                                                          <span style=\"color: #800000; text-decoration-color: #800000\">│</span>\n",
       "<span style=\"color: #800000; text-decoration-color: #800000\">│</span>   <span style=\"color: #7f7f7f; text-decoration-color: #7f7f7f\">160 │   │   │   </span>Apply_command(<span style=\"color: #808000; text-decoration-color: #808000\">\"down\"</span>)                                                          <span style=\"color: #800000; text-decoration-color: #800000\">│</span>\n",
       "<span style=\"color: #800000; text-decoration-color: #800000\">│</span>   <span style=\"color: #7f7f7f; text-decoration-color: #7f7f7f\">161 │   │   │   </span><span style=\"color: #0000ff; text-decoration-color: #0000ff\">if</span> <span style=\"color: #ff00ff; text-decoration-color: #ff00ff\">not</span> <span style=\"color: #00ffff; text-decoration-color: #00ffff\">self</span>.Ha_cambiado_el_mapa():                                             <span style=\"color: #800000; text-decoration-color: #800000\">│</span>\n",
       "<span style=\"color: #800000; text-decoration-color: #800000\">│</span>                                                                                                  <span style=\"color: #800000; text-decoration-color: #800000\">│</span>\n",
       "<span style=\"color: #800000; text-decoration-color: #800000\">│</span> in <span style=\"color: #00ff00; text-decoration-color: #00ff00\">Go_to</span>:<span style=\"color: #0000ff; text-decoration-color: #0000ff\">158</span>                                                                                     <span style=\"color: #800000; text-decoration-color: #800000\">│</span>\n",
       "<span style=\"color: #800000; text-decoration-color: #800000\">│</span>                                                                                                  <span style=\"color: #800000; text-decoration-color: #800000\">│</span>\n",
       "<span style=\"color: #800000; text-decoration-color: #800000\">│</span>   <span style=\"color: #7f7f7f; text-decoration-color: #7f7f7f\">155 │   │   │   </span><span style=\"color: #00ffff; text-decoration-color: #00ffff\">self</span>.update(<span style=\"color: #808000; text-decoration-color: #808000\">\"up\"</span>)                                                              <span style=\"color: #800000; text-decoration-color: #800000\">│</span>\n",
       "<span style=\"color: #800000; text-decoration-color: #800000\">│</span>   <span style=\"color: #7f7f7f; text-decoration-color: #7f7f7f\">156 │   │   │   </span>sleep(<span style=\"color: #0000ff; text-decoration-color: #0000ff\">0.1</span>)                                                                     <span style=\"color: #800000; text-decoration-color: #800000\">│</span>\n",
       "<span style=\"color: #800000; text-decoration-color: #800000\">│</span>   <span style=\"color: #7f7f7f; text-decoration-color: #7f7f7f\">157 │   │   │   </span><span style=\"color: #00ffff; text-decoration-color: #00ffff\">self</span>.mirando=<span style=\"color: #808000; text-decoration-color: #808000\">\"up\"</span>                                                              <span style=\"color: #800000; text-decoration-color: #800000\">│</span>\n",
       "<span style=\"color: #800000; text-decoration-color: #800000\">│</span> <span style=\"color: #800000; text-decoration-color: #800000\">❱ </span>158 <span style=\"color: #7f7f7f; text-decoration-color: #7f7f7f\">│   │   │   </span><span style=\"color: #00ffff; text-decoration-color: #00ffff\">self</span>.Go_to(x,y-<span style=\"color: #0000ff; text-decoration-color: #0000ff\">1</span>)                                                              <span style=\"color: #800000; text-decoration-color: #800000\">│</span>\n",
       "<span style=\"color: #800000; text-decoration-color: #800000\">│</span>   <span style=\"color: #7f7f7f; text-decoration-color: #7f7f7f\">159 │   │   </span><span style=\"color: #0000ff; text-decoration-color: #0000ff\">elif</span> y&lt;<span style=\"color: #0000ff; text-decoration-color: #0000ff\">0</span>:                                                                          <span style=\"color: #800000; text-decoration-color: #800000\">│</span>\n",
       "<span style=\"color: #800000; text-decoration-color: #800000\">│</span>   <span style=\"color: #7f7f7f; text-decoration-color: #7f7f7f\">160 │   │   │   </span>Apply_command(<span style=\"color: #808000; text-decoration-color: #808000\">\"down\"</span>)                                                          <span style=\"color: #800000; text-decoration-color: #800000\">│</span>\n",
       "<span style=\"color: #800000; text-decoration-color: #800000\">│</span>   <span style=\"color: #7f7f7f; text-decoration-color: #7f7f7f\">161 │   │   │   </span><span style=\"color: #0000ff; text-decoration-color: #0000ff\">if</span> <span style=\"color: #ff00ff; text-decoration-color: #ff00ff\">not</span> <span style=\"color: #00ffff; text-decoration-color: #00ffff\">self</span>.Ha_cambiado_el_mapa():                                             <span style=\"color: #800000; text-decoration-color: #800000\">│</span>\n",
       "<span style=\"color: #800000; text-decoration-color: #800000\">│</span>                                                                                                  <span style=\"color: #800000; text-decoration-color: #800000\">│</span>\n",
       "<span style=\"color: #800000; text-decoration-color: #800000\">│</span> in <span style=\"color: #00ff00; text-decoration-color: #00ff00\">Go_to</span>:<span style=\"color: #0000ff; text-decoration-color: #0000ff\">175</span>                                                                                     <span style=\"color: #800000; text-decoration-color: #800000\">│</span>\n",
       "<span style=\"color: #800000; text-decoration-color: #800000\">│</span>                                                                                                  <span style=\"color: #800000; text-decoration-color: #800000\">│</span>\n",
       "<span style=\"color: #800000; text-decoration-color: #800000\">│</span>   <span style=\"color: #7f7f7f; text-decoration-color: #7f7f7f\">172 │   │   │   </span><span style=\"color: #00ffff; text-decoration-color: #00ffff\">self</span>.update(<span style=\"color: #808000; text-decoration-color: #808000\">\"right\"</span>)                                                           <span style=\"color: #800000; text-decoration-color: #800000\">│</span>\n",
       "<span style=\"color: #800000; text-decoration-color: #800000\">│</span>   <span style=\"color: #7f7f7f; text-decoration-color: #7f7f7f\">173 │   │   │   </span>sleep(<span style=\"color: #0000ff; text-decoration-color: #0000ff\">0.1</span>)                                                                     <span style=\"color: #800000; text-decoration-color: #800000\">│</span>\n",
       "<span style=\"color: #800000; text-decoration-color: #800000\">│</span>   <span style=\"color: #7f7f7f; text-decoration-color: #7f7f7f\">174 │   │   │   </span><span style=\"color: #00ffff; text-decoration-color: #00ffff\">self</span>.mirando=<span style=\"color: #808000; text-decoration-color: #808000\">\"right\"</span>                                                           <span style=\"color: #800000; text-decoration-color: #800000\">│</span>\n",
       "<span style=\"color: #800000; text-decoration-color: #800000\">│</span> <span style=\"color: #800000; text-decoration-color: #800000\">❱ </span>175 <span style=\"color: #7f7f7f; text-decoration-color: #7f7f7f\">│   │   │   </span><span style=\"color: #00ffff; text-decoration-color: #00ffff\">self</span>.Go_to(x-<span style=\"color: #0000ff; text-decoration-color: #0000ff\">1</span>,y)                                                              <span style=\"color: #800000; text-decoration-color: #800000\">│</span>\n",
       "<span style=\"color: #800000; text-decoration-color: #800000\">│</span>   <span style=\"color: #7f7f7f; text-decoration-color: #7f7f7f\">176 │   │   </span><span style=\"color: #0000ff; text-decoration-color: #0000ff\">elif</span> x&lt;<span style=\"color: #0000ff; text-decoration-color: #0000ff\">0</span>:                                                                          <span style=\"color: #800000; text-decoration-color: #800000\">│</span>\n",
       "<span style=\"color: #800000; text-decoration-color: #800000\">│</span>   <span style=\"color: #7f7f7f; text-decoration-color: #7f7f7f\">177 │   │   │   </span>Apply_command(<span style=\"color: #808000; text-decoration-color: #808000\">\"left\"</span>)                                                          <span style=\"color: #800000; text-decoration-color: #800000\">│</span>\n",
       "<span style=\"color: #800000; text-decoration-color: #800000\">│</span>   <span style=\"color: #7f7f7f; text-decoration-color: #7f7f7f\">178 │   │   │   </span><span style=\"color: #0000ff; text-decoration-color: #0000ff\">if</span> <span style=\"color: #ff00ff; text-decoration-color: #ff00ff\">not</span> <span style=\"color: #00ffff; text-decoration-color: #00ffff\">self</span>.Ha_cambiado_el_mapa():                                             <span style=\"color: #800000; text-decoration-color: #800000\">│</span>\n",
       "<span style=\"color: #800000; text-decoration-color: #800000\">│</span>                                                                                                  <span style=\"color: #800000; text-decoration-color: #800000\">│</span>\n",
       "<span style=\"color: #800000; text-decoration-color: #800000\">│</span> in <span style=\"color: #00ff00; text-decoration-color: #00ff00\">Go_to</span>:<span style=\"color: #0000ff; text-decoration-color: #0000ff\">175</span>                                                                                     <span style=\"color: #800000; text-decoration-color: #800000\">│</span>\n",
       "<span style=\"color: #800000; text-decoration-color: #800000\">│</span>                                                                                                  <span style=\"color: #800000; text-decoration-color: #800000\">│</span>\n",
       "<span style=\"color: #800000; text-decoration-color: #800000\">│</span>   <span style=\"color: #7f7f7f; text-decoration-color: #7f7f7f\">172 │   │   │   </span><span style=\"color: #00ffff; text-decoration-color: #00ffff\">self</span>.update(<span style=\"color: #808000; text-decoration-color: #808000\">\"right\"</span>)                                                           <span style=\"color: #800000; text-decoration-color: #800000\">│</span>\n",
       "<span style=\"color: #800000; text-decoration-color: #800000\">│</span>   <span style=\"color: #7f7f7f; text-decoration-color: #7f7f7f\">173 │   │   │   </span>sleep(<span style=\"color: #0000ff; text-decoration-color: #0000ff\">0.1</span>)                                                                     <span style=\"color: #800000; text-decoration-color: #800000\">│</span>\n",
       "<span style=\"color: #800000; text-decoration-color: #800000\">│</span>   <span style=\"color: #7f7f7f; text-decoration-color: #7f7f7f\">174 │   │   │   </span><span style=\"color: #00ffff; text-decoration-color: #00ffff\">self</span>.mirando=<span style=\"color: #808000; text-decoration-color: #808000\">\"right\"</span>                                                           <span style=\"color: #800000; text-decoration-color: #800000\">│</span>\n",
       "<span style=\"color: #800000; text-decoration-color: #800000\">│</span> <span style=\"color: #800000; text-decoration-color: #800000\">❱ </span>175 <span style=\"color: #7f7f7f; text-decoration-color: #7f7f7f\">│   │   │   </span><span style=\"color: #00ffff; text-decoration-color: #00ffff\">self</span>.Go_to(x-<span style=\"color: #0000ff; text-decoration-color: #0000ff\">1</span>,y)                                                              <span style=\"color: #800000; text-decoration-color: #800000\">│</span>\n",
       "<span style=\"color: #800000; text-decoration-color: #800000\">│</span>   <span style=\"color: #7f7f7f; text-decoration-color: #7f7f7f\">176 │   │   </span><span style=\"color: #0000ff; text-decoration-color: #0000ff\">elif</span> x&lt;<span style=\"color: #0000ff; text-decoration-color: #0000ff\">0</span>:                                                                          <span style=\"color: #800000; text-decoration-color: #800000\">│</span>\n",
       "<span style=\"color: #800000; text-decoration-color: #800000\">│</span>   <span style=\"color: #7f7f7f; text-decoration-color: #7f7f7f\">177 │   │   │   </span>Apply_command(<span style=\"color: #808000; text-decoration-color: #808000\">\"left\"</span>)                                                          <span style=\"color: #800000; text-decoration-color: #800000\">│</span>\n",
       "<span style=\"color: #800000; text-decoration-color: #800000\">│</span>   <span style=\"color: #7f7f7f; text-decoration-color: #7f7f7f\">178 │   │   │   </span><span style=\"color: #0000ff; text-decoration-color: #0000ff\">if</span> <span style=\"color: #ff00ff; text-decoration-color: #ff00ff\">not</span> <span style=\"color: #00ffff; text-decoration-color: #00ffff\">self</span>.Ha_cambiado_el_mapa():                                             <span style=\"color: #800000; text-decoration-color: #800000\">│</span>\n",
       "<span style=\"color: #800000; text-decoration-color: #800000\">│</span>                                                                                                  <span style=\"color: #800000; text-decoration-color: #800000\">│</span>\n",
       "<span style=\"color: #800000; text-decoration-color: #800000\">│</span> in <span style=\"color: #00ff00; text-decoration-color: #00ff00\">Go_to</span>:<span style=\"color: #0000ff; text-decoration-color: #0000ff\">175</span>                                                                                     <span style=\"color: #800000; text-decoration-color: #800000\">│</span>\n",
       "<span style=\"color: #800000; text-decoration-color: #800000\">│</span>                                                                                                  <span style=\"color: #800000; text-decoration-color: #800000\">│</span>\n",
       "<span style=\"color: #800000; text-decoration-color: #800000\">│</span>   <span style=\"color: #7f7f7f; text-decoration-color: #7f7f7f\">172 │   │   │   </span><span style=\"color: #00ffff; text-decoration-color: #00ffff\">self</span>.update(<span style=\"color: #808000; text-decoration-color: #808000\">\"right\"</span>)                                                           <span style=\"color: #800000; text-decoration-color: #800000\">│</span>\n",
       "<span style=\"color: #800000; text-decoration-color: #800000\">│</span>   <span style=\"color: #7f7f7f; text-decoration-color: #7f7f7f\">173 │   │   │   </span>sleep(<span style=\"color: #0000ff; text-decoration-color: #0000ff\">0.1</span>)                                                                     <span style=\"color: #800000; text-decoration-color: #800000\">│</span>\n",
       "<span style=\"color: #800000; text-decoration-color: #800000\">│</span>   <span style=\"color: #7f7f7f; text-decoration-color: #7f7f7f\">174 │   │   │   </span><span style=\"color: #00ffff; text-decoration-color: #00ffff\">self</span>.mirando=<span style=\"color: #808000; text-decoration-color: #808000\">\"right\"</span>                                                           <span style=\"color: #800000; text-decoration-color: #800000\">│</span>\n",
       "<span style=\"color: #800000; text-decoration-color: #800000\">│</span> <span style=\"color: #800000; text-decoration-color: #800000\">❱ </span>175 <span style=\"color: #7f7f7f; text-decoration-color: #7f7f7f\">│   │   │   </span><span style=\"color: #00ffff; text-decoration-color: #00ffff\">self</span>.Go_to(x-<span style=\"color: #0000ff; text-decoration-color: #0000ff\">1</span>,y)                                                              <span style=\"color: #800000; text-decoration-color: #800000\">│</span>\n",
       "<span style=\"color: #800000; text-decoration-color: #800000\">│</span>   <span style=\"color: #7f7f7f; text-decoration-color: #7f7f7f\">176 │   │   </span><span style=\"color: #0000ff; text-decoration-color: #0000ff\">elif</span> x&lt;<span style=\"color: #0000ff; text-decoration-color: #0000ff\">0</span>:                                                                          <span style=\"color: #800000; text-decoration-color: #800000\">│</span>\n",
       "<span style=\"color: #800000; text-decoration-color: #800000\">│</span>   <span style=\"color: #7f7f7f; text-decoration-color: #7f7f7f\">177 │   │   │   </span>Apply_command(<span style=\"color: #808000; text-decoration-color: #808000\">\"left\"</span>)                                                          <span style=\"color: #800000; text-decoration-color: #800000\">│</span>\n",
       "<span style=\"color: #800000; text-decoration-color: #800000\">│</span>   <span style=\"color: #7f7f7f; text-decoration-color: #7f7f7f\">178 │   │   │   </span><span style=\"color: #0000ff; text-decoration-color: #0000ff\">if</span> <span style=\"color: #ff00ff; text-decoration-color: #ff00ff\">not</span> <span style=\"color: #00ffff; text-decoration-color: #00ffff\">self</span>.Ha_cambiado_el_mapa():                                             <span style=\"color: #800000; text-decoration-color: #800000\">│</span>\n",
       "<span style=\"color: #800000; text-decoration-color: #800000\">│</span>                                                                                                  <span style=\"color: #800000; text-decoration-color: #800000\">│</span>\n",
       "<span style=\"color: #800000; text-decoration-color: #800000\">│</span> in <span style=\"color: #00ff00; text-decoration-color: #00ff00\">Go_to</span>:<span style=\"color: #0000ff; text-decoration-color: #0000ff\">175</span>                                                                                     <span style=\"color: #800000; text-decoration-color: #800000\">│</span>\n",
       "<span style=\"color: #800000; text-decoration-color: #800000\">│</span>                                                                                                  <span style=\"color: #800000; text-decoration-color: #800000\">│</span>\n",
       "<span style=\"color: #800000; text-decoration-color: #800000\">│</span>   <span style=\"color: #7f7f7f; text-decoration-color: #7f7f7f\">172 │   │   │   </span><span style=\"color: #00ffff; text-decoration-color: #00ffff\">self</span>.update(<span style=\"color: #808000; text-decoration-color: #808000\">\"right\"</span>)                                                           <span style=\"color: #800000; text-decoration-color: #800000\">│</span>\n",
       "<span style=\"color: #800000; text-decoration-color: #800000\">│</span>   <span style=\"color: #7f7f7f; text-decoration-color: #7f7f7f\">173 │   │   │   </span>sleep(<span style=\"color: #0000ff; text-decoration-color: #0000ff\">0.1</span>)                                                                     <span style=\"color: #800000; text-decoration-color: #800000\">│</span>\n",
       "<span style=\"color: #800000; text-decoration-color: #800000\">│</span>   <span style=\"color: #7f7f7f; text-decoration-color: #7f7f7f\">174 │   │   │   </span><span style=\"color: #00ffff; text-decoration-color: #00ffff\">self</span>.mirando=<span style=\"color: #808000; text-decoration-color: #808000\">\"right\"</span>                                                           <span style=\"color: #800000; text-decoration-color: #800000\">│</span>\n",
       "<span style=\"color: #800000; text-decoration-color: #800000\">│</span> <span style=\"color: #800000; text-decoration-color: #800000\">❱ </span>175 <span style=\"color: #7f7f7f; text-decoration-color: #7f7f7f\">│   │   │   </span><span style=\"color: #00ffff; text-decoration-color: #00ffff\">self</span>.Go_to(x-<span style=\"color: #0000ff; text-decoration-color: #0000ff\">1</span>,y)                                                              <span style=\"color: #800000; text-decoration-color: #800000\">│</span>\n",
       "<span style=\"color: #800000; text-decoration-color: #800000\">│</span>   <span style=\"color: #7f7f7f; text-decoration-color: #7f7f7f\">176 │   │   </span><span style=\"color: #0000ff; text-decoration-color: #0000ff\">elif</span> x&lt;<span style=\"color: #0000ff; text-decoration-color: #0000ff\">0</span>:                                                                          <span style=\"color: #800000; text-decoration-color: #800000\">│</span>\n",
       "<span style=\"color: #800000; text-decoration-color: #800000\">│</span>   <span style=\"color: #7f7f7f; text-decoration-color: #7f7f7f\">177 │   │   │   </span>Apply_command(<span style=\"color: #808000; text-decoration-color: #808000\">\"left\"</span>)                                                          <span style=\"color: #800000; text-decoration-color: #800000\">│</span>\n",
       "<span style=\"color: #800000; text-decoration-color: #800000\">│</span>   <span style=\"color: #7f7f7f; text-decoration-color: #7f7f7f\">178 │   │   │   </span><span style=\"color: #0000ff; text-decoration-color: #0000ff\">if</span> <span style=\"color: #ff00ff; text-decoration-color: #ff00ff\">not</span> <span style=\"color: #00ffff; text-decoration-color: #00ffff\">self</span>.Ha_cambiado_el_mapa():                                             <span style=\"color: #800000; text-decoration-color: #800000\">│</span>\n",
       "<span style=\"color: #800000; text-decoration-color: #800000\">│</span>                                                                                                  <span style=\"color: #800000; text-decoration-color: #800000\">│</span>\n",
       "<span style=\"color: #800000; text-decoration-color: #800000\">│</span> in <span style=\"color: #00ff00; text-decoration-color: #00ff00\">Go_to</span>:<span style=\"color: #0000ff; text-decoration-color: #0000ff\">175</span>                                                                                     <span style=\"color: #800000; text-decoration-color: #800000\">│</span>\n",
       "<span style=\"color: #800000; text-decoration-color: #800000\">│</span>                                                                                                  <span style=\"color: #800000; text-decoration-color: #800000\">│</span>\n",
       "<span style=\"color: #800000; text-decoration-color: #800000\">│</span>   <span style=\"color: #7f7f7f; text-decoration-color: #7f7f7f\">172 │   │   │   </span><span style=\"color: #00ffff; text-decoration-color: #00ffff\">self</span>.update(<span style=\"color: #808000; text-decoration-color: #808000\">\"right\"</span>)                                                           <span style=\"color: #800000; text-decoration-color: #800000\">│</span>\n",
       "<span style=\"color: #800000; text-decoration-color: #800000\">│</span>   <span style=\"color: #7f7f7f; text-decoration-color: #7f7f7f\">173 │   │   │   </span>sleep(<span style=\"color: #0000ff; text-decoration-color: #0000ff\">0.1</span>)                                                                     <span style=\"color: #800000; text-decoration-color: #800000\">│</span>\n",
       "<span style=\"color: #800000; text-decoration-color: #800000\">│</span>   <span style=\"color: #7f7f7f; text-decoration-color: #7f7f7f\">174 │   │   │   </span><span style=\"color: #00ffff; text-decoration-color: #00ffff\">self</span>.mirando=<span style=\"color: #808000; text-decoration-color: #808000\">\"right\"</span>                                                           <span style=\"color: #800000; text-decoration-color: #800000\">│</span>\n",
       "<span style=\"color: #800000; text-decoration-color: #800000\">│</span> <span style=\"color: #800000; text-decoration-color: #800000\">❱ </span>175 <span style=\"color: #7f7f7f; text-decoration-color: #7f7f7f\">│   │   │   </span><span style=\"color: #00ffff; text-decoration-color: #00ffff\">self</span>.Go_to(x-<span style=\"color: #0000ff; text-decoration-color: #0000ff\">1</span>,y)                                                              <span style=\"color: #800000; text-decoration-color: #800000\">│</span>\n",
       "<span style=\"color: #800000; text-decoration-color: #800000\">│</span>   <span style=\"color: #7f7f7f; text-decoration-color: #7f7f7f\">176 │   │   </span><span style=\"color: #0000ff; text-decoration-color: #0000ff\">elif</span> x&lt;<span style=\"color: #0000ff; text-decoration-color: #0000ff\">0</span>:                                                                          <span style=\"color: #800000; text-decoration-color: #800000\">│</span>\n",
       "<span style=\"color: #800000; text-decoration-color: #800000\">│</span>   <span style=\"color: #7f7f7f; text-decoration-color: #7f7f7f\">177 │   │   │   </span>Apply_command(<span style=\"color: #808000; text-decoration-color: #808000\">\"left\"</span>)                                                          <span style=\"color: #800000; text-decoration-color: #800000\">│</span>\n",
       "<span style=\"color: #800000; text-decoration-color: #800000\">│</span>   <span style=\"color: #7f7f7f; text-decoration-color: #7f7f7f\">178 │   │   │   </span><span style=\"color: #0000ff; text-decoration-color: #0000ff\">if</span> <span style=\"color: #ff00ff; text-decoration-color: #ff00ff\">not</span> <span style=\"color: #00ffff; text-decoration-color: #00ffff\">self</span>.Ha_cambiado_el_mapa():                                             <span style=\"color: #800000; text-decoration-color: #800000\">│</span>\n",
       "<span style=\"color: #800000; text-decoration-color: #800000\">│</span>                                                                                                  <span style=\"color: #800000; text-decoration-color: #800000\">│</span>\n",
       "<span style=\"color: #800000; text-decoration-color: #800000\">│</span> in <span style=\"color: #00ff00; text-decoration-color: #00ff00\">Go_to</span>:<span style=\"color: #0000ff; text-decoration-color: #0000ff\">175</span>                                                                                     <span style=\"color: #800000; text-decoration-color: #800000\">│</span>\n",
       "<span style=\"color: #800000; text-decoration-color: #800000\">│</span>                                                                                                  <span style=\"color: #800000; text-decoration-color: #800000\">│</span>\n",
       "<span style=\"color: #800000; text-decoration-color: #800000\">│</span>   <span style=\"color: #7f7f7f; text-decoration-color: #7f7f7f\">172 │   │   │   </span><span style=\"color: #00ffff; text-decoration-color: #00ffff\">self</span>.update(<span style=\"color: #808000; text-decoration-color: #808000\">\"right\"</span>)                                                           <span style=\"color: #800000; text-decoration-color: #800000\">│</span>\n",
       "<span style=\"color: #800000; text-decoration-color: #800000\">│</span>   <span style=\"color: #7f7f7f; text-decoration-color: #7f7f7f\">173 │   │   │   </span>sleep(<span style=\"color: #0000ff; text-decoration-color: #0000ff\">0.1</span>)                                                                     <span style=\"color: #800000; text-decoration-color: #800000\">│</span>\n",
       "<span style=\"color: #800000; text-decoration-color: #800000\">│</span>   <span style=\"color: #7f7f7f; text-decoration-color: #7f7f7f\">174 │   │   │   </span><span style=\"color: #00ffff; text-decoration-color: #00ffff\">self</span>.mirando=<span style=\"color: #808000; text-decoration-color: #808000\">\"right\"</span>                                                           <span style=\"color: #800000; text-decoration-color: #800000\">│</span>\n",
       "<span style=\"color: #800000; text-decoration-color: #800000\">│</span> <span style=\"color: #800000; text-decoration-color: #800000\">❱ </span>175 <span style=\"color: #7f7f7f; text-decoration-color: #7f7f7f\">│   │   │   </span><span style=\"color: #00ffff; text-decoration-color: #00ffff\">self</span>.Go_to(x-<span style=\"color: #0000ff; text-decoration-color: #0000ff\">1</span>,y)                                                              <span style=\"color: #800000; text-decoration-color: #800000\">│</span>\n",
       "<span style=\"color: #800000; text-decoration-color: #800000\">│</span>   <span style=\"color: #7f7f7f; text-decoration-color: #7f7f7f\">176 │   │   </span><span style=\"color: #0000ff; text-decoration-color: #0000ff\">elif</span> x&lt;<span style=\"color: #0000ff; text-decoration-color: #0000ff\">0</span>:                                                                          <span style=\"color: #800000; text-decoration-color: #800000\">│</span>\n",
       "<span style=\"color: #800000; text-decoration-color: #800000\">│</span>   <span style=\"color: #7f7f7f; text-decoration-color: #7f7f7f\">177 │   │   │   </span>Apply_command(<span style=\"color: #808000; text-decoration-color: #808000\">\"left\"</span>)                                                          <span style=\"color: #800000; text-decoration-color: #800000\">│</span>\n",
       "<span style=\"color: #800000; text-decoration-color: #800000\">│</span>   <span style=\"color: #7f7f7f; text-decoration-color: #7f7f7f\">178 │   │   │   </span><span style=\"color: #0000ff; text-decoration-color: #0000ff\">if</span> <span style=\"color: #ff00ff; text-decoration-color: #ff00ff\">not</span> <span style=\"color: #00ffff; text-decoration-color: #00ffff\">self</span>.Ha_cambiado_el_mapa():                                             <span style=\"color: #800000; text-decoration-color: #800000\">│</span>\n",
       "<span style=\"color: #800000; text-decoration-color: #800000\">│</span>                                                                                                  <span style=\"color: #800000; text-decoration-color: #800000\">│</span>\n",
       "<span style=\"color: #800000; text-decoration-color: #800000\">│</span> in <span style=\"color: #00ff00; text-decoration-color: #00ff00\">Go_to</span>:<span style=\"color: #0000ff; text-decoration-color: #0000ff\">169</span>                                                                                     <span style=\"color: #800000; text-decoration-color: #800000\">│</span>\n",
       "<span style=\"color: #800000; text-decoration-color: #800000\">│</span>                                                                                                  <span style=\"color: #800000; text-decoration-color: #800000\">│</span>\n",
       "<span style=\"color: #800000; text-decoration-color: #800000\">│</span>   <span style=\"color: #7f7f7f; text-decoration-color: #7f7f7f\">166 │   │   │   </span><span style=\"color: #00ffff; text-decoration-color: #00ffff\">self</span>.Go_to(x,y+<span style=\"color: #0000ff; text-decoration-color: #0000ff\">1</span>)                                                              <span style=\"color: #800000; text-decoration-color: #800000\">│</span>\n",
       "<span style=\"color: #800000; text-decoration-color: #800000\">│</span>   <span style=\"color: #7f7f7f; text-decoration-color: #7f7f7f\">167 │   │   </span><span style=\"color: #0000ff; text-decoration-color: #0000ff\">if</span> x&gt;<span style=\"color: #0000ff; text-decoration-color: #0000ff\">0</span>:                                                                            <span style=\"color: #800000; text-decoration-color: #800000\">│</span>\n",
       "<span style=\"color: #800000; text-decoration-color: #800000\">│</span>   <span style=\"color: #7f7f7f; text-decoration-color: #7f7f7f\">168 │   │   │   </span>Apply_command(<span style=\"color: #808000; text-decoration-color: #808000\">\"right\"</span>)                                                         <span style=\"color: #800000; text-decoration-color: #800000\">│</span>\n",
       "<span style=\"color: #800000; text-decoration-color: #800000\">│</span> <span style=\"color: #800000; text-decoration-color: #800000\">❱ </span>169 <span style=\"color: #7f7f7f; text-decoration-color: #7f7f7f\">│   │   │   </span><span style=\"color: #0000ff; text-decoration-color: #0000ff\">if</span> <span style=\"color: #ff00ff; text-decoration-color: #ff00ff\">not</span> <span style=\"color: #00ffff; text-decoration-color: #00ffff\">self</span>.Ha_cambiado_el_mapa():                                             <span style=\"color: #800000; text-decoration-color: #800000\">│</span>\n",
       "<span style=\"color: #800000; text-decoration-color: #800000\">│</span>   <span style=\"color: #7f7f7f; text-decoration-color: #7f7f7f\">170 │   │   │   │   </span><span style=\"color: #00ffff; text-decoration-color: #00ffff\">print</span>(<span style=\"color: #808000; text-decoration-color: #808000\">\"No cambio\"</span>)                                                         <span style=\"color: #800000; text-decoration-color: #800000\">│</span>\n",
       "<span style=\"color: #800000; text-decoration-color: #800000\">│</span>   <span style=\"color: #7f7f7f; text-decoration-color: #7f7f7f\">171 │   │   │   │   </span>Apply_command(<span style=\"color: #808000; text-decoration-color: #808000\">\"right\"</span>)                                                     <span style=\"color: #800000; text-decoration-color: #800000\">│</span>\n",
       "<span style=\"color: #800000; text-decoration-color: #800000\">│</span>   <span style=\"color: #7f7f7f; text-decoration-color: #7f7f7f\">172 │   │   │   </span><span style=\"color: #00ffff; text-decoration-color: #00ffff\">self</span>.update(<span style=\"color: #808000; text-decoration-color: #808000\">\"right\"</span>)                                                           <span style=\"color: #800000; text-decoration-color: #800000\">│</span>\n",
       "<span style=\"color: #800000; text-decoration-color: #800000\">│</span>                                                                                                  <span style=\"color: #800000; text-decoration-color: #800000\">│</span>\n",
       "<span style=\"color: #800000; text-decoration-color: #800000\">│</span> in <span style=\"color: #00ff00; text-decoration-color: #00ff00\">Ha_cambiado_el_mapa</span>:<span style=\"color: #0000ff; text-decoration-color: #0000ff\">106</span>                                                                       <span style=\"color: #800000; text-decoration-color: #800000\">│</span>\n",
       "<span style=\"color: #800000; text-decoration-color: #800000\">│</span>                                                                                                  <span style=\"color: #800000; text-decoration-color: #800000\">│</span>\n",
       "<span style=\"color: #800000; text-decoration-color: #800000\">│</span>   <span style=\"color: #7f7f7f; text-decoration-color: #7f7f7f\">103 │   │   </span><span style=\"color: #0000ff; text-decoration-color: #0000ff\">return</span> <span style=\"color: #0000ff; text-decoration-color: #0000ff\">True</span>                                                                        <span style=\"color: #800000; text-decoration-color: #800000\">│</span>\n",
       "<span style=\"color: #800000; text-decoration-color: #800000\">│</span>   <span style=\"color: #7f7f7f; text-decoration-color: #7f7f7f\">104 │   </span>                                                                                       <span style=\"color: #800000; text-decoration-color: #800000\">│</span>\n",
       "<span style=\"color: #800000; text-decoration-color: #800000\">│</span>   <span style=\"color: #7f7f7f; text-decoration-color: #7f7f7f\">105 │   </span><span style=\"color: #0000ff; text-decoration-color: #0000ff\">def</span> <span style=\"color: #00ff00; text-decoration-color: #00ff00\">Ha_cambiado_el_mapa</span>(<span style=\"color: #00ffff; text-decoration-color: #00ffff\">self</span>):                                                         <span style=\"color: #800000; text-decoration-color: #800000\">│</span>\n",
       "<span style=\"color: #800000; text-decoration-color: #800000\">│</span> <span style=\"color: #800000; text-decoration-color: #800000\">❱ </span>106 <span style=\"color: #7f7f7f; text-decoration-color: #7f7f7f\">│   │   </span>mapa_actual=find_and_save_unique_images(crop_into_pixels(screenshot()))            <span style=\"color: #800000; text-decoration-color: #800000\">│</span>\n",
       "<span style=\"color: #800000; text-decoration-color: #800000\">│</span>   <span style=\"color: #7f7f7f; text-decoration-color: #7f7f7f\">107 │   │   </span><span style=\"color: #0000ff; text-decoration-color: #0000ff\">return</span> <span style=\"color: #ff00ff; text-decoration-color: #ff00ff\">not</span> <span style=\"color: #00ffff; text-decoration-color: #00ffff\">self</span>.Es_el_mismo_mapa(mapa_actual)                                      <span style=\"color: #800000; text-decoration-color: #800000\">│</span>\n",
       "<span style=\"color: #800000; text-decoration-color: #800000\">│</span>   <span style=\"color: #7f7f7f; text-decoration-color: #7f7f7f\">108 </span>                                                                                           <span style=\"color: #800000; text-decoration-color: #800000\">│</span>\n",
       "<span style=\"color: #800000; text-decoration-color: #800000\">│</span>   <span style=\"color: #7f7f7f; text-decoration-color: #7f7f7f\">109 </span>                                                                                           <span style=\"color: #800000; text-decoration-color: #800000\">│</span>\n",
       "<span style=\"color: #800000; text-decoration-color: #800000\">│</span>                                                                                                  <span style=\"color: #800000; text-decoration-color: #800000\">│</span>\n",
       "<span style=\"color: #800000; text-decoration-color: #800000\">│</span> in <span style=\"color: #00ff00; text-decoration-color: #00ff00\">find_and_save_unique_images</span>:<span style=\"color: #0000ff; text-decoration-color: #0000ff\">45</span>                                                                <span style=\"color: #800000; text-decoration-color: #800000\">│</span>\n",
       "<span style=\"color: #800000; text-decoration-color: #800000\">│</span>                                                                                                  <span style=\"color: #800000; text-decoration-color: #800000\">│</span>\n",
       "<span style=\"color: #800000; text-decoration-color: #800000\">│</span>   <span style=\"color: #7f7f7f; text-decoration-color: #7f7f7f\">42 │   │   </span>new_image=<span style=\"color: #0000ff; text-decoration-color: #0000ff\">True</span>                                                                      <span style=\"color: #800000; text-decoration-color: #800000\">│</span>\n",
       "<span style=\"color: #800000; text-decoration-color: #800000\">│</span>   <span style=\"color: #7f7f7f; text-decoration-color: #7f7f7f\">43 │   │   </span><span style=\"color: #0000ff; text-decoration-color: #0000ff\">for</span> filename <span style=\"color: #ff00ff; text-decoration-color: #ff00ff\">in</span> os.listdir(screenshot_dir):                                         <span style=\"color: #800000; text-decoration-color: #800000\">│</span>\n",
       "<span style=\"color: #800000; text-decoration-color: #800000\">│</span>   <span style=\"color: #7f7f7f; text-decoration-color: #7f7f7f\">44 │   │   │   </span>existing_image=Image.open(os.path.join(screenshot_dir, filename))               <span style=\"color: #800000; text-decoration-color: #800000\">│</span>\n",
       "<span style=\"color: #800000; text-decoration-color: #800000\">│</span> <span style=\"color: #800000; text-decoration-color: #800000\">❱ </span>45 <span style=\"color: #7f7f7f; text-decoration-color: #7f7f7f\">│   │   │   </span><span style=\"color: #0000ff; text-decoration-color: #0000ff\">if</span> images_are_similar(image, existing_image,threshold=<span style=\"color: #0000ff; text-decoration-color: #0000ff\">0.05</span>):                    <span style=\"color: #800000; text-decoration-color: #800000\">│</span>\n",
       "<span style=\"color: #800000; text-decoration-color: #800000\">│</span>   <span style=\"color: #7f7f7f; text-decoration-color: #7f7f7f\">46 │   │   │   │   </span>number_png=<span style=\"color: #00ffff; text-decoration-color: #00ffff\">int</span>(filename.split(<span style=\"color: #808000; text-decoration-color: #808000\">\".\"</span>)[<span style=\"color: #0000ff; text-decoration-color: #0000ff\">0</span>])                                      <span style=\"color: #800000; text-decoration-color: #800000\">│</span>\n",
       "<span style=\"color: #800000; text-decoration-color: #800000\">│</span>   <span style=\"color: #7f7f7f; text-decoration-color: #7f7f7f\">47 │   │   │   │   </span>map_as_numbers[map_indices==i]=number_png                                   <span style=\"color: #800000; text-decoration-color: #800000\">│</span>\n",
       "<span style=\"color: #800000; text-decoration-color: #800000\">│</span>   <span style=\"color: #7f7f7f; text-decoration-color: #7f7f7f\">48 │   │   │   │   </span>new_image=<span style=\"color: #0000ff; text-decoration-color: #0000ff\">False</span>                                                             <span style=\"color: #800000; text-decoration-color: #800000\">│</span>\n",
       "<span style=\"color: #800000; text-decoration-color: #800000\">│</span>                                                                                                  <span style=\"color: #800000; text-decoration-color: #800000\">│</span>\n",
       "<span style=\"color: #800000; text-decoration-color: #800000\">│</span> <span style=\"color: #808000; text-decoration-color: #808000\">c:\\Users\\Rafa\\Desktop\\Pokemon\\Python_code\\images_are_similar.py</span>:<span style=\"color: #0000ff; text-decoration-color: #0000ff\">6</span> in <span style=\"color: #00ff00; text-decoration-color: #00ff00\">images_are_similar</span>          <span style=\"color: #800000; text-decoration-color: #800000\">│</span>\n",
       "<span style=\"color: #800000; text-decoration-color: #800000\">│</span>                                                                                                  <span style=\"color: #800000; text-decoration-color: #800000\">│</span>\n",
       "<span style=\"color: #800000; text-decoration-color: #800000\">│</span>   <span style=\"color: #7f7f7f; text-decoration-color: #7f7f7f\"> 3 </span><span style=\"color: #0000ff; text-decoration-color: #0000ff\">def</span> <span style=\"color: #00ff00; text-decoration-color: #00ff00\">images_are_similar</span>(image1, image2,threshold=<span style=\"color: #0000ff; text-decoration-color: #0000ff\">0.05</span>):                                      <span style=\"color: #800000; text-decoration-color: #800000\">│</span>\n",
       "<span style=\"color: #800000; text-decoration-color: #800000\">│</span>   <span style=\"color: #7f7f7f; text-decoration-color: #7f7f7f\"> 4 │   # Convert images to numpy arrays</span>                                                        <span style=\"color: #800000; text-decoration-color: #800000\">│</span>\n",
       "<span style=\"color: #800000; text-decoration-color: #800000\">│</span>   <span style=\"color: #7f7f7f; text-decoration-color: #7f7f7f\"> 5 │   </span>img1 = np.array(image1)/<span style=\"color: #0000ff; text-decoration-color: #0000ff\">255</span>                                                             <span style=\"color: #800000; text-decoration-color: #800000\">│</span>\n",
       "<span style=\"color: #800000; text-decoration-color: #800000\">│</span> <span style=\"color: #800000; text-decoration-color: #800000\">❱ </span> 6 <span style=\"color: #7f7f7f; text-decoration-color: #7f7f7f\">│   </span>img2 = np.array(image2)/<span style=\"color: #0000ff; text-decoration-color: #0000ff\">255</span>                                                             <span style=\"color: #800000; text-decoration-color: #800000\">│</span>\n",
       "<span style=\"color: #800000; text-decoration-color: #800000\">│</span>   <span style=\"color: #7f7f7f; text-decoration-color: #7f7f7f\"> 7 │   </span>                                                                                        <span style=\"color: #800000; text-decoration-color: #800000\">│</span>\n",
       "<span style=\"color: #800000; text-decoration-color: #800000\">│</span>   <span style=\"color: #7f7f7f; text-decoration-color: #7f7f7f\"> 8 │   # Calculate mean square error (MSE) between the two images</span>                              <span style=\"color: #800000; text-decoration-color: #800000\">│</span>\n",
       "<span style=\"color: #800000; text-decoration-color: #800000\">│</span>   <span style=\"color: #7f7f7f; text-decoration-color: #7f7f7f\"> 9 </span>                                                                                            <span style=\"color: #800000; text-decoration-color: #800000\">│</span>\n",
       "<span style=\"color: #800000; text-decoration-color: #800000\">│</span>                                                                                                  <span style=\"color: #800000; text-decoration-color: #800000\">│</span>\n",
       "<span style=\"color: #800000; text-decoration-color: #800000\">│</span> <span style=\"color: #808000; text-decoration-color: #808000\">c:\\Users\\Rafa\\miniconda3\\lib\\site-packages\\PIL\\Image.py</span>:<span style=\"color: #0000ff; text-decoration-color: #0000ff\">696</span> in <span style=\"color: #00ff00; text-decoration-color: #00ff00\">__array_interface__</span>               <span style=\"color: #800000; text-decoration-color: #800000\">│</span>\n",
       "<span style=\"color: #800000; text-decoration-color: #800000\">│</span>                                                                                                  <span style=\"color: #800000; text-decoration-color: #800000\">│</span>\n",
       "<span style=\"color: #800000; text-decoration-color: #800000\">│</span>   <span style=\"color: #7f7f7f; text-decoration-color: #7f7f7f\"> 693 │   │   │   │   # See: https://github.com/python-pillow/Pillow/issues/350</span>                 <span style=\"color: #800000; text-decoration-color: #800000\">│</span>\n",
       "<span style=\"color: #800000; text-decoration-color: #800000\">│</span>   <span style=\"color: #7f7f7f; text-decoration-color: #7f7f7f\"> 694 │   │   │   │   </span>new[<span style=\"color: #808000; text-decoration-color: #808000\">\"data\"</span>] = <span style=\"color: #00ffff; text-decoration-color: #00ffff\">self</span>.tobytes(<span style=\"color: #808000; text-decoration-color: #808000\">\"raw\"</span>, <span style=\"color: #808000; text-decoration-color: #808000\">\"L\"</span>)                                    <span style=\"color: #800000; text-decoration-color: #800000\">│</span>\n",
       "<span style=\"color: #800000; text-decoration-color: #800000\">│</span>   <span style=\"color: #7f7f7f; text-decoration-color: #7f7f7f\"> 695 │   │   │   </span><span style=\"color: #0000ff; text-decoration-color: #0000ff\">else</span>:                                                                         <span style=\"color: #800000; text-decoration-color: #800000\">│</span>\n",
       "<span style=\"color: #800000; text-decoration-color: #800000\">│</span> <span style=\"color: #800000; text-decoration-color: #800000\">❱ </span> 696 <span style=\"color: #7f7f7f; text-decoration-color: #7f7f7f\">│   │   │   │   </span>new[<span style=\"color: #808000; text-decoration-color: #808000\">\"data\"</span>] = <span style=\"color: #00ffff; text-decoration-color: #00ffff\">self</span>.tobytes()                                              <span style=\"color: #800000; text-decoration-color: #800000\">│</span>\n",
       "<span style=\"color: #800000; text-decoration-color: #800000\">│</span>   <span style=\"color: #7f7f7f; text-decoration-color: #7f7f7f\"> 697 │   │   </span><span style=\"color: #0000ff; text-decoration-color: #0000ff\">except</span> <span style=\"color: #00ffff; text-decoration-color: #00ffff\">Exception</span> <span style=\"color: #0000ff; text-decoration-color: #0000ff\">as</span> e:                                                            <span style=\"color: #800000; text-decoration-color: #800000\">│</span>\n",
       "<span style=\"color: #800000; text-decoration-color: #800000\">│</span>   <span style=\"color: #7f7f7f; text-decoration-color: #7f7f7f\"> 698 │   │   │   </span><span style=\"color: #0000ff; text-decoration-color: #0000ff\">if</span> <span style=\"color: #ff00ff; text-decoration-color: #ff00ff\">not</span> <span style=\"color: #00ffff; text-decoration-color: #00ffff\">isinstance</span>(e, (<span style=\"color: #00ffff; text-decoration-color: #00ffff\">MemoryError</span>, <span style=\"color: #00ffff; text-decoration-color: #00ffff\">RecursionError</span>)):                          <span style=\"color: #800000; text-decoration-color: #800000\">│</span>\n",
       "<span style=\"color: #800000; text-decoration-color: #800000\">│</span>   <span style=\"color: #7f7f7f; text-decoration-color: #7f7f7f\"> 699 │   │   │   │   </span><span style=\"color: #0000ff; text-decoration-color: #0000ff\">try</span>:                                                                      <span style=\"color: #800000; text-decoration-color: #800000\">│</span>\n",
       "<span style=\"color: #800000; text-decoration-color: #800000\">│</span>                                                                                                  <span style=\"color: #800000; text-decoration-color: #800000\">│</span>\n",
       "<span style=\"color: #800000; text-decoration-color: #800000\">│</span> <span style=\"color: #808000; text-decoration-color: #808000\">c:\\Users\\Rafa\\miniconda3\\lib\\site-packages\\PIL\\Image.py</span>:<span style=\"color: #0000ff; text-decoration-color: #0000ff\">754</span> in <span style=\"color: #00ff00; text-decoration-color: #00ff00\">tobytes</span>                           <span style=\"color: #800000; text-decoration-color: #800000\">│</span>\n",
       "<span style=\"color: #800000; text-decoration-color: #800000\">│</span>                                                                                                  <span style=\"color: #800000; text-decoration-color: #800000\">│</span>\n",
       "<span style=\"color: #800000; text-decoration-color: #800000\">│</span>   <span style=\"color: #7f7f7f; text-decoration-color: #7f7f7f\"> 751 │   │   </span><span style=\"color: #0000ff; text-decoration-color: #0000ff\">if</span> encoder_name == <span style=\"color: #808000; text-decoration-color: #808000\">\"raw\"</span> <span style=\"color: #ff00ff; text-decoration-color: #ff00ff\">and</span> args == ():                                          <span style=\"color: #800000; text-decoration-color: #800000\">│</span>\n",
       "<span style=\"color: #800000; text-decoration-color: #800000\">│</span>   <span style=\"color: #7f7f7f; text-decoration-color: #7f7f7f\"> 752 │   │   │   </span>args = <span style=\"color: #00ffff; text-decoration-color: #00ffff\">self</span>.mode                                                              <span style=\"color: #800000; text-decoration-color: #800000\">│</span>\n",
       "<span style=\"color: #800000; text-decoration-color: #800000\">│</span>   <span style=\"color: #7f7f7f; text-decoration-color: #7f7f7f\"> 753 │   │   </span>                                                                                  <span style=\"color: #800000; text-decoration-color: #800000\">│</span>\n",
       "<span style=\"color: #800000; text-decoration-color: #800000\">│</span> <span style=\"color: #800000; text-decoration-color: #800000\">❱ </span> 754 <span style=\"color: #7f7f7f; text-decoration-color: #7f7f7f\">│   │   </span><span style=\"color: #00ffff; text-decoration-color: #00ffff\">self</span>.load()                                                                       <span style=\"color: #800000; text-decoration-color: #800000\">│</span>\n",
       "<span style=\"color: #800000; text-decoration-color: #800000\">│</span>   <span style=\"color: #7f7f7f; text-decoration-color: #7f7f7f\"> 755 │   │   </span>                                                                                  <span style=\"color: #800000; text-decoration-color: #800000\">│</span>\n",
       "<span style=\"color: #800000; text-decoration-color: #800000\">│</span>   <span style=\"color: #7f7f7f; text-decoration-color: #7f7f7f\"> 756 │   │   </span><span style=\"color: #0000ff; text-decoration-color: #0000ff\">if</span> <span style=\"color: #00ffff; text-decoration-color: #00ffff\">self</span>.width == <span style=\"color: #0000ff; text-decoration-color: #0000ff\">0</span> <span style=\"color: #ff00ff; text-decoration-color: #ff00ff\">or</span> <span style=\"color: #00ffff; text-decoration-color: #00ffff\">self</span>.height == <span style=\"color: #0000ff; text-decoration-color: #0000ff\">0</span>:                                           <span style=\"color: #800000; text-decoration-color: #800000\">│</span>\n",
       "<span style=\"color: #800000; text-decoration-color: #800000\">│</span>   <span style=\"color: #7f7f7f; text-decoration-color: #7f7f7f\"> 757 │   │   │   </span><span style=\"color: #0000ff; text-decoration-color: #0000ff\">return</span> <span style=\"color: #808000; text-decoration-color: #808000\">b\"\"</span>                                                                    <span style=\"color: #800000; text-decoration-color: #800000\">│</span>\n",
       "<span style=\"color: #800000; text-decoration-color: #800000\">│</span>                                                                                                  <span style=\"color: #800000; text-decoration-color: #800000\">│</span>\n",
       "<span style=\"color: #800000; text-decoration-color: #800000\">│</span> <span style=\"color: #808000; text-decoration-color: #808000\">c:\\Users\\Rafa\\miniconda3\\lib\\site-packages\\PIL\\ImageFile.py</span>:<span style=\"color: #0000ff; text-decoration-color: #0000ff\">269</span> in <span style=\"color: #00ff00; text-decoration-color: #00ff00\">load</span>                          <span style=\"color: #800000; text-decoration-color: #800000\">│</span>\n",
       "<span style=\"color: #800000; text-decoration-color: #800000\">│</span>                                                                                                  <span style=\"color: #800000; text-decoration-color: #800000\">│</span>\n",
       "<span style=\"color: #800000; text-decoration-color: #800000\">│</span>   <span style=\"color: #7f7f7f; text-decoration-color: #7f7f7f\">266 │   │   │   │   │   │   │   │   │   </span><span style=\"color: #0000ff; text-decoration-color: #0000ff\">raise</span> <span style=\"color: #00ffff; text-decoration-color: #00ffff\">OSError</span>(msg)                                     <span style=\"color: #800000; text-decoration-color: #800000\">│</span>\n",
       "<span style=\"color: #800000; text-decoration-color: #800000\">│</span>   <span style=\"color: #7f7f7f; text-decoration-color: #7f7f7f\">267 │   │   │   │   │   │   │   </span>                                                               <span style=\"color: #800000; text-decoration-color: #800000\">│</span>\n",
       "<span style=\"color: #800000; text-decoration-color: #800000\">│</span>   <span style=\"color: #7f7f7f; text-decoration-color: #7f7f7f\">268 │   │   │   │   │   │   │   </span>b = b + s                                                      <span style=\"color: #800000; text-decoration-color: #800000\">│</span>\n",
       "<span style=\"color: #800000; text-decoration-color: #800000\">│</span> <span style=\"color: #800000; text-decoration-color: #800000\">❱ </span>269 <span style=\"color: #7f7f7f; text-decoration-color: #7f7f7f\">│   │   │   │   │   │   │   </span>n, err_code = decoder.decode(b)                                <span style=\"color: #800000; text-decoration-color: #800000\">│</span>\n",
       "<span style=\"color: #800000; text-decoration-color: #800000\">│</span>   <span style=\"color: #7f7f7f; text-decoration-color: #7f7f7f\">270 │   │   │   │   │   │   │   </span><span style=\"color: #0000ff; text-decoration-color: #0000ff\">if</span> n &lt; <span style=\"color: #0000ff; text-decoration-color: #0000ff\">0</span>:                                                      <span style=\"color: #800000; text-decoration-color: #800000\">│</span>\n",
       "<span style=\"color: #800000; text-decoration-color: #800000\">│</span>   <span style=\"color: #7f7f7f; text-decoration-color: #7f7f7f\">271 │   │   │   │   │   │   │   │   </span><span style=\"color: #0000ff; text-decoration-color: #0000ff\">break</span>                                                      <span style=\"color: #800000; text-decoration-color: #800000\">│</span>\n",
       "<span style=\"color: #800000; text-decoration-color: #800000\">│</span>   <span style=\"color: #7f7f7f; text-decoration-color: #7f7f7f\">272 │   │   │   │   │   │   │   </span>b = b[n:]                                                      <span style=\"color: #800000; text-decoration-color: #800000\">│</span>\n",
       "<span style=\"color: #800000; text-decoration-color: #800000\">╰──────────────────────────────────────────────────────────────────────────────────────────────────╯</span>\n",
       "<span style=\"color: #ff0000; text-decoration-color: #ff0000; font-weight: bold\">KeyboardInterrupt</span>\n",
       "</pre>\n"
      ],
      "text/plain": [
       "\u001b[31m╭─\u001b[0m\u001b[31m──────────────────────────────\u001b[0m\u001b[31m \u001b[0m\u001b[1;31mTraceback \u001b[0m\u001b[1;2;31m(most recent call last)\u001b[0m\u001b[31m \u001b[0m\u001b[31m───────────────────────────────\u001b[0m\u001b[31m─╮\u001b[0m\n",
       "\u001b[31m│\u001b[0m in \u001b[92m<module>\u001b[0m:\u001b[94m2\u001b[0m                                                                                    \u001b[31m│\u001b[0m\n",
       "\u001b[31m│\u001b[0m                                                                                                  \u001b[31m│\u001b[0m\n",
       "\u001b[31m│\u001b[0m   \u001b[2m1 \u001b[0mGo_to_game()                                                                                 \u001b[31m│\u001b[0m\n",
       "\u001b[31m│\u001b[0m \u001b[31m❱ \u001b[0m2 vision.Go_to(\u001b[94m10\u001b[0m,\u001b[94m10\u001b[0m)                                                                          \u001b[31m│\u001b[0m\n",
       "\u001b[31m│\u001b[0m   \u001b[2m3 \u001b[0m                                                                                             \u001b[31m│\u001b[0m\n",
       "\u001b[31m│\u001b[0m                                                                                                  \u001b[31m│\u001b[0m\n",
       "\u001b[31m│\u001b[0m in \u001b[92mGo_to\u001b[0m:\u001b[94m158\u001b[0m                                                                                     \u001b[31m│\u001b[0m\n",
       "\u001b[31m│\u001b[0m                                                                                                  \u001b[31m│\u001b[0m\n",
       "\u001b[31m│\u001b[0m   \u001b[2m155 \u001b[0m\u001b[2m│   │   │   \u001b[0m\u001b[96mself\u001b[0m.update(\u001b[33m\"\u001b[0m\u001b[33mup\u001b[0m\u001b[33m\"\u001b[0m)                                                              \u001b[31m│\u001b[0m\n",
       "\u001b[31m│\u001b[0m   \u001b[2m156 \u001b[0m\u001b[2m│   │   │   \u001b[0msleep(\u001b[94m0.1\u001b[0m)                                                                     \u001b[31m│\u001b[0m\n",
       "\u001b[31m│\u001b[0m   \u001b[2m157 \u001b[0m\u001b[2m│   │   │   \u001b[0m\u001b[96mself\u001b[0m.mirando=\u001b[33m\"\u001b[0m\u001b[33mup\u001b[0m\u001b[33m\"\u001b[0m                                                              \u001b[31m│\u001b[0m\n",
       "\u001b[31m│\u001b[0m \u001b[31m❱ \u001b[0m158 \u001b[2m│   │   │   \u001b[0m\u001b[96mself\u001b[0m.Go_to(x,y-\u001b[94m1\u001b[0m)                                                              \u001b[31m│\u001b[0m\n",
       "\u001b[31m│\u001b[0m   \u001b[2m159 \u001b[0m\u001b[2m│   │   \u001b[0m\u001b[94melif\u001b[0m y<\u001b[94m0\u001b[0m:                                                                          \u001b[31m│\u001b[0m\n",
       "\u001b[31m│\u001b[0m   \u001b[2m160 \u001b[0m\u001b[2m│   │   │   \u001b[0mApply_command(\u001b[33m\"\u001b[0m\u001b[33mdown\u001b[0m\u001b[33m\"\u001b[0m)                                                          \u001b[31m│\u001b[0m\n",
       "\u001b[31m│\u001b[0m   \u001b[2m161 \u001b[0m\u001b[2m│   │   │   \u001b[0m\u001b[94mif\u001b[0m \u001b[95mnot\u001b[0m \u001b[96mself\u001b[0m.Ha_cambiado_el_mapa():                                             \u001b[31m│\u001b[0m\n",
       "\u001b[31m│\u001b[0m                                                                                                  \u001b[31m│\u001b[0m\n",
       "\u001b[31m│\u001b[0m in \u001b[92mGo_to\u001b[0m:\u001b[94m158\u001b[0m                                                                                     \u001b[31m│\u001b[0m\n",
       "\u001b[31m│\u001b[0m                                                                                                  \u001b[31m│\u001b[0m\n",
       "\u001b[31m│\u001b[0m   \u001b[2m155 \u001b[0m\u001b[2m│   │   │   \u001b[0m\u001b[96mself\u001b[0m.update(\u001b[33m\"\u001b[0m\u001b[33mup\u001b[0m\u001b[33m\"\u001b[0m)                                                              \u001b[31m│\u001b[0m\n",
       "\u001b[31m│\u001b[0m   \u001b[2m156 \u001b[0m\u001b[2m│   │   │   \u001b[0msleep(\u001b[94m0.1\u001b[0m)                                                                     \u001b[31m│\u001b[0m\n",
       "\u001b[31m│\u001b[0m   \u001b[2m157 \u001b[0m\u001b[2m│   │   │   \u001b[0m\u001b[96mself\u001b[0m.mirando=\u001b[33m\"\u001b[0m\u001b[33mup\u001b[0m\u001b[33m\"\u001b[0m                                                              \u001b[31m│\u001b[0m\n",
       "\u001b[31m│\u001b[0m \u001b[31m❱ \u001b[0m158 \u001b[2m│   │   │   \u001b[0m\u001b[96mself\u001b[0m.Go_to(x,y-\u001b[94m1\u001b[0m)                                                              \u001b[31m│\u001b[0m\n",
       "\u001b[31m│\u001b[0m   \u001b[2m159 \u001b[0m\u001b[2m│   │   \u001b[0m\u001b[94melif\u001b[0m y<\u001b[94m0\u001b[0m:                                                                          \u001b[31m│\u001b[0m\n",
       "\u001b[31m│\u001b[0m   \u001b[2m160 \u001b[0m\u001b[2m│   │   │   \u001b[0mApply_command(\u001b[33m\"\u001b[0m\u001b[33mdown\u001b[0m\u001b[33m\"\u001b[0m)                                                          \u001b[31m│\u001b[0m\n",
       "\u001b[31m│\u001b[0m   \u001b[2m161 \u001b[0m\u001b[2m│   │   │   \u001b[0m\u001b[94mif\u001b[0m \u001b[95mnot\u001b[0m \u001b[96mself\u001b[0m.Ha_cambiado_el_mapa():                                             \u001b[31m│\u001b[0m\n",
       "\u001b[31m│\u001b[0m                                                                                                  \u001b[31m│\u001b[0m\n",
       "\u001b[31m│\u001b[0m in \u001b[92mGo_to\u001b[0m:\u001b[94m158\u001b[0m                                                                                     \u001b[31m│\u001b[0m\n",
       "\u001b[31m│\u001b[0m                                                                                                  \u001b[31m│\u001b[0m\n",
       "\u001b[31m│\u001b[0m   \u001b[2m155 \u001b[0m\u001b[2m│   │   │   \u001b[0m\u001b[96mself\u001b[0m.update(\u001b[33m\"\u001b[0m\u001b[33mup\u001b[0m\u001b[33m\"\u001b[0m)                                                              \u001b[31m│\u001b[0m\n",
       "\u001b[31m│\u001b[0m   \u001b[2m156 \u001b[0m\u001b[2m│   │   │   \u001b[0msleep(\u001b[94m0.1\u001b[0m)                                                                     \u001b[31m│\u001b[0m\n",
       "\u001b[31m│\u001b[0m   \u001b[2m157 \u001b[0m\u001b[2m│   │   │   \u001b[0m\u001b[96mself\u001b[0m.mirando=\u001b[33m\"\u001b[0m\u001b[33mup\u001b[0m\u001b[33m\"\u001b[0m                                                              \u001b[31m│\u001b[0m\n",
       "\u001b[31m│\u001b[0m \u001b[31m❱ \u001b[0m158 \u001b[2m│   │   │   \u001b[0m\u001b[96mself\u001b[0m.Go_to(x,y-\u001b[94m1\u001b[0m)                                                              \u001b[31m│\u001b[0m\n",
       "\u001b[31m│\u001b[0m   \u001b[2m159 \u001b[0m\u001b[2m│   │   \u001b[0m\u001b[94melif\u001b[0m y<\u001b[94m0\u001b[0m:                                                                          \u001b[31m│\u001b[0m\n",
       "\u001b[31m│\u001b[0m   \u001b[2m160 \u001b[0m\u001b[2m│   │   │   \u001b[0mApply_command(\u001b[33m\"\u001b[0m\u001b[33mdown\u001b[0m\u001b[33m\"\u001b[0m)                                                          \u001b[31m│\u001b[0m\n",
       "\u001b[31m│\u001b[0m   \u001b[2m161 \u001b[0m\u001b[2m│   │   │   \u001b[0m\u001b[94mif\u001b[0m \u001b[95mnot\u001b[0m \u001b[96mself\u001b[0m.Ha_cambiado_el_mapa():                                             \u001b[31m│\u001b[0m\n",
       "\u001b[31m│\u001b[0m                                                                                                  \u001b[31m│\u001b[0m\n",
       "\u001b[31m│\u001b[0m in \u001b[92mGo_to\u001b[0m:\u001b[94m158\u001b[0m                                                                                     \u001b[31m│\u001b[0m\n",
       "\u001b[31m│\u001b[0m                                                                                                  \u001b[31m│\u001b[0m\n",
       "\u001b[31m│\u001b[0m   \u001b[2m155 \u001b[0m\u001b[2m│   │   │   \u001b[0m\u001b[96mself\u001b[0m.update(\u001b[33m\"\u001b[0m\u001b[33mup\u001b[0m\u001b[33m\"\u001b[0m)                                                              \u001b[31m│\u001b[0m\n",
       "\u001b[31m│\u001b[0m   \u001b[2m156 \u001b[0m\u001b[2m│   │   │   \u001b[0msleep(\u001b[94m0.1\u001b[0m)                                                                     \u001b[31m│\u001b[0m\n",
       "\u001b[31m│\u001b[0m   \u001b[2m157 \u001b[0m\u001b[2m│   │   │   \u001b[0m\u001b[96mself\u001b[0m.mirando=\u001b[33m\"\u001b[0m\u001b[33mup\u001b[0m\u001b[33m\"\u001b[0m                                                              \u001b[31m│\u001b[0m\n",
       "\u001b[31m│\u001b[0m \u001b[31m❱ \u001b[0m158 \u001b[2m│   │   │   \u001b[0m\u001b[96mself\u001b[0m.Go_to(x,y-\u001b[94m1\u001b[0m)                                                              \u001b[31m│\u001b[0m\n",
       "\u001b[31m│\u001b[0m   \u001b[2m159 \u001b[0m\u001b[2m│   │   \u001b[0m\u001b[94melif\u001b[0m y<\u001b[94m0\u001b[0m:                                                                          \u001b[31m│\u001b[0m\n",
       "\u001b[31m│\u001b[0m   \u001b[2m160 \u001b[0m\u001b[2m│   │   │   \u001b[0mApply_command(\u001b[33m\"\u001b[0m\u001b[33mdown\u001b[0m\u001b[33m\"\u001b[0m)                                                          \u001b[31m│\u001b[0m\n",
       "\u001b[31m│\u001b[0m   \u001b[2m161 \u001b[0m\u001b[2m│   │   │   \u001b[0m\u001b[94mif\u001b[0m \u001b[95mnot\u001b[0m \u001b[96mself\u001b[0m.Ha_cambiado_el_mapa():                                             \u001b[31m│\u001b[0m\n",
       "\u001b[31m│\u001b[0m                                                                                                  \u001b[31m│\u001b[0m\n",
       "\u001b[31m│\u001b[0m in \u001b[92mGo_to\u001b[0m:\u001b[94m158\u001b[0m                                                                                     \u001b[31m│\u001b[0m\n",
       "\u001b[31m│\u001b[0m                                                                                                  \u001b[31m│\u001b[0m\n",
       "\u001b[31m│\u001b[0m   \u001b[2m155 \u001b[0m\u001b[2m│   │   │   \u001b[0m\u001b[96mself\u001b[0m.update(\u001b[33m\"\u001b[0m\u001b[33mup\u001b[0m\u001b[33m\"\u001b[0m)                                                              \u001b[31m│\u001b[0m\n",
       "\u001b[31m│\u001b[0m   \u001b[2m156 \u001b[0m\u001b[2m│   │   │   \u001b[0msleep(\u001b[94m0.1\u001b[0m)                                                                     \u001b[31m│\u001b[0m\n",
       "\u001b[31m│\u001b[0m   \u001b[2m157 \u001b[0m\u001b[2m│   │   │   \u001b[0m\u001b[96mself\u001b[0m.mirando=\u001b[33m\"\u001b[0m\u001b[33mup\u001b[0m\u001b[33m\"\u001b[0m                                                              \u001b[31m│\u001b[0m\n",
       "\u001b[31m│\u001b[0m \u001b[31m❱ \u001b[0m158 \u001b[2m│   │   │   \u001b[0m\u001b[96mself\u001b[0m.Go_to(x,y-\u001b[94m1\u001b[0m)                                                              \u001b[31m│\u001b[0m\n",
       "\u001b[31m│\u001b[0m   \u001b[2m159 \u001b[0m\u001b[2m│   │   \u001b[0m\u001b[94melif\u001b[0m y<\u001b[94m0\u001b[0m:                                                                          \u001b[31m│\u001b[0m\n",
       "\u001b[31m│\u001b[0m   \u001b[2m160 \u001b[0m\u001b[2m│   │   │   \u001b[0mApply_command(\u001b[33m\"\u001b[0m\u001b[33mdown\u001b[0m\u001b[33m\"\u001b[0m)                                                          \u001b[31m│\u001b[0m\n",
       "\u001b[31m│\u001b[0m   \u001b[2m161 \u001b[0m\u001b[2m│   │   │   \u001b[0m\u001b[94mif\u001b[0m \u001b[95mnot\u001b[0m \u001b[96mself\u001b[0m.Ha_cambiado_el_mapa():                                             \u001b[31m│\u001b[0m\n",
       "\u001b[31m│\u001b[0m                                                                                                  \u001b[31m│\u001b[0m\n",
       "\u001b[31m│\u001b[0m in \u001b[92mGo_to\u001b[0m:\u001b[94m158\u001b[0m                                                                                     \u001b[31m│\u001b[0m\n",
       "\u001b[31m│\u001b[0m                                                                                                  \u001b[31m│\u001b[0m\n",
       "\u001b[31m│\u001b[0m   \u001b[2m155 \u001b[0m\u001b[2m│   │   │   \u001b[0m\u001b[96mself\u001b[0m.update(\u001b[33m\"\u001b[0m\u001b[33mup\u001b[0m\u001b[33m\"\u001b[0m)                                                              \u001b[31m│\u001b[0m\n",
       "\u001b[31m│\u001b[0m   \u001b[2m156 \u001b[0m\u001b[2m│   │   │   \u001b[0msleep(\u001b[94m0.1\u001b[0m)                                                                     \u001b[31m│\u001b[0m\n",
       "\u001b[31m│\u001b[0m   \u001b[2m157 \u001b[0m\u001b[2m│   │   │   \u001b[0m\u001b[96mself\u001b[0m.mirando=\u001b[33m\"\u001b[0m\u001b[33mup\u001b[0m\u001b[33m\"\u001b[0m                                                              \u001b[31m│\u001b[0m\n",
       "\u001b[31m│\u001b[0m \u001b[31m❱ \u001b[0m158 \u001b[2m│   │   │   \u001b[0m\u001b[96mself\u001b[0m.Go_to(x,y-\u001b[94m1\u001b[0m)                                                              \u001b[31m│\u001b[0m\n",
       "\u001b[31m│\u001b[0m   \u001b[2m159 \u001b[0m\u001b[2m│   │   \u001b[0m\u001b[94melif\u001b[0m y<\u001b[94m0\u001b[0m:                                                                          \u001b[31m│\u001b[0m\n",
       "\u001b[31m│\u001b[0m   \u001b[2m160 \u001b[0m\u001b[2m│   │   │   \u001b[0mApply_command(\u001b[33m\"\u001b[0m\u001b[33mdown\u001b[0m\u001b[33m\"\u001b[0m)                                                          \u001b[31m│\u001b[0m\n",
       "\u001b[31m│\u001b[0m   \u001b[2m161 \u001b[0m\u001b[2m│   │   │   \u001b[0m\u001b[94mif\u001b[0m \u001b[95mnot\u001b[0m \u001b[96mself\u001b[0m.Ha_cambiado_el_mapa():                                             \u001b[31m│\u001b[0m\n",
       "\u001b[31m│\u001b[0m                                                                                                  \u001b[31m│\u001b[0m\n",
       "\u001b[31m│\u001b[0m in \u001b[92mGo_to\u001b[0m:\u001b[94m158\u001b[0m                                                                                     \u001b[31m│\u001b[0m\n",
       "\u001b[31m│\u001b[0m                                                                                                  \u001b[31m│\u001b[0m\n",
       "\u001b[31m│\u001b[0m   \u001b[2m155 \u001b[0m\u001b[2m│   │   │   \u001b[0m\u001b[96mself\u001b[0m.update(\u001b[33m\"\u001b[0m\u001b[33mup\u001b[0m\u001b[33m\"\u001b[0m)                                                              \u001b[31m│\u001b[0m\n",
       "\u001b[31m│\u001b[0m   \u001b[2m156 \u001b[0m\u001b[2m│   │   │   \u001b[0msleep(\u001b[94m0.1\u001b[0m)                                                                     \u001b[31m│\u001b[0m\n",
       "\u001b[31m│\u001b[0m   \u001b[2m157 \u001b[0m\u001b[2m│   │   │   \u001b[0m\u001b[96mself\u001b[0m.mirando=\u001b[33m\"\u001b[0m\u001b[33mup\u001b[0m\u001b[33m\"\u001b[0m                                                              \u001b[31m│\u001b[0m\n",
       "\u001b[31m│\u001b[0m \u001b[31m❱ \u001b[0m158 \u001b[2m│   │   │   \u001b[0m\u001b[96mself\u001b[0m.Go_to(x,y-\u001b[94m1\u001b[0m)                                                              \u001b[31m│\u001b[0m\n",
       "\u001b[31m│\u001b[0m   \u001b[2m159 \u001b[0m\u001b[2m│   │   \u001b[0m\u001b[94melif\u001b[0m y<\u001b[94m0\u001b[0m:                                                                          \u001b[31m│\u001b[0m\n",
       "\u001b[31m│\u001b[0m   \u001b[2m160 \u001b[0m\u001b[2m│   │   │   \u001b[0mApply_command(\u001b[33m\"\u001b[0m\u001b[33mdown\u001b[0m\u001b[33m\"\u001b[0m)                                                          \u001b[31m│\u001b[0m\n",
       "\u001b[31m│\u001b[0m   \u001b[2m161 \u001b[0m\u001b[2m│   │   │   \u001b[0m\u001b[94mif\u001b[0m \u001b[95mnot\u001b[0m \u001b[96mself\u001b[0m.Ha_cambiado_el_mapa():                                             \u001b[31m│\u001b[0m\n",
       "\u001b[31m│\u001b[0m                                                                                                  \u001b[31m│\u001b[0m\n",
       "\u001b[31m│\u001b[0m in \u001b[92mGo_to\u001b[0m:\u001b[94m158\u001b[0m                                                                                     \u001b[31m│\u001b[0m\n",
       "\u001b[31m│\u001b[0m                                                                                                  \u001b[31m│\u001b[0m\n",
       "\u001b[31m│\u001b[0m   \u001b[2m155 \u001b[0m\u001b[2m│   │   │   \u001b[0m\u001b[96mself\u001b[0m.update(\u001b[33m\"\u001b[0m\u001b[33mup\u001b[0m\u001b[33m\"\u001b[0m)                                                              \u001b[31m│\u001b[0m\n",
       "\u001b[31m│\u001b[0m   \u001b[2m156 \u001b[0m\u001b[2m│   │   │   \u001b[0msleep(\u001b[94m0.1\u001b[0m)                                                                     \u001b[31m│\u001b[0m\n",
       "\u001b[31m│\u001b[0m   \u001b[2m157 \u001b[0m\u001b[2m│   │   │   \u001b[0m\u001b[96mself\u001b[0m.mirando=\u001b[33m\"\u001b[0m\u001b[33mup\u001b[0m\u001b[33m\"\u001b[0m                                                              \u001b[31m│\u001b[0m\n",
       "\u001b[31m│\u001b[0m \u001b[31m❱ \u001b[0m158 \u001b[2m│   │   │   \u001b[0m\u001b[96mself\u001b[0m.Go_to(x,y-\u001b[94m1\u001b[0m)                                                              \u001b[31m│\u001b[0m\n",
       "\u001b[31m│\u001b[0m   \u001b[2m159 \u001b[0m\u001b[2m│   │   \u001b[0m\u001b[94melif\u001b[0m y<\u001b[94m0\u001b[0m:                                                                          \u001b[31m│\u001b[0m\n",
       "\u001b[31m│\u001b[0m   \u001b[2m160 \u001b[0m\u001b[2m│   │   │   \u001b[0mApply_command(\u001b[33m\"\u001b[0m\u001b[33mdown\u001b[0m\u001b[33m\"\u001b[0m)                                                          \u001b[31m│\u001b[0m\n",
       "\u001b[31m│\u001b[0m   \u001b[2m161 \u001b[0m\u001b[2m│   │   │   \u001b[0m\u001b[94mif\u001b[0m \u001b[95mnot\u001b[0m \u001b[96mself\u001b[0m.Ha_cambiado_el_mapa():                                             \u001b[31m│\u001b[0m\n",
       "\u001b[31m│\u001b[0m                                                                                                  \u001b[31m│\u001b[0m\n",
       "\u001b[31m│\u001b[0m in \u001b[92mGo_to\u001b[0m:\u001b[94m158\u001b[0m                                                                                     \u001b[31m│\u001b[0m\n",
       "\u001b[31m│\u001b[0m                                                                                                  \u001b[31m│\u001b[0m\n",
       "\u001b[31m│\u001b[0m   \u001b[2m155 \u001b[0m\u001b[2m│   │   │   \u001b[0m\u001b[96mself\u001b[0m.update(\u001b[33m\"\u001b[0m\u001b[33mup\u001b[0m\u001b[33m\"\u001b[0m)                                                              \u001b[31m│\u001b[0m\n",
       "\u001b[31m│\u001b[0m   \u001b[2m156 \u001b[0m\u001b[2m│   │   │   \u001b[0msleep(\u001b[94m0.1\u001b[0m)                                                                     \u001b[31m│\u001b[0m\n",
       "\u001b[31m│\u001b[0m   \u001b[2m157 \u001b[0m\u001b[2m│   │   │   \u001b[0m\u001b[96mself\u001b[0m.mirando=\u001b[33m\"\u001b[0m\u001b[33mup\u001b[0m\u001b[33m\"\u001b[0m                                                              \u001b[31m│\u001b[0m\n",
       "\u001b[31m│\u001b[0m \u001b[31m❱ \u001b[0m158 \u001b[2m│   │   │   \u001b[0m\u001b[96mself\u001b[0m.Go_to(x,y-\u001b[94m1\u001b[0m)                                                              \u001b[31m│\u001b[0m\n",
       "\u001b[31m│\u001b[0m   \u001b[2m159 \u001b[0m\u001b[2m│   │   \u001b[0m\u001b[94melif\u001b[0m y<\u001b[94m0\u001b[0m:                                                                          \u001b[31m│\u001b[0m\n",
       "\u001b[31m│\u001b[0m   \u001b[2m160 \u001b[0m\u001b[2m│   │   │   \u001b[0mApply_command(\u001b[33m\"\u001b[0m\u001b[33mdown\u001b[0m\u001b[33m\"\u001b[0m)                                                          \u001b[31m│\u001b[0m\n",
       "\u001b[31m│\u001b[0m   \u001b[2m161 \u001b[0m\u001b[2m│   │   │   \u001b[0m\u001b[94mif\u001b[0m \u001b[95mnot\u001b[0m \u001b[96mself\u001b[0m.Ha_cambiado_el_mapa():                                             \u001b[31m│\u001b[0m\n",
       "\u001b[31m│\u001b[0m                                                                                                  \u001b[31m│\u001b[0m\n",
       "\u001b[31m│\u001b[0m in \u001b[92mGo_to\u001b[0m:\u001b[94m158\u001b[0m                                                                                     \u001b[31m│\u001b[0m\n",
       "\u001b[31m│\u001b[0m                                                                                                  \u001b[31m│\u001b[0m\n",
       "\u001b[31m│\u001b[0m   \u001b[2m155 \u001b[0m\u001b[2m│   │   │   \u001b[0m\u001b[96mself\u001b[0m.update(\u001b[33m\"\u001b[0m\u001b[33mup\u001b[0m\u001b[33m\"\u001b[0m)                                                              \u001b[31m│\u001b[0m\n",
       "\u001b[31m│\u001b[0m   \u001b[2m156 \u001b[0m\u001b[2m│   │   │   \u001b[0msleep(\u001b[94m0.1\u001b[0m)                                                                     \u001b[31m│\u001b[0m\n",
       "\u001b[31m│\u001b[0m   \u001b[2m157 \u001b[0m\u001b[2m│   │   │   \u001b[0m\u001b[96mself\u001b[0m.mirando=\u001b[33m\"\u001b[0m\u001b[33mup\u001b[0m\u001b[33m\"\u001b[0m                                                              \u001b[31m│\u001b[0m\n",
       "\u001b[31m│\u001b[0m \u001b[31m❱ \u001b[0m158 \u001b[2m│   │   │   \u001b[0m\u001b[96mself\u001b[0m.Go_to(x,y-\u001b[94m1\u001b[0m)                                                              \u001b[31m│\u001b[0m\n",
       "\u001b[31m│\u001b[0m   \u001b[2m159 \u001b[0m\u001b[2m│   │   \u001b[0m\u001b[94melif\u001b[0m y<\u001b[94m0\u001b[0m:                                                                          \u001b[31m│\u001b[0m\n",
       "\u001b[31m│\u001b[0m   \u001b[2m160 \u001b[0m\u001b[2m│   │   │   \u001b[0mApply_command(\u001b[33m\"\u001b[0m\u001b[33mdown\u001b[0m\u001b[33m\"\u001b[0m)                                                          \u001b[31m│\u001b[0m\n",
       "\u001b[31m│\u001b[0m   \u001b[2m161 \u001b[0m\u001b[2m│   │   │   \u001b[0m\u001b[94mif\u001b[0m \u001b[95mnot\u001b[0m \u001b[96mself\u001b[0m.Ha_cambiado_el_mapa():                                             \u001b[31m│\u001b[0m\n",
       "\u001b[31m│\u001b[0m                                                                                                  \u001b[31m│\u001b[0m\n",
       "\u001b[31m│\u001b[0m in \u001b[92mGo_to\u001b[0m:\u001b[94m175\u001b[0m                                                                                     \u001b[31m│\u001b[0m\n",
       "\u001b[31m│\u001b[0m                                                                                                  \u001b[31m│\u001b[0m\n",
       "\u001b[31m│\u001b[0m   \u001b[2m172 \u001b[0m\u001b[2m│   │   │   \u001b[0m\u001b[96mself\u001b[0m.update(\u001b[33m\"\u001b[0m\u001b[33mright\u001b[0m\u001b[33m\"\u001b[0m)                                                           \u001b[31m│\u001b[0m\n",
       "\u001b[31m│\u001b[0m   \u001b[2m173 \u001b[0m\u001b[2m│   │   │   \u001b[0msleep(\u001b[94m0.1\u001b[0m)                                                                     \u001b[31m│\u001b[0m\n",
       "\u001b[31m│\u001b[0m   \u001b[2m174 \u001b[0m\u001b[2m│   │   │   \u001b[0m\u001b[96mself\u001b[0m.mirando=\u001b[33m\"\u001b[0m\u001b[33mright\u001b[0m\u001b[33m\"\u001b[0m                                                           \u001b[31m│\u001b[0m\n",
       "\u001b[31m│\u001b[0m \u001b[31m❱ \u001b[0m175 \u001b[2m│   │   │   \u001b[0m\u001b[96mself\u001b[0m.Go_to(x-\u001b[94m1\u001b[0m,y)                                                              \u001b[31m│\u001b[0m\n",
       "\u001b[31m│\u001b[0m   \u001b[2m176 \u001b[0m\u001b[2m│   │   \u001b[0m\u001b[94melif\u001b[0m x<\u001b[94m0\u001b[0m:                                                                          \u001b[31m│\u001b[0m\n",
       "\u001b[31m│\u001b[0m   \u001b[2m177 \u001b[0m\u001b[2m│   │   │   \u001b[0mApply_command(\u001b[33m\"\u001b[0m\u001b[33mleft\u001b[0m\u001b[33m\"\u001b[0m)                                                          \u001b[31m│\u001b[0m\n",
       "\u001b[31m│\u001b[0m   \u001b[2m178 \u001b[0m\u001b[2m│   │   │   \u001b[0m\u001b[94mif\u001b[0m \u001b[95mnot\u001b[0m \u001b[96mself\u001b[0m.Ha_cambiado_el_mapa():                                             \u001b[31m│\u001b[0m\n",
       "\u001b[31m│\u001b[0m                                                                                                  \u001b[31m│\u001b[0m\n",
       "\u001b[31m│\u001b[0m in \u001b[92mGo_to\u001b[0m:\u001b[94m175\u001b[0m                                                                                     \u001b[31m│\u001b[0m\n",
       "\u001b[31m│\u001b[0m                                                                                                  \u001b[31m│\u001b[0m\n",
       "\u001b[31m│\u001b[0m   \u001b[2m172 \u001b[0m\u001b[2m│   │   │   \u001b[0m\u001b[96mself\u001b[0m.update(\u001b[33m\"\u001b[0m\u001b[33mright\u001b[0m\u001b[33m\"\u001b[0m)                                                           \u001b[31m│\u001b[0m\n",
       "\u001b[31m│\u001b[0m   \u001b[2m173 \u001b[0m\u001b[2m│   │   │   \u001b[0msleep(\u001b[94m0.1\u001b[0m)                                                                     \u001b[31m│\u001b[0m\n",
       "\u001b[31m│\u001b[0m   \u001b[2m174 \u001b[0m\u001b[2m│   │   │   \u001b[0m\u001b[96mself\u001b[0m.mirando=\u001b[33m\"\u001b[0m\u001b[33mright\u001b[0m\u001b[33m\"\u001b[0m                                                           \u001b[31m│\u001b[0m\n",
       "\u001b[31m│\u001b[0m \u001b[31m❱ \u001b[0m175 \u001b[2m│   │   │   \u001b[0m\u001b[96mself\u001b[0m.Go_to(x-\u001b[94m1\u001b[0m,y)                                                              \u001b[31m│\u001b[0m\n",
       "\u001b[31m│\u001b[0m   \u001b[2m176 \u001b[0m\u001b[2m│   │   \u001b[0m\u001b[94melif\u001b[0m x<\u001b[94m0\u001b[0m:                                                                          \u001b[31m│\u001b[0m\n",
       "\u001b[31m│\u001b[0m   \u001b[2m177 \u001b[0m\u001b[2m│   │   │   \u001b[0mApply_command(\u001b[33m\"\u001b[0m\u001b[33mleft\u001b[0m\u001b[33m\"\u001b[0m)                                                          \u001b[31m│\u001b[0m\n",
       "\u001b[31m│\u001b[0m   \u001b[2m178 \u001b[0m\u001b[2m│   │   │   \u001b[0m\u001b[94mif\u001b[0m \u001b[95mnot\u001b[0m \u001b[96mself\u001b[0m.Ha_cambiado_el_mapa():                                             \u001b[31m│\u001b[0m\n",
       "\u001b[31m│\u001b[0m                                                                                                  \u001b[31m│\u001b[0m\n",
       "\u001b[31m│\u001b[0m in \u001b[92mGo_to\u001b[0m:\u001b[94m175\u001b[0m                                                                                     \u001b[31m│\u001b[0m\n",
       "\u001b[31m│\u001b[0m                                                                                                  \u001b[31m│\u001b[0m\n",
       "\u001b[31m│\u001b[0m   \u001b[2m172 \u001b[0m\u001b[2m│   │   │   \u001b[0m\u001b[96mself\u001b[0m.update(\u001b[33m\"\u001b[0m\u001b[33mright\u001b[0m\u001b[33m\"\u001b[0m)                                                           \u001b[31m│\u001b[0m\n",
       "\u001b[31m│\u001b[0m   \u001b[2m173 \u001b[0m\u001b[2m│   │   │   \u001b[0msleep(\u001b[94m0.1\u001b[0m)                                                                     \u001b[31m│\u001b[0m\n",
       "\u001b[31m│\u001b[0m   \u001b[2m174 \u001b[0m\u001b[2m│   │   │   \u001b[0m\u001b[96mself\u001b[0m.mirando=\u001b[33m\"\u001b[0m\u001b[33mright\u001b[0m\u001b[33m\"\u001b[0m                                                           \u001b[31m│\u001b[0m\n",
       "\u001b[31m│\u001b[0m \u001b[31m❱ \u001b[0m175 \u001b[2m│   │   │   \u001b[0m\u001b[96mself\u001b[0m.Go_to(x-\u001b[94m1\u001b[0m,y)                                                              \u001b[31m│\u001b[0m\n",
       "\u001b[31m│\u001b[0m   \u001b[2m176 \u001b[0m\u001b[2m│   │   \u001b[0m\u001b[94melif\u001b[0m x<\u001b[94m0\u001b[0m:                                                                          \u001b[31m│\u001b[0m\n",
       "\u001b[31m│\u001b[0m   \u001b[2m177 \u001b[0m\u001b[2m│   │   │   \u001b[0mApply_command(\u001b[33m\"\u001b[0m\u001b[33mleft\u001b[0m\u001b[33m\"\u001b[0m)                                                          \u001b[31m│\u001b[0m\n",
       "\u001b[31m│\u001b[0m   \u001b[2m178 \u001b[0m\u001b[2m│   │   │   \u001b[0m\u001b[94mif\u001b[0m \u001b[95mnot\u001b[0m \u001b[96mself\u001b[0m.Ha_cambiado_el_mapa():                                             \u001b[31m│\u001b[0m\n",
       "\u001b[31m│\u001b[0m                                                                                                  \u001b[31m│\u001b[0m\n",
       "\u001b[31m│\u001b[0m in \u001b[92mGo_to\u001b[0m:\u001b[94m175\u001b[0m                                                                                     \u001b[31m│\u001b[0m\n",
       "\u001b[31m│\u001b[0m                                                                                                  \u001b[31m│\u001b[0m\n",
       "\u001b[31m│\u001b[0m   \u001b[2m172 \u001b[0m\u001b[2m│   │   │   \u001b[0m\u001b[96mself\u001b[0m.update(\u001b[33m\"\u001b[0m\u001b[33mright\u001b[0m\u001b[33m\"\u001b[0m)                                                           \u001b[31m│\u001b[0m\n",
       "\u001b[31m│\u001b[0m   \u001b[2m173 \u001b[0m\u001b[2m│   │   │   \u001b[0msleep(\u001b[94m0.1\u001b[0m)                                                                     \u001b[31m│\u001b[0m\n",
       "\u001b[31m│\u001b[0m   \u001b[2m174 \u001b[0m\u001b[2m│   │   │   \u001b[0m\u001b[96mself\u001b[0m.mirando=\u001b[33m\"\u001b[0m\u001b[33mright\u001b[0m\u001b[33m\"\u001b[0m                                                           \u001b[31m│\u001b[0m\n",
       "\u001b[31m│\u001b[0m \u001b[31m❱ \u001b[0m175 \u001b[2m│   │   │   \u001b[0m\u001b[96mself\u001b[0m.Go_to(x-\u001b[94m1\u001b[0m,y)                                                              \u001b[31m│\u001b[0m\n",
       "\u001b[31m│\u001b[0m   \u001b[2m176 \u001b[0m\u001b[2m│   │   \u001b[0m\u001b[94melif\u001b[0m x<\u001b[94m0\u001b[0m:                                                                          \u001b[31m│\u001b[0m\n",
       "\u001b[31m│\u001b[0m   \u001b[2m177 \u001b[0m\u001b[2m│   │   │   \u001b[0mApply_command(\u001b[33m\"\u001b[0m\u001b[33mleft\u001b[0m\u001b[33m\"\u001b[0m)                                                          \u001b[31m│\u001b[0m\n",
       "\u001b[31m│\u001b[0m   \u001b[2m178 \u001b[0m\u001b[2m│   │   │   \u001b[0m\u001b[94mif\u001b[0m \u001b[95mnot\u001b[0m \u001b[96mself\u001b[0m.Ha_cambiado_el_mapa():                                             \u001b[31m│\u001b[0m\n",
       "\u001b[31m│\u001b[0m                                                                                                  \u001b[31m│\u001b[0m\n",
       "\u001b[31m│\u001b[0m in \u001b[92mGo_to\u001b[0m:\u001b[94m175\u001b[0m                                                                                     \u001b[31m│\u001b[0m\n",
       "\u001b[31m│\u001b[0m                                                                                                  \u001b[31m│\u001b[0m\n",
       "\u001b[31m│\u001b[0m   \u001b[2m172 \u001b[0m\u001b[2m│   │   │   \u001b[0m\u001b[96mself\u001b[0m.update(\u001b[33m\"\u001b[0m\u001b[33mright\u001b[0m\u001b[33m\"\u001b[0m)                                                           \u001b[31m│\u001b[0m\n",
       "\u001b[31m│\u001b[0m   \u001b[2m173 \u001b[0m\u001b[2m│   │   │   \u001b[0msleep(\u001b[94m0.1\u001b[0m)                                                                     \u001b[31m│\u001b[0m\n",
       "\u001b[31m│\u001b[0m   \u001b[2m174 \u001b[0m\u001b[2m│   │   │   \u001b[0m\u001b[96mself\u001b[0m.mirando=\u001b[33m\"\u001b[0m\u001b[33mright\u001b[0m\u001b[33m\"\u001b[0m                                                           \u001b[31m│\u001b[0m\n",
       "\u001b[31m│\u001b[0m \u001b[31m❱ \u001b[0m175 \u001b[2m│   │   │   \u001b[0m\u001b[96mself\u001b[0m.Go_to(x-\u001b[94m1\u001b[0m,y)                                                              \u001b[31m│\u001b[0m\n",
       "\u001b[31m│\u001b[0m   \u001b[2m176 \u001b[0m\u001b[2m│   │   \u001b[0m\u001b[94melif\u001b[0m x<\u001b[94m0\u001b[0m:                                                                          \u001b[31m│\u001b[0m\n",
       "\u001b[31m│\u001b[0m   \u001b[2m177 \u001b[0m\u001b[2m│   │   │   \u001b[0mApply_command(\u001b[33m\"\u001b[0m\u001b[33mleft\u001b[0m\u001b[33m\"\u001b[0m)                                                          \u001b[31m│\u001b[0m\n",
       "\u001b[31m│\u001b[0m   \u001b[2m178 \u001b[0m\u001b[2m│   │   │   \u001b[0m\u001b[94mif\u001b[0m \u001b[95mnot\u001b[0m \u001b[96mself\u001b[0m.Ha_cambiado_el_mapa():                                             \u001b[31m│\u001b[0m\n",
       "\u001b[31m│\u001b[0m                                                                                                  \u001b[31m│\u001b[0m\n",
       "\u001b[31m│\u001b[0m in \u001b[92mGo_to\u001b[0m:\u001b[94m175\u001b[0m                                                                                     \u001b[31m│\u001b[0m\n",
       "\u001b[31m│\u001b[0m                                                                                                  \u001b[31m│\u001b[0m\n",
       "\u001b[31m│\u001b[0m   \u001b[2m172 \u001b[0m\u001b[2m│   │   │   \u001b[0m\u001b[96mself\u001b[0m.update(\u001b[33m\"\u001b[0m\u001b[33mright\u001b[0m\u001b[33m\"\u001b[0m)                                                           \u001b[31m│\u001b[0m\n",
       "\u001b[31m│\u001b[0m   \u001b[2m173 \u001b[0m\u001b[2m│   │   │   \u001b[0msleep(\u001b[94m0.1\u001b[0m)                                                                     \u001b[31m│\u001b[0m\n",
       "\u001b[31m│\u001b[0m   \u001b[2m174 \u001b[0m\u001b[2m│   │   │   \u001b[0m\u001b[96mself\u001b[0m.mirando=\u001b[33m\"\u001b[0m\u001b[33mright\u001b[0m\u001b[33m\"\u001b[0m                                                           \u001b[31m│\u001b[0m\n",
       "\u001b[31m│\u001b[0m \u001b[31m❱ \u001b[0m175 \u001b[2m│   │   │   \u001b[0m\u001b[96mself\u001b[0m.Go_to(x-\u001b[94m1\u001b[0m,y)                                                              \u001b[31m│\u001b[0m\n",
       "\u001b[31m│\u001b[0m   \u001b[2m176 \u001b[0m\u001b[2m│   │   \u001b[0m\u001b[94melif\u001b[0m x<\u001b[94m0\u001b[0m:                                                                          \u001b[31m│\u001b[0m\n",
       "\u001b[31m│\u001b[0m   \u001b[2m177 \u001b[0m\u001b[2m│   │   │   \u001b[0mApply_command(\u001b[33m\"\u001b[0m\u001b[33mleft\u001b[0m\u001b[33m\"\u001b[0m)                                                          \u001b[31m│\u001b[0m\n",
       "\u001b[31m│\u001b[0m   \u001b[2m178 \u001b[0m\u001b[2m│   │   │   \u001b[0m\u001b[94mif\u001b[0m \u001b[95mnot\u001b[0m \u001b[96mself\u001b[0m.Ha_cambiado_el_mapa():                                             \u001b[31m│\u001b[0m\n",
       "\u001b[31m│\u001b[0m                                                                                                  \u001b[31m│\u001b[0m\n",
       "\u001b[31m│\u001b[0m in \u001b[92mGo_to\u001b[0m:\u001b[94m169\u001b[0m                                                                                     \u001b[31m│\u001b[0m\n",
       "\u001b[31m│\u001b[0m                                                                                                  \u001b[31m│\u001b[0m\n",
       "\u001b[31m│\u001b[0m   \u001b[2m166 \u001b[0m\u001b[2m│   │   │   \u001b[0m\u001b[96mself\u001b[0m.Go_to(x,y+\u001b[94m1\u001b[0m)                                                              \u001b[31m│\u001b[0m\n",
       "\u001b[31m│\u001b[0m   \u001b[2m167 \u001b[0m\u001b[2m│   │   \u001b[0m\u001b[94mif\u001b[0m x>\u001b[94m0\u001b[0m:                                                                            \u001b[31m│\u001b[0m\n",
       "\u001b[31m│\u001b[0m   \u001b[2m168 \u001b[0m\u001b[2m│   │   │   \u001b[0mApply_command(\u001b[33m\"\u001b[0m\u001b[33mright\u001b[0m\u001b[33m\"\u001b[0m)                                                         \u001b[31m│\u001b[0m\n",
       "\u001b[31m│\u001b[0m \u001b[31m❱ \u001b[0m169 \u001b[2m│   │   │   \u001b[0m\u001b[94mif\u001b[0m \u001b[95mnot\u001b[0m \u001b[96mself\u001b[0m.Ha_cambiado_el_mapa():                                             \u001b[31m│\u001b[0m\n",
       "\u001b[31m│\u001b[0m   \u001b[2m170 \u001b[0m\u001b[2m│   │   │   │   \u001b[0m\u001b[96mprint\u001b[0m(\u001b[33m\"\u001b[0m\u001b[33mNo cambio\u001b[0m\u001b[33m\"\u001b[0m)                                                         \u001b[31m│\u001b[0m\n",
       "\u001b[31m│\u001b[0m   \u001b[2m171 \u001b[0m\u001b[2m│   │   │   │   \u001b[0mApply_command(\u001b[33m\"\u001b[0m\u001b[33mright\u001b[0m\u001b[33m\"\u001b[0m)                                                     \u001b[31m│\u001b[0m\n",
       "\u001b[31m│\u001b[0m   \u001b[2m172 \u001b[0m\u001b[2m│   │   │   \u001b[0m\u001b[96mself\u001b[0m.update(\u001b[33m\"\u001b[0m\u001b[33mright\u001b[0m\u001b[33m\"\u001b[0m)                                                           \u001b[31m│\u001b[0m\n",
       "\u001b[31m│\u001b[0m                                                                                                  \u001b[31m│\u001b[0m\n",
       "\u001b[31m│\u001b[0m in \u001b[92mHa_cambiado_el_mapa\u001b[0m:\u001b[94m106\u001b[0m                                                                       \u001b[31m│\u001b[0m\n",
       "\u001b[31m│\u001b[0m                                                                                                  \u001b[31m│\u001b[0m\n",
       "\u001b[31m│\u001b[0m   \u001b[2m103 \u001b[0m\u001b[2m│   │   \u001b[0m\u001b[94mreturn\u001b[0m \u001b[94mTrue\u001b[0m                                                                        \u001b[31m│\u001b[0m\n",
       "\u001b[31m│\u001b[0m   \u001b[2m104 \u001b[0m\u001b[2m│   \u001b[0m                                                                                       \u001b[31m│\u001b[0m\n",
       "\u001b[31m│\u001b[0m   \u001b[2m105 \u001b[0m\u001b[2m│   \u001b[0m\u001b[94mdef\u001b[0m \u001b[92mHa_cambiado_el_mapa\u001b[0m(\u001b[96mself\u001b[0m):                                                         \u001b[31m│\u001b[0m\n",
       "\u001b[31m│\u001b[0m \u001b[31m❱ \u001b[0m106 \u001b[2m│   │   \u001b[0mmapa_actual=find_and_save_unique_images(crop_into_pixels(screenshot()))            \u001b[31m│\u001b[0m\n",
       "\u001b[31m│\u001b[0m   \u001b[2m107 \u001b[0m\u001b[2m│   │   \u001b[0m\u001b[94mreturn\u001b[0m \u001b[95mnot\u001b[0m \u001b[96mself\u001b[0m.Es_el_mismo_mapa(mapa_actual)                                      \u001b[31m│\u001b[0m\n",
       "\u001b[31m│\u001b[0m   \u001b[2m108 \u001b[0m                                                                                           \u001b[31m│\u001b[0m\n",
       "\u001b[31m│\u001b[0m   \u001b[2m109 \u001b[0m                                                                                           \u001b[31m│\u001b[0m\n",
       "\u001b[31m│\u001b[0m                                                                                                  \u001b[31m│\u001b[0m\n",
       "\u001b[31m│\u001b[0m in \u001b[92mfind_and_save_unique_images\u001b[0m:\u001b[94m45\u001b[0m                                                                \u001b[31m│\u001b[0m\n",
       "\u001b[31m│\u001b[0m                                                                                                  \u001b[31m│\u001b[0m\n",
       "\u001b[31m│\u001b[0m   \u001b[2m42 \u001b[0m\u001b[2m│   │   \u001b[0mnew_image=\u001b[94mTrue\u001b[0m                                                                      \u001b[31m│\u001b[0m\n",
       "\u001b[31m│\u001b[0m   \u001b[2m43 \u001b[0m\u001b[2m│   │   \u001b[0m\u001b[94mfor\u001b[0m filename \u001b[95min\u001b[0m os.listdir(screenshot_dir):                                         \u001b[31m│\u001b[0m\n",
       "\u001b[31m│\u001b[0m   \u001b[2m44 \u001b[0m\u001b[2m│   │   │   \u001b[0mexisting_image=Image.open(os.path.join(screenshot_dir, filename))               \u001b[31m│\u001b[0m\n",
       "\u001b[31m│\u001b[0m \u001b[31m❱ \u001b[0m45 \u001b[2m│   │   │   \u001b[0m\u001b[94mif\u001b[0m images_are_similar(image, existing_image,threshold=\u001b[94m0.05\u001b[0m):                    \u001b[31m│\u001b[0m\n",
       "\u001b[31m│\u001b[0m   \u001b[2m46 \u001b[0m\u001b[2m│   │   │   │   \u001b[0mnumber_png=\u001b[96mint\u001b[0m(filename.split(\u001b[33m\"\u001b[0m\u001b[33m.\u001b[0m\u001b[33m\"\u001b[0m)[\u001b[94m0\u001b[0m])                                      \u001b[31m│\u001b[0m\n",
       "\u001b[31m│\u001b[0m   \u001b[2m47 \u001b[0m\u001b[2m│   │   │   │   \u001b[0mmap_as_numbers[map_indices==i]=number_png                                   \u001b[31m│\u001b[0m\n",
       "\u001b[31m│\u001b[0m   \u001b[2m48 \u001b[0m\u001b[2m│   │   │   │   \u001b[0mnew_image=\u001b[94mFalse\u001b[0m                                                             \u001b[31m│\u001b[0m\n",
       "\u001b[31m│\u001b[0m                                                                                                  \u001b[31m│\u001b[0m\n",
       "\u001b[31m│\u001b[0m \u001b[33mc:\\Users\\Rafa\\Desktop\\Pokemon\\Python_code\\images_are_similar.py\u001b[0m:\u001b[94m6\u001b[0m in \u001b[92mimages_are_similar\u001b[0m          \u001b[31m│\u001b[0m\n",
       "\u001b[31m│\u001b[0m                                                                                                  \u001b[31m│\u001b[0m\n",
       "\u001b[31m│\u001b[0m   \u001b[2m 3 \u001b[0m\u001b[94mdef\u001b[0m \u001b[92mimages_are_similar\u001b[0m(image1, image2,threshold=\u001b[94m0.05\u001b[0m):                                      \u001b[31m│\u001b[0m\n",
       "\u001b[31m│\u001b[0m   \u001b[2m 4 \u001b[0m\u001b[2m│   \u001b[0m\u001b[2m# Convert images to numpy arrays\u001b[0m                                                        \u001b[31m│\u001b[0m\n",
       "\u001b[31m│\u001b[0m   \u001b[2m 5 \u001b[0m\u001b[2m│   \u001b[0mimg1 = np.array(image1)/\u001b[94m255\u001b[0m                                                             \u001b[31m│\u001b[0m\n",
       "\u001b[31m│\u001b[0m \u001b[31m❱ \u001b[0m 6 \u001b[2m│   \u001b[0mimg2 = np.array(image2)/\u001b[94m255\u001b[0m                                                             \u001b[31m│\u001b[0m\n",
       "\u001b[31m│\u001b[0m   \u001b[2m 7 \u001b[0m\u001b[2m│   \u001b[0m                                                                                        \u001b[31m│\u001b[0m\n",
       "\u001b[31m│\u001b[0m   \u001b[2m 8 \u001b[0m\u001b[2m│   \u001b[0m\u001b[2m# Calculate mean square error (MSE) between the two images\u001b[0m                              \u001b[31m│\u001b[0m\n",
       "\u001b[31m│\u001b[0m   \u001b[2m 9 \u001b[0m                                                                                            \u001b[31m│\u001b[0m\n",
       "\u001b[31m│\u001b[0m                                                                                                  \u001b[31m│\u001b[0m\n",
       "\u001b[31m│\u001b[0m \u001b[33mc:\\Users\\Rafa\\miniconda3\\lib\\site-packages\\PIL\\Image.py\u001b[0m:\u001b[94m696\u001b[0m in \u001b[92m__array_interface__\u001b[0m               \u001b[31m│\u001b[0m\n",
       "\u001b[31m│\u001b[0m                                                                                                  \u001b[31m│\u001b[0m\n",
       "\u001b[31m│\u001b[0m   \u001b[2m 693 \u001b[0m\u001b[2m│   │   │   │   \u001b[0m\u001b[2m# See: https://github.com/python-pillow/Pillow/issues/350\u001b[0m                 \u001b[31m│\u001b[0m\n",
       "\u001b[31m│\u001b[0m   \u001b[2m 694 \u001b[0m\u001b[2m│   │   │   │   \u001b[0mnew[\u001b[33m\"\u001b[0m\u001b[33mdata\u001b[0m\u001b[33m\"\u001b[0m] = \u001b[96mself\u001b[0m.tobytes(\u001b[33m\"\u001b[0m\u001b[33mraw\u001b[0m\u001b[33m\"\u001b[0m, \u001b[33m\"\u001b[0m\u001b[33mL\u001b[0m\u001b[33m\"\u001b[0m)                                    \u001b[31m│\u001b[0m\n",
       "\u001b[31m│\u001b[0m   \u001b[2m 695 \u001b[0m\u001b[2m│   │   │   \u001b[0m\u001b[94melse\u001b[0m:                                                                         \u001b[31m│\u001b[0m\n",
       "\u001b[31m│\u001b[0m \u001b[31m❱ \u001b[0m 696 \u001b[2m│   │   │   │   \u001b[0mnew[\u001b[33m\"\u001b[0m\u001b[33mdata\u001b[0m\u001b[33m\"\u001b[0m] = \u001b[96mself\u001b[0m.tobytes()                                              \u001b[31m│\u001b[0m\n",
       "\u001b[31m│\u001b[0m   \u001b[2m 697 \u001b[0m\u001b[2m│   │   \u001b[0m\u001b[94mexcept\u001b[0m \u001b[96mException\u001b[0m \u001b[94mas\u001b[0m e:                                                            \u001b[31m│\u001b[0m\n",
       "\u001b[31m│\u001b[0m   \u001b[2m 698 \u001b[0m\u001b[2m│   │   │   \u001b[0m\u001b[94mif\u001b[0m \u001b[95mnot\u001b[0m \u001b[96misinstance\u001b[0m(e, (\u001b[96mMemoryError\u001b[0m, \u001b[96mRecursionError\u001b[0m)):                          \u001b[31m│\u001b[0m\n",
       "\u001b[31m│\u001b[0m   \u001b[2m 699 \u001b[0m\u001b[2m│   │   │   │   \u001b[0m\u001b[94mtry\u001b[0m:                                                                      \u001b[31m│\u001b[0m\n",
       "\u001b[31m│\u001b[0m                                                                                                  \u001b[31m│\u001b[0m\n",
       "\u001b[31m│\u001b[0m \u001b[33mc:\\Users\\Rafa\\miniconda3\\lib\\site-packages\\PIL\\Image.py\u001b[0m:\u001b[94m754\u001b[0m in \u001b[92mtobytes\u001b[0m                           \u001b[31m│\u001b[0m\n",
       "\u001b[31m│\u001b[0m                                                                                                  \u001b[31m│\u001b[0m\n",
       "\u001b[31m│\u001b[0m   \u001b[2m 751 \u001b[0m\u001b[2m│   │   \u001b[0m\u001b[94mif\u001b[0m encoder_name == \u001b[33m\"\u001b[0m\u001b[33mraw\u001b[0m\u001b[33m\"\u001b[0m \u001b[95mand\u001b[0m args == ():                                          \u001b[31m│\u001b[0m\n",
       "\u001b[31m│\u001b[0m   \u001b[2m 752 \u001b[0m\u001b[2m│   │   │   \u001b[0margs = \u001b[96mself\u001b[0m.mode                                                              \u001b[31m│\u001b[0m\n",
       "\u001b[31m│\u001b[0m   \u001b[2m 753 \u001b[0m\u001b[2m│   │   \u001b[0m                                                                                  \u001b[31m│\u001b[0m\n",
       "\u001b[31m│\u001b[0m \u001b[31m❱ \u001b[0m 754 \u001b[2m│   │   \u001b[0m\u001b[96mself\u001b[0m.load()                                                                       \u001b[31m│\u001b[0m\n",
       "\u001b[31m│\u001b[0m   \u001b[2m 755 \u001b[0m\u001b[2m│   │   \u001b[0m                                                                                  \u001b[31m│\u001b[0m\n",
       "\u001b[31m│\u001b[0m   \u001b[2m 756 \u001b[0m\u001b[2m│   │   \u001b[0m\u001b[94mif\u001b[0m \u001b[96mself\u001b[0m.width == \u001b[94m0\u001b[0m \u001b[95mor\u001b[0m \u001b[96mself\u001b[0m.height == \u001b[94m0\u001b[0m:                                           \u001b[31m│\u001b[0m\n",
       "\u001b[31m│\u001b[0m   \u001b[2m 757 \u001b[0m\u001b[2m│   │   │   \u001b[0m\u001b[94mreturn\u001b[0m \u001b[33mb\u001b[0m\u001b[33m\"\u001b[0m\u001b[33m\"\u001b[0m                                                                    \u001b[31m│\u001b[0m\n",
       "\u001b[31m│\u001b[0m                                                                                                  \u001b[31m│\u001b[0m\n",
       "\u001b[31m│\u001b[0m \u001b[33mc:\\Users\\Rafa\\miniconda3\\lib\\site-packages\\PIL\\ImageFile.py\u001b[0m:\u001b[94m269\u001b[0m in \u001b[92mload\u001b[0m                          \u001b[31m│\u001b[0m\n",
       "\u001b[31m│\u001b[0m                                                                                                  \u001b[31m│\u001b[0m\n",
       "\u001b[31m│\u001b[0m   \u001b[2m266 \u001b[0m\u001b[2m│   │   │   │   │   │   │   │   │   \u001b[0m\u001b[94mraise\u001b[0m \u001b[96mOSError\u001b[0m(msg)                                     \u001b[31m│\u001b[0m\n",
       "\u001b[31m│\u001b[0m   \u001b[2m267 \u001b[0m\u001b[2m│   │   │   │   │   │   │   \u001b[0m                                                               \u001b[31m│\u001b[0m\n",
       "\u001b[31m│\u001b[0m   \u001b[2m268 \u001b[0m\u001b[2m│   │   │   │   │   │   │   \u001b[0mb = b + s                                                      \u001b[31m│\u001b[0m\n",
       "\u001b[31m│\u001b[0m \u001b[31m❱ \u001b[0m269 \u001b[2m│   │   │   │   │   │   │   \u001b[0mn, err_code = decoder.decode(b)                                \u001b[31m│\u001b[0m\n",
       "\u001b[31m│\u001b[0m   \u001b[2m270 \u001b[0m\u001b[2m│   │   │   │   │   │   │   \u001b[0m\u001b[94mif\u001b[0m n < \u001b[94m0\u001b[0m:                                                      \u001b[31m│\u001b[0m\n",
       "\u001b[31m│\u001b[0m   \u001b[2m271 \u001b[0m\u001b[2m│   │   │   │   │   │   │   │   \u001b[0m\u001b[94mbreak\u001b[0m                                                      \u001b[31m│\u001b[0m\n",
       "\u001b[31m│\u001b[0m   \u001b[2m272 \u001b[0m\u001b[2m│   │   │   │   │   │   │   \u001b[0mb = b[n:]                                                      \u001b[31m│\u001b[0m\n",
       "\u001b[31m╰──────────────────────────────────────────────────────────────────────────────────────────────────╯\u001b[0m\n",
       "\u001b[1;91mKeyboardInterrupt\u001b[0m\n"
      ]
     },
     "metadata": {},
     "output_type": "display_data"
    }
   ],
   "source": [
    "Go_to_game()\n",
    "vision.Go_to(10,10)"
   ]
  },
  {
   "cell_type": "code",
   "execution_count": null,
   "metadata": {},
   "outputs": [
    {
     "name": "stdout",
     "output_type": "stream",
     "text": [
      "Pokemon Trainer: 3\n"
     ]
    },
    {
     "data": {
      "text/plain": [
       "'3'"
      ]
     },
     "execution_count": 14,
     "metadata": {},
     "output_type": "execute_result"
    }
   ],
   "source": [
    "#Caso respuesta 2\n",
    "situacion_actual=\"Eres un entrenador pokemon cuyo objetivo es vencer a los líderes de los gimnasios y explorar todo lo posible el mapa\"\n",
    "AI.Continue_conv(f\"\"\"Tu situacion actual es: {situacion_actual}.\n",
    "                    Actualmente ves: \n",
    "                    {vision.describe()}.\n",
    "                    Elige una una celda adyacente con la que quieras interactuar. Tienes 4 opciones:\n",
    "                    1. Interactuar con la celda de arriba.\n",
    "                    2. Interactuar con la celda de abajo.\n",
    "                    3. Interactuar con la celda de la izquierda.\n",
    "                    4. Interactuar con la celda de la derecha.\n",
    "                    \n",
    "                    Elige una de estas opciones eligiendo el número correspondiente a la opción, y solo el número.\"\"\")"
   ]
  },
  {
   "cell_type": "code",
   "execution_count": null,
   "metadata": {},
   "outputs": [],
   "source": [
    "\n"
   ]
  },
  {
   "cell_type": "code",
   "execution_count": null,
   "metadata": {},
   "outputs": [
    {
     "data": {
      "text/plain": [
       "True"
      ]
     },
     "execution_count": 15,
     "metadata": {},
     "output_type": "execute_result"
    }
   ],
   "source": [
    "Go_to_game()"
   ]
  },
  {
   "cell_type": "code",
   "execution_count": null,
   "metadata": {},
   "outputs": [],
   "source": []
  },
  {
   "cell_type": "code",
   "execution_count": null,
   "metadata": {},
   "outputs": [
    {
     "name": "stdout",
     "output_type": "stream",
     "text": [
      "Pokemon Trainer: a actual.\n",
      "                    2. Interactuar con algún objeto en una celda adyacente a ti (el jugador).\n",
      "\n",
      "                    Elige una de estas opciones eligiendo el número correspondiente a la opción, y solo el número. Pokemon Trainer: a actual.\n",
      "                    2. Interactuar con algún objeto en una celda adyacente a ti (el jugador).\n",
      "\n",
      "                    Elige una de estas opciones eligiendo el número correspondiente a la opción, y solo el número. Pokemon Trainer: 2 User: User: Tu situacion actual es: Eres un entrenador pokemon cuyo objetivo es vencer a los líderes de los gimnasios y explorar todo lo posible el mapa.\n",
      "                    Actualmente ves: \n",
      "                    -2: Ignora este objeto en esta ronda\n",
      "-1: Is the player character\n",
      "0:  Is unknown what it is\n",
      "1:  Is unknown what it is\n",
      "7:  Is unknown what it is\n",
      "8:  Is unknown what it is\n",
      "9:  Is unknown what it is\n",
      "10:  Is unknown what it is\n",
      "11:  Is unknown what it is\n",
      "16:  Is unknown what it is\n",
      "17:  Is unknown what it is\n",
      "18:  Is unknown what it is\n",
      "19:  Is unknown what it is\n",
      "20:  Is unknown what it is\n",
      "25:  Is unknown what it is\n",
      "26:  Is unknown what it is\n",
      "32:  Is unknown what it is\n",
      "34:  Is unknown what it is\n",
      "39:  Is unknown what it is\n",
      "40:  Is unknown what it is\n",
      "87:  Is unknown what it is\n",
      "104:  Is unknown what it is\n",
      "106:  Is unknown what it is\n",
      "109:  Is unknown what it is\n",
      "110:  Is unknown what it is\n",
      "111:  Is unknown what it is\n",
      "192:  Is unknown what it is\n",
      "193:  Is unknown what it is\n",
      ".\n",
      "                    Tienes dos opciones:\n",
      "                    1. Moverte a otra celda del mapa actual.\n",
      "                    2. Interactuar con algún objeto en una celda adyacente a ti (el jugador).\n",
      "\n",
      "                    Elige una de estas opciones eligiendo el número correspondiente a la opción, y solo el número. Pokemon Trainer: 2\n"
     ]
    }
   ],
   "source": [
    "x=AI.Continue_conv(f\"\"\"Tu situacion actual es: {situacion_actual}.\n",
    "                    Actualmente ves: \n",
    "                    {vision.describe()}.\n",
    "                    Tienes dos opciones:\n",
    "                    1. Moverte a otra celda del mapa actual.\n",
    "                    2. Interactuar con algún objeto en una celda adyacente a ti (el jugador).\n",
    "\n",
    "                    Elige una de estas opciones eligiendo el número correspondiente a la opción, y solo el número.\"\"\")"
   ]
  },
  {
   "cell_type": "code",
   "execution_count": null,
   "metadata": {},
   "outputs": [
    {
     "name": "stdout",
     "output_type": "stream",
     "text": [
      "a actual.\n",
      "                    2. Interactuar con algún objeto en una celda adyacente a ti (el jugador).\n",
      "\n",
      "                    Elige una de estas opciones eligiendo el número correspondiente a la opción, y solo el número. Pokemon Trainer: a actual.\n",
      "                    2. Interactuar con algún objeto en una celda adyacente a ti (el jugador).\n",
      "\n",
      "                    Elige una de estas opciones eligiendo el número correspondiente a la opción, y solo el número. Pokemon Trainer: 2 User: User: Tu situacion actual es: Eres un entrenador pokemon cuyo objetivo es vencer a los líderes de los gimnasios y explorar todo lo posible el mapa.\n",
      "                    Actualmente ves: \n",
      "                    -2: Ignora este objeto en esta ronda\n",
      "-1: Is the player character\n",
      "0:  Is unknown what it is\n",
      "1:  Is unknown what it is\n",
      "7:  Is unknown what it is\n",
      "8:  Is unknown what it is\n",
      "9:  Is unknown what it is\n",
      "10:  Is unknown what it is\n",
      "11:  Is unknown what it is\n",
      "16:  Is unknown what it is\n",
      "17:  Is unknown what it is\n",
      "18:  Is unknown what it is\n",
      "19:  Is unknown what it is\n",
      "20:  Is unknown what it is\n",
      "25:  Is unknown what it is\n",
      "26:  Is unknown what it is\n",
      "32:  Is unknown what it is\n",
      "34:  Is unknown what it is\n",
      "39:  Is unknown what it is\n",
      "40:  Is unknown what it is\n",
      "87:  Is unknown what it is\n",
      "104:  Is unknown what it is\n",
      "106:  Is unknown what it is\n",
      "109:  Is unknown what it is\n",
      "110:  Is unknown what it is\n",
      "111:  Is unknown what it is\n",
      "192:  Is unknown what it is\n",
      "193:  Is unknown what it is\n",
      ".\n",
      "                    Tienes dos opciones:\n",
      "                    1. Moverte a otra celda del mapa actual.\n",
      "                    2. Interactuar con algún objeto en una celda adyacente a ti (el jugador).\n",
      "\n",
      "                    Elige una de estas opciones eligiendo el número correspondiente a la opción, y solo el número. Pokemon Trainer: 2\n"
     ]
    }
   ],
   "source": [
    "print(x)"
   ]
  },
  {
   "cell_type": "code",
   "execution_count": null,
   "metadata": {},
   "outputs": [
    {
     "name": "stdout",
     "output_type": "stream",
     "text": [
      "Pelear? True\n",
      "buscando movs\n",
      "movs encontrados ['scratch', 'growl']\n",
      "Pokemon Trainer: Scratch\n",
      "leyendo texto\n",
      "leyendo texto\n",
      "leyendo texto\n",
      "leyendo texto\n",
      "leyendo texto\n",
      "leyendo texto\n",
      "Pokemon Trainer: Scratch\n",
      "leyendo texto\n",
      "leyendo texto\n",
      "leyendo texto\n",
      "leyendo texto\n",
      "leyendo texto\n",
      "leyendo texto\n",
      "leyendo texto\n",
      "leyendo texto\n",
      "Pokemon Trainer: Scratch\n",
      "leyendo texto\n",
      "leyendo texto\n",
      "leyendo texto\n",
      "leyendo texto\n",
      "Pokemon Trainer: Scratch\n",
      "leyendo texto\n",
      "leyendo texto\n",
      "leyendo texto\n",
      "leyendo texto\n",
      "leyendo texto\n",
      "leyendo texto\n"
     ]
    }
   ],
   "source": [
    "Go_to_game()\n",
    "Trainer_info=Trainer_info_class(Pokemons=[Pokemon_class(\"Charmander\".lower(),level=5,max_hp=39,status=\"\",has_fainted=False,hp=39)])\n",
    "Pelear(Trainer_info,AI)"
   ]
  },
  {
   "cell_type": "code",
   "execution_count": null,
   "metadata": {},
   "outputs": [],
   "source": [
    "del Pelear"
   ]
  },
  {
   "cell_type": "code",
   "execution_count": null,
   "metadata": {},
   "outputs": [],
   "source": [
    "from Python_code.Fight_code import *"
   ]
  },
  {
   "cell_type": "code",
   "execution_count": null,
   "metadata": {},
   "outputs": [
    {
     "data": {
      "text/html": [
       "<pre style=\"white-space:pre;overflow-x:auto;line-height:normal;font-family:Menlo,'DejaVu Sans Mono',consolas,'Courier New',monospace\"><span style=\"color: #800000; text-decoration-color: #800000\">╭─────────────────────────────── </span><span style=\"color: #800000; text-decoration-color: #800000; font-weight: bold\">Traceback </span><span style=\"color: #bf7f7f; text-decoration-color: #bf7f7f; font-weight: bold\">(most recent call last)</span><span style=\"color: #800000; text-decoration-color: #800000\"> ────────────────────────────────╮</span>\n",
       "<span style=\"color: #800000; text-decoration-color: #800000\">│</span> in <span style=\"color: #00ff00; text-decoration-color: #00ff00\">&lt;module&gt;</span>:<span style=\"color: #0000ff; text-decoration-color: #0000ff\">4</span>                                                                                    <span style=\"color: #800000; text-decoration-color: #800000\">│</span>\n",
       "<span style=\"color: #800000; text-decoration-color: #800000\">│</span>                                                                                                  <span style=\"color: #800000; text-decoration-color: #800000\">│</span>\n",
       "<span style=\"color: #800000; text-decoration-color: #800000\">│</span>   <span style=\"color: #7f7f7f; text-decoration-color: #7f7f7f\">1 </span>Go_to_game()                                                                                 <span style=\"color: #800000; text-decoration-color: #800000\">│</span>\n",
       "<span style=\"color: #800000; text-decoration-color: #800000\">│</span>   <span style=\"color: #7f7f7f; text-decoration-color: #7f7f7f\">2 </span>vision=Vision_class()                                                                        <span style=\"color: #800000; text-decoration-color: #800000\">│</span>\n",
       "<span style=\"color: #800000; text-decoration-color: #800000\">│</span>   <span style=\"color: #7f7f7f; text-decoration-color: #7f7f7f\">3 </span><span style=\"color: #0000ff; text-decoration-color: #0000ff\">for</span> i <span style=\"color: #ff00ff; text-decoration-color: #ff00ff\">in</span> <span style=\"color: #00ffff; text-decoration-color: #00ffff\">range</span>(<span style=\"color: #0000ff; text-decoration-color: #0000ff\">10000</span>):                                                                       <span style=\"color: #800000; text-decoration-color: #800000\">│</span>\n",
       "<span style=\"color: #800000; text-decoration-color: #800000\">│</span> <span style=\"color: #800000; text-decoration-color: #800000\">❱ </span>4 <span style=\"color: #7f7f7f; text-decoration-color: #7f7f7f\">│   </span>vision.update()                                                                          <span style=\"color: #800000; text-decoration-color: #800000\">│</span>\n",
       "<span style=\"color: #800000; text-decoration-color: #800000\">│</span>   <span style=\"color: #7f7f7f; text-decoration-color: #7f7f7f\">5 │   </span>sleep(<span style=\"color: #0000ff; text-decoration-color: #0000ff\">0.1</span>)                                                                               <span style=\"color: #800000; text-decoration-color: #800000\">│</span>\n",
       "<span style=\"color: #800000; text-decoration-color: #800000\">│</span>   <span style=\"color: #7f7f7f; text-decoration-color: #7f7f7f\">6 </span>                                                                                             <span style=\"color: #800000; text-decoration-color: #800000\">│</span>\n",
       "<span style=\"color: #800000; text-decoration-color: #800000\">│</span>                                                                                                  <span style=\"color: #800000; text-decoration-color: #800000\">│</span>\n",
       "<span style=\"color: #800000; text-decoration-color: #800000\">│</span> in <span style=\"color: #00ff00; text-decoration-color: #00ff00\">update</span>:<span style=\"color: #0000ff; text-decoration-color: #0000ff\">17</span>                                                                                     <span style=\"color: #800000; text-decoration-color: #800000\">│</span>\n",
       "<span style=\"color: #800000; text-decoration-color: #800000\">│</span>                                                                                                  <span style=\"color: #800000; text-decoration-color: #800000\">│</span>\n",
       "<span style=\"color: #800000; text-decoration-color: #800000\">│</span>   <span style=\"color: #7f7f7f; text-decoration-color: #7f7f7f\"> 14 │   │   │   </span><span style=\"color: #00ffff; text-decoration-color: #00ffff\">self</span>.mapa=mapa_actual                                                          <span style=\"color: #800000; text-decoration-color: #800000\">│</span>\n",
       "<span style=\"color: #800000; text-decoration-color: #800000\">│</span>   <span style=\"color: #7f7f7f; text-decoration-color: #7f7f7f\"> 15 │   │   │   </span><span style=\"color: #0000ff; text-decoration-color: #0000ff\">return</span>                                                                         <span style=\"color: #800000; text-decoration-color: #800000\">│</span>\n",
       "<span style=\"color: #800000; text-decoration-color: #800000\">│</span>   <span style=\"color: #7f7f7f; text-decoration-color: #7f7f7f\"> 16 │   │   </span><span style=\"color: #0000ff; text-decoration-color: #0000ff\">else</span>:                                                                              <span style=\"color: #800000; text-decoration-color: #800000\">│</span>\n",
       "<span style=\"color: #800000; text-decoration-color: #800000\">│</span> <span style=\"color: #800000; text-decoration-color: #800000\">❱ </span> 17 <span style=\"color: #7f7f7f; text-decoration-color: #7f7f7f\">│   │   │   </span><span style=\"color: #0000ff; text-decoration-color: #0000ff\">if</span> <span style=\"color: #ff00ff; text-decoration-color: #ff00ff\">not</span> <span style=\"color: #00ffff; text-decoration-color: #00ffff\">self</span>.Es_el_mismo_mapa(mapa_actual):                                     <span style=\"color: #800000; text-decoration-color: #800000\">│</span>\n",
       "<span style=\"color: #800000; text-decoration-color: #800000\">│</span>   <span style=\"color: #7f7f7f; text-decoration-color: #7f7f7f\"> 18 │   │   │   │   </span><span style=\"color: #0000ff; text-decoration-color: #0000ff\">if</span> traslacion <span style=\"color: #ff00ff; text-decoration-color: #ff00ff\">is</span> <span style=\"color: #0000ff; text-decoration-color: #0000ff\">None</span>:                                                     <span style=\"color: #800000; text-decoration-color: #800000\">│</span>\n",
       "<span style=\"color: #800000; text-decoration-color: #800000\">│</span>   <span style=\"color: #7f7f7f; text-decoration-color: #7f7f7f\"> 19 │   │   │   │   │   #Si el input the traslación es vacío miramos si se ha trasladado el </span>   <span style=\"color: #800000; text-decoration-color: #800000\">│</span>\n",
       "<span style=\"color: #800000; text-decoration-color: #800000\">│</span>   <span style=\"color: #7f7f7f; text-decoration-color: #7f7f7f\"> 20 │   │   │   │   │   </span>traslacion=<span style=\"color: #00ffff; text-decoration-color: #00ffff\">self</span>.direccion_traslado(mapa_actual)                        <span style=\"color: #800000; text-decoration-color: #800000\">│</span>\n",
       "<span style=\"color: #800000; text-decoration-color: #800000\">│</span>                                                                                                  <span style=\"color: #800000; text-decoration-color: #800000\">│</span>\n",
       "<span style=\"color: #800000; text-decoration-color: #800000\">│</span> in <span style=\"color: #00ff00; text-decoration-color: #00ff00\">Es_el_mismo_mapa</span>:<span style=\"color: #0000ff; text-decoration-color: #0000ff\">47</span>                                                                           <span style=\"color: #800000; text-decoration-color: #800000\">│</span>\n",
       "<span style=\"color: #800000; text-decoration-color: #800000\">│</span>                                                                                                  <span style=\"color: #800000; text-decoration-color: #800000\">│</span>\n",
       "<span style=\"color: #800000; text-decoration-color: #800000\">│</span>   <span style=\"color: #7f7f7f; text-decoration-color: #7f7f7f\"> 44 │   │   │   </span><span style=\"color: #0000ff; text-decoration-color: #0000ff\">for</span> j <span style=\"color: #ff00ff; text-decoration-color: #ff00ff\">in</span> <span style=\"color: #00ffff; text-decoration-color: #00ffff\">range</span>(<span style=\"color: #00ffff; text-decoration-color: #00ffff\">len</span>(mapa[<span style=\"color: #0000ff; text-decoration-color: #0000ff\">0</span>])):                                                  <span style=\"color: #800000; text-decoration-color: #800000\">│</span>\n",
       "<span style=\"color: #800000; text-decoration-color: #800000\">│</span>   <span style=\"color: #7f7f7f; text-decoration-color: #7f7f7f\"> 45 │   │   │   │   </span><span style=\"color: #0000ff; text-decoration-color: #0000ff\">if</span> (<span style=\"color: #ff00ff; text-decoration-color: #ff00ff\">not</span> (i <span style=\"color: #ff00ff; text-decoration-color: #ff00ff\">in</span> [<span style=\"color: #0000ff; text-decoration-color: #0000ff\">3</span>,<span style=\"color: #0000ff; text-decoration-color: #0000ff\">4</span>] <span style=\"color: #ff00ff; text-decoration-color: #ff00ff\">and</span> j==<span style=\"color: #0000ff; text-decoration-color: #0000ff\">7</span>)) <span style=\"color: #ff00ff; text-decoration-color: #ff00ff\">and</span> (<span style=\"color: #ff00ff; text-decoration-color: #ff00ff\">not</span> (i+tras_i <span style=\"color: #ff00ff; text-decoration-color: #ff00ff\">in</span> [<span style=\"color: #0000ff; text-decoration-color: #0000ff\">3</span>,<span style=\"color: #0000ff; text-decoration-color: #0000ff\">4</span>] <span style=\"color: #ff00ff; text-decoration-color: #ff00ff\">and</span> (j+tras_j   <span style=\"color: #800000; text-decoration-color: #800000\">│</span>\n",
       "<span style=\"color: #800000; text-decoration-color: #800000\">│</span>   <span style=\"color: #7f7f7f; text-decoration-color: #7f7f7f\"> 46 │   │   │   │   │   </span>cuentas+=<span style=\"color: #0000ff; text-decoration-color: #0000ff\">1</span>                                                             <span style=\"color: #800000; text-decoration-color: #800000\">│</span>\n",
       "<span style=\"color: #800000; text-decoration-color: #800000\">│</span> <span style=\"color: #800000; text-decoration-color: #800000\">❱ </span> 47 <span style=\"color: #7f7f7f; text-decoration-color: #7f7f7f\">│   │   │   │   │   </span><span style=\"color: #0000ff; text-decoration-color: #0000ff\">if</span> <span style=\"color: #ff00ff; text-decoration-color: #ff00ff\">not</span> Objetos_son_iguales(<span style=\"color: #00ffff; text-decoration-color: #00ffff\">self</span>.mapa[i+tras_i][j+tras_j],mapa[i][j])   <span style=\"color: #800000; text-decoration-color: #800000\">│</span>\n",
       "<span style=\"color: #800000; text-decoration-color: #800000\">│</span>   <span style=\"color: #7f7f7f; text-decoration-color: #7f7f7f\"> 48 │   │   │   │   │   │   </span>cambios+=<span style=\"color: #0000ff; text-decoration-color: #0000ff\">1</span>                                                         <span style=\"color: #800000; text-decoration-color: #800000\">│</span>\n",
       "<span style=\"color: #800000; text-decoration-color: #800000\">│</span>   <span style=\"color: #7f7f7f; text-decoration-color: #7f7f7f\"> 49 │   │   │   │   │   │   </span>pos_cambios.append((i,j))                                          <span style=\"color: #800000; text-decoration-color: #800000\">│</span>\n",
       "<span style=\"color: #800000; text-decoration-color: #800000\">│</span>   <span style=\"color: #7f7f7f; text-decoration-color: #7f7f7f\"> 50 </span>                                                                                           <span style=\"color: #800000; text-decoration-color: #800000\">│</span>\n",
       "<span style=\"color: #800000; text-decoration-color: #800000\">╰──────────────────────────────────────────────────────────────────────────────────────────────────╯</span>\n",
       "<span style=\"color: #ff0000; text-decoration-color: #ff0000; font-weight: bold\">NameError: </span>name <span style=\"color: #008000; text-decoration-color: #008000\">'Objetos_son_iguales'</span> is not defined\n",
       "</pre>\n"
      ],
      "text/plain": [
       "\u001b[31m╭─\u001b[0m\u001b[31m──────────────────────────────\u001b[0m\u001b[31m \u001b[0m\u001b[1;31mTraceback \u001b[0m\u001b[1;2;31m(most recent call last)\u001b[0m\u001b[31m \u001b[0m\u001b[31m───────────────────────────────\u001b[0m\u001b[31m─╮\u001b[0m\n",
       "\u001b[31m│\u001b[0m in \u001b[92m<module>\u001b[0m:\u001b[94m4\u001b[0m                                                                                    \u001b[31m│\u001b[0m\n",
       "\u001b[31m│\u001b[0m                                                                                                  \u001b[31m│\u001b[0m\n",
       "\u001b[31m│\u001b[0m   \u001b[2m1 \u001b[0mGo_to_game()                                                                                 \u001b[31m│\u001b[0m\n",
       "\u001b[31m│\u001b[0m   \u001b[2m2 \u001b[0mvision=Vision_class()                                                                        \u001b[31m│\u001b[0m\n",
       "\u001b[31m│\u001b[0m   \u001b[2m3 \u001b[0m\u001b[94mfor\u001b[0m i \u001b[95min\u001b[0m \u001b[96mrange\u001b[0m(\u001b[94m10000\u001b[0m):                                                                       \u001b[31m│\u001b[0m\n",
       "\u001b[31m│\u001b[0m \u001b[31m❱ \u001b[0m4 \u001b[2m│   \u001b[0mvision.update()                                                                          \u001b[31m│\u001b[0m\n",
       "\u001b[31m│\u001b[0m   \u001b[2m5 \u001b[0m\u001b[2m│   \u001b[0msleep(\u001b[94m0.1\u001b[0m)                                                                               \u001b[31m│\u001b[0m\n",
       "\u001b[31m│\u001b[0m   \u001b[2m6 \u001b[0m                                                                                             \u001b[31m│\u001b[0m\n",
       "\u001b[31m│\u001b[0m                                                                                                  \u001b[31m│\u001b[0m\n",
       "\u001b[31m│\u001b[0m in \u001b[92mupdate\u001b[0m:\u001b[94m17\u001b[0m                                                                                     \u001b[31m│\u001b[0m\n",
       "\u001b[31m│\u001b[0m                                                                                                  \u001b[31m│\u001b[0m\n",
       "\u001b[31m│\u001b[0m   \u001b[2m 14 \u001b[0m\u001b[2m│   │   │   \u001b[0m\u001b[96mself\u001b[0m.mapa=mapa_actual                                                          \u001b[31m│\u001b[0m\n",
       "\u001b[31m│\u001b[0m   \u001b[2m 15 \u001b[0m\u001b[2m│   │   │   \u001b[0m\u001b[94mreturn\u001b[0m                                                                         \u001b[31m│\u001b[0m\n",
       "\u001b[31m│\u001b[0m   \u001b[2m 16 \u001b[0m\u001b[2m│   │   \u001b[0m\u001b[94melse\u001b[0m:                                                                              \u001b[31m│\u001b[0m\n",
       "\u001b[31m│\u001b[0m \u001b[31m❱ \u001b[0m 17 \u001b[2m│   │   │   \u001b[0m\u001b[94mif\u001b[0m \u001b[95mnot\u001b[0m \u001b[96mself\u001b[0m.Es_el_mismo_mapa(mapa_actual):                                     \u001b[31m│\u001b[0m\n",
       "\u001b[31m│\u001b[0m   \u001b[2m 18 \u001b[0m\u001b[2m│   │   │   │   \u001b[0m\u001b[94mif\u001b[0m traslacion \u001b[95mis\u001b[0m \u001b[94mNone\u001b[0m:                                                     \u001b[31m│\u001b[0m\n",
       "\u001b[31m│\u001b[0m   \u001b[2m 19 \u001b[0m\u001b[2m│   │   │   │   │   \u001b[0m\u001b[2m#Si el input the traslación es vacío miramos si se ha trasladado el \u001b[0m   \u001b[31m│\u001b[0m\n",
       "\u001b[31m│\u001b[0m   \u001b[2m 20 \u001b[0m\u001b[2m│   │   │   │   │   \u001b[0mtraslacion=\u001b[96mself\u001b[0m.direccion_traslado(mapa_actual)                        \u001b[31m│\u001b[0m\n",
       "\u001b[31m│\u001b[0m                                                                                                  \u001b[31m│\u001b[0m\n",
       "\u001b[31m│\u001b[0m in \u001b[92mEs_el_mismo_mapa\u001b[0m:\u001b[94m47\u001b[0m                                                                           \u001b[31m│\u001b[0m\n",
       "\u001b[31m│\u001b[0m                                                                                                  \u001b[31m│\u001b[0m\n",
       "\u001b[31m│\u001b[0m   \u001b[2m 44 \u001b[0m\u001b[2m│   │   │   \u001b[0m\u001b[94mfor\u001b[0m j \u001b[95min\u001b[0m \u001b[96mrange\u001b[0m(\u001b[96mlen\u001b[0m(mapa[\u001b[94m0\u001b[0m])):                                                  \u001b[31m│\u001b[0m\n",
       "\u001b[31m│\u001b[0m   \u001b[2m 45 \u001b[0m\u001b[2m│   │   │   │   \u001b[0m\u001b[94mif\u001b[0m (\u001b[95mnot\u001b[0m (i \u001b[95min\u001b[0m [\u001b[94m3\u001b[0m,\u001b[94m4\u001b[0m] \u001b[95mand\u001b[0m j==\u001b[94m7\u001b[0m)) \u001b[95mand\u001b[0m (\u001b[95mnot\u001b[0m (i+tras_i \u001b[95min\u001b[0m [\u001b[94m3\u001b[0m,\u001b[94m4\u001b[0m] \u001b[95mand\u001b[0m (j+tras_j   \u001b[31m│\u001b[0m\n",
       "\u001b[31m│\u001b[0m   \u001b[2m 46 \u001b[0m\u001b[2m│   │   │   │   │   \u001b[0mcuentas+=\u001b[94m1\u001b[0m                                                             \u001b[31m│\u001b[0m\n",
       "\u001b[31m│\u001b[0m \u001b[31m❱ \u001b[0m 47 \u001b[2m│   │   │   │   │   \u001b[0m\u001b[94mif\u001b[0m \u001b[95mnot\u001b[0m Objetos_son_iguales(\u001b[96mself\u001b[0m.mapa[i+tras_i][j+tras_j],mapa[i][j])   \u001b[31m│\u001b[0m\n",
       "\u001b[31m│\u001b[0m   \u001b[2m 48 \u001b[0m\u001b[2m│   │   │   │   │   │   \u001b[0mcambios+=\u001b[94m1\u001b[0m                                                         \u001b[31m│\u001b[0m\n",
       "\u001b[31m│\u001b[0m   \u001b[2m 49 \u001b[0m\u001b[2m│   │   │   │   │   │   \u001b[0mpos_cambios.append((i,j))                                          \u001b[31m│\u001b[0m\n",
       "\u001b[31m│\u001b[0m   \u001b[2m 50 \u001b[0m                                                                                           \u001b[31m│\u001b[0m\n",
       "\u001b[31m╰──────────────────────────────────────────────────────────────────────────────────────────────────╯\u001b[0m\n",
       "\u001b[1;91mNameError: \u001b[0mname \u001b[32m'Objetos_son_iguales'\u001b[0m is not defined\n"
      ]
     },
     "metadata": {},
     "output_type": "display_data"
    }
   ],
   "source": [
    "Go_to_game()\n",
    "vision=Vision_class()\n",
    "for i in range(10000):\n",
    "    vision.update()\n",
    "    sleep(0.1)"
   ]
  },
  {
   "cell_type": "code",
   "execution_count": null,
   "metadata": {},
   "outputs": [],
   "source": [
    "Info_object(np.array([0]).astype(\"int\")[0]).save()"
   ]
  },
  {
   "cell_type": "code",
   "execution_count": null,
   "metadata": {},
   "outputs": [
    {
     "data": {
      "text/html": [
       "<pre style=\"white-space:pre;overflow-x:auto;line-height:normal;font-family:Menlo,'DejaVu Sans Mono',consolas,'Courier New',monospace\"><span style=\"color: #800000; text-decoration-color: #800000\">╭─────────────────────────────── </span><span style=\"color: #800000; text-decoration-color: #800000; font-weight: bold\">Traceback </span><span style=\"color: #bf7f7f; text-decoration-color: #bf7f7f; font-weight: bold\">(most recent call last)</span><span style=\"color: #800000; text-decoration-color: #800000\"> ────────────────────────────────╮</span>\n",
       "<span style=\"color: #800000; text-decoration-color: #800000\">│</span> in <span style=\"color: #00ff00; text-decoration-color: #00ff00\">&lt;module&gt;</span>:<span style=\"color: #0000ff; text-decoration-color: #0000ff\">6</span>                                                                                    <span style=\"color: #800000; text-decoration-color: #800000\">│</span>\n",
       "<span style=\"color: #800000; text-decoration-color: #800000\">│</span>                                                                                                  <span style=\"color: #800000; text-decoration-color: #800000\">│</span>\n",
       "<span style=\"color: #800000; text-decoration-color: #800000\">│</span>   <span style=\"color: #7f7f7f; text-decoration-color: #7f7f7f\"> 3 </span>min_dist=<span style=\"color: #0000ff; text-decoration-color: #0000ff\">1000</span>;count=<span style=\"color: #0000ff; text-decoration-color: #0000ff\">0</span>                                                                       <span style=\"color: #800000; text-decoration-color: #800000\">│</span>\n",
       "<span style=\"color: #800000; text-decoration-color: #800000\">│</span>   <span style=\"color: #7f7f7f; text-decoration-color: #7f7f7f\"> 4 </span><span style=\"color: #0000ff; text-decoration-color: #0000ff\">while</span> min_dist&gt;<span style=\"color: #0000ff; text-decoration-color: #0000ff\">5</span> <span style=\"color: #ff00ff; text-decoration-color: #ff00ff\">and</span> count&lt;<span style=\"color: #0000ff; text-decoration-color: #0000ff\">5</span>:                                                               <span style=\"color: #800000; text-decoration-color: #800000\">│</span>\n",
       "<span style=\"color: #800000; text-decoration-color: #800000\">│</span>   <span style=\"color: #7f7f7f; text-decoration-color: #7f7f7f\"> 5 │   </span>                                                                                        <span style=\"color: #800000; text-decoration-color: #800000\">│</span>\n",
       "<span style=\"color: #800000; text-decoration-color: #800000\">│</span> <span style=\"color: #800000; text-decoration-color: #800000\">❱ </span> 6 <span style=\"color: #7f7f7f; text-decoration-color: #7f7f7f\">│   </span>mov=AI.Continue_conv(<span style=\"color: #808000; text-decoration-color: #808000\">f\"\"\"{'That is not a valid move. '</span>*(min_dist)==<span style=\"color: #0000ff; text-decoration-color: #0000ff\">1000</span><span style=\"color: #808000; text-decoration-color: #808000\">}You are a po</span>    <span style=\"color: #800000; text-decoration-color: #800000\">│</span>\n",
       "<span style=\"color: #800000; text-decoration-color: #800000\">│</span>   <span style=\"color: #7f7f7f; text-decoration-color: #7f7f7f\"> 7 </span><span style=\"color: #bfbf7f; text-decoration-color: #bfbf7f\">│   │   │   </span><span style=\"color: #808000; text-decoration-color: #808000\">The opponent is a {</span>opponent_pokemon<span style=\"color: #808000; text-decoration-color: #808000\">} with green health. Your {</span>current_pokemo    <span style=\"color: #800000; text-decoration-color: #800000\">│</span>\n",
       "<span style=\"color: #800000; text-decoration-color: #800000\">│</span>   <span style=\"color: #7f7f7f; text-decoration-color: #7f7f7f\"> 8 </span><span style=\"color: #bfbf7f; text-decoration-color: #bfbf7f\">│   │   │   </span><span style=\"color: #808000; text-decoration-color: #808000\">{</span>Pokemon.moves_explanation()<span style=\"color: #808000; text-decoration-color: #808000\">}</span>                                                   <span style=\"color: #800000; text-decoration-color: #800000\">│</span>\n",
       "<span style=\"color: #800000; text-decoration-color: #800000\">│</span>   <span style=\"color: #7f7f7f; text-decoration-color: #7f7f7f\"> 9 </span><span style=\"color: #bfbf7f; text-decoration-color: #bfbf7f\">│   │   │   </span><span style=\"color: #808000; text-decoration-color: #808000\">Choose the move you consider the fastest way to KO your opponent in this sit</span>    <span style=\"color: #800000; text-decoration-color: #800000\">│</span>\n",
       "<span style=\"color: #800000; text-decoration-color: #800000\">╰──────────────────────────────────────────────────────────────────────────────────────────────────╯</span>\n",
       "<span style=\"color: #ff0000; text-decoration-color: #ff0000; font-weight: bold\">NameError: </span>name <span style=\"color: #008000; text-decoration-color: #008000\">'current_pokemon'</span> is not defined\n",
       "</pre>\n"
      ],
      "text/plain": [
       "\u001b[31m╭─\u001b[0m\u001b[31m──────────────────────────────\u001b[0m\u001b[31m \u001b[0m\u001b[1;31mTraceback \u001b[0m\u001b[1;2;31m(most recent call last)\u001b[0m\u001b[31m \u001b[0m\u001b[31m───────────────────────────────\u001b[0m\u001b[31m─╮\u001b[0m\n",
       "\u001b[31m│\u001b[0m in \u001b[92m<module>\u001b[0m:\u001b[94m6\u001b[0m                                                                                    \u001b[31m│\u001b[0m\n",
       "\u001b[31m│\u001b[0m                                                                                                  \u001b[31m│\u001b[0m\n",
       "\u001b[31m│\u001b[0m   \u001b[2m 3 \u001b[0mmin_dist=\u001b[94m1000\u001b[0m;count=\u001b[94m0\u001b[0m                                                                       \u001b[31m│\u001b[0m\n",
       "\u001b[31m│\u001b[0m   \u001b[2m 4 \u001b[0m\u001b[94mwhile\u001b[0m min_dist>\u001b[94m5\u001b[0m \u001b[95mand\u001b[0m count<\u001b[94m5\u001b[0m:                                                               \u001b[31m│\u001b[0m\n",
       "\u001b[31m│\u001b[0m   \u001b[2m 5 \u001b[0m\u001b[2m│   \u001b[0m                                                                                        \u001b[31m│\u001b[0m\n",
       "\u001b[31m│\u001b[0m \u001b[31m❱ \u001b[0m 6 \u001b[2m│   \u001b[0mmov=AI.Continue_conv(\u001b[33mf\u001b[0m\u001b[33m\"\"\"\u001b[0m\u001b[33m{\u001b[0m\u001b[33m'\u001b[0m\u001b[33mThat is not a valid move. \u001b[0m\u001b[33m'\u001b[0m*(min_dist)==\u001b[94m1000\u001b[0m\u001b[33m}\u001b[0m\u001b[33mYou are a po\u001b[0m    \u001b[31m│\u001b[0m\n",
       "\u001b[31m│\u001b[0m   \u001b[2m 7 \u001b[0m\u001b[2;33m│   │   │   \u001b[0m\u001b[33mThe opponent is a \u001b[0m\u001b[33m{\u001b[0mopponent_pokemon\u001b[33m}\u001b[0m\u001b[33m with green health. Your \u001b[0m\u001b[33m{\u001b[0mcurrent_pokemo    \u001b[31m│\u001b[0m\n",
       "\u001b[31m│\u001b[0m   \u001b[2m 8 \u001b[0m\u001b[2;33m│   │   │   \u001b[0m\u001b[33m{\u001b[0mPokemon.moves_explanation()\u001b[33m}\u001b[0m                                                   \u001b[31m│\u001b[0m\n",
       "\u001b[31m│\u001b[0m   \u001b[2m 9 \u001b[0m\u001b[2;33m│   │   │   \u001b[0m\u001b[33mChoose the move you consider the fastest way to KO your opponent in this sit\u001b[0m    \u001b[31m│\u001b[0m\n",
       "\u001b[31m╰──────────────────────────────────────────────────────────────────────────────────────────────────╯\u001b[0m\n",
       "\u001b[1;91mNameError: \u001b[0mname \u001b[32m'current_pokemon'\u001b[0m is not defined\n"
      ]
     },
     "metadata": {},
     "output_type": "display_data"
    }
   ],
   "source": [
    "AI.Reset_conv()\n",
    "\n",
    "min_dist=1000;count=0\n",
    "while min_dist>5 and count<5:\n",
    "    \n",
    "    mov=AI.Continue_conv(f\"\"\"{'That is not a valid move. '*(min_dist)==1000}You are a pokemon trainer that can only shout out moves. You are in a battle and your current pokemon is a {current_pokemon}. \n",
    "            The opponent is a {opponent_pokemon} with green health. Your {current_pokemon} has as moves: {\" and \".join(moves_current_pokemon)}. \n",
    "            {Pokemon.moves_explanation()}\n",
    "            Choose the move you consider the fastest way to KO your opponent in this situation. Answer only and only with the move you want to use.\n",
    "                \"\"\")"
   ]
  },
  {
   "cell_type": "code",
   "execution_count": null,
   "metadata": {},
   "outputs": [
    {
     "name": "stdout",
     "output_type": "stream",
     "text": [
      "Pokemon Trainer: (4,4)\n"
     ]
    },
    {
     "data": {
      "text/plain": [
       "'(4,4)'"
      ]
     },
     "execution_count": 317,
     "metadata": {},
     "output_type": "execute_result"
    }
   ],
   "source": [
    "AI.Reset_conv()\n",
    "AI.Continue_conv(msg)"
   ]
  },
  {
   "cell_type": "code",
   "execution_count": null,
   "metadata": {},
   "outputs": [],
   "source": [
    "msg=\"\"\n",
    "msg=f\"You currently see:\\n {mapa.astype(int)}\\nThese numbers mean:\\n\"\n",
    "for num in np.unique(mapa):\n",
    "    msg+=f\"{Info_object(num).describe()}\\n\"\n",
    "\n",
    "#msg+=\"Choose a place on the what you see that hasn´t been investigated to go to, and give me the coordinates of where it is in (x,y) format knowing that the the player is considered (0,0). Only give me the coordinates of where you wanna go in '(x,y)' format.\"\"\"#bottom left corner is (0,0)\"\n",
    "#msg+=\"Choose the closest place to the player on what you see that hasn´t been investigated to go to, and give me the coordinates of where it is in (x,y) format knowing that the the player is considered (0,0). Only give me the coordinates of where you wanna go in '(x,y)' format.\"\"\"#bottom left corner is (0,0)\"\n",
    "msg+=\"Choose one of the closest place to the player on what you see to go to, and give me the coordinates of where it is in (x,y) format knowing that the the player is considered (0,0). Only give me the coordinates of where you wanna go in '(x,y)' format.\"\"\"#bottom left corner is (0,0)\""
   ]
  },
  {
   "cell_type": "code",
   "execution_count": null,
   "metadata": {},
   "outputs": [
    {
     "name": "stdout",
     "output_type": "stream",
     "text": [
      "Pokemon Trainer: I apologize for the mistake. The correct coordinates for the nearest location to the player are (2,4).\n"
     ]
    },
    {
     "data": {
      "text/plain": [
       "'I apologize for the mistake. The correct coordinates for the nearest location to the player are (2,4).'"
      ]
     },
     "execution_count": 319,
     "metadata": {},
     "output_type": "execute_result"
    }
   ],
   "source": [
    "AI.Continue_conv(\"You´re not even close\")"
   ]
  },
  {
   "cell_type": "code",
   "execution_count": null,
   "metadata": {},
   "outputs": [],
   "source": []
  },
  {
   "cell_type": "code",
   "execution_count": null,
   "metadata": {},
   "outputs": [
    {
     "name": "stdout",
     "output_type": "stream",
     "text": [
      "You currently see:\n",
      " [[ 4  4  4  4  4 23 24 24 24 24 24 24 24 24]\n",
      " [25 25 25 25 25 24 24 24 26 27 28 28 28 28]\n",
      " [24 24 24 24 24 24 24 29  4 30 31 31 31 31]\n",
      " [32 33 33 34 35 26 26  3  4 36 37 37 37 37]\n",
      " [38 38 39 40 41  4  4 -1 42 43 44 45 46 47]\n",
      " [48 48 48 49 48  4  4  4 50 51 52 53 54 55]\n",
      " [56 57 58 59 60  4  4  4  4  4 61  4  4  4]\n",
      " [62 62 62 63 63 13 17 17 17 17 17 17 17 17]\n",
      " [ 4  4  4  4  4  4  4  4  4  4  4  4  4  4]]\n",
      "These numbers mean:\n",
      "-1: Is the player character\n",
      "3:  Is unknown what it is\n",
      "4:  Is unknown what it is\n",
      "13:  Is unknown what it is\n",
      "17:  Is unknown what it is\n",
      "23:  Is unknown what it is\n",
      "24:  Is unknown what it is\n",
      "25:  Is unknown what it is\n",
      "26:  Is unknown what it is\n",
      "27:  Is unknown what it is\n",
      "28:  Is unknown what it is\n",
      "29:  Is unknown what it is\n",
      "30:  Is unknown what it is\n",
      "31:  Is unknown what it is\n",
      "32:  Is unknown what it is\n",
      "33:  Is unknown what it is\n",
      "34:  Is unknown what it is\n",
      "35:  Is unknown what it is\n",
      "36:  Is unknown what it is\n",
      "37:  Is unknown what it is\n",
      "38:  Is unknown what it is\n",
      "39:  Is unknown what it is\n",
      "40:  Is unknown what it is\n",
      "41:  Is unknown what it is\n",
      "42:  Is unknown what it is\n",
      "43:  Is unknown what it is\n",
      "44:  Is unknown what it is\n",
      "45:  Is unknown what it is\n",
      "46:  Is unknown what it is\n",
      "47:  Is unknown what it is\n",
      "48:  Is unknown what it is\n",
      "49:  Is unknown what it is\n",
      "50:  Is unknown what it is\n",
      "51:  Is unknown what it is\n",
      "52:  Is unknown what it is\n",
      "53:  Is unknown what it is\n",
      "54:  Is unknown what it is\n",
      "55:  Is unknown what it is\n",
      "56:  Is unknown what it is\n",
      "57:  Is unknown what it is\n",
      "58:  Is unknown what it is\n",
      "59:  Is unknown what it is\n",
      "60:  Is unknown what it is\n",
      "61:  Is unknown what it is\n",
      "62:  Is unknown what it is\n",
      "63:  Is unknown what it is\n",
      "Choose the closest place to the player on what you see that hasn´t been investigated to go to, and give me the coordinates of where it is in (x,y) format knowing that the the player is considered (0,0). Only give me the coordinates of where you wanna go in '(x,y)' format.\n"
     ]
    }
   ],
   "source": [
    "print(msg)"
   ]
  },
  {
   "cell_type": "code",
   "execution_count": null,
   "metadata": {},
   "outputs": [],
   "source": [
    "Go_to_game()\n",
    "current_map=crop_into_pixels(screenshot())\n",
    "mapa=find_and_save_unique_images(current_map)"
   ]
  },
  {
   "cell_type": "code",
   "execution_count": null,
   "metadata": {},
   "outputs": [],
   "source": []
  },
  {
   "cell_type": "code",
   "execution_count": null,
   "metadata": {},
   "outputs": [],
   "source": []
  },
  {
   "cell_type": "code",
   "execution_count": null,
   "metadata": {},
   "outputs": [
    {
     "data": {
      "text/plain": [
       "array([[ 4.,  4.,  4.,  4.,  4., 23., 24., 24., 24., 24., 24., 24., 24.,\n",
       "        24.],\n",
       "       [25., 25., 25., 25., 25., 24., 24., 24., 26., 27., 28., 28., 28.,\n",
       "        28.],\n",
       "       [24., 24., 24., 24., 24., 24., 24., 29.,  4., 30., 31., 31., 31.,\n",
       "        31.],\n",
       "       [32., 33., 33., 34., 35., 26., 26., 87.,  4., 36., 37., 37., 37.,\n",
       "        37.],\n",
       "       [38., 38., 39., 40., 41.,  4.,  4.,  4., 42., 43., 44., 45., 46.,\n",
       "        47.],\n",
       "       [48., 48., 48., 49., 48.,  4.,  4.,  4., 50., 51., 52., 53., 54.,\n",
       "        55.],\n",
       "       [56., 57., 58., 59., 60.,  4.,  4.,  4.,  4.,  4., 61.,  4.,  4.,\n",
       "         4.],\n",
       "       [62., 62., 62., 63., 63., 13., 17., 17., 17., 17., 17., 17., 17.,\n",
       "        17.],\n",
       "       [ 4.,  4.,  4.,  4.,  4.,  4.,  4.,  4.,  4.,  4.,  4.,  4.,  4.,\n",
       "         4.]])"
      ]
     },
     "execution_count": 644,
     "metadata": {},
     "output_type": "execute_result"
    }
   ],
   "source": [
    "mapa"
   ]
  },
  {
   "cell_type": "code",
   "execution_count": null,
   "metadata": {},
   "outputs": [],
   "source": []
  },
  {
   "cell_type": "code",
   "execution_count": null,
   "metadata": {},
   "outputs": [
    {
     "name": "stdout",
     "output_type": "stream",
     "text": [
      "[-2 -1  1  2  3  4  5  6  7  8  9 11 12 16 22]\n",
      "[-2 -1  0  1  2  3  4  5  6  7  8  9 11 12 16]\n",
      "0->0 Esta rodeado :)\n",
      "0 <class 'int'>\n",
      "0 <class 'int'>\n",
      "0 no es transformable en 0\n",
      "0->0 Esta rodeado :)\n",
      "0 <class 'int'>\n",
      "0 <class 'int'>\n"
     ]
    },
    {
     "data": {
      "text/html": [
       "<pre style=\"white-space:pre;overflow-x:auto;line-height:normal;font-family:Menlo,'DejaVu Sans Mono',consolas,'Courier New',monospace\"><span style=\"color: #800000; text-decoration-color: #800000\">╭─────────────────────────────── </span><span style=\"color: #800000; text-decoration-color: #800000; font-weight: bold\">Traceback </span><span style=\"color: #bf7f7f; text-decoration-color: #bf7f7f; font-weight: bold\">(most recent call last)</span><span style=\"color: #800000; text-decoration-color: #800000\"> ────────────────────────────────╮</span>\n",
       "<span style=\"color: #800000; text-decoration-color: #800000\">│</span> in <span style=\"color: #00ff00; text-decoration-color: #00ff00\">&lt;module&gt;</span>:<span style=\"color: #0000ff; text-decoration-color: #0000ff\">3</span>                                                                                    <span style=\"color: #800000; text-decoration-color: #800000\">│</span>\n",
       "<span style=\"color: #800000; text-decoration-color: #800000\">│</span>                                                                                                  <span style=\"color: #800000; text-decoration-color: #800000\">│</span>\n",
       "<span style=\"color: #800000; text-decoration-color: #800000\">│</span>   <span style=\"color: #7f7f7f; text-decoration-color: #7f7f7f\">1 </span>Go_to_game()                                                                                 <span style=\"color: #800000; text-decoration-color: #800000\">│</span>\n",
       "<span style=\"color: #800000; text-decoration-color: #800000\">│</span>   <span style=\"color: #7f7f7f; text-decoration-color: #7f7f7f\">2 </span><span style=\"color: #0000ff; text-decoration-color: #0000ff\">for</span> i <span style=\"color: #ff00ff; text-decoration-color: #ff00ff\">in</span> <span style=\"color: #00ffff; text-decoration-color: #00ffff\">range</span>(<span style=\"color: #0000ff; text-decoration-color: #0000ff\">10000</span>):                                                                       <span style=\"color: #800000; text-decoration-color: #800000\">│</span>\n",
       "<span style=\"color: #800000; text-decoration-color: #800000\">│</span> <span style=\"color: #800000; text-decoration-color: #800000\">❱ </span>3 <span style=\"color: #7f7f7f; text-decoration-color: #7f7f7f\">│   </span>vision.update()                                                                          <span style=\"color: #800000; text-decoration-color: #800000\">│</span>\n",
       "<span style=\"color: #800000; text-decoration-color: #800000\">│</span>   <span style=\"color: #7f7f7f; text-decoration-color: #7f7f7f\">4 </span>                                                                                             <span style=\"color: #800000; text-decoration-color: #800000\">│</span>\n",
       "<span style=\"color: #800000; text-decoration-color: #800000\">│</span>                                                                                                  <span style=\"color: #800000; text-decoration-color: #800000\">│</span>\n",
       "<span style=\"color: #800000; text-decoration-color: #800000\">│</span> in <span style=\"color: #00ff00; text-decoration-color: #00ff00\">update</span>:<span style=\"color: #0000ff; text-decoration-color: #0000ff\">18</span>                                                                                     <span style=\"color: #800000; text-decoration-color: #800000\">│</span>\n",
       "<span style=\"color: #800000; text-decoration-color: #800000\">│</span>                                                                                                  <span style=\"color: #800000; text-decoration-color: #800000\">│</span>\n",
       "<span style=\"color: #800000; text-decoration-color: #800000\">│</span>   <span style=\"color: #7f7f7f; text-decoration-color: #7f7f7f\"> 15 │   │   │   </span><span style=\"color: #00ffff; text-decoration-color: #00ffff\">self</span>.mapa=mapa_actual                                                          <span style=\"color: #800000; text-decoration-color: #800000\">│</span>\n",
       "<span style=\"color: #800000; text-decoration-color: #800000\">│</span>   <span style=\"color: #7f7f7f; text-decoration-color: #7f7f7f\"> 16 │   │   │   </span><span style=\"color: #0000ff; text-decoration-color: #0000ff\">return</span>                                                                         <span style=\"color: #800000; text-decoration-color: #800000\">│</span>\n",
       "<span style=\"color: #800000; text-decoration-color: #800000\">│</span>   <span style=\"color: #7f7f7f; text-decoration-color: #7f7f7f\"> 17 │   │   </span><span style=\"color: #0000ff; text-decoration-color: #0000ff\">else</span>:                                                                              <span style=\"color: #800000; text-decoration-color: #800000\">│</span>\n",
       "<span style=\"color: #800000; text-decoration-color: #800000\">│</span> <span style=\"color: #800000; text-decoration-color: #800000\">❱ </span> 18 <span style=\"color: #7f7f7f; text-decoration-color: #7f7f7f\">│   │   │   </span><span style=\"color: #0000ff; text-decoration-color: #0000ff\">if</span> <span style=\"color: #ff00ff; text-decoration-color: #ff00ff\">not</span> <span style=\"color: #00ffff; text-decoration-color: #00ffff\">self</span>.Es_el_mismo_mapa(mapa_actual):                                     <span style=\"color: #800000; text-decoration-color: #800000\">│</span>\n",
       "<span style=\"color: #800000; text-decoration-color: #800000\">│</span>   <span style=\"color: #7f7f7f; text-decoration-color: #7f7f7f\"> 19 │   │   │   │   </span><span style=\"color: #0000ff; text-decoration-color: #0000ff\">if</span> traslacion <span style=\"color: #ff00ff; text-decoration-color: #ff00ff\">is</span> <span style=\"color: #0000ff; text-decoration-color: #0000ff\">None</span>:                                                     <span style=\"color: #800000; text-decoration-color: #800000\">│</span>\n",
       "<span style=\"color: #800000; text-decoration-color: #800000\">│</span>   <span style=\"color: #7f7f7f; text-decoration-color: #7f7f7f\"> 20 │   │   │   │   │   #Si el input the traslación es vacío miramos si se ha trasladado el </span>   <span style=\"color: #800000; text-decoration-color: #800000\">│</span>\n",
       "<span style=\"color: #800000; text-decoration-color: #800000\">│</span>   <span style=\"color: #7f7f7f; text-decoration-color: #7f7f7f\"> 21 │   │   │   │   │   </span>traslacion=<span style=\"color: #00ffff; text-decoration-color: #00ffff\">self</span>.direccion_traslado(mapa_actual)                        <span style=\"color: #800000; text-decoration-color: #800000\">│</span>\n",
       "<span style=\"color: #800000; text-decoration-color: #800000\">│</span>                                                                                                  <span style=\"color: #800000; text-decoration-color: #800000\">│</span>\n",
       "<span style=\"color: #800000; text-decoration-color: #800000\">│</span> in <span style=\"color: #00ff00; text-decoration-color: #00ff00\">Es_el_mismo_mapa</span>:<span style=\"color: #0000ff; text-decoration-color: #0000ff\">67</span>                                                                           <span style=\"color: #800000; text-decoration-color: #800000\">│</span>\n",
       "<span style=\"color: #800000; text-decoration-color: #800000\">│</span>                                                                                                  <span style=\"color: #800000; text-decoration-color: #800000\">│</span>\n",
       "<span style=\"color: #800000; text-decoration-color: #800000\">│</span>   <span style=\"color: #7f7f7f; text-decoration-color: #7f7f7f\"> 64 │   │   │   │   │   </span>Esta_rodeado=<span style=\"color: #0000ff; text-decoration-color: #0000ff\">False</span>                                                     <span style=\"color: #800000; text-decoration-color: #800000\">│</span>\n",
       "<span style=\"color: #800000; text-decoration-color: #800000\">│</span>   <span style=\"color: #7f7f7f; text-decoration-color: #7f7f7f\"> 65 │   │   │   </span><span style=\"color: #0000ff; text-decoration-color: #0000ff\">if</span> Esta_rodeado:                                                               <span style=\"color: #800000; text-decoration-color: #800000\">│</span>\n",
       "<span style=\"color: #800000; text-decoration-color: #800000\">│</span>   <span style=\"color: #7f7f7f; text-decoration-color: #7f7f7f\"> 66 │   │   │   │   </span><span style=\"color: #00ffff; text-decoration-color: #00ffff\">print</span>(<span style=\"color: #808000; text-decoration-color: #808000\">f\"{</span>mapa[cambio[<span style=\"color: #0000ff; text-decoration-color: #0000ff\">0</span>]][cambio[<span style=\"color: #0000ff; text-decoration-color: #0000ff\">1</span>]]<span style=\"color: #808000; text-decoration-color: #808000\">}-&gt;{</span>mapa[cambio[<span style=\"color: #0000ff; text-decoration-color: #0000ff\">0</span>]+tras_i][cambio[<span style=\"color: #0000ff; text-decoration-color: #0000ff\">1</span>]+   <span style=\"color: #800000; text-decoration-color: #800000\">│</span>\n",
       "<span style=\"color: #800000; text-decoration-color: #800000\">│</span> <span style=\"color: #800000; text-decoration-color: #800000\">❱ </span> 67 <span style=\"color: #7f7f7f; text-decoration-color: #7f7f7f\">│   │   │   │   </span>Info_object(mapa[cambio[<span style=\"color: #0000ff; text-decoration-color: #0000ff\">0</span>]][cambio[<span style=\"color: #0000ff; text-decoration-color: #0000ff\">1</span>]]).Add_transformation(mapa[cambio[<span style=\"color: #0000ff; text-decoration-color: #0000ff\">0</span>   <span style=\"color: #800000; text-decoration-color: #800000\">│</span>\n",
       "<span style=\"color: #800000; text-decoration-color: #800000\">│</span>   <span style=\"color: #7f7f7f; text-decoration-color: #7f7f7f\"> 68 │   │   </span>                                                                                   <span style=\"color: #800000; text-decoration-color: #800000\">│</span>\n",
       "<span style=\"color: #800000; text-decoration-color: #800000\">│</span>   <span style=\"color: #7f7f7f; text-decoration-color: #7f7f7f\"> 69 │   │   ##Si el número de cambios es menor o igual que 4 (una persona cambia de backgrou</span>   <span style=\"color: #800000; text-decoration-color: #800000\">│</span>\n",
       "<span style=\"color: #800000; text-decoration-color: #800000\">│</span>   <span style=\"color: #7f7f7f; text-decoration-color: #7f7f7f\"> 70 │   │   #if cambios&lt;=4:</span>                                                                    <span style=\"color: #800000; text-decoration-color: #800000\">│</span>\n",
       "<span style=\"color: #800000; text-decoration-color: #800000\">│</span>                                                                                                  <span style=\"color: #800000; text-decoration-color: #800000\">│</span>\n",
       "<span style=\"color: #800000; text-decoration-color: #800000\">│</span> in <span style=\"color: #00ff00; text-decoration-color: #00ff00\">Add_transformation</span>:<span style=\"color: #0000ff; text-decoration-color: #0000ff\">67</span>                                                                         <span style=\"color: #800000; text-decoration-color: #800000\">│</span>\n",
       "<span style=\"color: #800000; text-decoration-color: #800000\">│</span>                                                                                                  <span style=\"color: #800000; text-decoration-color: #800000\">│</span>\n",
       "<span style=\"color: #800000; text-decoration-color: #800000\">│</span>   <span style=\"color: #7f7f7f; text-decoration-color: #7f7f7f\">64 │   │   │   </span><span style=\"color: #00ffff; text-decoration-color: #00ffff\">print</span>(name,<span style=\"color: #808000; text-decoration-color: #808000\">\"no es transformable en\"</span>,<span style=\"color: #00ffff; text-decoration-color: #00ffff\">self</span>.name)                                  <span style=\"color: #800000; text-decoration-color: #800000\">│</span>\n",
       "<span style=\"color: #800000; text-decoration-color: #800000\">│</span>   <span style=\"color: #7f7f7f; text-decoration-color: #7f7f7f\">65 │   │   │   </span><span style=\"color: #00ffff; text-decoration-color: #00ffff\">self</span>.transformable_en.append(<span style=\"color: #00ffff; text-decoration-color: #00ffff\">int</span>(name))                                         <span style=\"color: #800000; text-decoration-color: #800000\">│</span>\n",
       "<span style=\"color: #800000; text-decoration-color: #800000\">│</span>   <span style=\"color: #7f7f7f; text-decoration-color: #7f7f7f\">66 │   │   </span>                                                                                    <span style=\"color: #800000; text-decoration-color: #800000\">│</span>\n",
       "<span style=\"color: #800000; text-decoration-color: #800000\">│</span> <span style=\"color: #800000; text-decoration-color: #800000\">❱ </span>67 <span style=\"color: #7f7f7f; text-decoration-color: #7f7f7f\">│   │   </span><span style=\"color: #00ffff; text-decoration-color: #00ffff\">self</span>.save()                                                                         <span style=\"color: #800000; text-decoration-color: #800000\">│</span>\n",
       "<span style=\"color: #800000; text-decoration-color: #800000\">│</span>   <span style=\"color: #7f7f7f; text-decoration-color: #7f7f7f\">68 </span>                                                                                            <span style=\"color: #800000; text-decoration-color: #800000\">│</span>\n",
       "<span style=\"color: #800000; text-decoration-color: #800000\">│</span>   <span style=\"color: #7f7f7f; text-decoration-color: #7f7f7f\">69 </span>                                                                                            <span style=\"color: #800000; text-decoration-color: #800000\">│</span>\n",
       "<span style=\"color: #800000; text-decoration-color: #800000\">│</span>   <span style=\"color: #7f7f7f; text-decoration-color: #7f7f7f\">70 </span>                                                                                            <span style=\"color: #800000; text-decoration-color: #800000\">│</span>\n",
       "<span style=\"color: #800000; text-decoration-color: #800000\">│</span>                                                                                                  <span style=\"color: #800000; text-decoration-color: #800000\">│</span>\n",
       "<span style=\"color: #800000; text-decoration-color: #800000\">│</span> in <span style=\"color: #00ff00; text-decoration-color: #00ff00\">save</span>:<span style=\"color: #0000ff; text-decoration-color: #0000ff\">28</span>                                                                                       <span style=\"color: #800000; text-decoration-color: #800000\">│</span>\n",
       "<span style=\"color: #800000; text-decoration-color: #800000\">│</span>                                                                                                  <span style=\"color: #800000; text-decoration-color: #800000\">│</span>\n",
       "<span style=\"color: #800000; text-decoration-color: #800000\">│</span>   <span style=\"color: #7f7f7f; text-decoration-color: #7f7f7f\">25 │   │   </span><span style=\"color: #0000ff; text-decoration-color: #0000ff\">return</span> <span style=\"color: #808000; text-decoration-color: #808000\">f\"\"\"{</span><span style=\"color: #00ffff; text-decoration-color: #00ffff\">self</span>.name<span style=\"color: #808000; text-decoration-color: #808000\">}: You can {\"not\"</span>*(<span style=\"color: #ff00ff; text-decoration-color: #ff00ff\">not</span><span style=\"color: #808080; text-decoration-color: #808080\"> </span><span style=\"color: #00ffff; text-decoration-color: #00ffff\">self</span>.walkable)<span style=\"color: #808000; text-decoration-color: #808000\">} walk on it and you c</span>    <span style=\"color: #800000; text-decoration-color: #800000\">│</span>\n",
       "<span style=\"color: #800000; text-decoration-color: #800000\">│</span>   <span style=\"color: #7f7f7f; text-decoration-color: #7f7f7f\">26 │   </span>                                                                                        <span style=\"color: #800000; text-decoration-color: #800000\">│</span>\n",
       "<span style=\"color: #800000; text-decoration-color: #800000\">│</span>   <span style=\"color: #7f7f7f; text-decoration-color: #7f7f7f\">27 │   </span><span style=\"color: #0000ff; text-decoration-color: #0000ff\">def</span> <span style=\"color: #00ff00; text-decoration-color: #00ff00\">save</span>(<span style=\"color: #00ffff; text-decoration-color: #00ffff\">self</span>):                                                                         <span style=\"color: #800000; text-decoration-color: #800000\">│</span>\n",
       "<span style=\"color: #800000; text-decoration-color: #800000\">│</span> <span style=\"color: #800000; text-decoration-color: #800000\">❱ </span>28 <span style=\"color: #7f7f7f; text-decoration-color: #7f7f7f\">│   │   </span>json.dump({                                                                         <span style=\"color: #800000; text-decoration-color: #800000\">│</span>\n",
       "<span style=\"color: #800000; text-decoration-color: #800000\">│</span>   <span style=\"color: #7f7f7f; text-decoration-color: #7f7f7f\">29 │   │   │   │   │   </span><span style=\"color: #808000; text-decoration-color: #808000\">\"name\"</span>:<span style=\"color: #00ffff; text-decoration-color: #00ffff\">self</span>.name,                                                       <span style=\"color: #800000; text-decoration-color: #800000\">│</span>\n",
       "<span style=\"color: #800000; text-decoration-color: #800000\">│</span>   <span style=\"color: #7f7f7f; text-decoration-color: #7f7f7f\">30 │   │   │   │   │   </span><span style=\"color: #808000; text-decoration-color: #808000\">\"walkable\"</span>:<span style=\"color: #00ffff; text-decoration-color: #00ffff\">self</span>.walkable,                                               <span style=\"color: #800000; text-decoration-color: #800000\">│</span>\n",
       "<span style=\"color: #800000; text-decoration-color: #800000\">│</span>   <span style=\"color: #7f7f7f; text-decoration-color: #7f7f7f\">31 │   │   │   │   │   </span><span style=\"color: #808000; text-decoration-color: #808000\">\"interactable\"</span>:<span style=\"color: #00ffff; text-decoration-color: #00ffff\">self</span>.interactable,                                       <span style=\"color: #800000; text-decoration-color: #800000\">│</span>\n",
       "<span style=\"color: #800000; text-decoration-color: #800000\">│</span>                                                                                                  <span style=\"color: #800000; text-decoration-color: #800000\">│</span>\n",
       "<span style=\"color: #800000; text-decoration-color: #800000\">│</span> <span style=\"color: #808000; text-decoration-color: #808000\">c:\\Users\\Rafa\\miniconda3\\lib\\json\\__init__.py</span>:<span style=\"color: #0000ff; text-decoration-color: #0000ff\">179</span> in <span style=\"color: #00ff00; text-decoration-color: #00ff00\">dump</span>                                        <span style=\"color: #800000; text-decoration-color: #800000\">│</span>\n",
       "<span style=\"color: #800000; text-decoration-color: #800000\">│</span>                                                                                                  <span style=\"color: #800000; text-decoration-color: #800000\">│</span>\n",
       "<span style=\"color: #800000; text-decoration-color: #800000\">│</span>   <span style=\"color: #7f7f7f; text-decoration-color: #7f7f7f\">176 │   │   │   </span>default=default, sort_keys=sort_keys, **kw).iterencode(obj)                    <span style=\"color: #800000; text-decoration-color: #800000\">│</span>\n",
       "<span style=\"color: #800000; text-decoration-color: #800000\">│</span>   <span style=\"color: #7f7f7f; text-decoration-color: #7f7f7f\">177 │   # could accelerate with writelines in some versions of Python, at</span>                      <span style=\"color: #800000; text-decoration-color: #800000\">│</span>\n",
       "<span style=\"color: #800000; text-decoration-color: #800000\">│</span>   <span style=\"color: #7f7f7f; text-decoration-color: #7f7f7f\">178 │   # a debuggability cost</span>                                                                 <span style=\"color: #800000; text-decoration-color: #800000\">│</span>\n",
       "<span style=\"color: #800000; text-decoration-color: #800000\">│</span> <span style=\"color: #800000; text-decoration-color: #800000\">❱ </span>179 <span style=\"color: #7f7f7f; text-decoration-color: #7f7f7f\">│   </span><span style=\"color: #0000ff; text-decoration-color: #0000ff\">for</span> chunk <span style=\"color: #ff00ff; text-decoration-color: #ff00ff\">in</span> iterable:                                                                 <span style=\"color: #800000; text-decoration-color: #800000\">│</span>\n",
       "<span style=\"color: #800000; text-decoration-color: #800000\">│</span>   <span style=\"color: #7f7f7f; text-decoration-color: #7f7f7f\">180 │   │   </span>fp.write(chunk)                                                                    <span style=\"color: #800000; text-decoration-color: #800000\">│</span>\n",
       "<span style=\"color: #800000; text-decoration-color: #800000\">│</span>   <span style=\"color: #7f7f7f; text-decoration-color: #7f7f7f\">181 </span>                                                                                           <span style=\"color: #800000; text-decoration-color: #800000\">│</span>\n",
       "<span style=\"color: #800000; text-decoration-color: #800000\">│</span>   <span style=\"color: #7f7f7f; text-decoration-color: #7f7f7f\">182 </span>                                                                                           <span style=\"color: #800000; text-decoration-color: #800000\">│</span>\n",
       "<span style=\"color: #800000; text-decoration-color: #800000\">│</span>                                                                                                  <span style=\"color: #800000; text-decoration-color: #800000\">│</span>\n",
       "<span style=\"color: #800000; text-decoration-color: #800000\">│</span> <span style=\"color: #808000; text-decoration-color: #808000\">c:\\Users\\Rafa\\miniconda3\\lib\\json\\encoder.py</span>:<span style=\"color: #0000ff; text-decoration-color: #0000ff\">431</span> in <span style=\"color: #00ff00; text-decoration-color: #00ff00\">_iterencode</span>                                  <span style=\"color: #800000; text-decoration-color: #800000\">│</span>\n",
       "<span style=\"color: #800000; text-decoration-color: #800000\">│</span>                                                                                                  <span style=\"color: #800000; text-decoration-color: #800000\">│</span>\n",
       "<span style=\"color: #800000; text-decoration-color: #800000\">│</span>   <span style=\"color: #7f7f7f; text-decoration-color: #7f7f7f\">428 │   │   </span><span style=\"color: #0000ff; text-decoration-color: #0000ff\">elif</span> <span style=\"color: #00ffff; text-decoration-color: #00ffff\">isinstance</span>(o, (<span style=\"color: #00ffff; text-decoration-color: #00ffff\">list</span>, <span style=\"color: #00ffff; text-decoration-color: #00ffff\">tuple</span>)):                                                 <span style=\"color: #800000; text-decoration-color: #800000\">│</span>\n",
       "<span style=\"color: #800000; text-decoration-color: #800000\">│</span>   <span style=\"color: #7f7f7f; text-decoration-color: #7f7f7f\">429 │   │   │   </span><span style=\"color: #0000ff; text-decoration-color: #0000ff\">yield from</span> _iterencode_list(o, _current_indent_level)                          <span style=\"color: #800000; text-decoration-color: #800000\">│</span>\n",
       "<span style=\"color: #800000; text-decoration-color: #800000\">│</span>   <span style=\"color: #7f7f7f; text-decoration-color: #7f7f7f\">430 │   │   </span><span style=\"color: #0000ff; text-decoration-color: #0000ff\">elif</span> <span style=\"color: #00ffff; text-decoration-color: #00ffff\">isinstance</span>(o, <span style=\"color: #00ffff; text-decoration-color: #00ffff\">dict</span>):                                                          <span style=\"color: #800000; text-decoration-color: #800000\">│</span>\n",
       "<span style=\"color: #800000; text-decoration-color: #800000\">│</span> <span style=\"color: #800000; text-decoration-color: #800000\">❱ </span>431 <span style=\"color: #7f7f7f; text-decoration-color: #7f7f7f\">│   │   │   </span><span style=\"color: #0000ff; text-decoration-color: #0000ff\">yield from</span> _iterencode_dict(o, _current_indent_level)                          <span style=\"color: #800000; text-decoration-color: #800000\">│</span>\n",
       "<span style=\"color: #800000; text-decoration-color: #800000\">│</span>   <span style=\"color: #7f7f7f; text-decoration-color: #7f7f7f\">432 │   │   </span><span style=\"color: #0000ff; text-decoration-color: #0000ff\">else</span>:                                                                              <span style=\"color: #800000; text-decoration-color: #800000\">│</span>\n",
       "<span style=\"color: #800000; text-decoration-color: #800000\">│</span>   <span style=\"color: #7f7f7f; text-decoration-color: #7f7f7f\">433 │   │   │   </span><span style=\"color: #0000ff; text-decoration-color: #0000ff\">if</span> markers <span style=\"color: #ff00ff; text-decoration-color: #ff00ff\">is</span> <span style=\"color: #ff00ff; text-decoration-color: #ff00ff\">not</span> <span style=\"color: #0000ff; text-decoration-color: #0000ff\">None</span>:                                                        <span style=\"color: #800000; text-decoration-color: #800000\">│</span>\n",
       "<span style=\"color: #800000; text-decoration-color: #800000\">│</span>   <span style=\"color: #7f7f7f; text-decoration-color: #7f7f7f\">434 │   │   │   │   </span>markerid = <span style=\"color: #00ffff; text-decoration-color: #00ffff\">id</span>(o)                                                           <span style=\"color: #800000; text-decoration-color: #800000\">│</span>\n",
       "<span style=\"color: #800000; text-decoration-color: #800000\">│</span>                                                                                                  <span style=\"color: #800000; text-decoration-color: #800000\">│</span>\n",
       "<span style=\"color: #800000; text-decoration-color: #800000\">│</span> <span style=\"color: #808000; text-decoration-color: #808000\">c:\\Users\\Rafa\\miniconda3\\lib\\json\\encoder.py</span>:<span style=\"color: #0000ff; text-decoration-color: #0000ff\">405</span> in <span style=\"color: #00ff00; text-decoration-color: #00ff00\">_iterencode_dict</span>                             <span style=\"color: #800000; text-decoration-color: #800000\">│</span>\n",
       "<span style=\"color: #800000; text-decoration-color: #800000\">│</span>                                                                                                  <span style=\"color: #800000; text-decoration-color: #800000\">│</span>\n",
       "<span style=\"color: #800000; text-decoration-color: #800000\">│</span>   <span style=\"color: #7f7f7f; text-decoration-color: #7f7f7f\">402 │   │   │   │   │   </span>chunks = _iterencode_dict(value, _current_indent_level)                <span style=\"color: #800000; text-decoration-color: #800000\">│</span>\n",
       "<span style=\"color: #800000; text-decoration-color: #800000\">│</span>   <span style=\"color: #7f7f7f; text-decoration-color: #7f7f7f\">403 │   │   │   │   </span><span style=\"color: #0000ff; text-decoration-color: #0000ff\">else</span>:                                                                      <span style=\"color: #800000; text-decoration-color: #800000\">│</span>\n",
       "<span style=\"color: #800000; text-decoration-color: #800000\">│</span>   <span style=\"color: #7f7f7f; text-decoration-color: #7f7f7f\">404 │   │   │   │   │   </span>chunks = _iterencode(value, _current_indent_level)                     <span style=\"color: #800000; text-decoration-color: #800000\">│</span>\n",
       "<span style=\"color: #800000; text-decoration-color: #800000\">│</span> <span style=\"color: #800000; text-decoration-color: #800000\">❱ </span>405 <span style=\"color: #7f7f7f; text-decoration-color: #7f7f7f\">│   │   │   │   </span><span style=\"color: #0000ff; text-decoration-color: #0000ff\">yield from</span> chunks                                                          <span style=\"color: #800000; text-decoration-color: #800000\">│</span>\n",
       "<span style=\"color: #800000; text-decoration-color: #800000\">│</span>   <span style=\"color: #7f7f7f; text-decoration-color: #7f7f7f\">406 │   │   </span><span style=\"color: #0000ff; text-decoration-color: #0000ff\">if</span> newline_indent <span style=\"color: #ff00ff; text-decoration-color: #ff00ff\">is</span> <span style=\"color: #ff00ff; text-decoration-color: #ff00ff\">not</span> <span style=\"color: #0000ff; text-decoration-color: #0000ff\">None</span>:                                                     <span style=\"color: #800000; text-decoration-color: #800000\">│</span>\n",
       "<span style=\"color: #800000; text-decoration-color: #800000\">│</span>   <span style=\"color: #7f7f7f; text-decoration-color: #7f7f7f\">407 │   │   │   </span>_current_indent_level -= <span style=\"color: #0000ff; text-decoration-color: #0000ff\">1</span>                                                     <span style=\"color: #800000; text-decoration-color: #800000\">│</span>\n",
       "<span style=\"color: #800000; text-decoration-color: #800000\">│</span>   <span style=\"color: #7f7f7f; text-decoration-color: #7f7f7f\">408 │   │   │   </span><span style=\"color: #0000ff; text-decoration-color: #0000ff\">yield</span> <span style=\"color: #808000; text-decoration-color: #808000\">'\\n'</span> + _indent * _current_indent_level                                   <span style=\"color: #800000; text-decoration-color: #800000\">│</span>\n",
       "<span style=\"color: #800000; text-decoration-color: #800000\">│</span>                                                                                                  <span style=\"color: #800000; text-decoration-color: #800000\">│</span>\n",
       "<span style=\"color: #800000; text-decoration-color: #800000\">│</span> <span style=\"color: #808000; text-decoration-color: #808000\">c:\\Users\\Rafa\\miniconda3\\lib\\json\\encoder.py</span>:<span style=\"color: #0000ff; text-decoration-color: #0000ff\">325</span> in <span style=\"color: #00ff00; text-decoration-color: #00ff00\">_iterencode_list</span>                             <span style=\"color: #800000; text-decoration-color: #800000\">│</span>\n",
       "<span style=\"color: #800000; text-decoration-color: #800000\">│</span>                                                                                                  <span style=\"color: #800000; text-decoration-color: #800000\">│</span>\n",
       "<span style=\"color: #800000; text-decoration-color: #800000\">│</span>   <span style=\"color: #7f7f7f; text-decoration-color: #7f7f7f\">322 │   │   │   │   │   </span>chunks = _iterencode_dict(value, _current_indent_level)                <span style=\"color: #800000; text-decoration-color: #800000\">│</span>\n",
       "<span style=\"color: #800000; text-decoration-color: #800000\">│</span>   <span style=\"color: #7f7f7f; text-decoration-color: #7f7f7f\">323 │   │   │   │   </span><span style=\"color: #0000ff; text-decoration-color: #0000ff\">else</span>:                                                                      <span style=\"color: #800000; text-decoration-color: #800000\">│</span>\n",
       "<span style=\"color: #800000; text-decoration-color: #800000\">│</span>   <span style=\"color: #7f7f7f; text-decoration-color: #7f7f7f\">324 │   │   │   │   │   </span>chunks = _iterencode(value, _current_indent_level)                     <span style=\"color: #800000; text-decoration-color: #800000\">│</span>\n",
       "<span style=\"color: #800000; text-decoration-color: #800000\">│</span> <span style=\"color: #800000; text-decoration-color: #800000\">❱ </span>325 <span style=\"color: #7f7f7f; text-decoration-color: #7f7f7f\">│   │   │   │   </span><span style=\"color: #0000ff; text-decoration-color: #0000ff\">yield from</span> chunks                                                          <span style=\"color: #800000; text-decoration-color: #800000\">│</span>\n",
       "<span style=\"color: #800000; text-decoration-color: #800000\">│</span>   <span style=\"color: #7f7f7f; text-decoration-color: #7f7f7f\">326 │   │   </span><span style=\"color: #0000ff; text-decoration-color: #0000ff\">if</span> newline_indent <span style=\"color: #ff00ff; text-decoration-color: #ff00ff\">is</span> <span style=\"color: #ff00ff; text-decoration-color: #ff00ff\">not</span> <span style=\"color: #0000ff; text-decoration-color: #0000ff\">None</span>:                                                     <span style=\"color: #800000; text-decoration-color: #800000\">│</span>\n",
       "<span style=\"color: #800000; text-decoration-color: #800000\">│</span>   <span style=\"color: #7f7f7f; text-decoration-color: #7f7f7f\">327 │   │   │   </span>_current_indent_level -= <span style=\"color: #0000ff; text-decoration-color: #0000ff\">1</span>                                                     <span style=\"color: #800000; text-decoration-color: #800000\">│</span>\n",
       "<span style=\"color: #800000; text-decoration-color: #800000\">│</span>   <span style=\"color: #7f7f7f; text-decoration-color: #7f7f7f\">328 │   │   │   </span><span style=\"color: #0000ff; text-decoration-color: #0000ff\">yield</span> <span style=\"color: #808000; text-decoration-color: #808000\">'\\n'</span> + _indent * _current_indent_level                                   <span style=\"color: #800000; text-decoration-color: #800000\">│</span>\n",
       "<span style=\"color: #800000; text-decoration-color: #800000\">│</span>                                                                                                  <span style=\"color: #800000; text-decoration-color: #800000\">│</span>\n",
       "<span style=\"color: #800000; text-decoration-color: #800000\">│</span> <span style=\"color: #808000; text-decoration-color: #808000\">c:\\Users\\Rafa\\miniconda3\\lib\\json\\encoder.py</span>:<span style=\"color: #0000ff; text-decoration-color: #0000ff\">438</span> in <span style=\"color: #00ff00; text-decoration-color: #00ff00\">_iterencode</span>                                  <span style=\"color: #800000; text-decoration-color: #800000\">│</span>\n",
       "<span style=\"color: #800000; text-decoration-color: #800000\">│</span>                                                                                                  <span style=\"color: #800000; text-decoration-color: #800000\">│</span>\n",
       "<span style=\"color: #800000; text-decoration-color: #800000\">│</span>   <span style=\"color: #7f7f7f; text-decoration-color: #7f7f7f\">435 │   │   │   │   </span><span style=\"color: #0000ff; text-decoration-color: #0000ff\">if</span> markerid <span style=\"color: #ff00ff; text-decoration-color: #ff00ff\">in</span> markers:                                                    <span style=\"color: #800000; text-decoration-color: #800000\">│</span>\n",
       "<span style=\"color: #800000; text-decoration-color: #800000\">│</span>   <span style=\"color: #7f7f7f; text-decoration-color: #7f7f7f\">436 │   │   │   │   │   </span><span style=\"color: #0000ff; text-decoration-color: #0000ff\">raise</span> <span style=\"color: #00ffff; text-decoration-color: #00ffff\">ValueError</span>(<span style=\"color: #808000; text-decoration-color: #808000\">\"Circular reference detected\"</span>)                        <span style=\"color: #800000; text-decoration-color: #800000\">│</span>\n",
       "<span style=\"color: #800000; text-decoration-color: #800000\">│</span>   <span style=\"color: #7f7f7f; text-decoration-color: #7f7f7f\">437 │   │   │   │   </span>markers[markerid] = o                                                      <span style=\"color: #800000; text-decoration-color: #800000\">│</span>\n",
       "<span style=\"color: #800000; text-decoration-color: #800000\">│</span> <span style=\"color: #800000; text-decoration-color: #800000\">❱ </span>438 <span style=\"color: #7f7f7f; text-decoration-color: #7f7f7f\">│   │   │   </span>o = _default(o)                                                                <span style=\"color: #800000; text-decoration-color: #800000\">│</span>\n",
       "<span style=\"color: #800000; text-decoration-color: #800000\">│</span>   <span style=\"color: #7f7f7f; text-decoration-color: #7f7f7f\">439 │   │   │   </span><span style=\"color: #0000ff; text-decoration-color: #0000ff\">yield from</span> _iterencode(o, _current_indent_level)                               <span style=\"color: #800000; text-decoration-color: #800000\">│</span>\n",
       "<span style=\"color: #800000; text-decoration-color: #800000\">│</span>   <span style=\"color: #7f7f7f; text-decoration-color: #7f7f7f\">440 │   │   │   </span><span style=\"color: #0000ff; text-decoration-color: #0000ff\">if</span> markers <span style=\"color: #ff00ff; text-decoration-color: #ff00ff\">is</span> <span style=\"color: #ff00ff; text-decoration-color: #ff00ff\">not</span> <span style=\"color: #0000ff; text-decoration-color: #0000ff\">None</span>:                                                        <span style=\"color: #800000; text-decoration-color: #800000\">│</span>\n",
       "<span style=\"color: #800000; text-decoration-color: #800000\">│</span>   <span style=\"color: #7f7f7f; text-decoration-color: #7f7f7f\">441 │   │   │   │   </span><span style=\"color: #0000ff; text-decoration-color: #0000ff\">del</span> markers[markerid]                                                      <span style=\"color: #800000; text-decoration-color: #800000\">│</span>\n",
       "<span style=\"color: #800000; text-decoration-color: #800000\">│</span>                                                                                                  <span style=\"color: #800000; text-decoration-color: #800000\">│</span>\n",
       "<span style=\"color: #800000; text-decoration-color: #800000\">│</span> <span style=\"color: #808000; text-decoration-color: #808000\">c:\\Users\\Rafa\\miniconda3\\lib\\json\\encoder.py</span>:<span style=\"color: #0000ff; text-decoration-color: #0000ff\">179</span> in <span style=\"color: #00ff00; text-decoration-color: #00ff00\">default</span>                                      <span style=\"color: #800000; text-decoration-color: #800000\">│</span>\n",
       "<span style=\"color: #800000; text-decoration-color: #800000\">│</span>                                                                                                  <span style=\"color: #800000; text-decoration-color: #800000\">│</span>\n",
       "<span style=\"color: #800000; text-decoration-color: #800000\">│</span>   <span style=\"color: #7f7f7f; text-decoration-color: #7f7f7f\">176 </span><span style=\"color: #bfbf7f; text-decoration-color: #bfbf7f\">│   │   │   │   </span><span style=\"color: #808000; text-decoration-color: #808000\">return JSONEncoder.default(self, o)</span>                                        <span style=\"color: #800000; text-decoration-color: #800000\">│</span>\n",
       "<span style=\"color: #800000; text-decoration-color: #800000\">│</span>   <span style=\"color: #7f7f7f; text-decoration-color: #7f7f7f\">177 │   │   </span>                                                                                   <span style=\"color: #800000; text-decoration-color: #800000\">│</span>\n",
       "<span style=\"color: #800000; text-decoration-color: #800000\">│</span>   <span style=\"color: #7f7f7f; text-decoration-color: #7f7f7f\">178 </span><span style=\"color: #bfbf7f; text-decoration-color: #bfbf7f\">│   │   </span><span style=\"color: #808000; text-decoration-color: #808000\">\"\"\"</span>                                                                                <span style=\"color: #800000; text-decoration-color: #800000\">│</span>\n",
       "<span style=\"color: #800000; text-decoration-color: #800000\">│</span> <span style=\"color: #800000; text-decoration-color: #800000\">❱ </span>179 <span style=\"color: #7f7f7f; text-decoration-color: #7f7f7f\">│   │   </span><span style=\"color: #0000ff; text-decoration-color: #0000ff\">raise</span> <span style=\"color: #00ffff; text-decoration-color: #00ffff\">TypeError</span>(<span style=\"color: #808000; text-decoration-color: #808000\">f'Object of type {</span>o.<span style=\"color: #ff0000; text-decoration-color: #ff0000\">__class__</span>.<span style=\"color: #ff0000; text-decoration-color: #ff0000\">__name__</span><span style=\"color: #808000; text-decoration-color: #808000\">} '</span>                          <span style=\"color: #800000; text-decoration-color: #800000\">│</span>\n",
       "<span style=\"color: #800000; text-decoration-color: #800000\">│</span>   <span style=\"color: #7f7f7f; text-decoration-color: #7f7f7f\">180 │   │   │   │   │   │   </span><span style=\"color: #808000; text-decoration-color: #808000\">f'is not JSON serializable'</span>)                                       <span style=\"color: #800000; text-decoration-color: #800000\">│</span>\n",
       "<span style=\"color: #800000; text-decoration-color: #800000\">│</span>   <span style=\"color: #7f7f7f; text-decoration-color: #7f7f7f\">181 │   </span>                                                                                       <span style=\"color: #800000; text-decoration-color: #800000\">│</span>\n",
       "<span style=\"color: #800000; text-decoration-color: #800000\">│</span>   <span style=\"color: #7f7f7f; text-decoration-color: #7f7f7f\">182 │   </span><span style=\"color: #0000ff; text-decoration-color: #0000ff\">def</span> <span style=\"color: #00ff00; text-decoration-color: #00ff00\">encode</span>(<span style=\"color: #00ffff; text-decoration-color: #00ffff\">self</span>, o):                                                                   <span style=\"color: #800000; text-decoration-color: #800000\">│</span>\n",
       "<span style=\"color: #800000; text-decoration-color: #800000\">╰──────────────────────────────────────────────────────────────────────────────────────────────────╯</span>\n",
       "<span style=\"color: #ff0000; text-decoration-color: #ff0000; font-weight: bold\">TypeError: </span>Object of type int32 is not JSON serializable\n",
       "</pre>\n"
      ],
      "text/plain": [
       "\u001b[31m╭─\u001b[0m\u001b[31m──────────────────────────────\u001b[0m\u001b[31m \u001b[0m\u001b[1;31mTraceback \u001b[0m\u001b[1;2;31m(most recent call last)\u001b[0m\u001b[31m \u001b[0m\u001b[31m───────────────────────────────\u001b[0m\u001b[31m─╮\u001b[0m\n",
       "\u001b[31m│\u001b[0m in \u001b[92m<module>\u001b[0m:\u001b[94m3\u001b[0m                                                                                    \u001b[31m│\u001b[0m\n",
       "\u001b[31m│\u001b[0m                                                                                                  \u001b[31m│\u001b[0m\n",
       "\u001b[31m│\u001b[0m   \u001b[2m1 \u001b[0mGo_to_game()                                                                                 \u001b[31m│\u001b[0m\n",
       "\u001b[31m│\u001b[0m   \u001b[2m2 \u001b[0m\u001b[94mfor\u001b[0m i \u001b[95min\u001b[0m \u001b[96mrange\u001b[0m(\u001b[94m10000\u001b[0m):                                                                       \u001b[31m│\u001b[0m\n",
       "\u001b[31m│\u001b[0m \u001b[31m❱ \u001b[0m3 \u001b[2m│   \u001b[0mvision.update()                                                                          \u001b[31m│\u001b[0m\n",
       "\u001b[31m│\u001b[0m   \u001b[2m4 \u001b[0m                                                                                             \u001b[31m│\u001b[0m\n",
       "\u001b[31m│\u001b[0m                                                                                                  \u001b[31m│\u001b[0m\n",
       "\u001b[31m│\u001b[0m in \u001b[92mupdate\u001b[0m:\u001b[94m18\u001b[0m                                                                                     \u001b[31m│\u001b[0m\n",
       "\u001b[31m│\u001b[0m                                                                                                  \u001b[31m│\u001b[0m\n",
       "\u001b[31m│\u001b[0m   \u001b[2m 15 \u001b[0m\u001b[2m│   │   │   \u001b[0m\u001b[96mself\u001b[0m.mapa=mapa_actual                                                          \u001b[31m│\u001b[0m\n",
       "\u001b[31m│\u001b[0m   \u001b[2m 16 \u001b[0m\u001b[2m│   │   │   \u001b[0m\u001b[94mreturn\u001b[0m                                                                         \u001b[31m│\u001b[0m\n",
       "\u001b[31m│\u001b[0m   \u001b[2m 17 \u001b[0m\u001b[2m│   │   \u001b[0m\u001b[94melse\u001b[0m:                                                                              \u001b[31m│\u001b[0m\n",
       "\u001b[31m│\u001b[0m \u001b[31m❱ \u001b[0m 18 \u001b[2m│   │   │   \u001b[0m\u001b[94mif\u001b[0m \u001b[95mnot\u001b[0m \u001b[96mself\u001b[0m.Es_el_mismo_mapa(mapa_actual):                                     \u001b[31m│\u001b[0m\n",
       "\u001b[31m│\u001b[0m   \u001b[2m 19 \u001b[0m\u001b[2m│   │   │   │   \u001b[0m\u001b[94mif\u001b[0m traslacion \u001b[95mis\u001b[0m \u001b[94mNone\u001b[0m:                                                     \u001b[31m│\u001b[0m\n",
       "\u001b[31m│\u001b[0m   \u001b[2m 20 \u001b[0m\u001b[2m│   │   │   │   │   \u001b[0m\u001b[2m#Si el input the traslación es vacío miramos si se ha trasladado el \u001b[0m   \u001b[31m│\u001b[0m\n",
       "\u001b[31m│\u001b[0m   \u001b[2m 21 \u001b[0m\u001b[2m│   │   │   │   │   \u001b[0mtraslacion=\u001b[96mself\u001b[0m.direccion_traslado(mapa_actual)                        \u001b[31m│\u001b[0m\n",
       "\u001b[31m│\u001b[0m                                                                                                  \u001b[31m│\u001b[0m\n",
       "\u001b[31m│\u001b[0m in \u001b[92mEs_el_mismo_mapa\u001b[0m:\u001b[94m67\u001b[0m                                                                           \u001b[31m│\u001b[0m\n",
       "\u001b[31m│\u001b[0m                                                                                                  \u001b[31m│\u001b[0m\n",
       "\u001b[31m│\u001b[0m   \u001b[2m 64 \u001b[0m\u001b[2m│   │   │   │   │   \u001b[0mEsta_rodeado=\u001b[94mFalse\u001b[0m                                                     \u001b[31m│\u001b[0m\n",
       "\u001b[31m│\u001b[0m   \u001b[2m 65 \u001b[0m\u001b[2m│   │   │   \u001b[0m\u001b[94mif\u001b[0m Esta_rodeado:                                                               \u001b[31m│\u001b[0m\n",
       "\u001b[31m│\u001b[0m   \u001b[2m 66 \u001b[0m\u001b[2m│   │   │   │   \u001b[0m\u001b[96mprint\u001b[0m(\u001b[33mf\u001b[0m\u001b[33m\"\u001b[0m\u001b[33m{\u001b[0mmapa[cambio[\u001b[94m0\u001b[0m]][cambio[\u001b[94m1\u001b[0m]]\u001b[33m}\u001b[0m\u001b[33m->\u001b[0m\u001b[33m{\u001b[0mmapa[cambio[\u001b[94m0\u001b[0m]+tras_i][cambio[\u001b[94m1\u001b[0m]+   \u001b[31m│\u001b[0m\n",
       "\u001b[31m│\u001b[0m \u001b[31m❱ \u001b[0m 67 \u001b[2m│   │   │   │   \u001b[0mInfo_object(mapa[cambio[\u001b[94m0\u001b[0m]][cambio[\u001b[94m1\u001b[0m]]).Add_transformation(mapa[cambio[\u001b[94m0\u001b[0m   \u001b[31m│\u001b[0m\n",
       "\u001b[31m│\u001b[0m   \u001b[2m 68 \u001b[0m\u001b[2m│   │   \u001b[0m                                                                                   \u001b[31m│\u001b[0m\n",
       "\u001b[31m│\u001b[0m   \u001b[2m 69 \u001b[0m\u001b[2m│   │   \u001b[0m\u001b[2m##Si el número de cambios es menor o igual que 4 (una persona cambia de backgrou\u001b[0m   \u001b[31m│\u001b[0m\n",
       "\u001b[31m│\u001b[0m   \u001b[2m 70 \u001b[0m\u001b[2m│   │   \u001b[0m\u001b[2m#if cambios<=4:\u001b[0m                                                                    \u001b[31m│\u001b[0m\n",
       "\u001b[31m│\u001b[0m                                                                                                  \u001b[31m│\u001b[0m\n",
       "\u001b[31m│\u001b[0m in \u001b[92mAdd_transformation\u001b[0m:\u001b[94m67\u001b[0m                                                                         \u001b[31m│\u001b[0m\n",
       "\u001b[31m│\u001b[0m                                                                                                  \u001b[31m│\u001b[0m\n",
       "\u001b[31m│\u001b[0m   \u001b[2m64 \u001b[0m\u001b[2m│   │   │   \u001b[0m\u001b[96mprint\u001b[0m(name,\u001b[33m\"\u001b[0m\u001b[33mno es transformable en\u001b[0m\u001b[33m\"\u001b[0m,\u001b[96mself\u001b[0m.name)                                  \u001b[31m│\u001b[0m\n",
       "\u001b[31m│\u001b[0m   \u001b[2m65 \u001b[0m\u001b[2m│   │   │   \u001b[0m\u001b[96mself\u001b[0m.transformable_en.append(\u001b[96mint\u001b[0m(name))                                         \u001b[31m│\u001b[0m\n",
       "\u001b[31m│\u001b[0m   \u001b[2m66 \u001b[0m\u001b[2m│   │   \u001b[0m                                                                                    \u001b[31m│\u001b[0m\n",
       "\u001b[31m│\u001b[0m \u001b[31m❱ \u001b[0m67 \u001b[2m│   │   \u001b[0m\u001b[96mself\u001b[0m.save()                                                                         \u001b[31m│\u001b[0m\n",
       "\u001b[31m│\u001b[0m   \u001b[2m68 \u001b[0m                                                                                            \u001b[31m│\u001b[0m\n",
       "\u001b[31m│\u001b[0m   \u001b[2m69 \u001b[0m                                                                                            \u001b[31m│\u001b[0m\n",
       "\u001b[31m│\u001b[0m   \u001b[2m70 \u001b[0m                                                                                            \u001b[31m│\u001b[0m\n",
       "\u001b[31m│\u001b[0m                                                                                                  \u001b[31m│\u001b[0m\n",
       "\u001b[31m│\u001b[0m in \u001b[92msave\u001b[0m:\u001b[94m28\u001b[0m                                                                                       \u001b[31m│\u001b[0m\n",
       "\u001b[31m│\u001b[0m                                                                                                  \u001b[31m│\u001b[0m\n",
       "\u001b[31m│\u001b[0m   \u001b[2m25 \u001b[0m\u001b[2m│   │   \u001b[0m\u001b[94mreturn\u001b[0m \u001b[33mf\u001b[0m\u001b[33m\"\"\"\u001b[0m\u001b[33m{\u001b[0m\u001b[96mself\u001b[0m.name\u001b[33m}\u001b[0m\u001b[33m: You can \u001b[0m\u001b[33m{\u001b[0m\u001b[33m\"\u001b[0m\u001b[33mnot\u001b[0m\u001b[33m\"\u001b[0m*(\u001b[95mnot\u001b[0m\u001b[90m \u001b[0m\u001b[96mself\u001b[0m.walkable)\u001b[33m}\u001b[0m\u001b[33m walk on it and you c\u001b[0m    \u001b[31m│\u001b[0m\n",
       "\u001b[31m│\u001b[0m   \u001b[2m26 \u001b[0m\u001b[2m│   \u001b[0m                                                                                        \u001b[31m│\u001b[0m\n",
       "\u001b[31m│\u001b[0m   \u001b[2m27 \u001b[0m\u001b[2m│   \u001b[0m\u001b[94mdef\u001b[0m \u001b[92msave\u001b[0m(\u001b[96mself\u001b[0m):                                                                         \u001b[31m│\u001b[0m\n",
       "\u001b[31m│\u001b[0m \u001b[31m❱ \u001b[0m28 \u001b[2m│   │   \u001b[0mjson.dump({                                                                         \u001b[31m│\u001b[0m\n",
       "\u001b[31m│\u001b[0m   \u001b[2m29 \u001b[0m\u001b[2m│   │   │   │   │   \u001b[0m\u001b[33m\"\u001b[0m\u001b[33mname\u001b[0m\u001b[33m\"\u001b[0m:\u001b[96mself\u001b[0m.name,                                                       \u001b[31m│\u001b[0m\n",
       "\u001b[31m│\u001b[0m   \u001b[2m30 \u001b[0m\u001b[2m│   │   │   │   │   \u001b[0m\u001b[33m\"\u001b[0m\u001b[33mwalkable\u001b[0m\u001b[33m\"\u001b[0m:\u001b[96mself\u001b[0m.walkable,                                               \u001b[31m│\u001b[0m\n",
       "\u001b[31m│\u001b[0m   \u001b[2m31 \u001b[0m\u001b[2m│   │   │   │   │   \u001b[0m\u001b[33m\"\u001b[0m\u001b[33minteractable\u001b[0m\u001b[33m\"\u001b[0m:\u001b[96mself\u001b[0m.interactable,                                       \u001b[31m│\u001b[0m\n",
       "\u001b[31m│\u001b[0m                                                                                                  \u001b[31m│\u001b[0m\n",
       "\u001b[31m│\u001b[0m \u001b[33mc:\\Users\\Rafa\\miniconda3\\lib\\json\\__init__.py\u001b[0m:\u001b[94m179\u001b[0m in \u001b[92mdump\u001b[0m                                        \u001b[31m│\u001b[0m\n",
       "\u001b[31m│\u001b[0m                                                                                                  \u001b[31m│\u001b[0m\n",
       "\u001b[31m│\u001b[0m   \u001b[2m176 \u001b[0m\u001b[2m│   │   │   \u001b[0mdefault=default, sort_keys=sort_keys, **kw).iterencode(obj)                    \u001b[31m│\u001b[0m\n",
       "\u001b[31m│\u001b[0m   \u001b[2m177 \u001b[0m\u001b[2m│   \u001b[0m\u001b[2m# could accelerate with writelines in some versions of Python, at\u001b[0m                      \u001b[31m│\u001b[0m\n",
       "\u001b[31m│\u001b[0m   \u001b[2m178 \u001b[0m\u001b[2m│   \u001b[0m\u001b[2m# a debuggability cost\u001b[0m                                                                 \u001b[31m│\u001b[0m\n",
       "\u001b[31m│\u001b[0m \u001b[31m❱ \u001b[0m179 \u001b[2m│   \u001b[0m\u001b[94mfor\u001b[0m chunk \u001b[95min\u001b[0m iterable:                                                                 \u001b[31m│\u001b[0m\n",
       "\u001b[31m│\u001b[0m   \u001b[2m180 \u001b[0m\u001b[2m│   │   \u001b[0mfp.write(chunk)                                                                    \u001b[31m│\u001b[0m\n",
       "\u001b[31m│\u001b[0m   \u001b[2m181 \u001b[0m                                                                                           \u001b[31m│\u001b[0m\n",
       "\u001b[31m│\u001b[0m   \u001b[2m182 \u001b[0m                                                                                           \u001b[31m│\u001b[0m\n",
       "\u001b[31m│\u001b[0m                                                                                                  \u001b[31m│\u001b[0m\n",
       "\u001b[31m│\u001b[0m \u001b[33mc:\\Users\\Rafa\\miniconda3\\lib\\json\\encoder.py\u001b[0m:\u001b[94m431\u001b[0m in \u001b[92m_iterencode\u001b[0m                                  \u001b[31m│\u001b[0m\n",
       "\u001b[31m│\u001b[0m                                                                                                  \u001b[31m│\u001b[0m\n",
       "\u001b[31m│\u001b[0m   \u001b[2m428 \u001b[0m\u001b[2m│   │   \u001b[0m\u001b[94melif\u001b[0m \u001b[96misinstance\u001b[0m(o, (\u001b[96mlist\u001b[0m, \u001b[96mtuple\u001b[0m)):                                                 \u001b[31m│\u001b[0m\n",
       "\u001b[31m│\u001b[0m   \u001b[2m429 \u001b[0m\u001b[2m│   │   │   \u001b[0m\u001b[94myield from\u001b[0m _iterencode_list(o, _current_indent_level)                          \u001b[31m│\u001b[0m\n",
       "\u001b[31m│\u001b[0m   \u001b[2m430 \u001b[0m\u001b[2m│   │   \u001b[0m\u001b[94melif\u001b[0m \u001b[96misinstance\u001b[0m(o, \u001b[96mdict\u001b[0m):                                                          \u001b[31m│\u001b[0m\n",
       "\u001b[31m│\u001b[0m \u001b[31m❱ \u001b[0m431 \u001b[2m│   │   │   \u001b[0m\u001b[94myield from\u001b[0m _iterencode_dict(o, _current_indent_level)                          \u001b[31m│\u001b[0m\n",
       "\u001b[31m│\u001b[0m   \u001b[2m432 \u001b[0m\u001b[2m│   │   \u001b[0m\u001b[94melse\u001b[0m:                                                                              \u001b[31m│\u001b[0m\n",
       "\u001b[31m│\u001b[0m   \u001b[2m433 \u001b[0m\u001b[2m│   │   │   \u001b[0m\u001b[94mif\u001b[0m markers \u001b[95mis\u001b[0m \u001b[95mnot\u001b[0m \u001b[94mNone\u001b[0m:                                                        \u001b[31m│\u001b[0m\n",
       "\u001b[31m│\u001b[0m   \u001b[2m434 \u001b[0m\u001b[2m│   │   │   │   \u001b[0mmarkerid = \u001b[96mid\u001b[0m(o)                                                           \u001b[31m│\u001b[0m\n",
       "\u001b[31m│\u001b[0m                                                                                                  \u001b[31m│\u001b[0m\n",
       "\u001b[31m│\u001b[0m \u001b[33mc:\\Users\\Rafa\\miniconda3\\lib\\json\\encoder.py\u001b[0m:\u001b[94m405\u001b[0m in \u001b[92m_iterencode_dict\u001b[0m                             \u001b[31m│\u001b[0m\n",
       "\u001b[31m│\u001b[0m                                                                                                  \u001b[31m│\u001b[0m\n",
       "\u001b[31m│\u001b[0m   \u001b[2m402 \u001b[0m\u001b[2m│   │   │   │   │   \u001b[0mchunks = _iterencode_dict(value, _current_indent_level)                \u001b[31m│\u001b[0m\n",
       "\u001b[31m│\u001b[0m   \u001b[2m403 \u001b[0m\u001b[2m│   │   │   │   \u001b[0m\u001b[94melse\u001b[0m:                                                                      \u001b[31m│\u001b[0m\n",
       "\u001b[31m│\u001b[0m   \u001b[2m404 \u001b[0m\u001b[2m│   │   │   │   │   \u001b[0mchunks = _iterencode(value, _current_indent_level)                     \u001b[31m│\u001b[0m\n",
       "\u001b[31m│\u001b[0m \u001b[31m❱ \u001b[0m405 \u001b[2m│   │   │   │   \u001b[0m\u001b[94myield from\u001b[0m chunks                                                          \u001b[31m│\u001b[0m\n",
       "\u001b[31m│\u001b[0m   \u001b[2m406 \u001b[0m\u001b[2m│   │   \u001b[0m\u001b[94mif\u001b[0m newline_indent \u001b[95mis\u001b[0m \u001b[95mnot\u001b[0m \u001b[94mNone\u001b[0m:                                                     \u001b[31m│\u001b[0m\n",
       "\u001b[31m│\u001b[0m   \u001b[2m407 \u001b[0m\u001b[2m│   │   │   \u001b[0m_current_indent_level -= \u001b[94m1\u001b[0m                                                     \u001b[31m│\u001b[0m\n",
       "\u001b[31m│\u001b[0m   \u001b[2m408 \u001b[0m\u001b[2m│   │   │   \u001b[0m\u001b[94myield\u001b[0m \u001b[33m'\u001b[0m\u001b[33m\\n\u001b[0m\u001b[33m'\u001b[0m + _indent * _current_indent_level                                   \u001b[31m│\u001b[0m\n",
       "\u001b[31m│\u001b[0m                                                                                                  \u001b[31m│\u001b[0m\n",
       "\u001b[31m│\u001b[0m \u001b[33mc:\\Users\\Rafa\\miniconda3\\lib\\json\\encoder.py\u001b[0m:\u001b[94m325\u001b[0m in \u001b[92m_iterencode_list\u001b[0m                             \u001b[31m│\u001b[0m\n",
       "\u001b[31m│\u001b[0m                                                                                                  \u001b[31m│\u001b[0m\n",
       "\u001b[31m│\u001b[0m   \u001b[2m322 \u001b[0m\u001b[2m│   │   │   │   │   \u001b[0mchunks = _iterencode_dict(value, _current_indent_level)                \u001b[31m│\u001b[0m\n",
       "\u001b[31m│\u001b[0m   \u001b[2m323 \u001b[0m\u001b[2m│   │   │   │   \u001b[0m\u001b[94melse\u001b[0m:                                                                      \u001b[31m│\u001b[0m\n",
       "\u001b[31m│\u001b[0m   \u001b[2m324 \u001b[0m\u001b[2m│   │   │   │   │   \u001b[0mchunks = _iterencode(value, _current_indent_level)                     \u001b[31m│\u001b[0m\n",
       "\u001b[31m│\u001b[0m \u001b[31m❱ \u001b[0m325 \u001b[2m│   │   │   │   \u001b[0m\u001b[94myield from\u001b[0m chunks                                                          \u001b[31m│\u001b[0m\n",
       "\u001b[31m│\u001b[0m   \u001b[2m326 \u001b[0m\u001b[2m│   │   \u001b[0m\u001b[94mif\u001b[0m newline_indent \u001b[95mis\u001b[0m \u001b[95mnot\u001b[0m \u001b[94mNone\u001b[0m:                                                     \u001b[31m│\u001b[0m\n",
       "\u001b[31m│\u001b[0m   \u001b[2m327 \u001b[0m\u001b[2m│   │   │   \u001b[0m_current_indent_level -= \u001b[94m1\u001b[0m                                                     \u001b[31m│\u001b[0m\n",
       "\u001b[31m│\u001b[0m   \u001b[2m328 \u001b[0m\u001b[2m│   │   │   \u001b[0m\u001b[94myield\u001b[0m \u001b[33m'\u001b[0m\u001b[33m\\n\u001b[0m\u001b[33m'\u001b[0m + _indent * _current_indent_level                                   \u001b[31m│\u001b[0m\n",
       "\u001b[31m│\u001b[0m                                                                                                  \u001b[31m│\u001b[0m\n",
       "\u001b[31m│\u001b[0m \u001b[33mc:\\Users\\Rafa\\miniconda3\\lib\\json\\encoder.py\u001b[0m:\u001b[94m438\u001b[0m in \u001b[92m_iterencode\u001b[0m                                  \u001b[31m│\u001b[0m\n",
       "\u001b[31m│\u001b[0m                                                                                                  \u001b[31m│\u001b[0m\n",
       "\u001b[31m│\u001b[0m   \u001b[2m435 \u001b[0m\u001b[2m│   │   │   │   \u001b[0m\u001b[94mif\u001b[0m markerid \u001b[95min\u001b[0m markers:                                                    \u001b[31m│\u001b[0m\n",
       "\u001b[31m│\u001b[0m   \u001b[2m436 \u001b[0m\u001b[2m│   │   │   │   │   \u001b[0m\u001b[94mraise\u001b[0m \u001b[96mValueError\u001b[0m(\u001b[33m\"\u001b[0m\u001b[33mCircular reference detected\u001b[0m\u001b[33m\"\u001b[0m)                        \u001b[31m│\u001b[0m\n",
       "\u001b[31m│\u001b[0m   \u001b[2m437 \u001b[0m\u001b[2m│   │   │   │   \u001b[0mmarkers[markerid] = o                                                      \u001b[31m│\u001b[0m\n",
       "\u001b[31m│\u001b[0m \u001b[31m❱ \u001b[0m438 \u001b[2m│   │   │   \u001b[0mo = _default(o)                                                                \u001b[31m│\u001b[0m\n",
       "\u001b[31m│\u001b[0m   \u001b[2m439 \u001b[0m\u001b[2m│   │   │   \u001b[0m\u001b[94myield from\u001b[0m _iterencode(o, _current_indent_level)                               \u001b[31m│\u001b[0m\n",
       "\u001b[31m│\u001b[0m   \u001b[2m440 \u001b[0m\u001b[2m│   │   │   \u001b[0m\u001b[94mif\u001b[0m markers \u001b[95mis\u001b[0m \u001b[95mnot\u001b[0m \u001b[94mNone\u001b[0m:                                                        \u001b[31m│\u001b[0m\n",
       "\u001b[31m│\u001b[0m   \u001b[2m441 \u001b[0m\u001b[2m│   │   │   │   \u001b[0m\u001b[94mdel\u001b[0m markers[markerid]                                                      \u001b[31m│\u001b[0m\n",
       "\u001b[31m│\u001b[0m                                                                                                  \u001b[31m│\u001b[0m\n",
       "\u001b[31m│\u001b[0m \u001b[33mc:\\Users\\Rafa\\miniconda3\\lib\\json\\encoder.py\u001b[0m:\u001b[94m179\u001b[0m in \u001b[92mdefault\u001b[0m                                      \u001b[31m│\u001b[0m\n",
       "\u001b[31m│\u001b[0m                                                                                                  \u001b[31m│\u001b[0m\n",
       "\u001b[31m│\u001b[0m   \u001b[2m176 \u001b[0m\u001b[2;33m│   │   │   │   \u001b[0m\u001b[33mreturn JSONEncoder.default(self, o)\u001b[0m                                        \u001b[31m│\u001b[0m\n",
       "\u001b[31m│\u001b[0m   \u001b[2m177 \u001b[0m\u001b[2m│   │   \u001b[0m                                                                                   \u001b[31m│\u001b[0m\n",
       "\u001b[31m│\u001b[0m   \u001b[2m178 \u001b[0m\u001b[2;33m│   │   \u001b[0m\u001b[33m\"\"\"\u001b[0m                                                                                \u001b[31m│\u001b[0m\n",
       "\u001b[31m│\u001b[0m \u001b[31m❱ \u001b[0m179 \u001b[2m│   │   \u001b[0m\u001b[94mraise\u001b[0m \u001b[96mTypeError\u001b[0m(\u001b[33mf\u001b[0m\u001b[33m'\u001b[0m\u001b[33mObject of type \u001b[0m\u001b[33m{\u001b[0mo.\u001b[91m__class__\u001b[0m.\u001b[91m__name__\u001b[0m\u001b[33m}\u001b[0m\u001b[33m \u001b[0m\u001b[33m'\u001b[0m                          \u001b[31m│\u001b[0m\n",
       "\u001b[31m│\u001b[0m   \u001b[2m180 \u001b[0m\u001b[2m│   │   │   │   │   │   \u001b[0m\u001b[33mf\u001b[0m\u001b[33m'\u001b[0m\u001b[33mis not JSON serializable\u001b[0m\u001b[33m'\u001b[0m)                                       \u001b[31m│\u001b[0m\n",
       "\u001b[31m│\u001b[0m   \u001b[2m181 \u001b[0m\u001b[2m│   \u001b[0m                                                                                       \u001b[31m│\u001b[0m\n",
       "\u001b[31m│\u001b[0m   \u001b[2m182 \u001b[0m\u001b[2m│   \u001b[0m\u001b[94mdef\u001b[0m \u001b[92mencode\u001b[0m(\u001b[96mself\u001b[0m, o):                                                                   \u001b[31m│\u001b[0m\n",
       "\u001b[31m╰──────────────────────────────────────────────────────────────────────────────────────────────────╯\u001b[0m\n",
       "\u001b[1;91mTypeError: \u001b[0mObject of type int32 is not JSON serializable\n"
      ]
     },
     "metadata": {},
     "output_type": "display_data"
    }
   ],
   "source": [
    "Go_to_game()\n",
    "for i in range(10000):\n",
    "    vision.update()"
   ]
  },
  {
   "cell_type": "code",
   "execution_count": null,
   "metadata": {},
   "outputs": [
    {
     "name": "stdout",
     "output_type": "stream",
     "text": [
      "Esta rodeado :)\n",
      "Esta rodeado :)\n",
      "No cambio\n",
      "[ -2.  -1.   4.  16.  76.  77.  78.  79.  80.  81.  82.  84.  85.  86.\n",
      "  87.  88.  89.  90.  91.  92.  93.  94.  95.  96.  97.  98.  99. 100.\n",
      " 138.]\n",
      "n_cambios 52\n",
      "n_cambios 52\n",
      "n_cambios 46\n",
      "[-2. -1.  1.  2.  3.  4.  5.  6.  7.  8.  9. 10. 11. 12. 16. 21.]\n",
      "n_cambios 62\n",
      "n_cambios 52\n"
     ]
    }
   ],
   "source": [
    "Go_to_game()\n",
    "Go_to(2,0)"
   ]
  },
  {
   "cell_type": "code",
   "execution_count": null,
   "metadata": {},
   "outputs": [],
   "source": [
    "vision=Vision_class()\n",
    "vision.update()"
   ]
  },
  {
   "cell_type": "code",
   "execution_count": null,
   "metadata": {},
   "outputs": [
    {
     "name": "stdout",
     "output_type": "stream",
     "text": [
      "[-2. -1.  1.  2.  3.  4.  5.  6.  7.  9. 10. 11. 12. 16. 21. 88.]\n"
     ]
    }
   ],
   "source": []
  },
  {
   "cell_type": "code",
   "execution_count": null,
   "metadata": {},
   "outputs": [
    {
     "data": {
      "image/png": "[encoded data removed]",
      "text/plain": [
       "<PIL.Image.Image image mode=RGB size=896x576>"
      ]
     },
     "execution_count": 564,
     "metadata": {},
     "output_type": "execute_result"
    }
   ],
   "source": [
    "show_numbers_to_image(vision.mapa)"
   ]
  },
  {
   "cell_type": "code",
   "execution_count": null,
   "metadata": {},
   "outputs": [
    {
     "data": {
      "text/plain": [
       "array([[ 4.,  9., 10.,  9., 10.,  4., 64., 25., 25., 25., 25., 25., 25.,\n",
       "        25.],\n",
       "       [ 4.,  4.,  4.,  4.,  4.,  4., 23., 24., 24., 24., 24., 24., 24.,\n",
       "        24.],\n",
       "       [25., 25., 25., 25., 25., 25., 24., 24., 24., 26., 27., 28., 28.,\n",
       "        28.],\n",
       "       [24., 24., 24., 24., 24., 24., 24., -2., 29.,  4., 30., 31., 31.,\n",
       "        31.],\n",
       "       [26., 32., 33., 33., 34., 35., 26., -1., 65.,  4., 36., 37., 37.,\n",
       "        37.],\n",
       "       [66., 38., 38., 39., 40., 41.,  4.,  4.,  4., 42., 43., 44., 45.,\n",
       "        46.],\n",
       "       [67., 48., 48., 48., 49., 48.,  4.,  4.,  4., 50., 51., 52., 53.,\n",
       "        54.],\n",
       "       [66., 56., 57., 58., 59., 60.,  4.,  4.,  4.,  4.,  4., 61.,  4.,\n",
       "         4.],\n",
       "       [67., 62., 62., 62., 63., 63., 13., 17., 17., 17., 17., 17., 17.,\n",
       "        17.]])"
      ]
     },
     "execution_count": 515,
     "metadata": {},
     "output_type": "execute_result"
    }
   ],
   "source": [
    "a.mapa"
   ]
  },
  {
   "cell_type": "code",
   "execution_count": null,
   "metadata": {},
   "outputs": [
    {
     "data": {
      "text/plain": [
       "array([-2., -1.,  4.,  9., 10., 13., 17., 23., 24., 25., 26., 27., 28.,\n",
       "       29., 30., 31., 32., 33., 34., 35., 36., 37., 38., 39., 40., 41.,\n",
       "       42., 43., 44., 45., 46., 48., 49., 50., 51., 52., 53., 54., 56.,\n",
       "       57., 58., 59., 60., 61., 62., 63., 64., 65., 66., 67.])"
      ]
     },
     "execution_count": 516,
     "metadata": {},
     "output_type": "execute_result"
    }
   ],
   "source": [
    "current_map=crop_into_pixels(screenshot())\n",
    "mapa_actual=find_and_save_unique_images(current_map)\n",
    "np.unique(mapa_actual)"
   ]
  },
  {
   "cell_type": "code",
   "execution_count": null,
   "metadata": {},
   "outputs": [],
   "source": []
  },
  {
   "cell_type": "code",
   "execution_count": null,
   "metadata": {},
   "outputs": [
    {
     "data": {
      "image/png": "[encoded data removed]",
      "text/plain": [
       "<PIL.Image.Image image mode=RGB size=896x576>"
      ]
     },
     "execution_count": 518,
     "metadata": {},
     "output_type": "execute_result"
    }
   ],
   "source": [
    "show_numbers_to_image(mapa)"
   ]
  },
  {
   "cell_type": "code",
   "execution_count": null,
   "metadata": {},
   "outputs": [
    {
     "data": {
      "text/html": [
       "<pre style=\"white-space:pre;overflow-x:auto;line-height:normal;font-family:Menlo,'DejaVu Sans Mono',consolas,'Courier New',monospace\"><span style=\"color: #ff0000; text-decoration-color: #ff0000\">╭──────────────────────────────────────────────────────────────────────────────────────────────────╮</span>\n",
       "<span style=\"color: #ff0000; text-decoration-color: #ff0000\">│</span>     if <span style=\"color: #800080; text-decoration-color: #800080; font-weight: bold\">Info_object</span><span style=\"font-weight: bold\">(</span>i<span style=\"font-weight: bold\">)</span>.investigated                                                               <span style=\"color: #ff0000; text-decoration-color: #ff0000\">│</span>\n",
       "<span style=\"color: #ff0000; text-decoration-color: #ff0000\">│</span>                                   <span style=\"color: #ff0000; text-decoration-color: #ff0000; font-weight: bold\">▲</span>                                                              <span style=\"color: #ff0000; text-decoration-color: #ff0000\">│</span>\n",
       "<span style=\"color: #ff0000; text-decoration-color: #ff0000\">╰──────────────────────────────────────────────────────────────────────────────────────────────────╯</span>\n",
       "<span style=\"color: #ff0000; text-decoration-color: #ff0000; font-weight: bold\">SyntaxError: </span>expected <span style=\"color: #008000; text-decoration-color: #008000\">':'</span>\n",
       "</pre>\n"
      ],
      "text/plain": [
       "\u001b[91m╭──────────────────────────────────────────────────────────────────────────────────────────────────╮\u001b[0m\n",
       "\u001b[91m│\u001b[0m     if \u001b[1;35mInfo_object\u001b[0m\u001b[1m(\u001b[0mi\u001b[1m)\u001b[0m.investigated                                                               \u001b[91m│\u001b[0m\n",
       "\u001b[91m│\u001b[0m                                   \u001b[1;91m▲\u001b[0m                                                              \u001b[91m│\u001b[0m\n",
       "\u001b[91m╰──────────────────────────────────────────────────────────────────────────────────────────────────╯\u001b[0m\n",
       "\u001b[1;91mSyntaxError: \u001b[0mexpected \u001b[32m':'\u001b[0m\n"
      ]
     },
     "metadata": {},
     "output_type": "display_data"
    }
   ],
   "source": [
    "for i in np.unique(mapa)[1:]:\n",
    "    if Info_object(i).investigated"
   ]
  },
  {
   "cell_type": "code",
   "execution_count": null,
   "metadata": {},
   "outputs": [
    {
     "data": {
      "text/plain": [
       "True"
      ]
     },
     "execution_count": 520,
     "metadata": {},
     "output_type": "execute_result"
    }
   ],
   "source": [
    "Go_to_game()"
   ]
  },
  {
   "cell_type": "code",
   "execution_count": null,
   "metadata": {},
   "outputs": [
    {
     "name": "stdout",
     "output_type": "stream",
     "text": [
      "Pelear? False\n"
     ]
    },
    {
     "data": {
      "text/html": [
       "<pre style=\"white-space:pre;overflow-x:auto;line-height:normal;font-family:Menlo,'DejaVu Sans Mono',consolas,'Courier New',monospace\"><span style=\"color: #800000; text-decoration-color: #800000\">╭─────────────────────────────── </span><span style=\"color: #800000; text-decoration-color: #800000; font-weight: bold\">Traceback </span><span style=\"color: #bf7f7f; text-decoration-color: #bf7f7f; font-weight: bold\">(most recent call last)</span><span style=\"color: #800000; text-decoration-color: #800000\"> ────────────────────────────────╮</span>\n",
       "<span style=\"color: #800000; text-decoration-color: #800000\">│</span> in <span style=\"color: #00ff00; text-decoration-color: #00ff00\">&lt;module&gt;</span>:<span style=\"color: #0000ff; text-decoration-color: #0000ff\">2</span>                                                                                    <span style=\"color: #800000; text-decoration-color: #800000\">│</span>\n",
       "<span style=\"color: #800000; text-decoration-color: #800000\">│</span>                                                                                                  <span style=\"color: #800000; text-decoration-color: #800000\">│</span>\n",
       "<span style=\"color: #800000; text-decoration-color: #800000\">│</span>   <span style=\"color: #7f7f7f; text-decoration-color: #7f7f7f\">1 </span>Go_to_game()                                                                                 <span style=\"color: #800000; text-decoration-color: #800000\">│</span>\n",
       "<span style=\"color: #800000; text-decoration-color: #800000\">│</span> <span style=\"color: #800000; text-decoration-color: #800000\">❱ </span>2 Pelear()                                                                                     <span style=\"color: #800000; text-decoration-color: #800000\">│</span>\n",
       "<span style=\"color: #800000; text-decoration-color: #800000\">│</span>   <span style=\"color: #7f7f7f; text-decoration-color: #7f7f7f\">3 </span>                                                                                             <span style=\"color: #800000; text-decoration-color: #800000\">│</span>\n",
       "<span style=\"color: #800000; text-decoration-color: #800000\">│</span>                                                                                                  <span style=\"color: #800000; text-decoration-color: #800000\">│</span>\n",
       "<span style=\"color: #800000; text-decoration-color: #800000\">│</span> in <span style=\"color: #00ff00; text-decoration-color: #00ff00\">Pelear</span>:<span style=\"color: #0000ff; text-decoration-color: #0000ff\">51</span>                                                                                     <span style=\"color: #800000; text-decoration-color: #800000\">│</span>\n",
       "<span style=\"color: #800000; text-decoration-color: #800000\">│</span>                                                                                                  <span style=\"color: #800000; text-decoration-color: #800000\">│</span>\n",
       "<span style=\"color: #800000; text-decoration-color: #800000\">│</span>   <span style=\"color: #7f7f7f; text-decoration-color: #7f7f7f\">48 │   │   │   </span><span style=\"color: #00ffff; text-decoration-color: #00ffff\">print</span>(<span style=\"color: #808000; text-decoration-color: #808000\">\"leyendo texto\"</span>)                                                          <span style=\"color: #800000; text-decoration-color: #800000\">│</span>\n",
       "<span style=\"color: #800000; text-decoration-color: #800000\">│</span>   <span style=\"color: #7f7f7f; text-decoration-color: #7f7f7f\">49 │   │   │   </span>Read_battle_text()                                                              <span style=\"color: #800000; text-decoration-color: #800000\">│</span>\n",
       "<span style=\"color: #800000; text-decoration-color: #800000\">│</span>   <span style=\"color: #7f7f7f; text-decoration-color: #7f7f7f\">50 │   </span>                                                                                        <span style=\"color: #800000; text-decoration-color: #800000\">│</span>\n",
       "<span style=\"color: #800000; text-decoration-color: #800000\">│</span> <span style=\"color: #800000; text-decoration-color: #800000\">❱ </span>51 <span style=\"color: #7f7f7f; text-decoration-color: #7f7f7f\">│   </span>sleep(<span style=\"color: #0000ff; text-decoration-color: #0000ff\">5</span>)                                                                                <span style=\"color: #800000; text-decoration-color: #800000\">│</span>\n",
       "<span style=\"color: #800000; text-decoration-color: #800000\">│</span>   <span style=\"color: #7f7f7f; text-decoration-color: #7f7f7f\">52 │   #Asumiendo que hemos ganado debemos pulsar A hasta que salgamos de la batalla</span>           <span style=\"color: #800000; text-decoration-color: #800000\">│</span>\n",
       "<span style=\"color: #800000; text-decoration-color: #800000\">│</span>   <span style=\"color: #7f7f7f; text-decoration-color: #7f7f7f\">53 │   </span><span style=\"color: #0000ff; text-decoration-color: #0000ff\">while</span> En_Buffer_texto_batalla():                                                        <span style=\"color: #800000; text-decoration-color: #800000\">│</span>\n",
       "<span style=\"color: #800000; text-decoration-color: #800000\">│</span>   <span style=\"color: #7f7f7f; text-decoration-color: #7f7f7f\">54 │   │   </span>logger.debug(<span style=\"color: #808000; text-decoration-color: #808000\">\"Func Pelear: En buffer de texto tras terminar pelear\"</span>)                <span style=\"color: #800000; text-decoration-color: #800000\">│</span>\n",
       "<span style=\"color: #800000; text-decoration-color: #800000\">╰──────────────────────────────────────────────────────────────────────────────────────────────────╯</span>\n",
       "<span style=\"color: #ff0000; text-decoration-color: #ff0000; font-weight: bold\">KeyboardInterrupt</span>\n",
       "</pre>\n"
      ],
      "text/plain": [
       "\u001b[31m╭─\u001b[0m\u001b[31m──────────────────────────────\u001b[0m\u001b[31m \u001b[0m\u001b[1;31mTraceback \u001b[0m\u001b[1;2;31m(most recent call last)\u001b[0m\u001b[31m \u001b[0m\u001b[31m───────────────────────────────\u001b[0m\u001b[31m─╮\u001b[0m\n",
       "\u001b[31m│\u001b[0m in \u001b[92m<module>\u001b[0m:\u001b[94m2\u001b[0m                                                                                    \u001b[31m│\u001b[0m\n",
       "\u001b[31m│\u001b[0m                                                                                                  \u001b[31m│\u001b[0m\n",
       "\u001b[31m│\u001b[0m   \u001b[2m1 \u001b[0mGo_to_game()                                                                                 \u001b[31m│\u001b[0m\n",
       "\u001b[31m│\u001b[0m \u001b[31m❱ \u001b[0m2 Pelear()                                                                                     \u001b[31m│\u001b[0m\n",
       "\u001b[31m│\u001b[0m   \u001b[2m3 \u001b[0m                                                                                             \u001b[31m│\u001b[0m\n",
       "\u001b[31m│\u001b[0m                                                                                                  \u001b[31m│\u001b[0m\n",
       "\u001b[31m│\u001b[0m in \u001b[92mPelear\u001b[0m:\u001b[94m51\u001b[0m                                                                                     \u001b[31m│\u001b[0m\n",
       "\u001b[31m│\u001b[0m                                                                                                  \u001b[31m│\u001b[0m\n",
       "\u001b[31m│\u001b[0m   \u001b[2m48 \u001b[0m\u001b[2m│   │   │   \u001b[0m\u001b[96mprint\u001b[0m(\u001b[33m\"\u001b[0m\u001b[33mleyendo texto\u001b[0m\u001b[33m\"\u001b[0m)                                                          \u001b[31m│\u001b[0m\n",
       "\u001b[31m│\u001b[0m   \u001b[2m49 \u001b[0m\u001b[2m│   │   │   \u001b[0mRead_battle_text()                                                              \u001b[31m│\u001b[0m\n",
       "\u001b[31m│\u001b[0m   \u001b[2m50 \u001b[0m\u001b[2m│   \u001b[0m                                                                                        \u001b[31m│\u001b[0m\n",
       "\u001b[31m│\u001b[0m \u001b[31m❱ \u001b[0m51 \u001b[2m│   \u001b[0msleep(\u001b[94m5\u001b[0m)                                                                                \u001b[31m│\u001b[0m\n",
       "\u001b[31m│\u001b[0m   \u001b[2m52 \u001b[0m\u001b[2m│   \u001b[0m\u001b[2m#Asumiendo que hemos ganado debemos pulsar A hasta que salgamos de la batalla\u001b[0m           \u001b[31m│\u001b[0m\n",
       "\u001b[31m│\u001b[0m   \u001b[2m53 \u001b[0m\u001b[2m│   \u001b[0m\u001b[94mwhile\u001b[0m En_Buffer_texto_batalla():                                                        \u001b[31m│\u001b[0m\n",
       "\u001b[31m│\u001b[0m   \u001b[2m54 \u001b[0m\u001b[2m│   │   \u001b[0mlogger.debug(\u001b[33m\"\u001b[0m\u001b[33mFunc Pelear: En buffer de texto tras terminar pelear\u001b[0m\u001b[33m\"\u001b[0m)                \u001b[31m│\u001b[0m\n",
       "\u001b[31m╰──────────────────────────────────────────────────────────────────────────────────────────────────╯\u001b[0m\n",
       "\u001b[1;91mKeyboardInterrupt\u001b[0m\n"
      ]
     },
     "metadata": {},
     "output_type": "display_data"
    }
   ],
   "source": [
    "Go_to_game()\n",
    "Pelear()"
   ]
  },
  {
   "cell_type": "code",
   "execution_count": null,
   "metadata": {},
   "outputs": [],
   "source": [
    "Trainer_info=Trainer_info_class(Pokemons=[Pokemon_class(\"Charmander\".lower(),level=5,max_hp=39,status=\"\",has_fainted=False,hp=39)])"
   ]
  },
  {
   "cell_type": "code",
   "execution_count": null,
   "metadata": {},
   "outputs": [
    {
     "data": {
      "text/plain": [
       "['scratch', 'growl']"
      ]
     },
     "execution_count": 670,
     "metadata": {},
     "output_type": "execute_result"
    }
   ],
   "source": [
    " AI.Reset_conv()\n",
    "\n",
    "                \n",
    "mov=AI.Continue_conv(f\"\"\"You are a pokemon trainer whose goal is to explore the world, beat the gym leaders and become pokemon champion.\n",
    "Tell me a goal you would like to achieve in the format:\n",
    "Go to ...\n",
    "\n",
    "Your current view is:\n",
    "\n",
    "\n",
    "\"\"\")"
   ]
  },
  {
   "cell_type": "code",
   "execution_count": null,
   "metadata": {},
   "outputs": [
    {
     "data": {
      "text/plain": [
       "True"
      ]
     },
     "execution_count": 683,
     "metadata": {},
     "output_type": "execute_result"
    }
   ],
   "source": [
    "Go_to_game()"
   ]
  },
  {
   "cell_type": "code",
   "execution_count": null,
   "metadata": {},
   "outputs": [],
   "source": []
  },
  {
   "cell_type": "code",
   "execution_count": null,
   "metadata": {},
   "outputs": [],
   "source": []
  },
  {
   "cell_type": "code",
   "execution_count": null,
   "metadata": {},
   "outputs": [],
   "source": []
  },
  {
   "cell_type": "code",
   "execution_count": null,
   "metadata": {},
   "outputs": [],
   "source": [
    "Trainer_info=Trainer_info_class(Pokemons=[Pokemon_class(\"Charmander\".lower(),level=5,max_hp=39,moves=[\"scratch\",\"growl\",\"ember\"],status=\"\",has_fainted=False,hp=39)])"
   ]
  },
  {
   "cell_type": "code",
   "execution_count": null,
   "metadata": {},
   "outputs": [
    {
     "name": "stdout",
     "output_type": "stream",
     "text": [
      "Pokemon Trainer: Learning a new move (Charizard learned Flamethrower!)\n"
     ]
    },
    {
     "data": {
      "text/plain": [
       "'Learning a new move (Charizard learned Flamethrower!)'"
      ]
     },
     "execution_count": 383,
     "metadata": {},
     "output_type": "execute_result"
    }
   ],
   "source": [
    "AI.Reset_conv()\n",
    "AI.Continue_conv(f\"\"\"Is there new knowledge of any of the following forms:\n",
    "                    Learning a new move\n",
    "                    level Up\n",
    "                    Evolution\n",
    "                    Received money\n",
    "                    Received a badge\n",
    "                    Caught a pokemon\n",
    "                    in the following text: Charizard learned Flamethrower!\n",
    "                    Answer with one and only one of the options:\n",
    "                    Learning a new move\n",
    "                    level Up\n",
    "                    Evolution\n",
    "                    Received money\n",
    "                    Received a badge\n",
    "                    Caught a pokemon                   \n",
    "                    None\n",
    "                    where None is for when there is no new information\n",
    "                    \"\"\"\n",
    "                    )"
   ]
  },
  {
   "cell_type": "code",
   "execution_count": null,
   "metadata": {},
   "outputs": [
    {
     "data": {
      "text/plain": [
       "\"In the following text: 'CHARMANDER orew to\\nLY. 7\\n, is there new knowlegde of any of the following forms:\\n                    Learning a new move\\n                    level Up\\n                    Evolution\\n                    Received money\\n                    Received a badge\\n                    Caught a pokemon\\n                    \\n                    Answer only with one of the options presented and answer None if there is no new information\\n                    \""
      ]
     },
     "execution_count": 210,
     "metadata": {},
     "output_type": "execute_result"
    }
   ],
   "source": [
    "f\"\"\"In the following text: {a[0]}, is there new knowlegde of any of the following forms:\n",
    "                    Learning a new move\n",
    "                    level Up\n",
    "                    Evolution\n",
    "                    Received money\n",
    "                    Received a badge\n",
    "                    Caught a pokemon\n",
    "                    \n",
    "                    Answer only with one of the options presented and answer None if there is no new information\n",
    "                    \"\"\""
   ]
  },
  {
   "cell_type": "code",
   "execution_count": null,
   "metadata": {},
   "outputs": [
    {
     "data": {
      "text/html": [
       "<pre style=\"white-space:pre;overflow-x:auto;line-height:normal;font-family:Menlo,'DejaVu Sans Mono',consolas,'Courier New',monospace\"><span style=\"color: #800000; text-decoration-color: #800000\">╭─────────────────────────────── </span><span style=\"color: #800000; text-decoration-color: #800000; font-weight: bold\">Traceback </span><span style=\"color: #bf7f7f; text-decoration-color: #bf7f7f; font-weight: bold\">(most recent call last)</span><span style=\"color: #800000; text-decoration-color: #800000\"> ────────────────────────────────╮</span>\n",
       "<span style=\"color: #800000; text-decoration-color: #800000\">│</span> in <span style=\"color: #00ff00; text-decoration-color: #00ff00\">&lt;module&gt;</span>:<span style=\"color: #0000ff; text-decoration-color: #0000ff\">4</span>                                                                                    <span style=\"color: #800000; text-decoration-color: #800000\">│</span>\n",
       "<span style=\"color: #800000; text-decoration-color: #800000\">│</span>                                                                                                  <span style=\"color: #800000; text-decoration-color: #800000\">│</span>\n",
       "<span style=\"color: #800000; text-decoration-color: #800000\">│</span>   <span style=\"color: #7f7f7f; text-decoration-color: #7f7f7f\">1 </span>Go_to_game()                                                                                 <span style=\"color: #800000; text-decoration-color: #800000\">│</span>\n",
       "<span style=\"color: #800000; text-decoration-color: #800000\">│</span>   <span style=\"color: #7f7f7f; text-decoration-color: #7f7f7f\">2 </span><span style=\"color: #0000ff; text-decoration-color: #0000ff\">while</span> <span style=\"color: #0000ff; text-decoration-color: #0000ff\">True</span>:                                                                                  <span style=\"color: #800000; text-decoration-color: #800000\">│</span>\n",
       "<span style=\"color: #800000; text-decoration-color: #800000\">│</span>   <span style=\"color: #7f7f7f; text-decoration-color: #7f7f7f\">3 │   </span><span style=\"color: #0000ff; text-decoration-color: #0000ff\">for</span> i <span style=\"color: #ff00ff; text-decoration-color: #ff00ff\">in</span> <span style=\"color: #00ffff; text-decoration-color: #00ffff\">range</span>(<span style=\"color: #0000ff; text-decoration-color: #0000ff\">15</span>):                                                                      <span style=\"color: #800000; text-decoration-color: #800000\">│</span>\n",
       "<span style=\"color: #800000; text-decoration-color: #800000\">│</span> <span style=\"color: #800000; text-decoration-color: #800000\">❱ </span>4 <span style=\"color: #7f7f7f; text-decoration-color: #7f7f7f\">│   │   </span>Apply_command(<span style=\"color: #808000; text-decoration-color: #808000\">\"left\"</span>)                                                                <span style=\"color: #800000; text-decoration-color: #800000\">│</span>\n",
       "<span style=\"color: #800000; text-decoration-color: #800000\">│</span>   <span style=\"color: #7f7f7f; text-decoration-color: #7f7f7f\">5 │   </span><span style=\"color: #0000ff; text-decoration-color: #0000ff\">for</span> i <span style=\"color: #ff00ff; text-decoration-color: #ff00ff\">in</span> <span style=\"color: #00ffff; text-decoration-color: #00ffff\">range</span>(<span style=\"color: #0000ff; text-decoration-color: #0000ff\">15</span>):                                                                      <span style=\"color: #800000; text-decoration-color: #800000\">│</span>\n",
       "<span style=\"color: #800000; text-decoration-color: #800000\">│</span>   <span style=\"color: #7f7f7f; text-decoration-color: #7f7f7f\">6 │   │   </span>Apply_command(<span style=\"color: #808000; text-decoration-color: #808000\">\"right\"</span>)                                                               <span style=\"color: #800000; text-decoration-color: #800000\">│</span>\n",
       "<span style=\"color: #800000; text-decoration-color: #800000\">│</span>   <span style=\"color: #7f7f7f; text-decoration-color: #7f7f7f\">7 │   </span>Pelear()                                                                                 <span style=\"color: #800000; text-decoration-color: #800000\">│</span>\n",
       "<span style=\"color: #800000; text-decoration-color: #800000\">│</span>                                                                                                  <span style=\"color: #800000; text-decoration-color: #800000\">│</span>\n",
       "<span style=\"color: #800000; text-decoration-color: #800000\">│</span> in <span style=\"color: #00ff00; text-decoration-color: #00ff00\">Apply_command</span>:<span style=\"color: #0000ff; text-decoration-color: #0000ff\">10</span>                                                                              <span style=\"color: #800000; text-decoration-color: #800000\">│</span>\n",
       "<span style=\"color: #800000; text-decoration-color: #800000\">│</span>                                                                                                  <span style=\"color: #800000; text-decoration-color: #800000\">│</span>\n",
       "<span style=\"color: #800000; text-decoration-color: #800000\">│</span>   <span style=\"color: #7f7f7f; text-decoration-color: #7f7f7f\"> 7 │   │   </span>pyautogui.keyUp(<span style=\"color: #808000; text-decoration-color: #808000\">'b'</span>)                                                                <span style=\"color: #800000; text-decoration-color: #800000\">│</span>\n",
       "<span style=\"color: #800000; text-decoration-color: #800000\">│</span>   <span style=\"color: #7f7f7f; text-decoration-color: #7f7f7f\"> 8 │   </span><span style=\"color: #0000ff; text-decoration-color: #0000ff\">if</span> key==<span style=\"color: #808000; text-decoration-color: #808000\">\"left\"</span>:                                                                         <span style=\"color: #800000; text-decoration-color: #800000\">│</span>\n",
       "<span style=\"color: #800000; text-decoration-color: #800000\">│</span>   <span style=\"color: #7f7f7f; text-decoration-color: #7f7f7f\"> 9 │   │   </span>pyautogui.keyDown(<span style=\"color: #808000; text-decoration-color: #808000\">'left'</span>)                                                           <span style=\"color: #800000; text-decoration-color: #800000\">│</span>\n",
       "<span style=\"color: #800000; text-decoration-color: #800000\">│</span> <span style=\"color: #800000; text-decoration-color: #800000\">❱ </span>10 <span style=\"color: #7f7f7f; text-decoration-color: #7f7f7f\">│   │   </span>pyautogui.keyUp(<span style=\"color: #808000; text-decoration-color: #808000\">'left'</span>)                                                             <span style=\"color: #800000; text-decoration-color: #800000\">│</span>\n",
       "<span style=\"color: #800000; text-decoration-color: #800000\">│</span>   <span style=\"color: #7f7f7f; text-decoration-color: #7f7f7f\">11 │   </span><span style=\"color: #0000ff; text-decoration-color: #0000ff\">if</span> key==<span style=\"color: #808000; text-decoration-color: #808000\">\"right\"</span>:                                                                        <span style=\"color: #800000; text-decoration-color: #800000\">│</span>\n",
       "<span style=\"color: #800000; text-decoration-color: #800000\">│</span>   <span style=\"color: #7f7f7f; text-decoration-color: #7f7f7f\">12 │   │   </span>pyautogui.keyDown(<span style=\"color: #808000; text-decoration-color: #808000\">'right'</span>)                                                          <span style=\"color: #800000; text-decoration-color: #800000\">│</span>\n",
       "<span style=\"color: #800000; text-decoration-color: #800000\">│</span>   <span style=\"color: #7f7f7f; text-decoration-color: #7f7f7f\">13 │   │   </span>pyautogui.keyUp(<span style=\"color: #808000; text-decoration-color: #808000\">'right'</span>)                                                            <span style=\"color: #800000; text-decoration-color: #800000\">│</span>\n",
       "<span style=\"color: #800000; text-decoration-color: #800000\">│</span>                                                                                                  <span style=\"color: #800000; text-decoration-color: #800000\">│</span>\n",
       "<span style=\"color: #800000; text-decoration-color: #800000\">│</span> <span style=\"color: #808000; text-decoration-color: #808000\">c:\\Users\\Rafa\\miniconda3\\lib\\site-packages\\pyautogui\\__init__.py</span>:<span style=\"color: #0000ff; text-decoration-color: #0000ff\">595</span> in <span style=\"color: #00ff00; text-decoration-color: #00ff00\">wrapper</span>                  <span style=\"color: #800000; text-decoration-color: #800000\">│</span>\n",
       "<span style=\"color: #800000; text-decoration-color: #800000\">│</span>                                                                                                  <span style=\"color: #800000; text-decoration-color: #800000\">│</span>\n",
       "<span style=\"color: #800000; text-decoration-color: #800000\">│</span>   <span style=\"color: #7f7f7f; text-decoration-color: #7f7f7f\"> 592 │   </span><span style=\"color: #0000ff; text-decoration-color: #0000ff\">def</span> <span style=\"color: #00ff00; text-decoration-color: #00ff00\">wrapper</span>(*args, **kwargs):                                                         <span style=\"color: #800000; text-decoration-color: #800000\">│</span>\n",
       "<span style=\"color: #800000; text-decoration-color: #800000\">│</span>   <span style=\"color: #7f7f7f; text-decoration-color: #7f7f7f\"> 593 │   │   </span>failSafeCheck()                                                                   <span style=\"color: #800000; text-decoration-color: #800000\">│</span>\n",
       "<span style=\"color: #800000; text-decoration-color: #800000\">│</span>   <span style=\"color: #7f7f7f; text-decoration-color: #7f7f7f\"> 594 │   │   </span>returnVal = wrappedFunction(*args, **kwargs)                                      <span style=\"color: #800000; text-decoration-color: #800000\">│</span>\n",
       "<span style=\"color: #800000; text-decoration-color: #800000\">│</span> <span style=\"color: #800000; text-decoration-color: #800000\">❱ </span> 595 <span style=\"color: #7f7f7f; text-decoration-color: #7f7f7f\">│   │   </span>_handlePause(kwargs.get(<span style=\"color: #808000; text-decoration-color: #808000\">\"_pause\"</span>, <span style=\"color: #0000ff; text-decoration-color: #0000ff\">True</span>))                                          <span style=\"color: #800000; text-decoration-color: #800000\">│</span>\n",
       "<span style=\"color: #800000; text-decoration-color: #800000\">│</span>   <span style=\"color: #7f7f7f; text-decoration-color: #7f7f7f\"> 596 │   │   </span><span style=\"color: #0000ff; text-decoration-color: #0000ff\">return</span> returnVal                                                                  <span style=\"color: #800000; text-decoration-color: #800000\">│</span>\n",
       "<span style=\"color: #800000; text-decoration-color: #800000\">│</span>   <span style=\"color: #7f7f7f; text-decoration-color: #7f7f7f\"> 597 │   </span>                                                                                      <span style=\"color: #800000; text-decoration-color: #800000\">│</span>\n",
       "<span style=\"color: #800000; text-decoration-color: #800000\">│</span>   <span style=\"color: #7f7f7f; text-decoration-color: #7f7f7f\"> 598 │   </span><span style=\"color: #0000ff; text-decoration-color: #0000ff\">return</span> wrapper                                                                        <span style=\"color: #800000; text-decoration-color: #800000\">│</span>\n",
       "<span style=\"color: #800000; text-decoration-color: #800000\">│</span>                                                                                                  <span style=\"color: #800000; text-decoration-color: #800000\">│</span>\n",
       "<span style=\"color: #800000; text-decoration-color: #800000\">│</span> <span style=\"color: #808000; text-decoration-color: #808000\">c:\\Users\\Rafa\\miniconda3\\lib\\site-packages\\pyautogui\\__init__.py</span>:<span style=\"color: #0000ff; text-decoration-color: #0000ff\">639</span> in <span style=\"color: #00ff00; text-decoration-color: #00ff00\">_handlePause</span>             <span style=\"color: #800000; text-decoration-color: #800000\">│</span>\n",
       "<span style=\"color: #800000; text-decoration-color: #800000\">│</span>                                                                                                  <span style=\"color: #800000; text-decoration-color: #800000\">│</span>\n",
       "<span style=\"color: #800000; text-decoration-color: #800000\">│</span>   <span style=\"color: #7f7f7f; text-decoration-color: #7f7f7f\"> 636 </span><span style=\"color: #bfbf7f; text-decoration-color: #bfbf7f\">│   </span><span style=\"color: #808000; text-decoration-color: #808000\">\"\"\"</span>                                                                                   <span style=\"color: #800000; text-decoration-color: #800000\">│</span>\n",
       "<span style=\"color: #800000; text-decoration-color: #800000\">│</span>   <span style=\"color: #7f7f7f; text-decoration-color: #7f7f7f\"> 637 │   </span><span style=\"color: #0000ff; text-decoration-color: #0000ff\">if</span> _pause:                                                                            <span style=\"color: #800000; text-decoration-color: #800000\">│</span>\n",
       "<span style=\"color: #800000; text-decoration-color: #800000\">│</span>   <span style=\"color: #7f7f7f; text-decoration-color: #7f7f7f\"> 638 │   │   </span><span style=\"color: #0000ff; text-decoration-color: #0000ff\">assert</span> <span style=\"color: #00ffff; text-decoration-color: #00ffff\">isinstance</span>(PAUSE, <span style=\"color: #00ffff; text-decoration-color: #00ffff\">int</span>) <span style=\"color: #ff00ff; text-decoration-color: #ff00ff\">or</span> <span style=\"color: #00ffff; text-decoration-color: #00ffff\">isinstance</span>(PAUSE, <span style=\"color: #00ffff; text-decoration-color: #00ffff\">float</span>)                         <span style=\"color: #800000; text-decoration-color: #800000\">│</span>\n",
       "<span style=\"color: #800000; text-decoration-color: #800000\">│</span> <span style=\"color: #800000; text-decoration-color: #800000\">❱ </span> 639 <span style=\"color: #7f7f7f; text-decoration-color: #7f7f7f\">│   │   </span>time.sleep(PAUSE)                                                                 <span style=\"color: #800000; text-decoration-color: #800000\">│</span>\n",
       "<span style=\"color: #800000; text-decoration-color: #800000\">│</span>   <span style=\"color: #7f7f7f; text-decoration-color: #7f7f7f\"> 640 </span>                                                                                          <span style=\"color: #800000; text-decoration-color: #800000\">│</span>\n",
       "<span style=\"color: #800000; text-decoration-color: #800000\">│</span>   <span style=\"color: #7f7f7f; text-decoration-color: #7f7f7f\"> 641 </span>                                                                                          <span style=\"color: #800000; text-decoration-color: #800000\">│</span>\n",
       "<span style=\"color: #800000; text-decoration-color: #800000\">│</span>   <span style=\"color: #7f7f7f; text-decoration-color: #7f7f7f\"> 642 </span><span style=\"color: #0000ff; text-decoration-color: #0000ff\">def</span> <span style=\"color: #00ff00; text-decoration-color: #00ff00\">_normalizeXYArgs</span>(firstArg, secondArg):                                                <span style=\"color: #800000; text-decoration-color: #800000\">│</span>\n",
       "<span style=\"color: #800000; text-decoration-color: #800000\">╰──────────────────────────────────────────────────────────────────────────────────────────────────╯</span>\n",
       "<span style=\"color: #ff0000; text-decoration-color: #ff0000; font-weight: bold\">KeyboardInterrupt</span>\n",
       "</pre>\n"
      ],
      "text/plain": [
       "\u001b[31m╭─\u001b[0m\u001b[31m──────────────────────────────\u001b[0m\u001b[31m \u001b[0m\u001b[1;31mTraceback \u001b[0m\u001b[1;2;31m(most recent call last)\u001b[0m\u001b[31m \u001b[0m\u001b[31m───────────────────────────────\u001b[0m\u001b[31m─╮\u001b[0m\n",
       "\u001b[31m│\u001b[0m in \u001b[92m<module>\u001b[0m:\u001b[94m4\u001b[0m                                                                                    \u001b[31m│\u001b[0m\n",
       "\u001b[31m│\u001b[0m                                                                                                  \u001b[31m│\u001b[0m\n",
       "\u001b[31m│\u001b[0m   \u001b[2m1 \u001b[0mGo_to_game()                                                                                 \u001b[31m│\u001b[0m\n",
       "\u001b[31m│\u001b[0m   \u001b[2m2 \u001b[0m\u001b[94mwhile\u001b[0m \u001b[94mTrue\u001b[0m:                                                                                  \u001b[31m│\u001b[0m\n",
       "\u001b[31m│\u001b[0m   \u001b[2m3 \u001b[0m\u001b[2m│   \u001b[0m\u001b[94mfor\u001b[0m i \u001b[95min\u001b[0m \u001b[96mrange\u001b[0m(\u001b[94m15\u001b[0m):                                                                      \u001b[31m│\u001b[0m\n",
       "\u001b[31m│\u001b[0m \u001b[31m❱ \u001b[0m4 \u001b[2m│   │   \u001b[0mApply_command(\u001b[33m\"\u001b[0m\u001b[33mleft\u001b[0m\u001b[33m\"\u001b[0m)                                                                \u001b[31m│\u001b[0m\n",
       "\u001b[31m│\u001b[0m   \u001b[2m5 \u001b[0m\u001b[2m│   \u001b[0m\u001b[94mfor\u001b[0m i \u001b[95min\u001b[0m \u001b[96mrange\u001b[0m(\u001b[94m15\u001b[0m):                                                                      \u001b[31m│\u001b[0m\n",
       "\u001b[31m│\u001b[0m   \u001b[2m6 \u001b[0m\u001b[2m│   │   \u001b[0mApply_command(\u001b[33m\"\u001b[0m\u001b[33mright\u001b[0m\u001b[33m\"\u001b[0m)                                                               \u001b[31m│\u001b[0m\n",
       "\u001b[31m│\u001b[0m   \u001b[2m7 \u001b[0m\u001b[2m│   \u001b[0mPelear()                                                                                 \u001b[31m│\u001b[0m\n",
       "\u001b[31m│\u001b[0m                                                                                                  \u001b[31m│\u001b[0m\n",
       "\u001b[31m│\u001b[0m in \u001b[92mApply_command\u001b[0m:\u001b[94m10\u001b[0m                                                                              \u001b[31m│\u001b[0m\n",
       "\u001b[31m│\u001b[0m                                                                                                  \u001b[31m│\u001b[0m\n",
       "\u001b[31m│\u001b[0m   \u001b[2m 7 \u001b[0m\u001b[2m│   │   \u001b[0mpyautogui.keyUp(\u001b[33m'\u001b[0m\u001b[33mb\u001b[0m\u001b[33m'\u001b[0m)                                                                \u001b[31m│\u001b[0m\n",
       "\u001b[31m│\u001b[0m   \u001b[2m 8 \u001b[0m\u001b[2m│   \u001b[0m\u001b[94mif\u001b[0m key==\u001b[33m\"\u001b[0m\u001b[33mleft\u001b[0m\u001b[33m\"\u001b[0m:                                                                         \u001b[31m│\u001b[0m\n",
       "\u001b[31m│\u001b[0m   \u001b[2m 9 \u001b[0m\u001b[2m│   │   \u001b[0mpyautogui.keyDown(\u001b[33m'\u001b[0m\u001b[33mleft\u001b[0m\u001b[33m'\u001b[0m)                                                           \u001b[31m│\u001b[0m\n",
       "\u001b[31m│\u001b[0m \u001b[31m❱ \u001b[0m10 \u001b[2m│   │   \u001b[0mpyautogui.keyUp(\u001b[33m'\u001b[0m\u001b[33mleft\u001b[0m\u001b[33m'\u001b[0m)                                                             \u001b[31m│\u001b[0m\n",
       "\u001b[31m│\u001b[0m   \u001b[2m11 \u001b[0m\u001b[2m│   \u001b[0m\u001b[94mif\u001b[0m key==\u001b[33m\"\u001b[0m\u001b[33mright\u001b[0m\u001b[33m\"\u001b[0m:                                                                        \u001b[31m│\u001b[0m\n",
       "\u001b[31m│\u001b[0m   \u001b[2m12 \u001b[0m\u001b[2m│   │   \u001b[0mpyautogui.keyDown(\u001b[33m'\u001b[0m\u001b[33mright\u001b[0m\u001b[33m'\u001b[0m)                                                          \u001b[31m│\u001b[0m\n",
       "\u001b[31m│\u001b[0m   \u001b[2m13 \u001b[0m\u001b[2m│   │   \u001b[0mpyautogui.keyUp(\u001b[33m'\u001b[0m\u001b[33mright\u001b[0m\u001b[33m'\u001b[0m)                                                            \u001b[31m│\u001b[0m\n",
       "\u001b[31m│\u001b[0m                                                                                                  \u001b[31m│\u001b[0m\n",
       "\u001b[31m│\u001b[0m \u001b[33mc:\\Users\\Rafa\\miniconda3\\lib\\site-packages\\pyautogui\\__init__.py\u001b[0m:\u001b[94m595\u001b[0m in \u001b[92mwrapper\u001b[0m                  \u001b[31m│\u001b[0m\n",
       "\u001b[31m│\u001b[0m                                                                                                  \u001b[31m│\u001b[0m\n",
       "\u001b[31m│\u001b[0m   \u001b[2m 592 \u001b[0m\u001b[2m│   \u001b[0m\u001b[94mdef\u001b[0m \u001b[92mwrapper\u001b[0m(*args, **kwargs):                                                         \u001b[31m│\u001b[0m\n",
       "\u001b[31m│\u001b[0m   \u001b[2m 593 \u001b[0m\u001b[2m│   │   \u001b[0mfailSafeCheck()                                                                   \u001b[31m│\u001b[0m\n",
       "\u001b[31m│\u001b[0m   \u001b[2m 594 \u001b[0m\u001b[2m│   │   \u001b[0mreturnVal = wrappedFunction(*args, **kwargs)                                      \u001b[31m│\u001b[0m\n",
       "\u001b[31m│\u001b[0m \u001b[31m❱ \u001b[0m 595 \u001b[2m│   │   \u001b[0m_handlePause(kwargs.get(\u001b[33m\"\u001b[0m\u001b[33m_pause\u001b[0m\u001b[33m\"\u001b[0m, \u001b[94mTrue\u001b[0m))                                          \u001b[31m│\u001b[0m\n",
       "\u001b[31m│\u001b[0m   \u001b[2m 596 \u001b[0m\u001b[2m│   │   \u001b[0m\u001b[94mreturn\u001b[0m returnVal                                                                  \u001b[31m│\u001b[0m\n",
       "\u001b[31m│\u001b[0m   \u001b[2m 597 \u001b[0m\u001b[2m│   \u001b[0m                                                                                      \u001b[31m│\u001b[0m\n",
       "\u001b[31m│\u001b[0m   \u001b[2m 598 \u001b[0m\u001b[2m│   \u001b[0m\u001b[94mreturn\u001b[0m wrapper                                                                        \u001b[31m│\u001b[0m\n",
       "\u001b[31m│\u001b[0m                                                                                                  \u001b[31m│\u001b[0m\n",
       "\u001b[31m│\u001b[0m \u001b[33mc:\\Users\\Rafa\\miniconda3\\lib\\site-packages\\pyautogui\\__init__.py\u001b[0m:\u001b[94m639\u001b[0m in \u001b[92m_handlePause\u001b[0m             \u001b[31m│\u001b[0m\n",
       "\u001b[31m│\u001b[0m                                                                                                  \u001b[31m│\u001b[0m\n",
       "\u001b[31m│\u001b[0m   \u001b[2m 636 \u001b[0m\u001b[2;33m│   \u001b[0m\u001b[33m\"\"\"\u001b[0m                                                                                   \u001b[31m│\u001b[0m\n",
       "\u001b[31m│\u001b[0m   \u001b[2m 637 \u001b[0m\u001b[2m│   \u001b[0m\u001b[94mif\u001b[0m _pause:                                                                            \u001b[31m│\u001b[0m\n",
       "\u001b[31m│\u001b[0m   \u001b[2m 638 \u001b[0m\u001b[2m│   │   \u001b[0m\u001b[94massert\u001b[0m \u001b[96misinstance\u001b[0m(PAUSE, \u001b[96mint\u001b[0m) \u001b[95mor\u001b[0m \u001b[96misinstance\u001b[0m(PAUSE, \u001b[96mfloat\u001b[0m)                         \u001b[31m│\u001b[0m\n",
       "\u001b[31m│\u001b[0m \u001b[31m❱ \u001b[0m 639 \u001b[2m│   │   \u001b[0mtime.sleep(PAUSE)                                                                 \u001b[31m│\u001b[0m\n",
       "\u001b[31m│\u001b[0m   \u001b[2m 640 \u001b[0m                                                                                          \u001b[31m│\u001b[0m\n",
       "\u001b[31m│\u001b[0m   \u001b[2m 641 \u001b[0m                                                                                          \u001b[31m│\u001b[0m\n",
       "\u001b[31m│\u001b[0m   \u001b[2m 642 \u001b[0m\u001b[94mdef\u001b[0m \u001b[92m_normalizeXYArgs\u001b[0m(firstArg, secondArg):                                                \u001b[31m│\u001b[0m\n",
       "\u001b[31m╰──────────────────────────────────────────────────────────────────────────────────────────────────╯\u001b[0m\n",
       "\u001b[1;91mKeyboardInterrupt\u001b[0m\n"
      ]
     },
     "metadata": {},
     "output_type": "display_data"
    }
   ],
   "source": [
    "Go_to_game()\n",
    "while True:\n",
    "    for i in range(15):\n",
    "        Apply_command(\"left\")\n",
    "    for i in range(15):\n",
    "        Apply_command(\"right\")\n",
    "    Pelear()"
   ]
  },
  {
   "cell_type": "code",
   "execution_count": null,
   "metadata": {},
   "outputs": [
    {
     "data": {
      "text/plain": [
       "'charnanders —\\n'"
      ]
     },
     "execution_count": 313,
     "metadata": {},
     "output_type": "execute_result"
    }
   ],
   "source": [
    "En_batalla()"
   ]
  },
  {
   "cell_type": "code",
   "execution_count": null,
   "metadata": {},
   "outputs": [
    {
     "data": {
      "text/html": [
       "<pre style=\"white-space:pre;overflow-x:auto;line-height:normal;font-family:Menlo,'DejaVu Sans Mono',consolas,'Courier New',monospace\"><span style=\"color: #800000; text-decoration-color: #800000\">╭─────────────────────────────── </span><span style=\"color: #800000; text-decoration-color: #800000; font-weight: bold\">Traceback </span><span style=\"color: #bf7f7f; text-decoration-color: #bf7f7f; font-weight: bold\">(most recent call last)</span><span style=\"color: #800000; text-decoration-color: #800000\"> ────────────────────────────────╮</span>\n",
       "<span style=\"color: #800000; text-decoration-color: #800000\">│</span> in <span style=\"color: #00ff00; text-decoration-color: #00ff00\">&lt;module&gt;</span>:<span style=\"color: #0000ff; text-decoration-color: #0000ff\">1</span>                                                                                    <span style=\"color: #800000; text-decoration-color: #800000\">│</span>\n",
       "<span style=\"color: #800000; text-decoration-color: #800000\">│</span>                                                                                                  <span style=\"color: #800000; text-decoration-color: #800000\">│</span>\n",
       "<span style=\"color: #800000; text-decoration-color: #800000\">│</span> <span style=\"color: #800000; text-decoration-color: #800000\">❱ </span>1 AI.Continue_conv(<span style=\"color: #808000; text-decoration-color: #808000\">\"\"\"You are a pokemon trainer that can only shout out moves. You are in </span>     <span style=\"color: #800000; text-decoration-color: #800000\">│</span>\n",
       "<span style=\"color: #800000; text-decoration-color: #800000\">│</span>   <span style=\"color: #7f7f7f; text-decoration-color: #7f7f7f\">2 </span><span style=\"color: #bfbf7f; text-decoration-color: #bfbf7f\">│   │   │   │   │   │   </span><span style=\"color: #808000; text-decoration-color: #808000\">The opponent is a Caterpie with green health. Your charmander ha</span>     <span style=\"color: #800000; text-decoration-color: #800000\">│</span>\n",
       "<span style=\"color: #800000; text-decoration-color: #800000\">│</span>   <span style=\"color: #7f7f7f; text-decoration-color: #7f7f7f\">3 </span><span style=\"color: #bfbf7f; text-decoration-color: #bfbf7f\">│   │   │   │   │   │   </span><span style=\"color: #808000; text-decoration-color: #808000\">Choose the move you consider the fastest way to KO your opponent</span>     <span style=\"color: #800000; text-decoration-color: #800000\">│</span>\n",
       "<span style=\"color: #800000; text-decoration-color: #800000\">│</span>   <span style=\"color: #7f7f7f; text-decoration-color: #7f7f7f\">4 </span><span style=\"color: #bfbf7f; text-decoration-color: #bfbf7f\">│   │   │   │   │   │   </span><span style=\"color: #808000; text-decoration-color: #808000\">\"\"\"</span>)                                                                 <span style=\"color: #800000; text-decoration-color: #800000\">│</span>\n",
       "<span style=\"color: #800000; text-decoration-color: #800000\">│</span>                                                                                                  <span style=\"color: #800000; text-decoration-color: #800000\">│</span>\n",
       "<span style=\"color: #800000; text-decoration-color: #800000\">│</span> <span style=\"color: #808000; text-decoration-color: #808000\">c:\\Users\\Rafa\\Desktop\\Pokemon\\Pokemon_Trainer_AI.py</span>:<span style=\"color: #0000ff; text-decoration-color: #0000ff\">83</span> in <span style=\"color: #00ff00; text-decoration-color: #00ff00\">Continue_conv</span>                          <span style=\"color: #800000; text-decoration-color: #800000\">│</span>\n",
       "<span style=\"color: #800000; text-decoration-color: #800000\">│</span>                                                                                                  <span style=\"color: #800000; text-decoration-color: #800000\">│</span>\n",
       "<span style=\"color: #800000; text-decoration-color: #800000\">│</span>   <span style=\"color: #7f7f7f; text-decoration-color: #7f7f7f\"> 80 │   │   </span>prompt = <span style=\"color: #00ffff; text-decoration-color: #00ffff\">self</span>.conv.get_prompt()                                                    <span style=\"color: #800000; text-decoration-color: #800000\">│</span>\n",
       "<span style=\"color: #800000; text-decoration-color: #800000\">│</span>   <span style=\"color: #7f7f7f; text-decoration-color: #7f7f7f\"> 81 │   │   </span>                                                                                   <span style=\"color: #800000; text-decoration-color: #800000\">│</span>\n",
       "<span style=\"color: #800000; text-decoration-color: #800000\">│</span>   <span style=\"color: #7f7f7f; text-decoration-color: #7f7f7f\"> 82 │   │   </span>gen_params = {                                                                     <span style=\"color: #800000; text-decoration-color: #800000\">│</span>\n",
       "<span style=\"color: #800000; text-decoration-color: #800000\">│</span> <span style=\"color: #800000; text-decoration-color: #800000\">❱ </span> 83 <span style=\"color: #7f7f7f; text-decoration-color: #7f7f7f\">│   │   │   │   </span><span style=\"color: #808000; text-decoration-color: #808000\">\"model\"</span>: model_path,                                                       <span style=\"color: #800000; text-decoration-color: #800000\">│</span>\n",
       "<span style=\"color: #800000; text-decoration-color: #800000\">│</span>   <span style=\"color: #7f7f7f; text-decoration-color: #7f7f7f\"> 84 │   │   │   │   </span><span style=\"color: #808000; text-decoration-color: #808000\">\"prompt\"</span>: prompt,                                                          <span style=\"color: #800000; text-decoration-color: #800000\">│</span>\n",
       "<span style=\"color: #800000; text-decoration-color: #800000\">│</span>   <span style=\"color: #7f7f7f; text-decoration-color: #7f7f7f\"> 85 │   │   │   │   </span><span style=\"color: #808000; text-decoration-color: #808000\">\"temperature\"</span>: temperature,                                                <span style=\"color: #800000; text-decoration-color: #800000\">│</span>\n",
       "<span style=\"color: #800000; text-decoration-color: #800000\">│</span>   <span style=\"color: #7f7f7f; text-decoration-color: #7f7f7f\"> 86 │   │   │   │   </span><span style=\"color: #808000; text-decoration-color: #808000\">\"repetition_penalty\"</span>: repetition_penalty,                                  <span style=\"color: #800000; text-decoration-color: #800000\">│</span>\n",
       "<span style=\"color: #800000; text-decoration-color: #800000\">╰──────────────────────────────────────────────────────────────────────────────────────────────────╯</span>\n",
       "<span style=\"color: #ff0000; text-decoration-color: #ff0000; font-weight: bold\">NameError: </span>name <span style=\"color: #008000; text-decoration-color: #008000\">'model_path'</span> is not defined\n",
       "</pre>\n"
      ],
      "text/plain": [
       "\u001b[31m╭─\u001b[0m\u001b[31m──────────────────────────────\u001b[0m\u001b[31m \u001b[0m\u001b[1;31mTraceback \u001b[0m\u001b[1;2;31m(most recent call last)\u001b[0m\u001b[31m \u001b[0m\u001b[31m───────────────────────────────\u001b[0m\u001b[31m─╮\u001b[0m\n",
       "\u001b[31m│\u001b[0m in \u001b[92m<module>\u001b[0m:\u001b[94m1\u001b[0m                                                                                    \u001b[31m│\u001b[0m\n",
       "\u001b[31m│\u001b[0m                                                                                                  \u001b[31m│\u001b[0m\n",
       "\u001b[31m│\u001b[0m \u001b[31m❱ \u001b[0m1 AI.Continue_conv(\u001b[33m\"\"\"\u001b[0m\u001b[33mYou are a pokemon trainer that can only shout out moves. You are in \u001b[0m     \u001b[31m│\u001b[0m\n",
       "\u001b[31m│\u001b[0m   \u001b[2m2 \u001b[0m\u001b[2;33m│   │   │   │   │   │   \u001b[0m\u001b[33mThe opponent is a Caterpie with green health. Your charmander ha\u001b[0m     \u001b[31m│\u001b[0m\n",
       "\u001b[31m│\u001b[0m   \u001b[2m3 \u001b[0m\u001b[2;33m│   │   │   │   │   │   \u001b[0m\u001b[33mChoose the move you consider the fastest way to KO your opponent\u001b[0m     \u001b[31m│\u001b[0m\n",
       "\u001b[31m│\u001b[0m   \u001b[2m4 \u001b[0m\u001b[2;33m│   │   │   │   │   │   \u001b[0m\u001b[33m\"\"\"\u001b[0m)                                                                 \u001b[31m│\u001b[0m\n",
       "\u001b[31m│\u001b[0m                                                                                                  \u001b[31m│\u001b[0m\n",
       "\u001b[31m│\u001b[0m \u001b[33mc:\\Users\\Rafa\\Desktop\\Pokemon\\Pokemon_Trainer_AI.py\u001b[0m:\u001b[94m83\u001b[0m in \u001b[92mContinue_conv\u001b[0m                          \u001b[31m│\u001b[0m\n",
       "\u001b[31m│\u001b[0m                                                                                                  \u001b[31m│\u001b[0m\n",
       "\u001b[31m│\u001b[0m   \u001b[2m 80 \u001b[0m\u001b[2m│   │   \u001b[0mprompt = \u001b[96mself\u001b[0m.conv.get_prompt()                                                    \u001b[31m│\u001b[0m\n",
       "\u001b[31m│\u001b[0m   \u001b[2m 81 \u001b[0m\u001b[2m│   │   \u001b[0m                                                                                   \u001b[31m│\u001b[0m\n",
       "\u001b[31m│\u001b[0m   \u001b[2m 82 \u001b[0m\u001b[2m│   │   \u001b[0mgen_params = {                                                                     \u001b[31m│\u001b[0m\n",
       "\u001b[31m│\u001b[0m \u001b[31m❱ \u001b[0m 83 \u001b[2m│   │   │   │   \u001b[0m\u001b[33m\"\u001b[0m\u001b[33mmodel\u001b[0m\u001b[33m\"\u001b[0m: model_path,                                                       \u001b[31m│\u001b[0m\n",
       "\u001b[31m│\u001b[0m   \u001b[2m 84 \u001b[0m\u001b[2m│   │   │   │   \u001b[0m\u001b[33m\"\u001b[0m\u001b[33mprompt\u001b[0m\u001b[33m\"\u001b[0m: prompt,                                                          \u001b[31m│\u001b[0m\n",
       "\u001b[31m│\u001b[0m   \u001b[2m 85 \u001b[0m\u001b[2m│   │   │   │   \u001b[0m\u001b[33m\"\u001b[0m\u001b[33mtemperature\u001b[0m\u001b[33m\"\u001b[0m: temperature,                                                \u001b[31m│\u001b[0m\n",
       "\u001b[31m│\u001b[0m   \u001b[2m 86 \u001b[0m\u001b[2m│   │   │   │   \u001b[0m\u001b[33m\"\u001b[0m\u001b[33mrepetition_penalty\u001b[0m\u001b[33m\"\u001b[0m: repetition_penalty,                                  \u001b[31m│\u001b[0m\n",
       "\u001b[31m╰──────────────────────────────────────────────────────────────────────────────────────────────────╯\u001b[0m\n",
       "\u001b[1;91mNameError: \u001b[0mname \u001b[32m'model_path'\u001b[0m is not defined\n"
      ]
     },
     "metadata": {},
     "output_type": "display_data"
    }
   ],
   "source": [
    "AI.Continue_conv(\"\"\"You are a pokemon trainer that can only shout out moves. You are in a battle and your current pokemon is a Charmander with 20/20 HP. \n",
    "                        The opponent is a Caterpie with green health. Your charmander has as moves: scratch and growl. \n",
    "                        Choose the move you consider the fastest way to KO your opponent in this situation. Answer only and only with the move you want to use.\n",
    "                        \"\"\")\n"
   ]
  },
  {
   "cell_type": "code",
   "execution_count": null,
   "metadata": {},
   "outputs": [
    {
     "name": "stdout",
     "output_type": "stream",
     "text": [
      "0.042976885501719554\n"
     ]
    },
    {
     "data": {
      "text/plain": [
       "True"
      ]
     },
     "execution_count": 255,
     "metadata": {},
     "output_type": "execute_result"
    }
   ],
   "source": [
    "Go_to_game()\n",
    "a=pyautogui.screenshot(region=(1060,840,200 , 70))\n",
    "images_are_similar(a,Image.open(\"Images_direccion/In_fighting_options.png\"))"
   ]
  },
  {
   "cell_type": "code",
   "execution_count": null,
   "metadata": {},
   "outputs": [],
   "source": []
  },
  {
   "cell_type": "code",
   "execution_count": null,
   "metadata": {},
   "outputs": [],
   "source": []
  },
  {
   "cell_type": "code",
   "execution_count": null,
   "metadata": {},
   "outputs": [],
   "source": []
  },
  {
   "cell_type": "code",
   "execution_count": null,
   "metadata": {},
   "outputs": [],
   "source": []
  },
  {
   "cell_type": "code",
   "execution_count": null,
   "metadata": {},
   "outputs": [],
   "source": []
  },
  {
   "cell_type": "code",
   "execution_count": null,
   "metadata": {},
   "outputs": [],
   "source": []
  },
  {
   "cell_type": "code",
   "execution_count": null,
   "metadata": {},
   "outputs": [],
   "source": []
  },
  {
   "cell_type": "code",
   "execution_count": null,
   "metadata": {},
   "outputs": [],
   "source": []
  },
  {
   "cell_type": "code",
   "execution_count": null,
   "metadata": {},
   "outputs": [],
   "source": []
  },
  {
   "cell_type": "code",
   "execution_count": null,
   "metadata": {},
   "outputs": [],
   "source": []
  },
  {
   "cell_type": "code",
   "execution_count": null,
   "metadata": {},
   "outputs": [],
   "source": []
  },
  {
   "cell_type": "code",
   "execution_count": null,
   "metadata": {},
   "outputs": [],
   "source": []
  },
  {
   "cell_type": "code",
   "execution_count": null,
   "metadata": {},
   "outputs": [],
   "source": []
  },
  {
   "cell_type": "code",
   "execution_count": null,
   "metadata": {},
   "outputs": [],
   "source": []
  },
  {
   "cell_type": "code",
   "execution_count": null,
   "metadata": {},
   "outputs": [],
   "source": []
  },
  {
   "cell_type": "code",
   "execution_count": null,
   "metadata": {},
   "outputs": [],
   "source": []
  },
  {
   "cell_type": "code",
   "execution_count": null,
   "metadata": {},
   "outputs": [],
   "source": []
  },
  {
   "cell_type": "code",
   "execution_count": null,
   "metadata": {},
   "outputs": [],
   "source": []
  },
  {
   "cell_type": "code",
   "execution_count": null,
   "metadata": {},
   "outputs": [],
   "source": []
  },
  {
   "cell_type": "code",
   "execution_count": null,
   "metadata": {},
   "outputs": [],
   "source": []
  },
  {
   "cell_type": "code",
   "execution_count": null,
   "metadata": {},
   "outputs": [],
   "source": []
  },
  {
   "cell_type": "code",
   "execution_count": null,
   "metadata": {},
   "outputs": [],
   "source": []
  },
  {
   "cell_type": "code",
   "execution_count": null,
   "metadata": {},
   "outputs": [],
   "source": []
  },
  {
   "cell_type": "code",
   "execution_count": null,
   "metadata": {},
   "outputs": [],
   "source": []
  },
  {
   "cell_type": "code",
   "execution_count": null,
   "metadata": {},
   "outputs": [],
   "source": []
  },
  {
   "cell_type": "code",
   "execution_count": null,
   "metadata": {},
   "outputs": [],
   "source": []
  },
  {
   "cell_type": "code",
   "execution_count": null,
   "metadata": {},
   "outputs": [],
   "source": []
  },
  {
   "cell_type": "code",
   "execution_count": null,
   "metadata": {},
   "outputs": [],
   "source": []
  },
  {
   "cell_type": "code",
   "execution_count": null,
   "metadata": {},
   "outputs": [],
   "source": []
  },
  {
   "cell_type": "code",
   "execution_count": null,
   "metadata": {},
   "outputs": [],
   "source": []
  },
  {
   "cell_type": "code",
   "execution_count": null,
   "metadata": {},
   "outputs": [],
   "source": []
  },
  {
   "cell_type": "code",
   "execution_count": null,
   "metadata": {},
   "outputs": [],
   "source": []
  },
  {
   "cell_type": "code",
   "execution_count": null,
   "metadata": {},
   "outputs": [],
   "source": []
  },
  {
   "cell_type": "code",
   "execution_count": null,
   "metadata": {},
   "outputs": [],
   "source": []
  },
  {
   "cell_type": "code",
   "execution_count": null,
   "metadata": {},
   "outputs": [],
   "source": []
  },
  {
   "cell_type": "code",
   "execution_count": null,
   "metadata": {},
   "outputs": [],
   "source": []
  },
  {
   "cell_type": "code",
   "execution_count": null,
   "metadata": {},
   "outputs": [],
   "source": []
  },
  {
   "cell_type": "code",
   "execution_count": null,
   "metadata": {},
   "outputs": [],
   "source": []
  },
  {
   "cell_type": "code",
   "execution_count": null,
   "metadata": {},
   "outputs": [],
   "source": []
  },
  {
   "cell_type": "code",
   "execution_count": null,
   "metadata": {},
   "outputs": [],
   "source": []
  },
  {
   "cell_type": "code",
   "execution_count": null,
   "metadata": {},
   "outputs": [],
   "source": []
  },
  {
   "cell_type": "code",
   "execution_count": null,
   "metadata": {},
   "outputs": [],
   "source": []
  },
  {
   "cell_type": "code",
   "execution_count": null,
   "metadata": {},
   "outputs": [],
   "source": []
  },
  {
   "cell_type": "code",
   "execution_count": null,
   "metadata": {},
   "outputs": [],
   "source": []
  },
  {
   "cell_type": "code",
   "execution_count": null,
   "metadata": {},
   "outputs": [],
   "source": []
  },
  {
   "cell_type": "code",
   "execution_count": null,
   "metadata": {},
   "outputs": [],
   "source": []
  },
  {
   "cell_type": "code",
   "execution_count": null,
   "metadata": {},
   "outputs": [],
   "source": []
  },
  {
   "cell_type": "code",
   "execution_count": null,
   "metadata": {},
   "outputs": [],
   "source": []
  },
  {
   "cell_type": "code",
   "execution_count": null,
   "metadata": {},
   "outputs": [],
   "source": []
  },
  {
   "cell_type": "code",
   "execution_count": null,
   "metadata": {},
   "outputs": [],
   "source": []
  },
  {
   "cell_type": "code",
   "execution_count": null,
   "metadata": {},
   "outputs": [],
   "source": []
  },
  {
   "cell_type": "code",
   "execution_count": null,
   "metadata": {},
   "outputs": [],
   "source": []
  },
  {
   "cell_type": "code",
   "execution_count": null,
   "metadata": {},
   "outputs": [],
   "source": []
  },
  {
   "cell_type": "code",
   "execution_count": null,
   "metadata": {},
   "outputs": [],
   "source": []
  },
  {
   "cell_type": "code",
   "execution_count": null,
   "metadata": {},
   "outputs": [],
   "source": []
  },
  {
   "cell_type": "code",
   "execution_count": null,
   "metadata": {},
   "outputs": [],
   "source": []
  },
  {
   "cell_type": "code",
   "execution_count": null,
   "metadata": {},
   "outputs": [],
   "source": []
  },
  {
   "cell_type": "code",
   "execution_count": null,
   "metadata": {},
   "outputs": [],
   "source": []
  },
  {
   "cell_type": "code",
   "execution_count": null,
   "metadata": {},
   "outputs": [],
   "source": []
  },
  {
   "cell_type": "code",
   "execution_count": null,
   "metadata": {},
   "outputs": [],
   "source": []
  },
  {
   "cell_type": "code",
   "execution_count": null,
   "metadata": {},
   "outputs": [],
   "source": []
  },
  {
   "cell_type": "code",
   "execution_count": null,
   "metadata": {},
   "outputs": [],
   "source": []
  },
  {
   "cell_type": "code",
   "execution_count": null,
   "metadata": {},
   "outputs": [],
   "source": []
  },
  {
   "cell_type": "code",
   "execution_count": null,
   "metadata": {},
   "outputs": [],
   "source": []
  },
  {
   "cell_type": "code",
   "execution_count": null,
   "metadata": {},
   "outputs": [],
   "source": []
  },
  {
   "cell_type": "code",
   "execution_count": null,
   "metadata": {},
   "outputs": [],
   "source": []
  },
  {
   "cell_type": "code",
   "execution_count": null,
   "metadata": {},
   "outputs": [],
   "source": []
  },
  {
   "cell_type": "code",
   "execution_count": null,
   "metadata": {},
   "outputs": [],
   "source": []
  },
  {
   "cell_type": "code",
   "execution_count": null,
   "metadata": {},
   "outputs": [],
   "source": []
  },
  {
   "cell_type": "code",
   "execution_count": null,
   "metadata": {},
   "outputs": [],
   "source": []
  },
  {
   "cell_type": "code",
   "execution_count": null,
   "metadata": {},
   "outputs": [],
   "source": []
  },
  {
   "cell_type": "code",
   "execution_count": null,
   "metadata": {},
   "outputs": [],
   "source": []
  },
  {
   "cell_type": "code",
   "execution_count": null,
   "metadata": {},
   "outputs": [],
   "source": []
  },
  {
   "cell_type": "code",
   "execution_count": null,
   "metadata": {},
   "outputs": [],
   "source": []
  },
  {
   "cell_type": "code",
   "execution_count": null,
   "metadata": {},
   "outputs": [],
   "source": []
  },
  {
   "cell_type": "code",
   "execution_count": null,
   "metadata": {},
   "outputs": [],
   "source": []
  },
  {
   "cell_type": "code",
   "execution_count": null,
   "metadata": {},
   "outputs": [],
   "source": []
  },
  {
   "cell_type": "code",
   "execution_count": null,
   "metadata": {},
   "outputs": [],
   "source": []
  },
  {
   "cell_type": "code",
   "execution_count": null,
   "metadata": {},
   "outputs": [],
   "source": []
  },
  {
   "cell_type": "code",
   "execution_count": null,
   "metadata": {},
   "outputs": [],
   "source": []
  },
  {
   "cell_type": "code",
   "execution_count": null,
   "metadata": {},
   "outputs": [],
   "source": []
  },
  {
   "cell_type": "code",
   "execution_count": null,
   "metadata": {},
   "outputs": [],
   "source": []
  },
  {
   "cell_type": "code",
   "execution_count": null,
   "metadata": {},
   "outputs": [],
   "source": []
  },
  {
   "cell_type": "code",
   "execution_count": null,
   "metadata": {},
   "outputs": [],
   "source": []
  }
 ],
 "metadata": {
  "kernelspec": {
   "display_name": "base",
   "language": "python",
   "name": "python3"
  },
  "language_info": {
   "codemirror_mode": {
    "name": "ipython",
    "version": 3
   },
   "file_extension": ".py",
   "mimetype": "text/x-python",
   "name": "python",
   "nbconvert_exporter": "python",
   "pygments_lexer": "ipython3",
   "version": "3.10.9"
  },
  "orig_nbformat": 4
 },
 "nbformat": 4,
 "nbformat_minor": 2
}
